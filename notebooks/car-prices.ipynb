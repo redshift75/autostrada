{
 "cells": [
  {
   "cell_type": "code",
   "execution_count": 51,
   "metadata": {
    "execution": {
     "iopub.execute_input": "2025-03-25T15:31:54.705036Z",
     "iopub.status.busy": "2025-03-25T15:31:54.704706Z",
     "iopub.status.idle": "2025-03-25T15:31:56.179121Z",
     "shell.execute_reply": "2025-03-25T15:31:56.177839Z",
     "shell.execute_reply.started": "2025-03-25T15:31:54.705010Z"
    },
    "trusted": true
   },
   "outputs": [],
   "source": [
    "# Libraries\n",
    "from datetime import date\n",
    "import numpy as np\n",
    "import pandas as pd\n",
    "import matplotlib.pyplot as plt\n",
    "import seaborn as sns\n",
    "import plotly.graph_objects as go\n",
    "import plotly.express as px\n",
    "import pickle\n",
    "from scipy import stats\n",
    "from sklearn.model_selection import train_test_split\n",
    "from sklearn.preprocessing import LabelEncoder\n",
    "from sklearn.ensemble import RandomForestRegressor\n",
    "from xgboost import XGBRegressor\n",
    "from dotenv import load_dotenv\n",
    "from supabase import create_client\n",
    "import os"
   ]
  },
  {
   "cell_type": "code",
   "execution_count": 52,
   "metadata": {
    "execution": {
     "iopub.execute_input": "2025-03-25T15:57:13.556722Z",
     "iopub.status.busy": "2025-03-25T15:57:13.556370Z",
     "iopub.status.idle": "2025-03-25T15:57:13.607440Z",
     "shell.execute_reply": "2025-03-25T15:57:13.606336Z",
     "shell.execute_reply.started": "2025-03-25T15:57:13.556693Z"
    },
    "trusted": true
   },
   "outputs": [],
   "source": [
    "# Read data\n",
    "load_dotenv()\n",
    "\n",
    "SUPABASE_URL = os.getenv(\"NEXT_PUBLIC_SUPABASE_URL\")\n",
    "SUPABASE_SERVICE_KEY = os.getenv(\"NEXT_PUBLIC_SUPABASE_SERVICE_KEY\")\n",
    "\n",
    "supabase = create_client(SUPABASE_URL, SUPABASE_SERVICE_KEY)\n",
    "\n",
    "MAKE = \"Fiat\"\n",
    "min_observations = 10\n",
    "\n",
    "response = (\n",
    "    supabase.table(\"bat_completed_auctions\")\n",
    "    .select(\"year, model, mileage, normalized_color, transmission, sold_price, bid_amount, end_date, status\")\n",
    "    .eq(\"make\", MAKE)\n",
    "    .not_.is_(\"mileage\", None)\n",
    "    .not_.is_(\"transmission\", None)\n",
    "    .execute()\n",
    ")\n",
    "df = pd.DataFrame(response.data)"
   ]
  },
  {
   "cell_type": "code",
   "execution_count": 53,
   "metadata": {},
   "outputs": [
    {
     "name": "stdout",
     "output_type": "stream",
     "text": [
      "                             status\n",
      "model                              \n",
      "124 Spider                       97\n",
      "500L                             71\n",
      "124 Spider 2000                  50\n",
      "X1/9                             49\n",
      "Spider 2000                      35\n",
      "...                             ...\n",
      "500 Francis Lombardi My Car       1\n",
      "500 Giardiniera Taxi              1\n",
      "500 Jolly Project                 1\n",
      "500 Jolly conversion              1\n",
      "X1/9 Versione Speciale            1\n",
      "\n",
      "[287 rows x 1 columns]\n"
     ]
    }
   ],
   "source": [
    "# Count by model\n",
    "counts = df[['model','status']].groupby('model').count().sort_values(by='status',ascending=False)\n",
    "print(counts)"
   ]
  },
  {
   "cell_type": "code",
   "execution_count": 54,
   "metadata": {},
   "outputs": [
    {
     "data": {
      "application/vnd.plotly.v1+json": {
       "config": {
        "plotlyServerURL": "https://plot.ly"
       },
       "data": [
        {
         "alignmentgroup": "True",
         "hovertemplate": "model=%{x}<br>sold_price=%{y}<extra></extra>",
         "legendgroup": "",
         "marker": {
          "color": "#636efa"
         },
         "name": "",
         "notched": false,
         "offsetgroup": "",
         "orientation": "v",
         "showlegend": false,
         "type": "box",
         "x": [
          "1100 103E Sedan",
          "1100 Belvedere",
          "1100 BLT",
          "1100D Familiare",
          "1100D Familiare",
          "1100D Familiare",
          "1100D Familiare",
          "1100D Sedan",
          "1100ES Pinin Farina Coupe Project",
          "1100 Familiare",
          "1100 Familiare",
          "1100 R",
          "1100 Special",
          "1100 TV Coupe by Vignale",
          "1100 TV Desirée by Vignale",
          "1100 TV Trasformabile",
          "1200 Cabriolet",
          "1200 Cabriolet",
          "1200 Cabriolet",
          "1200 Cabriolet",
          "1200 Cabriolet",
          "1200 Cabriolet 5-Speed Project",
          "1200 Cabriolet Project",
          "1200 Cabriolet Vetture Speciali",
          "1200 Cabriolet Vetture Speciali",
          "1200 Granluce",
          "1200 Turismo Veloce Trasformabile",
          "1200 TV Spider",
          "124 Coupe",
          "124 Coupe",
          "124 Coupe",
          "124 Coupe",
          "124 Coupe",
          "124 Coupé Series I 5-Speed",
          "124 Sedan",
          "124 Sedan",
          "124 Sedan 4-Speed",
          "124 Sedan 5-Speed",
          "124 Special 1400 Sedan",
          "124 Special Sedan",
          "124 Special TC Sedan 4-Speed",
          "124 Special TC Sedan 4-Speed",
          "124 Special T Sedan 4-Speed",
          "124 Spider",
          "124 Spider",
          "124 Spider",
          "124 Spider",
          "124 Spider",
          "124 Spider",
          "124 Spider",
          "124 Spider",
          "124 Spider",
          "124 Spider",
          "124 Spider",
          "124 Spider",
          "124 Spider",
          "124 Spider",
          "124 Spider",
          "124 Spider",
          "124 Spider",
          "124 Spider",
          "124 Spider",
          "124 Spider",
          "124 Spider",
          "124 Spider",
          "124 Spider",
          "124 Spider",
          "124 Spider",
          "124 Spider",
          "124 Spider",
          "124 Spider",
          "124 Spider",
          "124 Spider",
          "124 Spider",
          "124 Spider",
          "124 Spider",
          "124 Spider",
          "124 Spider",
          "124 Spider",
          "124 Spider",
          "124 Spider",
          "124 Spider",
          "124 Spider",
          "124 Spider",
          "124 Spider",
          "124 Spider",
          "124 Spider",
          "124 Spider",
          "124 Spider",
          "124 Spider",
          "124 Spider",
          "124 Spider",
          "124 Spider",
          "124 Spider",
          "124 Spider",
          "124 Spider",
          "124 Spider",
          "124 Spider",
          "124 Spider",
          "124 Spider",
          "124 Spider",
          "124 Spider",
          "124 Spider",
          "124 Spider",
          "124 Spider",
          "124 Spider",
          "124 Spider",
          "124 Spider",
          "124 Spider",
          "124 Spider",
          "124 Spider",
          "124 Spider",
          "124 Spider",
          "124 Spider",
          "124 Spider",
          "124 Spider",
          "124 Spider",
          "124 Spider",
          "124 Spider",
          "124 Spider",
          "124 Spider",
          "124 Spider",
          "124 Spider",
          "124 Spider",
          "124 Spider",
          "124 Spider",
          "124 Spider",
          "124 Spider",
          "124 Spider",
          "124 Spider",
          "124 Spider",
          "124 Spider",
          "124 Spider",
          "124 Spider",
          "124 Spider",
          "124 Spider",
          "124 Spider",
          "124 Spider",
          "124 Spider",
          "124 Spider",
          "124 Spider 2000",
          "124 Spider 2000",
          "124 Spider 2000",
          "124 Spider 2000",
          "124 Spider 2000",
          "124 Spider 2000",
          "124 Spider 2000",
          "124 Spider 2000",
          "124 Spider 2000",
          "124 Spider 2000",
          "124 Spider 2000",
          "124 Spider 2000",
          "124 Spider 2000",
          "124 Spider 2000",
          "124 Spider 2000",
          "124 Spider 2000",
          "124 Spider 2000",
          "124 Spider 2000",
          "124 Spider 2000",
          "124 Spider 2000",
          "124 Spider 2000",
          "124 Spider 2000",
          "124 Spider 2000",
          "124 Spider 2000",
          "124 Spider 2000",
          "124 Spider 2000",
          "124 Spider 2000",
          "124 Spider 2000",
          "124 Spider 2000",
          "124 Spider 2000",
          "124 Spider 2000",
          "124 Spider 2000",
          "124 Spider 2000",
          "124 Spider 2000",
          "124 Spider 2000",
          "124 Spider 2000",
          "124 Spider 2000",
          "124 Spider 2000",
          "124 Spider 2000",
          "124 Spider 2000",
          "124 Spider 2000",
          "124 Spider 2000",
          "124 Spider 2000",
          "124 Spider 2000",
          "124 Spider 2000",
          "124 Spider 2000",
          "124 Spider 2000",
          "124 Spider 2000",
          "124 Spider 2000",
          "124 Spider 2000",
          "124 Spider 2000 5-Speed",
          "124 Spider 2000 5-Speed",
          "124 Spider 2000 5-Speed",
          "124 Spider 2000 5-Speed",
          "124 Spider 2000 5-Speed",
          "124 Spider 2000 5-Speed",
          "124 Spider 2000 5-Speed",
          "124 Spider 2000 5-Speed",
          "124 Spider 2000 Limited Edition",
          "124 Spider 2000 Project",
          "124 Spider 2000 Turbo",
          "124 Spider 2000 Turbo",
          "124 Spider 2000 Turbo",
          "124 Spider 2000 Turbo",
          "124 Spider 2.0L",
          "124 Spider 5-Speed",
          "124 Spider 5-Speed",
          "124 Spider 5-Speed",
          "124 Spider Abarth",
          "124 Spider Abarth 6-Speed",
          "124 Spider Abarth 6-Speed",
          "124 Spider Abarth 6-Speed",
          "124 Spider Abarth 6-Speed",
          "124 Spider Abarth 6-Speed",
          "124 Spider Abarth 6-Speed",
          "124 Spider Abarth 6-Speed",
          "124 Spider Abarth 6-Speed",
          "124 Spider Abarth 6-Speed",
          "124 Spider Classica 6-Speed",
          "124 Spider Lusso 6-Speed",
          "124 Spider Project",
          "124 Spider Project",
          "124 Sport Coupe",
          "124 Sport Coupe",
          "124 Sport Coupe",
          "124 Sport Coupe",
          "124 Sport Coupe",
          "124 Sport Coupe",
          "124 Sport Coupe",
          "124 Sport Coupe",
          "124 Sport Coupe",
          "124 Sport Coupe",
          "124 Sport Coupe",
          "124 Sport Coupe",
          "124 Sport Coupe 1600",
          "124 Sport Coupe 1600",
          "124 Sport Coupe 1600",
          "124 Sport Coupe 1.6L",
          "124 Sport Coupe Project",
          "124 Sport Coupe Project",
          "124 Sport Spider",
          "124 Sport Spider",
          "124 Sport Spider",
          "124 Sport Spider",
          "124 Sport Spider",
          "124 Sport Spider",
          "124 Sport Spider",
          "124 Sport Spider",
          "124 Sport Spider",
          "124 Sport Spider",
          "124 Sport Spider",
          "124 Sport Spider",
          "124 Sport Spider",
          "124 Sport Spider",
          "124 Sport Spider 1800",
          "124 Sport Spider 1800",
          "124 Sport Spider 1800",
          "124 Sport Spider 1800",
          "124 Sport Spider 5-Speed",
          "124 Sport Spider 5-Speed",
          "124 Sport Spider 5-Speed",
          "124 Sport Spider 5-Speed",
          "124 Sport Spider 5-Speed",
          "124 Sport Spider for Charity",
          "126",
          "126",
          "126",
          "126",
          "126 4-Speed",
          "126 BIS",
          "126 Moretti Midimax",
          "126 Moretti Minimaxi",
          "126p",
          "126p",
          "126p",
          "126p",
          "126p for Charity",
          "127 900/L",
          "127 Midimaxi by Moretti",
          "128",
          "128 3P",
          "128 Familiare",
          "128 Four-Door Sedan",
          "128 Four-Door Sedan",
          "128 Four-Door Sedan",
          "128 Four-Door Sedan",
          "128 Pickup",
          "128 Project",
          "128 Project for Charity",
          "128 Rally",
          "128 Rally",
          "128 Sport L Coupe",
          "128 Sport L Coupe",
          "130",
          "130",
          "1300 Berlina",
          "1300S Coupe by Vignale",
          "130 5-Speed",
          "130 Coupé",
          "130 Coupé",
          "130 Coupe 5-Speed",
          "130 Coupe 5-Speed",
          "130 Coupe 5-Speed",
          "130 Coupe 5-Speed",
          "131 Brava 5-Speed",
          "131 Rally Tribute",
          "1500 Berlina",
          "1500 Cabriolet",
          "1500 Cabriolet",
          "1500 Cabriolet",
          "1500 Cabriolet",
          "1500 Cabriolet 1.8L 5-Speed",
          "1500 Cabriolet 4-Speed",
          "1500 Cabriolet 5-Speed",
          "1500 Cabriolet 5-Speed",
          "1500 Cabriolet 5-Speed",
          "1500 Cabriolet 5-Speed",
          "1500 Cabriolet Project",
          "1500 Cabriolet Project",
          "1500 Cabriolet Project",
          "1500 Coupe Vignale",
          "1500 OSCA Cabriolet",
          "1500 OSCA Cabriolet by Pinin Farina",
          "1500 OSCA Coupe by Pinin Farina",
          "1500S OSCA Cabriolet by Pininfarina",
          "1500S OSCA Coupe by Pinin Farina",
          "1600S OSCA Fissore Coupe",
          "2000 Spider 5-Speed",
          "2000 Turbo Spider",
          "2000 Turbo Spider",
          "2300S Coupe",
          "2300S Coupe",
          "2300S Coupe",
          "2300S Coupe",
          "2300S Coupe",
          "2300S Coupe",
          "500",
          "500",
          "500",
          "500",
          "500",
          "500",
          "500",
          "500",
          "500",
          "500",
          "500",
          "500",
          "500",
          "500",
          "500",
          "500",
          "500",
          "500",
          "500",
          "500",
          "500",
          "500",
          "500",
          "500",
          "500",
          "500",
          "500",
          "500",
          "500",
          "500",
          "500",
          "500",
          "500",
          "500 1957 Edition",
          "500 Abarth",
          "500 Abarth",
          "500 Abarth",
          "500 Abarth",
          "500 Abarth",
          "500 Abarth",
          "500 Abarth",
          "500 Abarth",
          "500 Abarth",
          "500 Abarth",
          "500 Abarth",
          "500 Abarth",
          "500 Abarth",
          "500 Abarth",
          "500 Abarth",
          "500 Abarth",
          "500 Abarth 5-Speed",
          "500 Abarth 5-Speed",
          "500 Abarth 5-Speed",
          "500 Abarth 5-Speed",
          "500 Abarth 5-Speed",
          "500 Abarth 5-Speed",
          "500 Abarth 5-Speed",
          "500 Abarth 5-Speed",
          "500 Abarth 5-Speed",
          "500 Abarth 5-Speed",
          "500 Abarth 5-Speed",
          "500 Abarth 5-Speed",
          "500 Abarth 5-Speed",
          "500 Abarth 5-Speed",
          "500 Abarth 5-Speed",
          "500 Abarth 5-Speed",
          "500 Abarth 5-Speed",
          "500 Abarth 5-Speed",
          "500 Abarth 5-Speed",
          "500 Abarth 5-Speed",
          "500 Abarth 5-Speed",
          "500 Abarth 5-Speed",
          "500 Abarth 5-Speed",
          "500 Abarth 5-Speed",
          "500 Abarth 5-Speed",
          "500 Abarth 5-Speed",
          "500 Abarth 5-Speed",
          "500 Abarth Race Car",
          "500A Project",
          "500A Topolino Fuoriserie by Garavini",
          "500A Topolino Project",
          "500A Topolino Trasformabile",
          "500A Topolino Trasformabile",
          "500A Topolino Trasformabile",
          "500 Belvedere",
          "500 Belvedere",
          "500B Topolino",
          "500B Topolino Giardiniera",
          "500B Topolino Trasformabile",
          "500 by Gucci",
          "500 by Gucci",
          "500C Abarth",
          "500C Abarth 5-Speed",
          "500C Abarth 5-Speed",
          "500C Abarth 5-Speed",
          "500C Abarth 5-Speed",
          "500C Abarth 5-Speed",
          "500 Carabinieri",
          "500 C Belvedere",
          "500 C Belvedere",
          "500C Belvedere",
          "500C by Gucci",
          "500C Giardiniera Station Wagon",
          "500C Gucci Edition",
          "500 Convertible",
          "500C Pop 5-Speed",
          "500C Topolino",
          "500C Topolino",
          "500C Topolino",
          "500C Topolino",
          "500C Topolino",
          "500C Topolino Belvedere",
          "500C Topolino Belvedere",
          "500C Topolino Belvedere",
          "500 C Topolino “Capri”",
          "500C Topolino Giardiniera",
          "500C Topolino Giardiniera",
          "500 C Topolino Trasformabile",
          "500 C Topolino Trasformabile",
          "500 C Topolino Trasformabile",
          "500C Topolino Trasformabile",
          "500C Topolino Trasformabile",
          "500C Topolino Trasformabile",
          "500C Topolino Trasformabile",
          "500C Topolino Trasformabile",
          "500C Topolino Trasformabile",
          "500D Jolly Conversion",
          "500 D Tetto Apribile",
          "500 D Tetto Apribile",
          "500D Transformable",
          "500D Trasformabile",
          "500D Trasformabile",
          "500D Trasformabile",
          "500D Trasformabile",
          "500D Trasformabile",
          "500 F",
          "500 F",
          "500 F",
          "500 F",
          "500 F",
          "500 F",
          "500 F",
          "500 F",
          "500F",
          "500F",
          "500F",
          "500F",
          "500F",
          "500F",
          "500F",
          "500F",
          "500F",
          "500F",
          "500F",
          "500F",
          "500F",
          "500F",
          "500F",
          "500F",
          "500F",
          "500F",
          "500F",
          "500F",
          "500F",
          "500F",
          "500F",
          "500F",
          "500F",
          "500F",
          "500F",
          "500F",
          "500F",
          "500F",
          "500F",
          "500F",
          "500F 5-Speed",
          "500F Jolly Conversion",
          "500F Jolly Conversion",
          "500F Jolly Conversion",
          "500F Jolly Conversion",
          "500F Jolly Conversion",
          "500F Jolly Conversion",
          "500F Jolly Conversion",
          "500F Jolly Conversion",
          "500F Jolly Conversion",
          "500F Jolly Conversion",
          "500F Jolly Conversion",
          "500F Jolly Conversion",
          "500F Jolly Conversion",
          "500F Jolly Conversion",
          "500F Jolly Conversion",
          "500F Jolly Conversion",
          "500F Jolly Conversion",
          "500F Jolly Conversion",
          "500F Jolly Conversion",
          "500F Jolly Conversion",
          "500F Jolly Conversion",
          "500F Jolly Conversion",
          "500F Jolly Conversion",
          "500F Jolly Conversion",
          "500F Jolly Conversion",
          "500F Jolly Conversion",
          "500F Jolly Conversion",
          "500F Jolly Conversion",
          "500F Jolly Conversion",
          "500F Jolly Conversion",
          "500F Jolly Conversion",
          "500F Jolly Conversion",
          "500F Jolly Conversion",
          "500F Jolly Conversion",
          "500 Francis Lombardi My Car",
          "500 Francis Lombardi MyCar",
          "500 Francis Lombardi MyCar",
          "500 Giannini TV Tribute",
          "500 Giannini TV Tribute",
          "500 Giardiniera",
          "500 Giardiniera",
          "500 Giardiniera",
          "500 Giardiniera Pickup Conversion",
          "500 Giardiniera Pickup Conversion",
          "500 Giardiniera Pickup Conversion",
          "500 Giardiniera Pickup Conversion",
          "500 Giardiniera Pickup Conversion",
          "500 Giardiniera Pickup Conversion",
          "500 Giardiniera Taxi",
          "500 Jolly",
          "500 Jolly",
          "500 Jolly",
          "500 Jolly",
          "500 Jolly",
          "500 Jolly conversion",
          "500 Jolly Conversion",
          "500 Jolly Conversion",
          "500 Jolly Conversion",
          "500 Jolly Conversion",
          "500 Jolly Conversion",
          "500 Jolly Conversion",
          "500 Jolly Conversion",
          "500 Jolly Conversion",
          "500 Jolly Conversion",
          "500 Jolly Conversion",
          "500 Jolly Conversion",
          "500 Jolly Conversion",
          "500 Jolly Conversion",
          "500 Jolly Conversion",
          "500 Jolly Conversion",
          "500 Jolly Conversion",
          "500 Jolly Conversion",
          "500 Jolly Conversion",
          "500 Jolly Conversion",
          "500 Jolly Conversion",
          "500 Jolly Conversion",
          "500 Jolly Conversion",
          "500 Jolly Conversion",
          "500 Jolly Conversion",
          "500 Jolly Project",
          "500 L",
          "500 L",
          "500 L",
          "500 L",
          "500 L",
          "500 L",
          "500 L",
          "500 L",
          "500 L",
          "500 L",
          "500 L",
          "500L",
          "500L",
          "500L",
          "500L",
          "500L",
          "500L",
          "500L",
          "500L",
          "500L",
          "500L",
          "500L",
          "500L",
          "500L",
          "500L",
          "500L",
          "500L",
          "500L",
          "500L",
          "500L",
          "500L",
          "500L",
          "500L",
          "500L",
          "500L",
          "500L",
          "500L",
          "500L",
          "500L",
          "500L",
          "500L",
          "500L",
          "500L",
          "500L",
          "500L",
          "500L",
          "500L",
          "500L",
          "500L",
          "500L",
          "500L",
          "500L",
          "500L",
          "500L",
          "500L",
          "500L",
          "500L",
          "500L",
          "500L",
          "500L",
          "500L",
          "500L",
          "500L",
          "500L",
          "500L",
          "500L",
          "500L",
          "500L",
          "500L",
          "500L",
          "500L",
          "500L",
          "500L",
          "500L",
          "500L",
          "500L",
          "500L",
          "500L",
          "500L",
          "500L",
          "500L",
          "500L",
          "500L Caprera",
          "500 L Convertible",
          "500L Convertible",
          "500L for Charity",
          "500L Jolly Conversion",
          "500L Jolly Conversion",
          "500 Pop 5-Speed",
          "500R",
          "500R",
          "500R",
          "500R",
          "500R",
          "500R",
          "500R",
          "500R",
          "500R",
          "500R",
          "500R",
          "500R",
          "500R",
          "500 Rinnovata",
          "500R Jolly Conversion",
          "500R Jolly Conversion",
          "500R Jolly Conversion",
          "500R Jolly Conversion",
          "500 Sport 5-Speed",
          "500 Topolino",
          "500 Vignale Gamine",
          "508A Balilla Roadster",
          "508 Balilla",
          "508S Balilla Spider Sport",
          "508S Balilla Sport Spider Corsa",
          "519S Torpedo Sport Speciale",
          "600",
          "600",
          "600",
          "600",
          "600",
          "600",
          "600",
          "600",
          "600",
          "600",
          "600",
          "600",
          "600",
          "600",
          "600 Abarth Berlina Corsa Tribute",
          "600 Abarth Tribute",
          "600D",
          "600D",
          "600D",
          "600D",
          "600D",
          "600D 5-Speed",
          "600D Cabriolet Conversion",
          "600D Jolly Conversion",
          "600D Jolly Conversion",
          "600D Jolly Conversion",
          "600D Jolly Conversion",
          "600D Jolly Conversion",
          "600D Jolly Conversion",
          "600D Jolly Conversion",
          "600D Multipla",
          "600D Multipla",
          "600D Multipla",
          "600D Multipla",
          "600D Multipla",
          "600D Multipla",
          "600D Multipla",
          "600D Multipla",
          "600D Multipla",
          "600D Multipla",
          "600D Multipla Jolly Conversion",
          "600D Multipla Jolly Conversion",
          "600D Multipla Jolly Conversion",
          "600 Jolly",
          "600 Jolly",
          "600 Jolly",
          "600 Jolly by Ghia",
          "600 Multipla",
          "600 Multipla",
          "600 Multipla",
          "600 Multipla",
          "600 Multipla",
          "600 Multipla",
          "600 Multipla",
          "600 Multipla",
          "600 Multipla Project",
          "600 Multipla Project",
          "600 Multipla Project",
          "600 Multipla Project",
          "600 Rendez-Vous by Vignale",
          "600 Trasformabile",
          "600 Vignale Rendez-Vous",
          "600 Viotti Coupe",
          "750 Vignale",
          "850",
          "850",
          "850 Berlina",
          "850 Berlina Super Idroconvert",
          "850 Coupe",
          "850 Coupe",
          "850 Familiare",
          "850 Familiare",
          "850 Familiare",
          "850 Spider",
          "850 Spider",
          "850 Spider",
          "850 Spider",
          "850 Spider",
          "850 Spider",
          "850 Spider",
          "850 Spider",
          "850 Spider",
          "850 Spider",
          "850 Spider Race Car",
          "850 Spider Race Car",
          "850 Sport Coupe",
          "850 Sport Coupe",
          "850 Sport Spider",
          "850 Sport Spider",
          "850 Sport Spider",
          "850 Sport Spider",
          "850 Sport Spider",
          "850 Sport Spider",
          "850 Sport Spider",
          "850 Sport Spider",
          "850 Sport Spider",
          "850 Sport Spider",
          "850 Sport Spider",
          "850 Sport Spider",
          "850 Sport Spider",
          "850 Sport Spider",
          "850 Sport Spider",
          "850 Sport Spider",
          "850 Sport Spider",
          "850 Sport Spider",
          "850 Sport Spider",
          "850 Sport Spider",
          "850 Sport Spider",
          "850 Sport Spider",
          "850 Sport Spider",
          "850 Sport Spider Project",
          "900 Coriasco Pickup",
          "-Abarth 1000 OT Spider",
          "-Abarth 1000 OT Spider Project",
          "Abarth 1000 TC Berlina",
          "Abarth 1000 TC Berlina Corsa",
          "Abarth 695 SS",
          "-Abarth 750 Derivazione",
          "-Abarth 750 Derivazione",
          "-Abarth 750 GT Zagato",
          "-Abarth 750 GT Zagato",
          "-Abarth 750 GT Zagato",
          "-Abarth 750 GT Zagato",
          "Abarth 750 GT Zagato",
          "Abarth 750 Record Monza",
          "Abarth 750 Record Monza Project",
          "-Abarth 750 Record Monza Zagato",
          "-Abarth 750 Record Monza Zagato",
          "-Abarth 750 Record Monza Zagato Twin-Cam",
          "-Abarth 750 Record Monza Zagato Twin-Cam 5-Speed",
          "-Abarth 750 Sestriere by Zagato",
          "-Abarth 750 Sestriere by Zagato",
          "-Abarth 750 Spyder",
          "Abarth 750 Zagato",
          "Abarth 750 Zagato Race Car Project",
          "-Abarth 850 Allemano Coupe Project",
          "Abarth 850 Derivata",
          "-Abarth 850 Record Monza Zagato",
          "-Abarth 850TC Berlina",
          "-Abarth-Based 850 Coupe",
          "Abarth Berlina 750 Project",
          "-Abarth Monomille GT",
          "Abarth Monomille GT",
          "Abarth Record Monza GT",
          "-Abarth Record Monza Zagato",
          "Barchetta 5-Speed",
          "Barchetta 5-Speed",
          "Bertone X1/9",
          "Bertone X1/9",
          "Bertone X1/9",
          "Bertone X1/9",
          "Brava Rally Tribute Project",
          "Cabriolet",
          "Campagnola",
          "Campagnola",
          "Campagnola",
          "Campagnola",
          "Campagnola 1107",
          "Campagnola 5-Speed",
          "Campagnola 5-Speed",
          "Coupe",
          "Coupe 16V Turbo",
          "Coupe 16V Turbo",
          "Coupe 16V Turbo",
          "Coupe 5-Speed",
          "Coupe 5-Speed",
          "Dino 2.0L Engine and 5-Speed Transmission",
          "Dino 2400",
          "Dino 2400 Coupe",
          "Dino 2400 Coupe",
          "Dino 2400 Coupe",
          "Dino 2400 Coupe",
          "Dino 2400 Coupe",
          "Dino 2400 Spider",
          "Dino Coupe",
          "Dino Coupe",
          "Dino Coupe",
          "Dino Coupe",
          "Dino Coupe",
          "Dino Coupe",
          "Dino Coupe",
          "Dino Coupe",
          "Dino Coupe",
          "Dino Coupe",
          "Dino Coupe 2.4L",
          "Dino Coupe Project",
          "Dino Coupe Project",
          "Dino Coupe Project",
          "Dino Coupe Project",
          "Dino Spider",
          "Dino Spider",
          "Dino Spider",
          "Dino Spider",
          "Dino Spider",
          "Dino Spider",
          "Dino Spider",
          "Dino Spider 2.4",
          "Dino Spider 2400",
          "Dino Spider Project",
          "El Sabry 850",
          "El Sabry 850",
          "Furgone 1100 T2",
          "Jolly",
          "Jolly 600",
          "Jolly Conversion",
          "Jolly Project",
          "Jungla",
          "Michelotti Shellette",
          "Moretti 500",
          "Moretti 500 Coupe",
          "Moretti 500 Coupe",
          "Moretti 850 Sportiva Project",
          "Moretti 850 Sportiva S2",
          "Multipla",
          "Nuova 500 America",
          "Nuova 500 Convertible",
          "Nuova 500 F",
          "Nuova 500 Full-Length Cloth Roof Conversion",
          "Nuova 500 Tetto Apribile",
          "Panda 30",
          "Panda 4×4",
          "Panda 4×4",
          "Panda 4×4 CLX",
          "Panda 4×4 Country Club",
          "Panda 4×4 Country Club",
          "Panda 4×4 Country Club",
          "Panda 4×4 Country Club",
          "Panda 4×4 Country Club",
          "Panda 4×4 Country Club",
          "Panda 4×4 Edizione Limitata",
          "Panda 4×4 Sisley",
          "Panda 4×4 Steyr-Puch",
          "Panda 4×4 Steyr-Puch",
          "Panda 750CL",
          "Panda CLX 4×4",
          "-Powered 1960 Austin-Healey Bugeye Sprite 5-Speed",
          "-Powered Formula III Race Car",
          "Ritmo 130TC Abarth",
          "Ritmo 130TC Abarth",
          "Spider 124",
          "Spider 2000",
          "Spider 2000",
          "Spider 2000",
          "Spider 2000",
          "Spider 2000",
          "Spider 2000",
          "Spider 2000",
          "Spider 2000",
          "Spider 2000",
          "Spider 2000",
          "Spider 2000",
          "Spider 2000",
          "Spider 2000",
          "Spider 2000",
          "Spider 2000",
          "Spider 2000",
          "Spider 2000",
          "Spider 2000",
          "Spider 2000",
          "Spider 2000",
          "Spider 2000",
          "Spider 2000",
          "Spider 2000",
          "Spider 2000",
          "Spider 2000",
          "Spider 2000",
          "Spider 2000",
          "Spider 2000",
          "Spider 2000",
          "Spider 2000",
          "Spider 2000",
          "Spider 2000",
          "Spider 2000",
          "Spider 2000",
          "Spider 2000",
          "Spider 2000 5-Speed",
          "Spider 2000 5-Speed",
          "Spider 2000 Limited Edition",
          "Spider 2000 Limited Edition",
          "Spider 2000 Limited Edition",
          "Spider 2000 Limited Edition",
          "Spider 2000 Limited Edition",
          "Spider 2000 Limited Edition",
          "Spider 2000 Limited Edition",
          "Spider 2000 Pininfarina",
          "Spider 2000 Project",
          "Spider 2000 Turbo",
          "Spider 2000 Turbo",
          "Spider 2000 Turbo",
          "Spider 2000 Turbo",
          "Spider Turbo",
          "Tempra 1.6SX 5-Speed",
          "Tipo 1.4 DGT 5-Speed",
          "Topolino 500A",
          "Topolino 500C",
          "Transformable Bianchina Special",
          "Uno 45",
          "Uno Turbo i.e.",
          "Uno Turbo i.e.",
          "Viotti 600 Coupe",
          "X1/9",
          "X1/9",
          "X1/9",
          "X1/9",
          "X1/9",
          "X1/9",
          "X1/9",
          "X1/9",
          "X1/9",
          "X1/9",
          "X1/9",
          "X1/9",
          "X1/9",
          "X1/9",
          "X1/9",
          "X1/9",
          "X1/9",
          "X1/9",
          "X1/9",
          "X1/9",
          "X1/9",
          "X1/9",
          "X1/9",
          "X1/9",
          "X1/9",
          "X1/9",
          "X1/9",
          "X1/9",
          "X1/9",
          "X1/9",
          "X1/9",
          "X1/9",
          "X1/9",
          "X1/9",
          "X1/9",
          "X1/9",
          "X1/9",
          "X1/9",
          "X1/9",
          "X1/9",
          "X1/9",
          "X1/9",
          "X1/9",
          "X1/9",
          "X1/9",
          "X1/9",
          "X1/9",
          "X1/9",
          "X1/9",
          "X1/9 1.5L 5-Speed",
          "X1/9 5-Speed",
          "X1/9 5-Speed",
          "X1/9 6-Speed",
          "X1/9 6-Speed",
          "X1/9 Signature Edition",
          "X1/9 Versione Speciale"
         ],
         "x0": " ",
         "xaxis": "x",
         "y": {
          "bdata": "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",
          "dtype": "f8"
         },
         "y0": " ",
         "yaxis": "y"
        }
       ],
       "layout": {
        "boxmode": "group",
        "legend": {
         "tracegroupgap": 0
        },
        "margin": {
         "t": 60
        },
        "template": {
         "data": {
          "bar": [
           {
            "error_x": {
             "color": "#2a3f5f"
            },
            "error_y": {
             "color": "#2a3f5f"
            },
            "marker": {
             "line": {
              "color": "#E5ECF6",
              "width": 0.5
             },
             "pattern": {
              "fillmode": "overlay",
              "size": 10,
              "solidity": 0.2
             }
            },
            "type": "bar"
           }
          ],
          "barpolar": [
           {
            "marker": {
             "line": {
              "color": "#E5ECF6",
              "width": 0.5
             },
             "pattern": {
              "fillmode": "overlay",
              "size": 10,
              "solidity": 0.2
             }
            },
            "type": "barpolar"
           }
          ],
          "carpet": [
           {
            "aaxis": {
             "endlinecolor": "#2a3f5f",
             "gridcolor": "white",
             "linecolor": "white",
             "minorgridcolor": "white",
             "startlinecolor": "#2a3f5f"
            },
            "baxis": {
             "endlinecolor": "#2a3f5f",
             "gridcolor": "white",
             "linecolor": "white",
             "minorgridcolor": "white",
             "startlinecolor": "#2a3f5f"
            },
            "type": "carpet"
           }
          ],
          "choropleth": [
           {
            "colorbar": {
             "outlinewidth": 0,
             "ticks": ""
            },
            "type": "choropleth"
           }
          ],
          "contour": [
           {
            "colorbar": {
             "outlinewidth": 0,
             "ticks": ""
            },
            "colorscale": [
             [
              0,
              "#0d0887"
             ],
             [
              0.1111111111111111,
              "#46039f"
             ],
             [
              0.2222222222222222,
              "#7201a8"
             ],
             [
              0.3333333333333333,
              "#9c179e"
             ],
             [
              0.4444444444444444,
              "#bd3786"
             ],
             [
              0.5555555555555556,
              "#d8576b"
             ],
             [
              0.6666666666666666,
              "#ed7953"
             ],
             [
              0.7777777777777778,
              "#fb9f3a"
             ],
             [
              0.8888888888888888,
              "#fdca26"
             ],
             [
              1,
              "#f0f921"
             ]
            ],
            "type": "contour"
           }
          ],
          "contourcarpet": [
           {
            "colorbar": {
             "outlinewidth": 0,
             "ticks": ""
            },
            "type": "contourcarpet"
           }
          ],
          "heatmap": [
           {
            "colorbar": {
             "outlinewidth": 0,
             "ticks": ""
            },
            "colorscale": [
             [
              0,
              "#0d0887"
             ],
             [
              0.1111111111111111,
              "#46039f"
             ],
             [
              0.2222222222222222,
              "#7201a8"
             ],
             [
              0.3333333333333333,
              "#9c179e"
             ],
             [
              0.4444444444444444,
              "#bd3786"
             ],
             [
              0.5555555555555556,
              "#d8576b"
             ],
             [
              0.6666666666666666,
              "#ed7953"
             ],
             [
              0.7777777777777778,
              "#fb9f3a"
             ],
             [
              0.8888888888888888,
              "#fdca26"
             ],
             [
              1,
              "#f0f921"
             ]
            ],
            "type": "heatmap"
           }
          ],
          "histogram": [
           {
            "marker": {
             "pattern": {
              "fillmode": "overlay",
              "size": 10,
              "solidity": 0.2
             }
            },
            "type": "histogram"
           }
          ],
          "histogram2d": [
           {
            "colorbar": {
             "outlinewidth": 0,
             "ticks": ""
            },
            "colorscale": [
             [
              0,
              "#0d0887"
             ],
             [
              0.1111111111111111,
              "#46039f"
             ],
             [
              0.2222222222222222,
              "#7201a8"
             ],
             [
              0.3333333333333333,
              "#9c179e"
             ],
             [
              0.4444444444444444,
              "#bd3786"
             ],
             [
              0.5555555555555556,
              "#d8576b"
             ],
             [
              0.6666666666666666,
              "#ed7953"
             ],
             [
              0.7777777777777778,
              "#fb9f3a"
             ],
             [
              0.8888888888888888,
              "#fdca26"
             ],
             [
              1,
              "#f0f921"
             ]
            ],
            "type": "histogram2d"
           }
          ],
          "histogram2dcontour": [
           {
            "colorbar": {
             "outlinewidth": 0,
             "ticks": ""
            },
            "colorscale": [
             [
              0,
              "#0d0887"
             ],
             [
              0.1111111111111111,
              "#46039f"
             ],
             [
              0.2222222222222222,
              "#7201a8"
             ],
             [
              0.3333333333333333,
              "#9c179e"
             ],
             [
              0.4444444444444444,
              "#bd3786"
             ],
             [
              0.5555555555555556,
              "#d8576b"
             ],
             [
              0.6666666666666666,
              "#ed7953"
             ],
             [
              0.7777777777777778,
              "#fb9f3a"
             ],
             [
              0.8888888888888888,
              "#fdca26"
             ],
             [
              1,
              "#f0f921"
             ]
            ],
            "type": "histogram2dcontour"
           }
          ],
          "mesh3d": [
           {
            "colorbar": {
             "outlinewidth": 0,
             "ticks": ""
            },
            "type": "mesh3d"
           }
          ],
          "parcoords": [
           {
            "line": {
             "colorbar": {
              "outlinewidth": 0,
              "ticks": ""
             }
            },
            "type": "parcoords"
           }
          ],
          "pie": [
           {
            "automargin": true,
            "type": "pie"
           }
          ],
          "scatter": [
           {
            "fillpattern": {
             "fillmode": "overlay",
             "size": 10,
             "solidity": 0.2
            },
            "type": "scatter"
           }
          ],
          "scatter3d": [
           {
            "line": {
             "colorbar": {
              "outlinewidth": 0,
              "ticks": ""
             }
            },
            "marker": {
             "colorbar": {
              "outlinewidth": 0,
              "ticks": ""
             }
            },
            "type": "scatter3d"
           }
          ],
          "scattercarpet": [
           {
            "marker": {
             "colorbar": {
              "outlinewidth": 0,
              "ticks": ""
             }
            },
            "type": "scattercarpet"
           }
          ],
          "scattergeo": [
           {
            "marker": {
             "colorbar": {
              "outlinewidth": 0,
              "ticks": ""
             }
            },
            "type": "scattergeo"
           }
          ],
          "scattergl": [
           {
            "marker": {
             "colorbar": {
              "outlinewidth": 0,
              "ticks": ""
             }
            },
            "type": "scattergl"
           }
          ],
          "scattermap": [
           {
            "marker": {
             "colorbar": {
              "outlinewidth": 0,
              "ticks": ""
             }
            },
            "type": "scattermap"
           }
          ],
          "scattermapbox": [
           {
            "marker": {
             "colorbar": {
              "outlinewidth": 0,
              "ticks": ""
             }
            },
            "type": "scattermapbox"
           }
          ],
          "scatterpolar": [
           {
            "marker": {
             "colorbar": {
              "outlinewidth": 0,
              "ticks": ""
             }
            },
            "type": "scatterpolar"
           }
          ],
          "scatterpolargl": [
           {
            "marker": {
             "colorbar": {
              "outlinewidth": 0,
              "ticks": ""
             }
            },
            "type": "scatterpolargl"
           }
          ],
          "scatterternary": [
           {
            "marker": {
             "colorbar": {
              "outlinewidth": 0,
              "ticks": ""
             }
            },
            "type": "scatterternary"
           }
          ],
          "surface": [
           {
            "colorbar": {
             "outlinewidth": 0,
             "ticks": ""
            },
            "colorscale": [
             [
              0,
              "#0d0887"
             ],
             [
              0.1111111111111111,
              "#46039f"
             ],
             [
              0.2222222222222222,
              "#7201a8"
             ],
             [
              0.3333333333333333,
              "#9c179e"
             ],
             [
              0.4444444444444444,
              "#bd3786"
             ],
             [
              0.5555555555555556,
              "#d8576b"
             ],
             [
              0.6666666666666666,
              "#ed7953"
             ],
             [
              0.7777777777777778,
              "#fb9f3a"
             ],
             [
              0.8888888888888888,
              "#fdca26"
             ],
             [
              1,
              "#f0f921"
             ]
            ],
            "type": "surface"
           }
          ],
          "table": [
           {
            "cells": {
             "fill": {
              "color": "#EBF0F8"
             },
             "line": {
              "color": "white"
             }
            },
            "header": {
             "fill": {
              "color": "#C8D4E3"
             },
             "line": {
              "color": "white"
             }
            },
            "type": "table"
           }
          ]
         },
         "layout": {
          "annotationdefaults": {
           "arrowcolor": "#2a3f5f",
           "arrowhead": 0,
           "arrowwidth": 1
          },
          "autotypenumbers": "strict",
          "coloraxis": {
           "colorbar": {
            "outlinewidth": 0,
            "ticks": ""
           }
          },
          "colorscale": {
           "diverging": [
            [
             0,
             "#8e0152"
            ],
            [
             0.1,
             "#c51b7d"
            ],
            [
             0.2,
             "#de77ae"
            ],
            [
             0.3,
             "#f1b6da"
            ],
            [
             0.4,
             "#fde0ef"
            ],
            [
             0.5,
             "#f7f7f7"
            ],
            [
             0.6,
             "#e6f5d0"
            ],
            [
             0.7,
             "#b8e186"
            ],
            [
             0.8,
             "#7fbc41"
            ],
            [
             0.9,
             "#4d9221"
            ],
            [
             1,
             "#276419"
            ]
           ],
           "sequential": [
            [
             0,
             "#0d0887"
            ],
            [
             0.1111111111111111,
             "#46039f"
            ],
            [
             0.2222222222222222,
             "#7201a8"
            ],
            [
             0.3333333333333333,
             "#9c179e"
            ],
            [
             0.4444444444444444,
             "#bd3786"
            ],
            [
             0.5555555555555556,
             "#d8576b"
            ],
            [
             0.6666666666666666,
             "#ed7953"
            ],
            [
             0.7777777777777778,
             "#fb9f3a"
            ],
            [
             0.8888888888888888,
             "#fdca26"
            ],
            [
             1,
             "#f0f921"
            ]
           ],
           "sequentialminus": [
            [
             0,
             "#0d0887"
            ],
            [
             0.1111111111111111,
             "#46039f"
            ],
            [
             0.2222222222222222,
             "#7201a8"
            ],
            [
             0.3333333333333333,
             "#9c179e"
            ],
            [
             0.4444444444444444,
             "#bd3786"
            ],
            [
             0.5555555555555556,
             "#d8576b"
            ],
            [
             0.6666666666666666,
             "#ed7953"
            ],
            [
             0.7777777777777778,
             "#fb9f3a"
            ],
            [
             0.8888888888888888,
             "#fdca26"
            ],
            [
             1,
             "#f0f921"
            ]
           ]
          },
          "colorway": [
           "#636efa",
           "#EF553B",
           "#00cc96",
           "#ab63fa",
           "#FFA15A",
           "#19d3f3",
           "#FF6692",
           "#B6E880",
           "#FF97FF",
           "#FECB52"
          ],
          "font": {
           "color": "#2a3f5f"
          },
          "geo": {
           "bgcolor": "white",
           "lakecolor": "white",
           "landcolor": "#E5ECF6",
           "showlakes": true,
           "showland": true,
           "subunitcolor": "white"
          },
          "hoverlabel": {
           "align": "left"
          },
          "hovermode": "closest",
          "mapbox": {
           "style": "light"
          },
          "paper_bgcolor": "white",
          "plot_bgcolor": "#E5ECF6",
          "polar": {
           "angularaxis": {
            "gridcolor": "white",
            "linecolor": "white",
            "ticks": ""
           },
           "bgcolor": "#E5ECF6",
           "radialaxis": {
            "gridcolor": "white",
            "linecolor": "white",
            "ticks": ""
           }
          },
          "scene": {
           "xaxis": {
            "backgroundcolor": "#E5ECF6",
            "gridcolor": "white",
            "gridwidth": 2,
            "linecolor": "white",
            "showbackground": true,
            "ticks": "",
            "zerolinecolor": "white"
           },
           "yaxis": {
            "backgroundcolor": "#E5ECF6",
            "gridcolor": "white",
            "gridwidth": 2,
            "linecolor": "white",
            "showbackground": true,
            "ticks": "",
            "zerolinecolor": "white"
           },
           "zaxis": {
            "backgroundcolor": "#E5ECF6",
            "gridcolor": "white",
            "gridwidth": 2,
            "linecolor": "white",
            "showbackground": true,
            "ticks": "",
            "zerolinecolor": "white"
           }
          },
          "shapedefaults": {
           "line": {
            "color": "#2a3f5f"
           }
          },
          "ternary": {
           "aaxis": {
            "gridcolor": "white",
            "linecolor": "white",
            "ticks": ""
           },
           "baxis": {
            "gridcolor": "white",
            "linecolor": "white",
            "ticks": ""
           },
           "bgcolor": "#E5ECF6",
           "caxis": {
            "gridcolor": "white",
            "linecolor": "white",
            "ticks": ""
           }
          },
          "title": {
           "x": 0.05
          },
          "xaxis": {
           "automargin": true,
           "gridcolor": "white",
           "linecolor": "white",
           "ticks": "",
           "title": {
            "standoff": 15
           },
           "zerolinecolor": "white",
           "zerolinewidth": 2
          },
          "yaxis": {
           "automargin": true,
           "gridcolor": "white",
           "linecolor": "white",
           "ticks": "",
           "title": {
            "standoff": 15
           },
           "zerolinecolor": "white",
           "zerolinewidth": 2
          }
         }
        },
        "title": {
         "text": "Price vs Model"
        },
        "xaxis": {
         "anchor": "y",
         "domain": [
          0,
          1
         ],
         "title": {
          "text": "Model"
         }
        },
        "yaxis": {
         "anchor": "x",
         "domain": [
          0,
          1
         ],
         "title": {
          "text": "Average Price"
         }
        }
       }
      }
     },
     "metadata": {},
     "output_type": "display_data"
    }
   ],
   "source": [
    "# Price by model\n",
    "display_p=df[['model','year','sold_price']]\n",
    "\n",
    "fig=px.box(display_p,x=\"model\",y=\"sold_price\")\n",
    "fig.update_layout(title_text='Price vs Model',xaxis_title=\"Model\",yaxis_title=\"Average Price\")"
   ]
  },
  {
   "cell_type": "code",
   "execution_count": 55,
   "metadata": {},
   "outputs": [
    {
     "data": {
      "application/vnd.plotly.v1+json": {
       "config": {
        "plotlyServerURL": "https://plot.ly"
       },
       "data": [
        {
         "marker": {
          "color": [
           "crimson",
           "lightslategray",
           "lightslategray",
           "lightslategray",
           "lightslategray",
           "lightslategray",
           "lightslategray",
           "lightslategray",
           "lightslategray",
           "lightslategray",
           "lightslategray",
           "lightslategray",
           "lightslategray",
           "lightslategray",
           "lightslategray",
           "lightslategray",
           "lightslategray",
           "lightslategray",
           "lightslategray",
           "lightslategray"
          ]
         },
         "orientation": "h",
         "type": "bar",
         "x": {
          "bdata": "YUcyMSMiISAbGBcQDg4NDAsKCgoJCAgIBw==",
          "dtype": "i1"
         },
         "y": [
          "124 Spider",
          "500L",
          "124 Spider 2000",
          "X1/9",
          "Spider 2000",
          "500F Jolly Conversion",
          "500",
          "500F",
          "500 Abarth 5-Speed",
          "500 Jolly Conversion",
          "850 Sport Spider",
          "500 Abarth",
          "124 Sport Spider",
          "600",
          "500R",
          "124 Sport Coupe",
          "500 L",
          "600D Multipla",
          "850 Spider",
          "Dino Coupe"
         ]
        }
       ],
       "layout": {
        "template": {
         "data": {
          "bar": [
           {
            "error_x": {
             "color": "#2a3f5f"
            },
            "error_y": {
             "color": "#2a3f5f"
            },
            "marker": {
             "line": {
              "color": "#E5ECF6",
              "width": 0.5
             },
             "pattern": {
              "fillmode": "overlay",
              "size": 10,
              "solidity": 0.2
             }
            },
            "type": "bar"
           }
          ],
          "barpolar": [
           {
            "marker": {
             "line": {
              "color": "#E5ECF6",
              "width": 0.5
             },
             "pattern": {
              "fillmode": "overlay",
              "size": 10,
              "solidity": 0.2
             }
            },
            "type": "barpolar"
           }
          ],
          "carpet": [
           {
            "aaxis": {
             "endlinecolor": "#2a3f5f",
             "gridcolor": "white",
             "linecolor": "white",
             "minorgridcolor": "white",
             "startlinecolor": "#2a3f5f"
            },
            "baxis": {
             "endlinecolor": "#2a3f5f",
             "gridcolor": "white",
             "linecolor": "white",
             "minorgridcolor": "white",
             "startlinecolor": "#2a3f5f"
            },
            "type": "carpet"
           }
          ],
          "choropleth": [
           {
            "colorbar": {
             "outlinewidth": 0,
             "ticks": ""
            },
            "type": "choropleth"
           }
          ],
          "contour": [
           {
            "colorbar": {
             "outlinewidth": 0,
             "ticks": ""
            },
            "colorscale": [
             [
              0,
              "#0d0887"
             ],
             [
              0.1111111111111111,
              "#46039f"
             ],
             [
              0.2222222222222222,
              "#7201a8"
             ],
             [
              0.3333333333333333,
              "#9c179e"
             ],
             [
              0.4444444444444444,
              "#bd3786"
             ],
             [
              0.5555555555555556,
              "#d8576b"
             ],
             [
              0.6666666666666666,
              "#ed7953"
             ],
             [
              0.7777777777777778,
              "#fb9f3a"
             ],
             [
              0.8888888888888888,
              "#fdca26"
             ],
             [
              1,
              "#f0f921"
             ]
            ],
            "type": "contour"
           }
          ],
          "contourcarpet": [
           {
            "colorbar": {
             "outlinewidth": 0,
             "ticks": ""
            },
            "type": "contourcarpet"
           }
          ],
          "heatmap": [
           {
            "colorbar": {
             "outlinewidth": 0,
             "ticks": ""
            },
            "colorscale": [
             [
              0,
              "#0d0887"
             ],
             [
              0.1111111111111111,
              "#46039f"
             ],
             [
              0.2222222222222222,
              "#7201a8"
             ],
             [
              0.3333333333333333,
              "#9c179e"
             ],
             [
              0.4444444444444444,
              "#bd3786"
             ],
             [
              0.5555555555555556,
              "#d8576b"
             ],
             [
              0.6666666666666666,
              "#ed7953"
             ],
             [
              0.7777777777777778,
              "#fb9f3a"
             ],
             [
              0.8888888888888888,
              "#fdca26"
             ],
             [
              1,
              "#f0f921"
             ]
            ],
            "type": "heatmap"
           }
          ],
          "histogram": [
           {
            "marker": {
             "pattern": {
              "fillmode": "overlay",
              "size": 10,
              "solidity": 0.2
             }
            },
            "type": "histogram"
           }
          ],
          "histogram2d": [
           {
            "colorbar": {
             "outlinewidth": 0,
             "ticks": ""
            },
            "colorscale": [
             [
              0,
              "#0d0887"
             ],
             [
              0.1111111111111111,
              "#46039f"
             ],
             [
              0.2222222222222222,
              "#7201a8"
             ],
             [
              0.3333333333333333,
              "#9c179e"
             ],
             [
              0.4444444444444444,
              "#bd3786"
             ],
             [
              0.5555555555555556,
              "#d8576b"
             ],
             [
              0.6666666666666666,
              "#ed7953"
             ],
             [
              0.7777777777777778,
              "#fb9f3a"
             ],
             [
              0.8888888888888888,
              "#fdca26"
             ],
             [
              1,
              "#f0f921"
             ]
            ],
            "type": "histogram2d"
           }
          ],
          "histogram2dcontour": [
           {
            "colorbar": {
             "outlinewidth": 0,
             "ticks": ""
            },
            "colorscale": [
             [
              0,
              "#0d0887"
             ],
             [
              0.1111111111111111,
              "#46039f"
             ],
             [
              0.2222222222222222,
              "#7201a8"
             ],
             [
              0.3333333333333333,
              "#9c179e"
             ],
             [
              0.4444444444444444,
              "#bd3786"
             ],
             [
              0.5555555555555556,
              "#d8576b"
             ],
             [
              0.6666666666666666,
              "#ed7953"
             ],
             [
              0.7777777777777778,
              "#fb9f3a"
             ],
             [
              0.8888888888888888,
              "#fdca26"
             ],
             [
              1,
              "#f0f921"
             ]
            ],
            "type": "histogram2dcontour"
           }
          ],
          "mesh3d": [
           {
            "colorbar": {
             "outlinewidth": 0,
             "ticks": ""
            },
            "type": "mesh3d"
           }
          ],
          "parcoords": [
           {
            "line": {
             "colorbar": {
              "outlinewidth": 0,
              "ticks": ""
             }
            },
            "type": "parcoords"
           }
          ],
          "pie": [
           {
            "automargin": true,
            "type": "pie"
           }
          ],
          "scatter": [
           {
            "fillpattern": {
             "fillmode": "overlay",
             "size": 10,
             "solidity": 0.2
            },
            "type": "scatter"
           }
          ],
          "scatter3d": [
           {
            "line": {
             "colorbar": {
              "outlinewidth": 0,
              "ticks": ""
             }
            },
            "marker": {
             "colorbar": {
              "outlinewidth": 0,
              "ticks": ""
             }
            },
            "type": "scatter3d"
           }
          ],
          "scattercarpet": [
           {
            "marker": {
             "colorbar": {
              "outlinewidth": 0,
              "ticks": ""
             }
            },
            "type": "scattercarpet"
           }
          ],
          "scattergeo": [
           {
            "marker": {
             "colorbar": {
              "outlinewidth": 0,
              "ticks": ""
             }
            },
            "type": "scattergeo"
           }
          ],
          "scattergl": [
           {
            "marker": {
             "colorbar": {
              "outlinewidth": 0,
              "ticks": ""
             }
            },
            "type": "scattergl"
           }
          ],
          "scattermap": [
           {
            "marker": {
             "colorbar": {
              "outlinewidth": 0,
              "ticks": ""
             }
            },
            "type": "scattermap"
           }
          ],
          "scattermapbox": [
           {
            "marker": {
             "colorbar": {
              "outlinewidth": 0,
              "ticks": ""
             }
            },
            "type": "scattermapbox"
           }
          ],
          "scatterpolar": [
           {
            "marker": {
             "colorbar": {
              "outlinewidth": 0,
              "ticks": ""
             }
            },
            "type": "scatterpolar"
           }
          ],
          "scatterpolargl": [
           {
            "marker": {
             "colorbar": {
              "outlinewidth": 0,
              "ticks": ""
             }
            },
            "type": "scatterpolargl"
           }
          ],
          "scatterternary": [
           {
            "marker": {
             "colorbar": {
              "outlinewidth": 0,
              "ticks": ""
             }
            },
            "type": "scatterternary"
           }
          ],
          "surface": [
           {
            "colorbar": {
             "outlinewidth": 0,
             "ticks": ""
            },
            "colorscale": [
             [
              0,
              "#0d0887"
             ],
             [
              0.1111111111111111,
              "#46039f"
             ],
             [
              0.2222222222222222,
              "#7201a8"
             ],
             [
              0.3333333333333333,
              "#9c179e"
             ],
             [
              0.4444444444444444,
              "#bd3786"
             ],
             [
              0.5555555555555556,
              "#d8576b"
             ],
             [
              0.6666666666666666,
              "#ed7953"
             ],
             [
              0.7777777777777778,
              "#fb9f3a"
             ],
             [
              0.8888888888888888,
              "#fdca26"
             ],
             [
              1,
              "#f0f921"
             ]
            ],
            "type": "surface"
           }
          ],
          "table": [
           {
            "cells": {
             "fill": {
              "color": "#EBF0F8"
             },
             "line": {
              "color": "white"
             }
            },
            "header": {
             "fill": {
              "color": "#C8D4E3"
             },
             "line": {
              "color": "white"
             }
            },
            "type": "table"
           }
          ]
         },
         "layout": {
          "annotationdefaults": {
           "arrowcolor": "#2a3f5f",
           "arrowhead": 0,
           "arrowwidth": 1
          },
          "autotypenumbers": "strict",
          "coloraxis": {
           "colorbar": {
            "outlinewidth": 0,
            "ticks": ""
           }
          },
          "colorscale": {
           "diverging": [
            [
             0,
             "#8e0152"
            ],
            [
             0.1,
             "#c51b7d"
            ],
            [
             0.2,
             "#de77ae"
            ],
            [
             0.3,
             "#f1b6da"
            ],
            [
             0.4,
             "#fde0ef"
            ],
            [
             0.5,
             "#f7f7f7"
            ],
            [
             0.6,
             "#e6f5d0"
            ],
            [
             0.7,
             "#b8e186"
            ],
            [
             0.8,
             "#7fbc41"
            ],
            [
             0.9,
             "#4d9221"
            ],
            [
             1,
             "#276419"
            ]
           ],
           "sequential": [
            [
             0,
             "#0d0887"
            ],
            [
             0.1111111111111111,
             "#46039f"
            ],
            [
             0.2222222222222222,
             "#7201a8"
            ],
            [
             0.3333333333333333,
             "#9c179e"
            ],
            [
             0.4444444444444444,
             "#bd3786"
            ],
            [
             0.5555555555555556,
             "#d8576b"
            ],
            [
             0.6666666666666666,
             "#ed7953"
            ],
            [
             0.7777777777777778,
             "#fb9f3a"
            ],
            [
             0.8888888888888888,
             "#fdca26"
            ],
            [
             1,
             "#f0f921"
            ]
           ],
           "sequentialminus": [
            [
             0,
             "#0d0887"
            ],
            [
             0.1111111111111111,
             "#46039f"
            ],
            [
             0.2222222222222222,
             "#7201a8"
            ],
            [
             0.3333333333333333,
             "#9c179e"
            ],
            [
             0.4444444444444444,
             "#bd3786"
            ],
            [
             0.5555555555555556,
             "#d8576b"
            ],
            [
             0.6666666666666666,
             "#ed7953"
            ],
            [
             0.7777777777777778,
             "#fb9f3a"
            ],
            [
             0.8888888888888888,
             "#fdca26"
            ],
            [
             1,
             "#f0f921"
            ]
           ]
          },
          "colorway": [
           "#636efa",
           "#EF553B",
           "#00cc96",
           "#ab63fa",
           "#FFA15A",
           "#19d3f3",
           "#FF6692",
           "#B6E880",
           "#FF97FF",
           "#FECB52"
          ],
          "font": {
           "color": "#2a3f5f"
          },
          "geo": {
           "bgcolor": "white",
           "lakecolor": "white",
           "landcolor": "#E5ECF6",
           "showlakes": true,
           "showland": true,
           "subunitcolor": "white"
          },
          "hoverlabel": {
           "align": "left"
          },
          "hovermode": "closest",
          "mapbox": {
           "style": "light"
          },
          "paper_bgcolor": "white",
          "plot_bgcolor": "#E5ECF6",
          "polar": {
           "angularaxis": {
            "gridcolor": "white",
            "linecolor": "white",
            "ticks": ""
           },
           "bgcolor": "#E5ECF6",
           "radialaxis": {
            "gridcolor": "white",
            "linecolor": "white",
            "ticks": ""
           }
          },
          "scene": {
           "xaxis": {
            "backgroundcolor": "#E5ECF6",
            "gridcolor": "white",
            "gridwidth": 2,
            "linecolor": "white",
            "showbackground": true,
            "ticks": "",
            "zerolinecolor": "white"
           },
           "yaxis": {
            "backgroundcolor": "#E5ECF6",
            "gridcolor": "white",
            "gridwidth": 2,
            "linecolor": "white",
            "showbackground": true,
            "ticks": "",
            "zerolinecolor": "white"
           },
           "zaxis": {
            "backgroundcolor": "#E5ECF6",
            "gridcolor": "white",
            "gridwidth": 2,
            "linecolor": "white",
            "showbackground": true,
            "ticks": "",
            "zerolinecolor": "white"
           }
          },
          "shapedefaults": {
           "line": {
            "color": "#2a3f5f"
           }
          },
          "ternary": {
           "aaxis": {
            "gridcolor": "white",
            "linecolor": "white",
            "ticks": ""
           },
           "baxis": {
            "gridcolor": "white",
            "linecolor": "white",
            "ticks": ""
           },
           "bgcolor": "#E5ECF6",
           "caxis": {
            "gridcolor": "white",
            "linecolor": "white",
            "ticks": ""
           }
          },
          "title": {
           "x": 0.05
          },
          "xaxis": {
           "automargin": true,
           "gridcolor": "white",
           "linecolor": "white",
           "ticks": "",
           "title": {
            "standoff": 15
           },
           "zerolinecolor": "white",
           "zerolinewidth": 2
          },
          "yaxis": {
           "automargin": true,
           "gridcolor": "white",
           "linecolor": "white",
           "ticks": "",
           "title": {
            "standoff": 15
           },
           "zerolinecolor": "white",
           "zerolinewidth": 2
          }
         }
        },
        "title": {
         "text": "Most represented Models in the Dataset"
        },
        "xaxis": {
         "title": {
          "text": "Count"
         }
        },
        "yaxis": {
         "title": {
          "text": "Model"
         }
        }
       }
      }
     },
     "metadata": {},
     "output_type": "display_data"
    }
   ],
   "source": [
    "# Filter to models with more than min_observations\n",
    "counts=df['model'].value_counts()\n",
    "frequent_models = counts[counts >= min_observations].index\n",
    "\n",
    "# Filter the data to frequent models\n",
    "df = df[df['model'].isin(frequent_models)]\n",
    "popular_labels=frequent_models\n",
    "\n",
    "colors=['lightslategray',]*len(popular_labels)\n",
    "colors[0]='crimson'\n",
    "\n",
    "fig=go.Figure(data=[go.Bar(x=counts[:25],y=popular_labels,marker_color=colors,orientation='h')])\n",
    "fig.update_layout(title_text='Most represented Models in the Dataset',xaxis_title=\"Count\",yaxis_title=\"Model\")"
   ]
  },
  {
   "cell_type": "code",
   "execution_count": 56,
   "metadata": {},
   "outputs": [
    {
     "data": {
      "application/vnd.plotly.v1+json": {
       "config": {
        "plotlyServerURL": "https://plot.ly"
       },
       "data": [
        {
         "type": "bar",
         "x": [
          1970,
          1971,
          1972,
          1973,
          1974,
          1975,
          1976,
          1977,
          1978,
          1979,
          1980,
          1981,
          1982,
          1983,
          1984,
          1985,
          1986,
          1987,
          1988,
          1989,
          1990,
          1991,
          1992,
          1993,
          1994,
          1995,
          1996,
          1997,
          1998,
          1999,
          2000,
          2001,
          2002,
          2003,
          2004,
          2005,
          2006,
          2007,
          2008,
          2009,
          2010,
          2011,
          2012,
          2013,
          2014,
          2015,
          2016,
          2017,
          2018,
          2019,
          2020,
          2021,
          2022,
          2023,
          2024
         ],
         "y": [
          44,
          80,
          58,
          18,
          22,
          13,
          7,
          7,
          22,
          29,
          34,
          31,
          37,
          0,
          1,
          0,
          0,
          0,
          0,
          0,
          0,
          0,
          0,
          0,
          0,
          0,
          0,
          0,
          0,
          0,
          0,
          0,
          0,
          0,
          0,
          0,
          0,
          0,
          0,
          0,
          0,
          0,
          9,
          18,
          3,
          6,
          0,
          2,
          3,
          2,
          0,
          0,
          0,
          0,
          0
         ]
        }
       ],
       "layout": {
        "template": {
         "data": {
          "bar": [
           {
            "error_x": {
             "color": "#2a3f5f"
            },
            "error_y": {
             "color": "#2a3f5f"
            },
            "marker": {
             "line": {
              "color": "#E5ECF6",
              "width": 0.5
             },
             "pattern": {
              "fillmode": "overlay",
              "size": 10,
              "solidity": 0.2
             }
            },
            "type": "bar"
           }
          ],
          "barpolar": [
           {
            "marker": {
             "line": {
              "color": "#E5ECF6",
              "width": 0.5
             },
             "pattern": {
              "fillmode": "overlay",
              "size": 10,
              "solidity": 0.2
             }
            },
            "type": "barpolar"
           }
          ],
          "carpet": [
           {
            "aaxis": {
             "endlinecolor": "#2a3f5f",
             "gridcolor": "white",
             "linecolor": "white",
             "minorgridcolor": "white",
             "startlinecolor": "#2a3f5f"
            },
            "baxis": {
             "endlinecolor": "#2a3f5f",
             "gridcolor": "white",
             "linecolor": "white",
             "minorgridcolor": "white",
             "startlinecolor": "#2a3f5f"
            },
            "type": "carpet"
           }
          ],
          "choropleth": [
           {
            "colorbar": {
             "outlinewidth": 0,
             "ticks": ""
            },
            "type": "choropleth"
           }
          ],
          "contour": [
           {
            "colorbar": {
             "outlinewidth": 0,
             "ticks": ""
            },
            "colorscale": [
             [
              0,
              "#0d0887"
             ],
             [
              0.1111111111111111,
              "#46039f"
             ],
             [
              0.2222222222222222,
              "#7201a8"
             ],
             [
              0.3333333333333333,
              "#9c179e"
             ],
             [
              0.4444444444444444,
              "#bd3786"
             ],
             [
              0.5555555555555556,
              "#d8576b"
             ],
             [
              0.6666666666666666,
              "#ed7953"
             ],
             [
              0.7777777777777778,
              "#fb9f3a"
             ],
             [
              0.8888888888888888,
              "#fdca26"
             ],
             [
              1,
              "#f0f921"
             ]
            ],
            "type": "contour"
           }
          ],
          "contourcarpet": [
           {
            "colorbar": {
             "outlinewidth": 0,
             "ticks": ""
            },
            "type": "contourcarpet"
           }
          ],
          "heatmap": [
           {
            "colorbar": {
             "outlinewidth": 0,
             "ticks": ""
            },
            "colorscale": [
             [
              0,
              "#0d0887"
             ],
             [
              0.1111111111111111,
              "#46039f"
             ],
             [
              0.2222222222222222,
              "#7201a8"
             ],
             [
              0.3333333333333333,
              "#9c179e"
             ],
             [
              0.4444444444444444,
              "#bd3786"
             ],
             [
              0.5555555555555556,
              "#d8576b"
             ],
             [
              0.6666666666666666,
              "#ed7953"
             ],
             [
              0.7777777777777778,
              "#fb9f3a"
             ],
             [
              0.8888888888888888,
              "#fdca26"
             ],
             [
              1,
              "#f0f921"
             ]
            ],
            "type": "heatmap"
           }
          ],
          "histogram": [
           {
            "marker": {
             "pattern": {
              "fillmode": "overlay",
              "size": 10,
              "solidity": 0.2
             }
            },
            "type": "histogram"
           }
          ],
          "histogram2d": [
           {
            "colorbar": {
             "outlinewidth": 0,
             "ticks": ""
            },
            "colorscale": [
             [
              0,
              "#0d0887"
             ],
             [
              0.1111111111111111,
              "#46039f"
             ],
             [
              0.2222222222222222,
              "#7201a8"
             ],
             [
              0.3333333333333333,
              "#9c179e"
             ],
             [
              0.4444444444444444,
              "#bd3786"
             ],
             [
              0.5555555555555556,
              "#d8576b"
             ],
             [
              0.6666666666666666,
              "#ed7953"
             ],
             [
              0.7777777777777778,
              "#fb9f3a"
             ],
             [
              0.8888888888888888,
              "#fdca26"
             ],
             [
              1,
              "#f0f921"
             ]
            ],
            "type": "histogram2d"
           }
          ],
          "histogram2dcontour": [
           {
            "colorbar": {
             "outlinewidth": 0,
             "ticks": ""
            },
            "colorscale": [
             [
              0,
              "#0d0887"
             ],
             [
              0.1111111111111111,
              "#46039f"
             ],
             [
              0.2222222222222222,
              "#7201a8"
             ],
             [
              0.3333333333333333,
              "#9c179e"
             ],
             [
              0.4444444444444444,
              "#bd3786"
             ],
             [
              0.5555555555555556,
              "#d8576b"
             ],
             [
              0.6666666666666666,
              "#ed7953"
             ],
             [
              0.7777777777777778,
              "#fb9f3a"
             ],
             [
              0.8888888888888888,
              "#fdca26"
             ],
             [
              1,
              "#f0f921"
             ]
            ],
            "type": "histogram2dcontour"
           }
          ],
          "mesh3d": [
           {
            "colorbar": {
             "outlinewidth": 0,
             "ticks": ""
            },
            "type": "mesh3d"
           }
          ],
          "parcoords": [
           {
            "line": {
             "colorbar": {
              "outlinewidth": 0,
              "ticks": ""
             }
            },
            "type": "parcoords"
           }
          ],
          "pie": [
           {
            "automargin": true,
            "type": "pie"
           }
          ],
          "scatter": [
           {
            "fillpattern": {
             "fillmode": "overlay",
             "size": 10,
             "solidity": 0.2
            },
            "type": "scatter"
           }
          ],
          "scatter3d": [
           {
            "line": {
             "colorbar": {
              "outlinewidth": 0,
              "ticks": ""
             }
            },
            "marker": {
             "colorbar": {
              "outlinewidth": 0,
              "ticks": ""
             }
            },
            "type": "scatter3d"
           }
          ],
          "scattercarpet": [
           {
            "marker": {
             "colorbar": {
              "outlinewidth": 0,
              "ticks": ""
             }
            },
            "type": "scattercarpet"
           }
          ],
          "scattergeo": [
           {
            "marker": {
             "colorbar": {
              "outlinewidth": 0,
              "ticks": ""
             }
            },
            "type": "scattergeo"
           }
          ],
          "scattergl": [
           {
            "marker": {
             "colorbar": {
              "outlinewidth": 0,
              "ticks": ""
             }
            },
            "type": "scattergl"
           }
          ],
          "scattermap": [
           {
            "marker": {
             "colorbar": {
              "outlinewidth": 0,
              "ticks": ""
             }
            },
            "type": "scattermap"
           }
          ],
          "scattermapbox": [
           {
            "marker": {
             "colorbar": {
              "outlinewidth": 0,
              "ticks": ""
             }
            },
            "type": "scattermapbox"
           }
          ],
          "scatterpolar": [
           {
            "marker": {
             "colorbar": {
              "outlinewidth": 0,
              "ticks": ""
             }
            },
            "type": "scatterpolar"
           }
          ],
          "scatterpolargl": [
           {
            "marker": {
             "colorbar": {
              "outlinewidth": 0,
              "ticks": ""
             }
            },
            "type": "scatterpolargl"
           }
          ],
          "scatterternary": [
           {
            "marker": {
             "colorbar": {
              "outlinewidth": 0,
              "ticks": ""
             }
            },
            "type": "scatterternary"
           }
          ],
          "surface": [
           {
            "colorbar": {
             "outlinewidth": 0,
             "ticks": ""
            },
            "colorscale": [
             [
              0,
              "#0d0887"
             ],
             [
              0.1111111111111111,
              "#46039f"
             ],
             [
              0.2222222222222222,
              "#7201a8"
             ],
             [
              0.3333333333333333,
              "#9c179e"
             ],
             [
              0.4444444444444444,
              "#bd3786"
             ],
             [
              0.5555555555555556,
              "#d8576b"
             ],
             [
              0.6666666666666666,
              "#ed7953"
             ],
             [
              0.7777777777777778,
              "#fb9f3a"
             ],
             [
              0.8888888888888888,
              "#fdca26"
             ],
             [
              1,
              "#f0f921"
             ]
            ],
            "type": "surface"
           }
          ],
          "table": [
           {
            "cells": {
             "fill": {
              "color": "#EBF0F8"
             },
             "line": {
              "color": "white"
             }
            },
            "header": {
             "fill": {
              "color": "#C8D4E3"
             },
             "line": {
              "color": "white"
             }
            },
            "type": "table"
           }
          ]
         },
         "layout": {
          "annotationdefaults": {
           "arrowcolor": "#2a3f5f",
           "arrowhead": 0,
           "arrowwidth": 1
          },
          "autotypenumbers": "strict",
          "coloraxis": {
           "colorbar": {
            "outlinewidth": 0,
            "ticks": ""
           }
          },
          "colorscale": {
           "diverging": [
            [
             0,
             "#8e0152"
            ],
            [
             0.1,
             "#c51b7d"
            ],
            [
             0.2,
             "#de77ae"
            ],
            [
             0.3,
             "#f1b6da"
            ],
            [
             0.4,
             "#fde0ef"
            ],
            [
             0.5,
             "#f7f7f7"
            ],
            [
             0.6,
             "#e6f5d0"
            ],
            [
             0.7,
             "#b8e186"
            ],
            [
             0.8,
             "#7fbc41"
            ],
            [
             0.9,
             "#4d9221"
            ],
            [
             1,
             "#276419"
            ]
           ],
           "sequential": [
            [
             0,
             "#0d0887"
            ],
            [
             0.1111111111111111,
             "#46039f"
            ],
            [
             0.2222222222222222,
             "#7201a8"
            ],
            [
             0.3333333333333333,
             "#9c179e"
            ],
            [
             0.4444444444444444,
             "#bd3786"
            ],
            [
             0.5555555555555556,
             "#d8576b"
            ],
            [
             0.6666666666666666,
             "#ed7953"
            ],
            [
             0.7777777777777778,
             "#fb9f3a"
            ],
            [
             0.8888888888888888,
             "#fdca26"
            ],
            [
             1,
             "#f0f921"
            ]
           ],
           "sequentialminus": [
            [
             0,
             "#0d0887"
            ],
            [
             0.1111111111111111,
             "#46039f"
            ],
            [
             0.2222222222222222,
             "#7201a8"
            ],
            [
             0.3333333333333333,
             "#9c179e"
            ],
            [
             0.4444444444444444,
             "#bd3786"
            ],
            [
             0.5555555555555556,
             "#d8576b"
            ],
            [
             0.6666666666666666,
             "#ed7953"
            ],
            [
             0.7777777777777778,
             "#fb9f3a"
            ],
            [
             0.8888888888888888,
             "#fdca26"
            ],
            [
             1,
             "#f0f921"
            ]
           ]
          },
          "colorway": [
           "#636efa",
           "#EF553B",
           "#00cc96",
           "#ab63fa",
           "#FFA15A",
           "#19d3f3",
           "#FF6692",
           "#B6E880",
           "#FF97FF",
           "#FECB52"
          ],
          "font": {
           "color": "#2a3f5f"
          },
          "geo": {
           "bgcolor": "white",
           "lakecolor": "white",
           "landcolor": "#E5ECF6",
           "showlakes": true,
           "showland": true,
           "subunitcolor": "white"
          },
          "hoverlabel": {
           "align": "left"
          },
          "hovermode": "closest",
          "mapbox": {
           "style": "light"
          },
          "paper_bgcolor": "white",
          "plot_bgcolor": "#E5ECF6",
          "polar": {
           "angularaxis": {
            "gridcolor": "white",
            "linecolor": "white",
            "ticks": ""
           },
           "bgcolor": "#E5ECF6",
           "radialaxis": {
            "gridcolor": "white",
            "linecolor": "white",
            "ticks": ""
           }
          },
          "scene": {
           "xaxis": {
            "backgroundcolor": "#E5ECF6",
            "gridcolor": "white",
            "gridwidth": 2,
            "linecolor": "white",
            "showbackground": true,
            "ticks": "",
            "zerolinecolor": "white"
           },
           "yaxis": {
            "backgroundcolor": "#E5ECF6",
            "gridcolor": "white",
            "gridwidth": 2,
            "linecolor": "white",
            "showbackground": true,
            "ticks": "",
            "zerolinecolor": "white"
           },
           "zaxis": {
            "backgroundcolor": "#E5ECF6",
            "gridcolor": "white",
            "gridwidth": 2,
            "linecolor": "white",
            "showbackground": true,
            "ticks": "",
            "zerolinecolor": "white"
           }
          },
          "shapedefaults": {
           "line": {
            "color": "#2a3f5f"
           }
          },
          "ternary": {
           "aaxis": {
            "gridcolor": "white",
            "linecolor": "white",
            "ticks": ""
           },
           "baxis": {
            "gridcolor": "white",
            "linecolor": "white",
            "ticks": ""
           },
           "bgcolor": "#E5ECF6",
           "caxis": {
            "gridcolor": "white",
            "linecolor": "white",
            "ticks": ""
           }
          },
          "title": {
           "x": 0.05
          },
          "xaxis": {
           "automargin": true,
           "gridcolor": "white",
           "linecolor": "white",
           "ticks": "",
           "title": {
            "standoff": 15
           },
           "zerolinecolor": "white",
           "zerolinewidth": 2
          },
          "yaxis": {
           "automargin": true,
           "gridcolor": "white",
           "linecolor": "white",
           "ticks": "",
           "title": {
            "standoff": 15
           },
           "zerolinecolor": "white",
           "zerolinewidth": 2
          }
         }
        },
        "title": {
         "text": "Car year distribution"
        },
        "xaxis": {
         "title": {
          "text": "Year"
         }
        },
        "yaxis": {
         "title": {
          "text": "Count Cars sold"
         }
        }
       }
      }
     },
     "metadata": {},
     "output_type": "display_data"
    }
   ],
   "source": [
    "#distribution of number of cars over the years\n",
    "dic = {1970+i : sum(df['year']==1970+i) for i in range(55)}\n",
    "x_dic = [1970 + i for i in range(55)]\n",
    "y_dic = [dic[1970 + i] for i in range(55)]\n",
    "\n",
    "# Plot\n",
    "fig = go.Figure([go.Bar(x=x_dic, y=y_dic)])\n",
    "\n",
    "fig.update_layout(title=\"Car year distribution\",\n",
    "                  xaxis_title=\"Year\",\n",
    "                  yaxis_title=\"Count Cars sold\")\n",
    "\n",
    "\n",
    "fig.show()"
   ]
  },
  {
   "cell_type": "code",
   "execution_count": 57,
   "metadata": {},
   "outputs": [
    {
     "data": {
      "application/vnd.plotly.v1+json": {
       "config": {
        "plotlyServerURL": "https://plot.ly"
       },
       "data": [
        {
         "hole": 0.3,
         "hoverinfo": "label+percent+name",
         "insidetextorientation": "radial",
         "labels": [
          "manual",
          "automatic"
         ],
         "textinfo": "label+percent",
         "type": "pie",
         "values": [
          542,
          43
         ]
        }
       ],
       "layout": {
        "template": {
         "data": {
          "bar": [
           {
            "error_x": {
             "color": "#2a3f5f"
            },
            "error_y": {
             "color": "#2a3f5f"
            },
            "marker": {
             "line": {
              "color": "#E5ECF6",
              "width": 0.5
             },
             "pattern": {
              "fillmode": "overlay",
              "size": 10,
              "solidity": 0.2
             }
            },
            "type": "bar"
           }
          ],
          "barpolar": [
           {
            "marker": {
             "line": {
              "color": "#E5ECF6",
              "width": 0.5
             },
             "pattern": {
              "fillmode": "overlay",
              "size": 10,
              "solidity": 0.2
             }
            },
            "type": "barpolar"
           }
          ],
          "carpet": [
           {
            "aaxis": {
             "endlinecolor": "#2a3f5f",
             "gridcolor": "white",
             "linecolor": "white",
             "minorgridcolor": "white",
             "startlinecolor": "#2a3f5f"
            },
            "baxis": {
             "endlinecolor": "#2a3f5f",
             "gridcolor": "white",
             "linecolor": "white",
             "minorgridcolor": "white",
             "startlinecolor": "#2a3f5f"
            },
            "type": "carpet"
           }
          ],
          "choropleth": [
           {
            "colorbar": {
             "outlinewidth": 0,
             "ticks": ""
            },
            "type": "choropleth"
           }
          ],
          "contour": [
           {
            "colorbar": {
             "outlinewidth": 0,
             "ticks": ""
            },
            "colorscale": [
             [
              0,
              "#0d0887"
             ],
             [
              0.1111111111111111,
              "#46039f"
             ],
             [
              0.2222222222222222,
              "#7201a8"
             ],
             [
              0.3333333333333333,
              "#9c179e"
             ],
             [
              0.4444444444444444,
              "#bd3786"
             ],
             [
              0.5555555555555556,
              "#d8576b"
             ],
             [
              0.6666666666666666,
              "#ed7953"
             ],
             [
              0.7777777777777778,
              "#fb9f3a"
             ],
             [
              0.8888888888888888,
              "#fdca26"
             ],
             [
              1,
              "#f0f921"
             ]
            ],
            "type": "contour"
           }
          ],
          "contourcarpet": [
           {
            "colorbar": {
             "outlinewidth": 0,
             "ticks": ""
            },
            "type": "contourcarpet"
           }
          ],
          "heatmap": [
           {
            "colorbar": {
             "outlinewidth": 0,
             "ticks": ""
            },
            "colorscale": [
             [
              0,
              "#0d0887"
             ],
             [
              0.1111111111111111,
              "#46039f"
             ],
             [
              0.2222222222222222,
              "#7201a8"
             ],
             [
              0.3333333333333333,
              "#9c179e"
             ],
             [
              0.4444444444444444,
              "#bd3786"
             ],
             [
              0.5555555555555556,
              "#d8576b"
             ],
             [
              0.6666666666666666,
              "#ed7953"
             ],
             [
              0.7777777777777778,
              "#fb9f3a"
             ],
             [
              0.8888888888888888,
              "#fdca26"
             ],
             [
              1,
              "#f0f921"
             ]
            ],
            "type": "heatmap"
           }
          ],
          "histogram": [
           {
            "marker": {
             "pattern": {
              "fillmode": "overlay",
              "size": 10,
              "solidity": 0.2
             }
            },
            "type": "histogram"
           }
          ],
          "histogram2d": [
           {
            "colorbar": {
             "outlinewidth": 0,
             "ticks": ""
            },
            "colorscale": [
             [
              0,
              "#0d0887"
             ],
             [
              0.1111111111111111,
              "#46039f"
             ],
             [
              0.2222222222222222,
              "#7201a8"
             ],
             [
              0.3333333333333333,
              "#9c179e"
             ],
             [
              0.4444444444444444,
              "#bd3786"
             ],
             [
              0.5555555555555556,
              "#d8576b"
             ],
             [
              0.6666666666666666,
              "#ed7953"
             ],
             [
              0.7777777777777778,
              "#fb9f3a"
             ],
             [
              0.8888888888888888,
              "#fdca26"
             ],
             [
              1,
              "#f0f921"
             ]
            ],
            "type": "histogram2d"
           }
          ],
          "histogram2dcontour": [
           {
            "colorbar": {
             "outlinewidth": 0,
             "ticks": ""
            },
            "colorscale": [
             [
              0,
              "#0d0887"
             ],
             [
              0.1111111111111111,
              "#46039f"
             ],
             [
              0.2222222222222222,
              "#7201a8"
             ],
             [
              0.3333333333333333,
              "#9c179e"
             ],
             [
              0.4444444444444444,
              "#bd3786"
             ],
             [
              0.5555555555555556,
              "#d8576b"
             ],
             [
              0.6666666666666666,
              "#ed7953"
             ],
             [
              0.7777777777777778,
              "#fb9f3a"
             ],
             [
              0.8888888888888888,
              "#fdca26"
             ],
             [
              1,
              "#f0f921"
             ]
            ],
            "type": "histogram2dcontour"
           }
          ],
          "mesh3d": [
           {
            "colorbar": {
             "outlinewidth": 0,
             "ticks": ""
            },
            "type": "mesh3d"
           }
          ],
          "parcoords": [
           {
            "line": {
             "colorbar": {
              "outlinewidth": 0,
              "ticks": ""
             }
            },
            "type": "parcoords"
           }
          ],
          "pie": [
           {
            "automargin": true,
            "type": "pie"
           }
          ],
          "scatter": [
           {
            "fillpattern": {
             "fillmode": "overlay",
             "size": 10,
             "solidity": 0.2
            },
            "type": "scatter"
           }
          ],
          "scatter3d": [
           {
            "line": {
             "colorbar": {
              "outlinewidth": 0,
              "ticks": ""
             }
            },
            "marker": {
             "colorbar": {
              "outlinewidth": 0,
              "ticks": ""
             }
            },
            "type": "scatter3d"
           }
          ],
          "scattercarpet": [
           {
            "marker": {
             "colorbar": {
              "outlinewidth": 0,
              "ticks": ""
             }
            },
            "type": "scattercarpet"
           }
          ],
          "scattergeo": [
           {
            "marker": {
             "colorbar": {
              "outlinewidth": 0,
              "ticks": ""
             }
            },
            "type": "scattergeo"
           }
          ],
          "scattergl": [
           {
            "marker": {
             "colorbar": {
              "outlinewidth": 0,
              "ticks": ""
             }
            },
            "type": "scattergl"
           }
          ],
          "scattermap": [
           {
            "marker": {
             "colorbar": {
              "outlinewidth": 0,
              "ticks": ""
             }
            },
            "type": "scattermap"
           }
          ],
          "scattermapbox": [
           {
            "marker": {
             "colorbar": {
              "outlinewidth": 0,
              "ticks": ""
             }
            },
            "type": "scattermapbox"
           }
          ],
          "scatterpolar": [
           {
            "marker": {
             "colorbar": {
              "outlinewidth": 0,
              "ticks": ""
             }
            },
            "type": "scatterpolar"
           }
          ],
          "scatterpolargl": [
           {
            "marker": {
             "colorbar": {
              "outlinewidth": 0,
              "ticks": ""
             }
            },
            "type": "scatterpolargl"
           }
          ],
          "scatterternary": [
           {
            "marker": {
             "colorbar": {
              "outlinewidth": 0,
              "ticks": ""
             }
            },
            "type": "scatterternary"
           }
          ],
          "surface": [
           {
            "colorbar": {
             "outlinewidth": 0,
             "ticks": ""
            },
            "colorscale": [
             [
              0,
              "#0d0887"
             ],
             [
              0.1111111111111111,
              "#46039f"
             ],
             [
              0.2222222222222222,
              "#7201a8"
             ],
             [
              0.3333333333333333,
              "#9c179e"
             ],
             [
              0.4444444444444444,
              "#bd3786"
             ],
             [
              0.5555555555555556,
              "#d8576b"
             ],
             [
              0.6666666666666666,
              "#ed7953"
             ],
             [
              0.7777777777777778,
              "#fb9f3a"
             ],
             [
              0.8888888888888888,
              "#fdca26"
             ],
             [
              1,
              "#f0f921"
             ]
            ],
            "type": "surface"
           }
          ],
          "table": [
           {
            "cells": {
             "fill": {
              "color": "#EBF0F8"
             },
             "line": {
              "color": "white"
             }
            },
            "header": {
             "fill": {
              "color": "#C8D4E3"
             },
             "line": {
              "color": "white"
             }
            },
            "type": "table"
           }
          ]
         },
         "layout": {
          "annotationdefaults": {
           "arrowcolor": "#2a3f5f",
           "arrowhead": 0,
           "arrowwidth": 1
          },
          "autotypenumbers": "strict",
          "coloraxis": {
           "colorbar": {
            "outlinewidth": 0,
            "ticks": ""
           }
          },
          "colorscale": {
           "diverging": [
            [
             0,
             "#8e0152"
            ],
            [
             0.1,
             "#c51b7d"
            ],
            [
             0.2,
             "#de77ae"
            ],
            [
             0.3,
             "#f1b6da"
            ],
            [
             0.4,
             "#fde0ef"
            ],
            [
             0.5,
             "#f7f7f7"
            ],
            [
             0.6,
             "#e6f5d0"
            ],
            [
             0.7,
             "#b8e186"
            ],
            [
             0.8,
             "#7fbc41"
            ],
            [
             0.9,
             "#4d9221"
            ],
            [
             1,
             "#276419"
            ]
           ],
           "sequential": [
            [
             0,
             "#0d0887"
            ],
            [
             0.1111111111111111,
             "#46039f"
            ],
            [
             0.2222222222222222,
             "#7201a8"
            ],
            [
             0.3333333333333333,
             "#9c179e"
            ],
            [
             0.4444444444444444,
             "#bd3786"
            ],
            [
             0.5555555555555556,
             "#d8576b"
            ],
            [
             0.6666666666666666,
             "#ed7953"
            ],
            [
             0.7777777777777778,
             "#fb9f3a"
            ],
            [
             0.8888888888888888,
             "#fdca26"
            ],
            [
             1,
             "#f0f921"
            ]
           ],
           "sequentialminus": [
            [
             0,
             "#0d0887"
            ],
            [
             0.1111111111111111,
             "#46039f"
            ],
            [
             0.2222222222222222,
             "#7201a8"
            ],
            [
             0.3333333333333333,
             "#9c179e"
            ],
            [
             0.4444444444444444,
             "#bd3786"
            ],
            [
             0.5555555555555556,
             "#d8576b"
            ],
            [
             0.6666666666666666,
             "#ed7953"
            ],
            [
             0.7777777777777778,
             "#fb9f3a"
            ],
            [
             0.8888888888888888,
             "#fdca26"
            ],
            [
             1,
             "#f0f921"
            ]
           ]
          },
          "colorway": [
           "#636efa",
           "#EF553B",
           "#00cc96",
           "#ab63fa",
           "#FFA15A",
           "#19d3f3",
           "#FF6692",
           "#B6E880",
           "#FF97FF",
           "#FECB52"
          ],
          "font": {
           "color": "#2a3f5f"
          },
          "geo": {
           "bgcolor": "white",
           "lakecolor": "white",
           "landcolor": "#E5ECF6",
           "showlakes": true,
           "showland": true,
           "subunitcolor": "white"
          },
          "hoverlabel": {
           "align": "left"
          },
          "hovermode": "closest",
          "mapbox": {
           "style": "light"
          },
          "paper_bgcolor": "white",
          "plot_bgcolor": "#E5ECF6",
          "polar": {
           "angularaxis": {
            "gridcolor": "white",
            "linecolor": "white",
            "ticks": ""
           },
           "bgcolor": "#E5ECF6",
           "radialaxis": {
            "gridcolor": "white",
            "linecolor": "white",
            "ticks": ""
           }
          },
          "scene": {
           "xaxis": {
            "backgroundcolor": "#E5ECF6",
            "gridcolor": "white",
            "gridwidth": 2,
            "linecolor": "white",
            "showbackground": true,
            "ticks": "",
            "zerolinecolor": "white"
           },
           "yaxis": {
            "backgroundcolor": "#E5ECF6",
            "gridcolor": "white",
            "gridwidth": 2,
            "linecolor": "white",
            "showbackground": true,
            "ticks": "",
            "zerolinecolor": "white"
           },
           "zaxis": {
            "backgroundcolor": "#E5ECF6",
            "gridcolor": "white",
            "gridwidth": 2,
            "linecolor": "white",
            "showbackground": true,
            "ticks": "",
            "zerolinecolor": "white"
           }
          },
          "shapedefaults": {
           "line": {
            "color": "#2a3f5f"
           }
          },
          "ternary": {
           "aaxis": {
            "gridcolor": "white",
            "linecolor": "white",
            "ticks": ""
           },
           "baxis": {
            "gridcolor": "white",
            "linecolor": "white",
            "ticks": ""
           },
           "bgcolor": "#E5ECF6",
           "caxis": {
            "gridcolor": "white",
            "linecolor": "white",
            "ticks": ""
           }
          },
          "title": {
           "x": 0.05
          },
          "xaxis": {
           "automargin": true,
           "gridcolor": "white",
           "linecolor": "white",
           "ticks": "",
           "title": {
            "standoff": 15
           },
           "zerolinecolor": "white",
           "zerolinewidth": 2
          },
          "yaxis": {
           "automargin": true,
           "gridcolor": "white",
           "linecolor": "white",
           "ticks": "",
           "title": {
            "standoff": 15
           },
           "zerolinecolor": "white",
           "zerolinewidth": 2
          }
         }
        }
       }
      }
     },
     "metadata": {},
     "output_type": "display_data"
    }
   ],
   "source": [
    "# Distribution of transmission\n",
    "data_pie = df['transmission'].value_counts()\n",
    "\n",
    "fig = go.Figure(data=[go.Pie(labels=data_pie.index, values=data_pie.tolist(), textinfo='label+percent',insidetextorientation='radial')])\n",
    "\n",
    "fig.update_traces(hole=.3, hoverinfo=\"label+percent+name\")"
   ]
  },
  {
   "cell_type": "code",
   "execution_count": 58,
   "metadata": {},
   "outputs": [
    {
     "data": {
      "image/png": "[encoded data removed]",
      "text/plain": [
       "<Figure size 500x500 with 1 Axes>"
      ]
     },
     "metadata": {},
     "output_type": "display_data"
    },
    {
     "data": {
      "image/png": "[encoded data removed]",
      "text/plain": [
       "<Figure size 640x480 with 1 Axes>"
      ]
     },
     "metadata": {},
     "output_type": "display_data"
    }
   ],
   "source": [
    "# Replace sold_price with bid_amount and remove outliers\n",
    "df['sold_price'] = df['sold_price'].fillna(df['bid_amount'])\n",
    "df = df.dropna()\n",
    "\n",
    "# Remove outliers\n",
    "price_threshold = 1000000\n",
    "df.drop(df[df['sold_price'] >= price_threshold].index,inplace=True)\n",
    "\n",
    "# Plot distribution of sold_price\n",
    "sns.displot(df['sold_price'])\n",
    "fig = plt.figure()\n",
    "res = stats.probplot(df['sold_price'], plot=plt)\n"
   ]
  },
  {
   "cell_type": "code",
   "execution_count": 59,
   "metadata": {
    "collapsed": true,
    "execution": {
     "iopub.execute_input": "2025-03-25T15:40:36.204029Z",
     "iopub.status.busy": "2025-03-25T15:40:36.203659Z",
     "iopub.status.idle": "2025-03-25T15:40:38.622810Z",
     "shell.execute_reply": "2025-03-25T15:40:38.621756Z",
     "shell.execute_reply.started": "2025-03-25T15:40:36.203993Z"
    },
    "jupyter": {
     "outputs_hidden": true
    },
    "trusted": true
   },
   "outputs": [
    {
     "data": {
      "text/plain": [
       "array([[<Axes: title={'center': 'year'}>,\n",
       "        <Axes: title={'center': 'mileage'}>],\n",
       "       [<Axes: title={'center': 'sold_price'}>,\n",
       "        <Axes: title={'center': 'bid_amount'}>]], dtype=object)"
      ]
     },
     "execution_count": 59,
     "metadata": {},
     "output_type": "execute_result"
    },
    {
     "data": {
      "image/png": "[encoded data removed]",
      "text/plain": [
       "<Figure size 2000x1000 with 4 Axes>"
      ]
     },
     "metadata": {},
     "output_type": "display_data"
    }
   ],
   "source": [
    "# Data distribution\n",
    "df.hist(figsize=(20,10),bins = 50)"
   ]
  },
  {
   "cell_type": "code",
   "execution_count": 60,
   "metadata": {},
   "outputs": [],
   "source": [
    "# Weight by recency\n",
    "df['days_since_end'] = (pd.to_datetime(date.today()) - pd.to_datetime(df[\"end_date\"])).dt.days\n",
    "K = 1\n",
    "T = 360\n",
    "df['W'] = K*np.exp(-df['days_since_end']/T)\n"
   ]
  },
  {
   "cell_type": "code",
   "execution_count": 61,
   "metadata": {},
   "outputs": [
    {
     "data": {
      "image/png": "[encoded data removed]",
      "text/plain": [
       "<Figure size 500x500 with 1 Axes>"
      ]
     },
     "metadata": {},
     "output_type": "display_data"
    },
    {
     "data": {
      "image/png": "[encoded data removed]",
      "text/plain": [
       "<Figure size 640x480 with 1 Axes>"
      ]
     },
     "metadata": {},
     "output_type": "display_data"
    }
   ],
   "source": [
    "#Log transform sold_price & mileage\n",
    "df['sold_price'] = np.log(df['sold_price'])\n",
    "df['mileage'] = np.log1p(df['mileage'])\n",
    "\n",
    "sns.displot(df['sold_price'])\n",
    "fig = plt.figure()\n",
    "res = stats.probplot(df['sold_price'], plot=plt)"
   ]
  },
  {
   "cell_type": "code",
   "execution_count": 62,
   "metadata": {
    "execution": {
     "iopub.execute_input": "2025-03-25T15:44:52.717089Z",
     "iopub.status.busy": "2025-03-25T15:44:52.716713Z",
     "iopub.status.idle": "2025-03-25T15:44:52.754814Z",
     "shell.execute_reply": "2025-03-25T15:44:52.753706Z",
     "shell.execute_reply.started": "2025-03-25T15:44:52.717061Z"
    },
    "trusted": true
   },
   "outputs": [
    {
     "data": {
      "text/html": [
       "<div>\n",
       "<style scoped>\n",
       "    .dataframe tbody tr th:only-of-type {\n",
       "        vertical-align: middle;\n",
       "    }\n",
       "\n",
       "    .dataframe tbody tr th {\n",
       "        vertical-align: top;\n",
       "    }\n",
       "\n",
       "    .dataframe thead th {\n",
       "        text-align: right;\n",
       "    }\n",
       "</style>\n",
       "<table border=\"1\" class=\"dataframe\">\n",
       "  <thead>\n",
       "    <tr style=\"text-align: right;\">\n",
       "      <th></th>\n",
       "      <th>year</th>\n",
       "      <th>mileage</th>\n",
       "      <th>sold_price</th>\n",
       "      <th>bid_amount</th>\n",
       "      <th>days_since_end</th>\n",
       "      <th>W</th>\n",
       "    </tr>\n",
       "  </thead>\n",
       "  <tbody>\n",
       "    <tr>\n",
       "      <th>count</th>\n",
       "      <td>538.000000</td>\n",
       "      <td>538.000000</td>\n",
       "      <td>538.000000</td>\n",
       "      <td>538.000000</td>\n",
       "      <td>538.000000</td>\n",
       "      <td>538.000000</td>\n",
       "    </tr>\n",
       "    <tr>\n",
       "      <th>mean</th>\n",
       "      <td>1976.210037</td>\n",
       "      <td>9.506500</td>\n",
       "      <td>9.476977</td>\n",
       "      <td>15538.013011</td>\n",
       "      <td>1126.293680</td>\n",
       "      <td>0.177161</td>\n",
       "    </tr>\n",
       "    <tr>\n",
       "      <th>std</th>\n",
       "      <td>12.253017</td>\n",
       "      <td>2.307071</td>\n",
       "      <td>0.566124</td>\n",
       "      <td>10873.135352</td>\n",
       "      <td>768.672213</td>\n",
       "      <td>0.235096</td>\n",
       "    </tr>\n",
       "    <tr>\n",
       "      <th>min</th>\n",
       "      <td>1955.000000</td>\n",
       "      <td>0.693147</td>\n",
       "      <td>7.740664</td>\n",
       "      <td>2300.000000</td>\n",
       "      <td>1.000000</td>\n",
       "      <td>0.000057</td>\n",
       "    </tr>\n",
       "    <tr>\n",
       "      <th>25%</th>\n",
       "      <td>1970.000000</td>\n",
       "      <td>9.305741</td>\n",
       "      <td>9.104980</td>\n",
       "      <td>9000.000000</td>\n",
       "      <td>480.250000</td>\n",
       "      <td>0.008762</td>\n",
       "    </tr>\n",
       "    <tr>\n",
       "      <th>50%</th>\n",
       "      <td>1972.000000</td>\n",
       "      <td>10.357649</td>\n",
       "      <td>9.433484</td>\n",
       "      <td>12500.000000</td>\n",
       "      <td>998.000000</td>\n",
       "      <td>0.062532</td>\n",
       "    </tr>\n",
       "    <tr>\n",
       "      <th>75%</th>\n",
       "      <td>1980.000000</td>\n",
       "      <td>10.915107</td>\n",
       "      <td>9.796035</td>\n",
       "      <td>17962.500000</td>\n",
       "      <td>1706.250000</td>\n",
       "      <td>0.263419</td>\n",
       "    </tr>\n",
       "    <tr>\n",
       "      <th>max</th>\n",
       "      <td>2019.000000</td>\n",
       "      <td>12.154785</td>\n",
       "      <td>11.537618</td>\n",
       "      <td>102500.000000</td>\n",
       "      <td>3519.000000</td>\n",
       "      <td>0.997226</td>\n",
       "    </tr>\n",
       "  </tbody>\n",
       "</table>\n",
       "</div>"
      ],
      "text/plain": [
       "              year     mileage  sold_price     bid_amount  days_since_end  \\\n",
       "count   538.000000  538.000000  538.000000     538.000000      538.000000   \n",
       "mean   1976.210037    9.506500    9.476977   15538.013011     1126.293680   \n",
       "std      12.253017    2.307071    0.566124   10873.135352      768.672213   \n",
       "min    1955.000000    0.693147    7.740664    2300.000000        1.000000   \n",
       "25%    1970.000000    9.305741    9.104980    9000.000000      480.250000   \n",
       "50%    1972.000000   10.357649    9.433484   12500.000000      998.000000   \n",
       "75%    1980.000000   10.915107    9.796035   17962.500000     1706.250000   \n",
       "max    2019.000000   12.154785   11.537618  102500.000000     3519.000000   \n",
       "\n",
       "                W  \n",
       "count  538.000000  \n",
       "mean     0.177161  \n",
       "std      0.235096  \n",
       "min      0.000057  \n",
       "25%      0.008762  \n",
       "50%      0.062532  \n",
       "75%      0.263419  \n",
       "max      0.997226  "
      ]
     },
     "execution_count": 62,
     "metadata": {},
     "output_type": "execute_result"
    }
   ],
   "source": [
    "# Summarize transformed data\n",
    "df.describe()"
   ]
  },
  {
   "cell_type": "code",
   "execution_count": 63,
   "metadata": {
    "collapsed": true,
    "execution": {
     "iopub.execute_input": "2025-03-25T15:41:56.775341Z",
     "iopub.status.busy": "2025-03-25T15:41:56.774416Z",
     "iopub.status.idle": "2025-03-25T15:41:56.789549Z",
     "shell.execute_reply": "2025-03-25T15:41:56.788537Z",
     "shell.execute_reply.started": "2025-03-25T15:41:56.775289Z"
    },
    "jupyter": {
     "outputs_hidden": true
    },
    "trusted": true
   },
   "outputs": [
    {
     "data": {
      "text/html": [
       "<div>\n",
       "<style scoped>\n",
       "    .dataframe tbody tr th:only-of-type {\n",
       "        vertical-align: middle;\n",
       "    }\n",
       "\n",
       "    .dataframe tbody tr th {\n",
       "        vertical-align: top;\n",
       "    }\n",
       "\n",
       "    .dataframe thead th {\n",
       "        text-align: right;\n",
       "    }\n",
       "</style>\n",
       "<table border=\"1\" class=\"dataframe\">\n",
       "  <thead>\n",
       "    <tr style=\"text-align: right;\">\n",
       "      <th></th>\n",
       "      <th>year</th>\n",
       "      <th>model</th>\n",
       "      <th>mileage</th>\n",
       "      <th>normalized_color</th>\n",
       "      <th>transmission</th>\n",
       "      <th>W</th>\n",
       "    </tr>\n",
       "  </thead>\n",
       "  <tbody>\n",
       "    <tr>\n",
       "      <th>43</th>\n",
       "      <td>1971</td>\n",
       "      <td>124 Spider</td>\n",
       "      <td>7.208600</td>\n",
       "      <td>Blue</td>\n",
       "      <td>manual</td>\n",
       "      <td>0.020074</td>\n",
       "    </tr>\n",
       "    <tr>\n",
       "      <th>44</th>\n",
       "      <td>1975</td>\n",
       "      <td>124 Spider</td>\n",
       "      <td>9.105091</td>\n",
       "      <td>Green</td>\n",
       "      <td>manual</td>\n",
       "      <td>0.034123</td>\n",
       "    </tr>\n",
       "    <tr>\n",
       "      <th>45</th>\n",
       "      <td>1971</td>\n",
       "      <td>124 Spider</td>\n",
       "      <td>11.336200</td>\n",
       "      <td>Green</td>\n",
       "      <td>manual</td>\n",
       "      <td>0.000716</td>\n",
       "    </tr>\n",
       "    <tr>\n",
       "      <th>46</th>\n",
       "      <td>1970</td>\n",
       "      <td>124 Spider</td>\n",
       "      <td>9.680406</td>\n",
       "      <td>Red</td>\n",
       "      <td>manual</td>\n",
       "      <td>0.029289</td>\n",
       "    </tr>\n",
       "    <tr>\n",
       "      <th>47</th>\n",
       "      <td>1979</td>\n",
       "      <td>124 Spider</td>\n",
       "      <td>9.741027</td>\n",
       "      <td>Silver</td>\n",
       "      <td>automatic</td>\n",
       "      <td>0.002635</td>\n",
       "    </tr>\n",
       "    <tr>\n",
       "      <th>...</th>\n",
       "      <td>...</td>\n",
       "      <td>...</td>\n",
       "      <td>...</td>\n",
       "      <td>...</td>\n",
       "      <td>...</td>\n",
       "      <td>...</td>\n",
       "    </tr>\n",
       "    <tr>\n",
       "      <th>1050</th>\n",
       "      <td>1982</td>\n",
       "      <td>X1/9</td>\n",
       "      <td>10.518700</td>\n",
       "      <td>Red</td>\n",
       "      <td>automatic</td>\n",
       "      <td>0.000057</td>\n",
       "    </tr>\n",
       "    <tr>\n",
       "      <th>1051</th>\n",
       "      <td>1980</td>\n",
       "      <td>X1/9</td>\n",
       "      <td>5.993961</td>\n",
       "      <td>Red</td>\n",
       "      <td>manual</td>\n",
       "      <td>0.000259</td>\n",
       "    </tr>\n",
       "    <tr>\n",
       "      <th>1052</th>\n",
       "      <td>1979</td>\n",
       "      <td>X1/9</td>\n",
       "      <td>9.852247</td>\n",
       "      <td>Black</td>\n",
       "      <td>manual</td>\n",
       "      <td>0.066095</td>\n",
       "    </tr>\n",
       "    <tr>\n",
       "      <th>1053</th>\n",
       "      <td>1980</td>\n",
       "      <td>X1/9</td>\n",
       "      <td>10.463132</td>\n",
       "      <td>Green</td>\n",
       "      <td>manual</td>\n",
       "      <td>0.012175</td>\n",
       "    </tr>\n",
       "    <tr>\n",
       "      <th>1054</th>\n",
       "      <td>1979</td>\n",
       "      <td>X1/9</td>\n",
       "      <td>9.859640</td>\n",
       "      <td>Gold</td>\n",
       "      <td>manual</td>\n",
       "      <td>0.000561</td>\n",
       "    </tr>\n",
       "  </tbody>\n",
       "</table>\n",
       "<p>538 rows × 6 columns</p>\n",
       "</div>"
      ],
      "text/plain": [
       "      year       model    mileage normalized_color transmission         W\n",
       "43    1971  124 Spider   7.208600             Blue       manual  0.020074\n",
       "44    1975  124 Spider   9.105091            Green       manual  0.034123\n",
       "45    1971  124 Spider  11.336200            Green       manual  0.000716\n",
       "46    1970  124 Spider   9.680406              Red       manual  0.029289\n",
       "47    1979  124 Spider   9.741027           Silver    automatic  0.002635\n",
       "...    ...         ...        ...              ...          ...       ...\n",
       "1050  1982        X1/9  10.518700              Red    automatic  0.000057\n",
       "1051  1980        X1/9   5.993961              Red       manual  0.000259\n",
       "1052  1979        X1/9   9.852247            Black       manual  0.066095\n",
       "1053  1980        X1/9  10.463132            Green       manual  0.012175\n",
       "1054  1979        X1/9   9.859640             Gold       manual  0.000561\n",
       "\n",
       "[538 rows x 6 columns]"
      ]
     },
     "execution_count": 63,
     "metadata": {},
     "output_type": "execute_result"
    }
   ],
   "source": [
    "# Prepare target and features\n",
    "y = df[\"sold_price\"]\n",
    "X = df.drop([\"sold_price\",\"bid_amount\",\"end_date\", \"status\", \"days_since_end\"],axis=1)\n",
    "X"
   ]
  },
  {
   "cell_type": "code",
   "execution_count": 64,
   "metadata": {},
   "outputs": [
    {
     "name": "stdout",
     "output_type": "stream",
     "text": [
      "Model Mapping: {'124 Spider': 0, '124 Spider 2000': 1, '124 Sport Coupe': 2, '124 Sport Spider': 3, '500': 4, '500 Abarth': 5, '500 Abarth 5-Speed': 6, '500 Jolly Conversion': 7, '500 L': 8, '500F': 9, '500F Jolly Conversion': 10, '500L': 11, '500R': 12, '600': 13, '600D Multipla': 14, '850 Spider': 15, '850 Sport Spider': 16, 'Dino Coupe': 17, 'Spider 2000': 18, 'X1/9': 19}\n",
      "Color Mapping: {'Beige': 0, 'Black': 1, 'Blue': 2, 'Brown': 3, 'Burgundy': 4, 'Gold': 5, 'Gray': 6, 'Green': 7, 'Ivory': 8, 'Maroon': 9, 'Orange': 10, 'Pink': 11, 'Red': 12, 'Silver': 13, 'Tan': 14, 'White': 15, 'Yellow': 16}\n",
      "Trans Mapping: {'automatic': 0, 'manual': 1}\n"
     ]
    },
    {
     "data": {
      "text/html": [
       "<div>\n",
       "<style scoped>\n",
       "    .dataframe tbody tr th:only-of-type {\n",
       "        vertical-align: middle;\n",
       "    }\n",
       "\n",
       "    .dataframe tbody tr th {\n",
       "        vertical-align: top;\n",
       "    }\n",
       "\n",
       "    .dataframe thead th {\n",
       "        text-align: right;\n",
       "    }\n",
       "</style>\n",
       "<table border=\"1\" class=\"dataframe\">\n",
       "  <thead>\n",
       "    <tr style=\"text-align: right;\">\n",
       "      <th></th>\n",
       "      <th>year</th>\n",
       "      <th>model</th>\n",
       "      <th>mileage</th>\n",
       "      <th>normalized_color</th>\n",
       "      <th>transmission</th>\n",
       "      <th>W</th>\n",
       "    </tr>\n",
       "  </thead>\n",
       "  <tbody>\n",
       "    <tr>\n",
       "      <th>43</th>\n",
       "      <td>1971</td>\n",
       "      <td>0</td>\n",
       "      <td>7.208600</td>\n",
       "      <td>2</td>\n",
       "      <td>1</td>\n",
       "      <td>0.020074</td>\n",
       "    </tr>\n",
       "    <tr>\n",
       "      <th>44</th>\n",
       "      <td>1975</td>\n",
       "      <td>0</td>\n",
       "      <td>9.105091</td>\n",
       "      <td>7</td>\n",
       "      <td>1</td>\n",
       "      <td>0.034123</td>\n",
       "    </tr>\n",
       "    <tr>\n",
       "      <th>45</th>\n",
       "      <td>1971</td>\n",
       "      <td>0</td>\n",
       "      <td>11.336200</td>\n",
       "      <td>7</td>\n",
       "      <td>1</td>\n",
       "      <td>0.000716</td>\n",
       "    </tr>\n",
       "    <tr>\n",
       "      <th>46</th>\n",
       "      <td>1970</td>\n",
       "      <td>0</td>\n",
       "      <td>9.680406</td>\n",
       "      <td>12</td>\n",
       "      <td>1</td>\n",
       "      <td>0.029289</td>\n",
       "    </tr>\n",
       "    <tr>\n",
       "      <th>47</th>\n",
       "      <td>1979</td>\n",
       "      <td>0</td>\n",
       "      <td>9.741027</td>\n",
       "      <td>13</td>\n",
       "      <td>0</td>\n",
       "      <td>0.002635</td>\n",
       "    </tr>\n",
       "    <tr>\n",
       "      <th>...</th>\n",
       "      <td>...</td>\n",
       "      <td>...</td>\n",
       "      <td>...</td>\n",
       "      <td>...</td>\n",
       "      <td>...</td>\n",
       "      <td>...</td>\n",
       "    </tr>\n",
       "    <tr>\n",
       "      <th>1050</th>\n",
       "      <td>1982</td>\n",
       "      <td>19</td>\n",
       "      <td>10.518700</td>\n",
       "      <td>12</td>\n",
       "      <td>0</td>\n",
       "      <td>0.000057</td>\n",
       "    </tr>\n",
       "    <tr>\n",
       "      <th>1051</th>\n",
       "      <td>1980</td>\n",
       "      <td>19</td>\n",
       "      <td>5.993961</td>\n",
       "      <td>12</td>\n",
       "      <td>1</td>\n",
       "      <td>0.000259</td>\n",
       "    </tr>\n",
       "    <tr>\n",
       "      <th>1052</th>\n",
       "      <td>1979</td>\n",
       "      <td>19</td>\n",
       "      <td>9.852247</td>\n",
       "      <td>1</td>\n",
       "      <td>1</td>\n",
       "      <td>0.066095</td>\n",
       "    </tr>\n",
       "    <tr>\n",
       "      <th>1053</th>\n",
       "      <td>1980</td>\n",
       "      <td>19</td>\n",
       "      <td>10.463132</td>\n",
       "      <td>7</td>\n",
       "      <td>1</td>\n",
       "      <td>0.012175</td>\n",
       "    </tr>\n",
       "    <tr>\n",
       "      <th>1054</th>\n",
       "      <td>1979</td>\n",
       "      <td>19</td>\n",
       "      <td>9.859640</td>\n",
       "      <td>5</td>\n",
       "      <td>1</td>\n",
       "      <td>0.000561</td>\n",
       "    </tr>\n",
       "  </tbody>\n",
       "</table>\n",
       "<p>538 rows × 6 columns</p>\n",
       "</div>"
      ],
      "text/plain": [
       "      year  model    mileage  normalized_color  transmission         W\n",
       "43    1971      0   7.208600                 2             1  0.020074\n",
       "44    1975      0   9.105091                 7             1  0.034123\n",
       "45    1971      0  11.336200                 7             1  0.000716\n",
       "46    1970      0   9.680406                12             1  0.029289\n",
       "47    1979      0   9.741027                13             0  0.002635\n",
       "...    ...    ...        ...               ...           ...       ...\n",
       "1050  1982     19  10.518700                12             0  0.000057\n",
       "1051  1980     19   5.993961                12             1  0.000259\n",
       "1052  1979     19   9.852247                 1             1  0.066095\n",
       "1053  1980     19  10.463132                 7             1  0.012175\n",
       "1054  1979     19   9.859640                 5             1  0.000561\n",
       "\n",
       "[538 rows x 6 columns]"
      ]
     },
     "execution_count": 64,
     "metadata": {},
     "output_type": "execute_result"
    }
   ],
   "source": [
    "# Encode categorical features\n",
    "Lbl_model = LabelEncoder()\n",
    "Lbl_color = LabelEncoder()\n",
    "Lbl_trans = LabelEncoder()\n",
    "\n",
    "#df.make=Lbl.fit_transform(df.make)\n",
    "X.model=Lbl_model.fit_transform(df.model)\n",
    "print(\"Model Mapping:\", dict(zip(Lbl_model.classes_, Lbl_model.transform(Lbl_model.classes_))))\n",
    "X.normalized_color=Lbl_color.fit_transform(df.normalized_color)\n",
    "print(\"Color Mapping:\", dict(zip(Lbl_color.classes_, Lbl_color.transform(Lbl_color.classes_))))\n",
    "X.transmission =Lbl_trans.fit_transform(df.transmission)\n",
    "print(\"Trans Mapping:\", dict(zip(Lbl_trans.classes_, Lbl_trans.transform(Lbl_trans.classes_))))\n",
    "X"
   ]
  },
  {
   "cell_type": "code",
   "execution_count": 65,
   "metadata": {
    "execution": {
     "iopub.execute_input": "2025-03-25T15:42:08.395704Z",
     "iopub.status.busy": "2025-03-25T15:42:08.394591Z",
     "iopub.status.idle": "2025-03-25T15:42:10.228410Z",
     "shell.execute_reply": "2025-03-25T15:42:10.227347Z",
     "shell.execute_reply.started": "2025-03-25T15:42:08.395668Z"
    },
    "trusted": true
   },
   "outputs": [
    {
     "name": "stdout",
     "output_type": "stream",
     "text": [
      "Random Forest Regressor Train Score is :  0.5675523390173649\n"
     ]
    },
    {
     "data": {
      "text/plain": [
       "array([0.15973537, 0.20038139, 0.32727012, 0.0828659 , 0.00457951,\n",
       "       0.22516772])"
      ]
     },
     "execution_count": 65,
     "metadata": {},
     "output_type": "execute_result"
    }
   ],
   "source": [
    "# Fit Model\n",
    "# Features\n",
    "# year\tmodel\tmileage\tnormalized_color\ttransmission\n",
    "\n",
    "#X_train, X_test, y_train, y_test = train_test_split(X, y, test_size=0.2, random_state=42, shuffle = True)\n",
    "\n",
    "car_model_rf = RandomForestRegressor(n_estimators=150, random_state=33, monotonic_cst = [0,0,-1,0,0,0])\n",
    "car_model_rf.fit(X,y, sample_weight=X['W'])\n",
    "print('Random Forest Regressor Train Score is : ' ,  car_model_rf.score(X, y))\n",
    "#print('Random Forest Regressor Test Score is : ' , car_model_rf.score(X_test, y_test)) \n",
    "\n",
    "predicted_rf = pd.DataFrame(car_model_rf.predict(X), index=X.index, columns=['predicted_rf'])\n",
    "car_model_rf.feature_importances_\n"
   ]
  },
  {
   "cell_type": "code",
   "execution_count": 66,
   "metadata": {},
   "outputs": [
    {
     "data": {
      "text/html": [
       "<div>\n",
       "<style scoped>\n",
       "    .dataframe tbody tr th:only-of-type {\n",
       "        vertical-align: middle;\n",
       "    }\n",
       "\n",
       "    .dataframe tbody tr th {\n",
       "        vertical-align: top;\n",
       "    }\n",
       "\n",
       "    .dataframe thead th {\n",
       "        text-align: right;\n",
       "    }\n",
       "</style>\n",
       "<table border=\"1\" class=\"dataframe\">\n",
       "  <thead>\n",
       "    <tr style=\"text-align: right;\">\n",
       "      <th></th>\n",
       "      <th>year</th>\n",
       "      <th>model</th>\n",
       "      <th>mileage</th>\n",
       "      <th>normalized_color</th>\n",
       "      <th>transmission</th>\n",
       "      <th>W</th>\n",
       "    </tr>\n",
       "  </thead>\n",
       "  <tbody>\n",
       "    <tr>\n",
       "      <th>43</th>\n",
       "      <td>1971</td>\n",
       "      <td>124 Spider</td>\n",
       "      <td>7.208600</td>\n",
       "      <td>Blue</td>\n",
       "      <td>manual</td>\n",
       "      <td>0.020074</td>\n",
       "    </tr>\n",
       "    <tr>\n",
       "      <th>44</th>\n",
       "      <td>1975</td>\n",
       "      <td>124 Spider</td>\n",
       "      <td>9.105091</td>\n",
       "      <td>Green</td>\n",
       "      <td>manual</td>\n",
       "      <td>0.034123</td>\n",
       "    </tr>\n",
       "    <tr>\n",
       "      <th>45</th>\n",
       "      <td>1971</td>\n",
       "      <td>124 Spider</td>\n",
       "      <td>11.336200</td>\n",
       "      <td>Green</td>\n",
       "      <td>manual</td>\n",
       "      <td>0.000716</td>\n",
       "    </tr>\n",
       "    <tr>\n",
       "      <th>46</th>\n",
       "      <td>1970</td>\n",
       "      <td>124 Spider</td>\n",
       "      <td>9.680406</td>\n",
       "      <td>Red</td>\n",
       "      <td>manual</td>\n",
       "      <td>0.029289</td>\n",
       "    </tr>\n",
       "    <tr>\n",
       "      <th>47</th>\n",
       "      <td>1979</td>\n",
       "      <td>124 Spider</td>\n",
       "      <td>9.741027</td>\n",
       "      <td>Silver</td>\n",
       "      <td>automatic</td>\n",
       "      <td>0.002635</td>\n",
       "    </tr>\n",
       "    <tr>\n",
       "      <th>...</th>\n",
       "      <td>...</td>\n",
       "      <td>...</td>\n",
       "      <td>...</td>\n",
       "      <td>...</td>\n",
       "      <td>...</td>\n",
       "      <td>...</td>\n",
       "    </tr>\n",
       "    <tr>\n",
       "      <th>1050</th>\n",
       "      <td>1982</td>\n",
       "      <td>X1/9</td>\n",
       "      <td>10.518700</td>\n",
       "      <td>Red</td>\n",
       "      <td>automatic</td>\n",
       "      <td>0.000057</td>\n",
       "    </tr>\n",
       "    <tr>\n",
       "      <th>1051</th>\n",
       "      <td>1980</td>\n",
       "      <td>X1/9</td>\n",
       "      <td>5.993961</td>\n",
       "      <td>Red</td>\n",
       "      <td>manual</td>\n",
       "      <td>0.000259</td>\n",
       "    </tr>\n",
       "    <tr>\n",
       "      <th>1052</th>\n",
       "      <td>1979</td>\n",
       "      <td>X1/9</td>\n",
       "      <td>9.852247</td>\n",
       "      <td>Black</td>\n",
       "      <td>manual</td>\n",
       "      <td>0.066095</td>\n",
       "    </tr>\n",
       "    <tr>\n",
       "      <th>1053</th>\n",
       "      <td>1980</td>\n",
       "      <td>X1/9</td>\n",
       "      <td>10.463132</td>\n",
       "      <td>Green</td>\n",
       "      <td>manual</td>\n",
       "      <td>0.012175</td>\n",
       "    </tr>\n",
       "    <tr>\n",
       "      <th>1054</th>\n",
       "      <td>1979</td>\n",
       "      <td>X1/9</td>\n",
       "      <td>9.859640</td>\n",
       "      <td>Gold</td>\n",
       "      <td>manual</td>\n",
       "      <td>0.000561</td>\n",
       "    </tr>\n",
       "  </tbody>\n",
       "</table>\n",
       "<p>538 rows × 6 columns</p>\n",
       "</div>"
      ],
      "text/plain": [
       "      year       model    mileage normalized_color transmission         W\n",
       "43    1971  124 Spider   7.208600             Blue       manual  0.020074\n",
       "44    1975  124 Spider   9.105091            Green       manual  0.034123\n",
       "45    1971  124 Spider  11.336200            Green       manual  0.000716\n",
       "46    1970  124 Spider   9.680406              Red       manual  0.029289\n",
       "47    1979  124 Spider   9.741027           Silver    automatic  0.002635\n",
       "...    ...         ...        ...              ...          ...       ...\n",
       "1050  1982        X1/9  10.518700              Red    automatic  0.000057\n",
       "1051  1980        X1/9   5.993961              Red       manual  0.000259\n",
       "1052  1979        X1/9   9.852247            Black       manual  0.066095\n",
       "1053  1980        X1/9  10.463132            Green       manual  0.012175\n",
       "1054  1979        X1/9   9.859640             Gold       manual  0.000561\n",
       "\n",
       "[538 rows x 6 columns]"
      ]
     },
     "execution_count": 66,
     "metadata": {},
     "output_type": "execute_result"
    }
   ],
   "source": [
    "# Inverse transform features\n",
    "X_analysis = X.copy()\n",
    "X_analysis.model = Lbl_model.inverse_transform(X.model)\n",
    "X_analysis.normalized_color = Lbl_color.inverse_transform(X.normalized_color)\n",
    "X_analysis.transmission = Lbl_trans.inverse_transform(X.transmission)\n",
    "X_analysis"
   ]
  },
  {
   "cell_type": "code",
   "execution_count": 67,
   "metadata": {
    "execution": {
     "iopub.execute_input": "2025-03-25T16:21:27.420545Z",
     "iopub.status.busy": "2025-03-25T16:21:27.420165Z",
     "iopub.status.idle": "2025-03-25T16:21:27.431906Z",
     "shell.execute_reply": "2025-03-25T16:21:27.430768Z",
     "shell.execute_reply.started": "2025-03-25T16:21:27.420515Z"
    },
    "trusted": true
   },
   "outputs": [
    {
     "data": {
      "text/html": [
       "<div>\n",
       "<style scoped>\n",
       "    .dataframe tbody tr th:only-of-type {\n",
       "        vertical-align: middle;\n",
       "    }\n",
       "\n",
       "    .dataframe tbody tr th {\n",
       "        vertical-align: top;\n",
       "    }\n",
       "\n",
       "    .dataframe thead th {\n",
       "        text-align: right;\n",
       "    }\n",
       "</style>\n",
       "<table border=\"1\" class=\"dataframe\">\n",
       "  <thead>\n",
       "    <tr style=\"text-align: right;\">\n",
       "      <th></th>\n",
       "      <th>sold_price</th>\n",
       "      <th>year</th>\n",
       "      <th>model</th>\n",
       "      <th>mileage</th>\n",
       "      <th>normalized_color</th>\n",
       "      <th>transmission</th>\n",
       "      <th>W</th>\n",
       "      <th>predicted_rf</th>\n",
       "    </tr>\n",
       "  </thead>\n",
       "  <tbody>\n",
       "    <tr>\n",
       "      <th>43</th>\n",
       "      <td>15750.0</td>\n",
       "      <td>1971</td>\n",
       "      <td>124 Spider</td>\n",
       "      <td>1350.0</td>\n",
       "      <td>Blue</td>\n",
       "      <td>manual</td>\n",
       "      <td>0.020074</td>\n",
       "      <td>15710.975982</td>\n",
       "    </tr>\n",
       "    <tr>\n",
       "      <th>44</th>\n",
       "      <td>8500.0</td>\n",
       "      <td>1975</td>\n",
       "      <td>124 Spider</td>\n",
       "      <td>9000.0</td>\n",
       "      <td>Green</td>\n",
       "      <td>manual</td>\n",
       "      <td>0.034123</td>\n",
       "      <td>13538.075274</td>\n",
       "    </tr>\n",
       "    <tr>\n",
       "      <th>45</th>\n",
       "      <td>6700.0</td>\n",
       "      <td>1971</td>\n",
       "      <td>124 Spider</td>\n",
       "      <td>83800.0</td>\n",
       "      <td>Green</td>\n",
       "      <td>manual</td>\n",
       "      <td>0.000716</td>\n",
       "      <td>7412.030602</td>\n",
       "    </tr>\n",
       "    <tr>\n",
       "      <th>46</th>\n",
       "      <td>26000.0</td>\n",
       "      <td>1970</td>\n",
       "      <td>124 Spider</td>\n",
       "      <td>16000.0</td>\n",
       "      <td>Red</td>\n",
       "      <td>manual</td>\n",
       "      <td>0.029289</td>\n",
       "      <td>18503.074539</td>\n",
       "    </tr>\n",
       "    <tr>\n",
       "      <th>47</th>\n",
       "      <td>6600.0</td>\n",
       "      <td>1979</td>\n",
       "      <td>124 Spider</td>\n",
       "      <td>17000.0</td>\n",
       "      <td>Silver</td>\n",
       "      <td>automatic</td>\n",
       "      <td>0.002635</td>\n",
       "      <td>12235.274311</td>\n",
       "    </tr>\n",
       "    <tr>\n",
       "      <th>...</th>\n",
       "      <td>...</td>\n",
       "      <td>...</td>\n",
       "      <td>...</td>\n",
       "      <td>...</td>\n",
       "      <td>...</td>\n",
       "      <td>...</td>\n",
       "      <td>...</td>\n",
       "      <td>...</td>\n",
       "    </tr>\n",
       "    <tr>\n",
       "      <th>1050</th>\n",
       "      <td>5100.0</td>\n",
       "      <td>1982</td>\n",
       "      <td>X1/9</td>\n",
       "      <td>37000.0</td>\n",
       "      <td>Red</td>\n",
       "      <td>automatic</td>\n",
       "      <td>0.000057</td>\n",
       "      <td>12073.374434</td>\n",
       "    </tr>\n",
       "    <tr>\n",
       "      <th>1051</th>\n",
       "      <td>14750.0</td>\n",
       "      <td>1980</td>\n",
       "      <td>X1/9</td>\n",
       "      <td>400.0</td>\n",
       "      <td>Red</td>\n",
       "      <td>manual</td>\n",
       "      <td>0.000259</td>\n",
       "      <td>15826.426853</td>\n",
       "    </tr>\n",
       "    <tr>\n",
       "      <th>1052</th>\n",
       "      <td>25000.0</td>\n",
       "      <td>1979</td>\n",
       "      <td>X1/9</td>\n",
       "      <td>19000.0</td>\n",
       "      <td>Black</td>\n",
       "      <td>manual</td>\n",
       "      <td>0.066095</td>\n",
       "      <td>17519.423472</td>\n",
       "    </tr>\n",
       "    <tr>\n",
       "      <th>1053</th>\n",
       "      <td>9300.0</td>\n",
       "      <td>1980</td>\n",
       "      <td>X1/9</td>\n",
       "      <td>35000.0</td>\n",
       "      <td>Green</td>\n",
       "      <td>manual</td>\n",
       "      <td>0.012175</td>\n",
       "      <td>12189.246758</td>\n",
       "    </tr>\n",
       "    <tr>\n",
       "      <th>1054</th>\n",
       "      <td>9580.0</td>\n",
       "      <td>1979</td>\n",
       "      <td>X1/9</td>\n",
       "      <td>19141.0</td>\n",
       "      <td>Gold</td>\n",
       "      <td>manual</td>\n",
       "      <td>0.000561</td>\n",
       "      <td>12294.991611</td>\n",
       "    </tr>\n",
       "  </tbody>\n",
       "</table>\n",
       "<p>538 rows × 8 columns</p>\n",
       "</div>"
      ],
      "text/plain": [
       "      sold_price  year       model  mileage normalized_color transmission  \\\n",
       "43       15750.0  1971  124 Spider   1350.0             Blue       manual   \n",
       "44        8500.0  1975  124 Spider   9000.0            Green       manual   \n",
       "45        6700.0  1971  124 Spider  83800.0            Green       manual   \n",
       "46       26000.0  1970  124 Spider  16000.0              Red       manual   \n",
       "47        6600.0  1979  124 Spider  17000.0           Silver    automatic   \n",
       "...          ...   ...         ...      ...              ...          ...   \n",
       "1050      5100.0  1982        X1/9  37000.0              Red    automatic   \n",
       "1051     14750.0  1980        X1/9    400.0              Red       manual   \n",
       "1052     25000.0  1979        X1/9  19000.0            Black       manual   \n",
       "1053      9300.0  1980        X1/9  35000.0            Green       manual   \n",
       "1054      9580.0  1979        X1/9  19141.0             Gold       manual   \n",
       "\n",
       "             W  predicted_rf  \n",
       "43    0.020074  15710.975982  \n",
       "44    0.034123  13538.075274  \n",
       "45    0.000716   7412.030602  \n",
       "46    0.029289  18503.074539  \n",
       "47    0.002635  12235.274311  \n",
       "...        ...           ...  \n",
       "1050  0.000057  12073.374434  \n",
       "1051  0.000259  15826.426853  \n",
       "1052  0.066095  17519.423472  \n",
       "1053  0.012175  12189.246758  \n",
       "1054  0.000561  12294.991611  \n",
       "\n",
       "[538 rows x 8 columns]"
      ]
     },
     "execution_count": 67,
     "metadata": {},
     "output_type": "execute_result"
    }
   ],
   "source": [
    "# Analyze Results: Add target and predicted values\n",
    "X_analysis = pd.merge(y, X_analysis, how='inner', left_index=True, right_index=True)\n",
    "X_analysis = pd.merge(X_analysis, predicted_rf, how='inner', left_index=True, right_index=True)\n",
    "X_analysis.sold_price = np.exp(X_analysis.sold_price)\n",
    "X_analysis.predicted_rf = np.exp(X_analysis.predicted_rf)\n",
    "X_analysis.mileage = np.exp(X_analysis.mileage) - 1\n",
    "X_analysis"
   ]
  },
  {
   "cell_type": "code",
   "execution_count": 68,
   "metadata": {},
   "outputs": [
    {
     "data": {
      "text/plain": [
       "Price Range\n",
       "0 - 50000          528\n",
       "50000 - 100000       9\n",
       "100000 - 150000      1\n",
       "Name: count, dtype: int64"
      ]
     },
     "execution_count": 68,
     "metadata": {},
     "output_type": "execute_result"
    }
   ],
   "source": [
    "# Define price ranges\n",
    "def getrange(Price):\n",
    "    if (Price >= 0 and Price < 50000):\n",
    "        return '0 - 50000'\n",
    "    if (Price >= 50000 and Price < 100000):\n",
    "        return '50000 - 100000'\n",
    "    if (Price >= 100000 and Price < 150000):\n",
    "        return '100000 - 150000'\n",
    "    if (Price >= 150000 and Price < 200000):\n",
    "        return '150000 - 200000'\n",
    "    if (Price >= 200000 and Price < 250000):\n",
    "        return '200000 - 250000'\n",
    "    if (Price >= 250000 and Price < 300000):\n",
    "        return '250000 - 300000'\n",
    "    if (Price >= 300000 and Price < 350000):\n",
    "        return '300000 - 350000'\n",
    "    if (Price >= 350000):\n",
    "        return 'Over 350000'\n",
    "X_analysis['Price Range'] = X_analysis['sold_price'].apply(lambda x:getrange(x))\n",
    "\n",
    "X_analysis['Price Range'].value_counts()"
   ]
  },
  {
   "cell_type": "code",
   "execution_count": 69,
   "metadata": {
    "execution": {
     "iopub.execute_input": "2025-03-25T15:43:08.046017Z",
     "iopub.status.busy": "2025-03-25T15:43:08.045653Z",
     "iopub.status.idle": "2025-03-25T15:43:08.579109Z",
     "shell.execute_reply": "2025-03-25T15:43:08.578036Z",
     "shell.execute_reply.started": "2025-03-25T15:43:08.045989Z"
    },
    "trusted": true
   },
   "outputs": [
    {
     "data": {
      "text/plain": [
       "<Axes: xlabel='sold_price', ylabel='predicted_rf'>"
      ]
     },
     "execution_count": 69,
     "metadata": {},
     "output_type": "execute_result"
    },
    {
     "data": {
      "image/png": "[encoded data removed]",
      "text/plain": [
       "<Figure size 1000x1000 with 1 Axes>"
      ]
     },
     "metadata": {},
     "output_type": "display_data"
    }
   ],
   "source": [
    "# Plot true vs predicted values scatter\n",
    "\n",
    "plt.figure(figsize = (10, 10))\n",
    "sns.regplot(x=X_analysis.sold_price, y=X_analysis.predicted_rf)\n",
    "#sns.regplot(x=X_analysis.sold_price, y=X_analysis.predicted_xgb)"
   ]
  },
  {
   "cell_type": "code",
   "execution_count": 70,
   "metadata": {},
   "outputs": [],
   "source": [
    "# Save model\n",
    "today_date = date.today().strftime('%Y-%m-%d')\n",
    "path = f\"../models/{MAKE}\"\n",
    "if not os.path.exists(path):\n",
    "    os.makedirs(path)\n",
    "\n",
    "pickle.dump(car_model_rf, open(f'{path}/model.pkl','wb'))\n",
    "pickle.dump(Lbl_model, open(f'{path}/labels_model.pkl','wb'))\n",
    "pickle.dump(Lbl_color, open(f'{path}/labels_color.pkl','wb'))\n",
    "pickle.dump(Lbl_trans, open(f'{path}/labels_transmission.pkl','wb'))"
   ]
  },
  {
   "cell_type": "code",
   "execution_count": 71,
   "metadata": {
    "execution": {
     "iopub.execute_input": "2025-03-25T16:22:56.451082Z",
     "iopub.status.busy": "2025-03-25T16:22:56.450128Z",
     "iopub.status.idle": "2025-03-25T16:23:04.220363Z",
     "shell.execute_reply": "2025-03-25T16:23:04.219275Z",
     "shell.execute_reply.started": "2025-03-25T16:22:56.451039Z"
    },
    "trusted": true
   },
   "outputs": [
    {
     "data": {
      "text/plain": [
       "<seaborn.axisgrid.FacetGrid at 0x32cb0bd00>"
      ]
     },
     "execution_count": 71,
     "metadata": {},
     "output_type": "execute_result"
    },
    {
     "data": {
      "image/png": "[encoded data removed]",
      "text/plain": [
       "<Figure size 900x2100 with 20 Axes>"
      ]
     },
     "metadata": {},
     "output_type": "display_data"
    }
   ],
   "source": [
    "# Predicted vs Sold Price Scatter by model\n",
    "g = sns.FacetGrid(X_analysis, col=\"model\", col_wrap=3, sharex=False, sharey=False)\n",
    "\n",
    "# Map scatter plots to the grid\n",
    "g.map(sns.regplot, \"predicted_rf\", \"sold_price\")"
   ]
  },
  {
   "cell_type": "code",
   "execution_count": 72,
   "metadata": {},
   "outputs": [
    {
     "data": {
      "text/plain": [
       "<seaborn.axisgrid.FacetGrid at 0x32d9b1c30>"
      ]
     },
     "execution_count": 72,
     "metadata": {},
     "output_type": "execute_result"
    },
    {
     "data": {
      "image/png": "[encoded data removed]",
      "text/plain": [
       "<Figure size 900x2100 with 20 Axes>"
      ]
     },
     "metadata": {},
     "output_type": "display_data"
    }
   ],
   "source": [
    "# Analyze Residuals by model\n",
    "X_analysis['diff'] = X_analysis.sold_price - X_analysis.predicted_rf\n",
    "g = sns.FacetGrid(X_analysis, col=\"model\", col_wrap=3)\n",
    "\n",
    "# Map scatter plots to the grid\n",
    "g.map(plt.hist, \"diff\", bins = 50)\n"
   ]
  },
  {
   "cell_type": "code",
   "execution_count": 73,
   "metadata": {},
   "outputs": [],
   "source": [
    "# Prediction function\n",
    "\n",
    "def predict(year, model, mileage, color, transmission, carmodel, W):\n",
    "    input_data = pd.DataFrame([[year, model, mileage, color, transmission, W]], \n",
    "                              columns=[\"year\", \"model\", \"mileage\", \"normalized_color\", \"transmission\", \"W\"])\n",
    "    input_data.model=Lbl_model.transform(input_data.model)\n",
    "    input_data.normalized_color=Lbl_color.transform(input_data.normalized_color)\n",
    "    input_data.transmission=Lbl_trans.transform(input_data.transmission)\n",
    "    input_data.mileage = np.log1p(input_data.mileage)\n",
    "    price_scaled = carmodel.predict(input_data)\n",
    "\n",
    "    price = np.exp(price_scaled)\n",
    "    \n",
    "    return price[0].round(0)"
   ]
  },
  {
   "cell_type": "code",
   "execution_count": 74,
   "metadata": {},
   "outputs": [
    {
     "ename": "ValueError",
     "evalue": "y contains previously unseen labels: '512 TR'",
     "output_type": "error",
     "traceback": [
      "\u001b[0;31m---------------------------------------------------------------------------\u001b[0m",
      "\u001b[0;31mKeyError\u001b[0m                                  Traceback (most recent call last)",
      "File \u001b[0;32m~/.pyenv/versions/3.10.15/lib/python3.10/site-packages/sklearn/utils/_encode.py:235\u001b[0m, in \u001b[0;36m_encode\u001b[0;34m(values, uniques, check_unknown)\u001b[0m\n\u001b[1;32m    234\u001b[0m \u001b[38;5;28;01mtry\u001b[39;00m:\n\u001b[0;32m--> 235\u001b[0m     \u001b[38;5;28;01mreturn\u001b[39;00m \u001b[43m_map_to_integer\u001b[49m\u001b[43m(\u001b[49m\u001b[43mvalues\u001b[49m\u001b[43m,\u001b[49m\u001b[43m \u001b[49m\u001b[43muniques\u001b[49m\u001b[43m)\u001b[49m\n\u001b[1;32m    236\u001b[0m \u001b[38;5;28;01mexcept\u001b[39;00m \u001b[38;5;167;01mKeyError\u001b[39;00m \u001b[38;5;28;01mas\u001b[39;00m e:\n",
      "File \u001b[0;32m~/.pyenv/versions/3.10.15/lib/python3.10/site-packages/sklearn/utils/_encode.py:174\u001b[0m, in \u001b[0;36m_map_to_integer\u001b[0;34m(values, uniques)\u001b[0m\n\u001b[1;32m    173\u001b[0m table \u001b[38;5;241m=\u001b[39m _nandict({val: i \u001b[38;5;28;01mfor\u001b[39;00m i, val \u001b[38;5;129;01min\u001b[39;00m \u001b[38;5;28menumerate\u001b[39m(uniques)})\n\u001b[0;32m--> 174\u001b[0m \u001b[38;5;28;01mreturn\u001b[39;00m xp\u001b[38;5;241m.\u001b[39masarray([table[v] \u001b[38;5;28;01mfor\u001b[39;00m v \u001b[38;5;129;01min\u001b[39;00m values], device\u001b[38;5;241m=\u001b[39mdevice(values))\n",
      "File \u001b[0;32m~/.pyenv/versions/3.10.15/lib/python3.10/site-packages/sklearn/utils/_encode.py:174\u001b[0m, in \u001b[0;36m<listcomp>\u001b[0;34m(.0)\u001b[0m\n\u001b[1;32m    173\u001b[0m table \u001b[38;5;241m=\u001b[39m _nandict({val: i \u001b[38;5;28;01mfor\u001b[39;00m i, val \u001b[38;5;129;01min\u001b[39;00m \u001b[38;5;28menumerate\u001b[39m(uniques)})\n\u001b[0;32m--> 174\u001b[0m \u001b[38;5;28;01mreturn\u001b[39;00m xp\u001b[38;5;241m.\u001b[39masarray([\u001b[43mtable\u001b[49m\u001b[43m[\u001b[49m\u001b[43mv\u001b[49m\u001b[43m]\u001b[49m \u001b[38;5;28;01mfor\u001b[39;00m v \u001b[38;5;129;01min\u001b[39;00m values], device\u001b[38;5;241m=\u001b[39mdevice(values))\n",
      "File \u001b[0;32m~/.pyenv/versions/3.10.15/lib/python3.10/site-packages/sklearn/utils/_encode.py:167\u001b[0m, in \u001b[0;36m_nandict.__missing__\u001b[0;34m(self, key)\u001b[0m\n\u001b[1;32m    166\u001b[0m     \u001b[38;5;28;01mreturn\u001b[39;00m \u001b[38;5;28mself\u001b[39m\u001b[38;5;241m.\u001b[39mnan_value\n\u001b[0;32m--> 167\u001b[0m \u001b[38;5;28;01mraise\u001b[39;00m \u001b[38;5;167;01mKeyError\u001b[39;00m(key)\n",
      "\u001b[0;31mKeyError\u001b[0m: '512 TR'",
      "\nDuring handling of the above exception, another exception occurred:\n",
      "\u001b[0;31mValueError\u001b[0m                                Traceback (most recent call last)",
      "Cell \u001b[0;32mIn[74], line 6\u001b[0m\n\u001b[1;32m      4\u001b[0m predictions \u001b[38;5;241m=\u001b[39m []\n\u001b[1;32m      5\u001b[0m \u001b[38;5;28;01mfor\u001b[39;00m mileage \u001b[38;5;129;01min\u001b[39;00m mileage_range:\n\u001b[0;32m----> 6\u001b[0m     prediction \u001b[38;5;241m=\u001b[39m \u001b[43mpredict\u001b[49m\u001b[43m(\u001b[49m\n\u001b[1;32m      7\u001b[0m \u001b[43m        \u001b[49m\u001b[43myear\u001b[49m\u001b[43m \u001b[49m\u001b[38;5;241;43m=\u001b[39;49m\u001b[43m \u001b[49m\u001b[38;5;241;43m1992\u001b[39;49m\u001b[43m,\u001b[49m\n\u001b[1;32m      8\u001b[0m \u001b[43m        \u001b[49m\u001b[43mmodel\u001b[49m\u001b[43m \u001b[49m\u001b[38;5;241;43m=\u001b[39;49m\u001b[43m \u001b[49m\u001b[38;5;124;43m\"\u001b[39;49m\u001b[38;5;124;43m512 TR\u001b[39;49m\u001b[38;5;124;43m\"\u001b[39;49m\u001b[43m,\u001b[49m\n\u001b[1;32m      9\u001b[0m \u001b[43m        \u001b[49m\u001b[43mmileage\u001b[49m\u001b[43m \u001b[49m\u001b[38;5;241;43m=\u001b[39;49m\u001b[43m \u001b[49m\u001b[43mmileage\u001b[49m\u001b[43m,\u001b[49m\n\u001b[1;32m     10\u001b[0m \u001b[43m        \u001b[49m\u001b[43mcolor\u001b[49m\u001b[43m \u001b[49m\u001b[38;5;241;43m=\u001b[39;49m\u001b[43m \u001b[49m\u001b[38;5;124;43m\"\u001b[39;49m\u001b[38;5;124;43mBlack\u001b[39;49m\u001b[38;5;124;43m\"\u001b[39;49m\u001b[43m,\u001b[49m\n\u001b[1;32m     11\u001b[0m \u001b[43m        \u001b[49m\u001b[43mtransmission\u001b[49m\u001b[43m \u001b[49m\u001b[38;5;241;43m=\u001b[39;49m\u001b[43m \u001b[49m\u001b[38;5;124;43m\"\u001b[39;49m\u001b[38;5;124;43mmanual\u001b[39;49m\u001b[38;5;124;43m\"\u001b[39;49m\u001b[43m,\u001b[49m\n\u001b[1;32m     12\u001b[0m \u001b[43m        \u001b[49m\u001b[43mcarmodel\u001b[49m\u001b[43m \u001b[49m\u001b[38;5;241;43m=\u001b[39;49m\u001b[43m \u001b[49m\u001b[43mcar_model_rf\u001b[49m\u001b[43m,\u001b[49m\n\u001b[1;32m     13\u001b[0m \u001b[43m        \u001b[49m\u001b[43mW\u001b[49m\u001b[43m \u001b[49m\u001b[38;5;241;43m=\u001b[39;49m\u001b[43m \u001b[49m\u001b[38;5;241;43m1\u001b[39;49m\n\u001b[1;32m     14\u001b[0m \u001b[43m    \u001b[49m\u001b[43m)\u001b[49m\n\u001b[1;32m     15\u001b[0m     predictions\u001b[38;5;241m.\u001b[39mappend(prediction)\n\u001b[1;32m     17\u001b[0m predictions \u001b[38;5;241m=\u001b[39m pd\u001b[38;5;241m.\u001b[39mDataFrame(predictions, columns\u001b[38;5;241m=\u001b[39m[\u001b[38;5;124m\"\u001b[39m\u001b[38;5;124mpredicted\u001b[39m\u001b[38;5;124m\"\u001b[39m])\n",
      "Cell \u001b[0;32mIn[73], line 6\u001b[0m, in \u001b[0;36mpredict\u001b[0;34m(year, model, mileage, color, transmission, carmodel, W)\u001b[0m\n\u001b[1;32m      3\u001b[0m \u001b[38;5;28;01mdef\u001b[39;00m \u001b[38;5;21mpredict\u001b[39m(year, model, mileage, color, transmission, carmodel, W):\n\u001b[1;32m      4\u001b[0m     input_data \u001b[38;5;241m=\u001b[39m pd\u001b[38;5;241m.\u001b[39mDataFrame([[year, model, mileage, color, transmission, W]], \n\u001b[1;32m      5\u001b[0m                               columns\u001b[38;5;241m=\u001b[39m[\u001b[38;5;124m\"\u001b[39m\u001b[38;5;124myear\u001b[39m\u001b[38;5;124m\"\u001b[39m, \u001b[38;5;124m\"\u001b[39m\u001b[38;5;124mmodel\u001b[39m\u001b[38;5;124m\"\u001b[39m, \u001b[38;5;124m\"\u001b[39m\u001b[38;5;124mmileage\u001b[39m\u001b[38;5;124m\"\u001b[39m, \u001b[38;5;124m\"\u001b[39m\u001b[38;5;124mnormalized_color\u001b[39m\u001b[38;5;124m\"\u001b[39m, \u001b[38;5;124m\"\u001b[39m\u001b[38;5;124mtransmission\u001b[39m\u001b[38;5;124m\"\u001b[39m, \u001b[38;5;124m\"\u001b[39m\u001b[38;5;124mW\u001b[39m\u001b[38;5;124m\"\u001b[39m])\n\u001b[0;32m----> 6\u001b[0m     input_data\u001b[38;5;241m.\u001b[39mmodel\u001b[38;5;241m=\u001b[39m\u001b[43mLbl_model\u001b[49m\u001b[38;5;241;43m.\u001b[39;49m\u001b[43mtransform\u001b[49m\u001b[43m(\u001b[49m\u001b[43minput_data\u001b[49m\u001b[38;5;241;43m.\u001b[39;49m\u001b[43mmodel\u001b[49m\u001b[43m)\u001b[49m\n\u001b[1;32m      7\u001b[0m     input_data\u001b[38;5;241m.\u001b[39mnormalized_color\u001b[38;5;241m=\u001b[39mLbl_color\u001b[38;5;241m.\u001b[39mtransform(input_data\u001b[38;5;241m.\u001b[39mnormalized_color)\n\u001b[1;32m      8\u001b[0m     input_data\u001b[38;5;241m.\u001b[39mtransmission\u001b[38;5;241m=\u001b[39mLbl_trans\u001b[38;5;241m.\u001b[39mtransform(input_data\u001b[38;5;241m.\u001b[39mtransmission)\n",
      "File \u001b[0;32m~/.pyenv/versions/3.10.15/lib/python3.10/site-packages/sklearn/preprocessing/_label.py:134\u001b[0m, in \u001b[0;36mLabelEncoder.transform\u001b[0;34m(self, y)\u001b[0m\n\u001b[1;32m    131\u001b[0m \u001b[38;5;28;01mif\u001b[39;00m _num_samples(y) \u001b[38;5;241m==\u001b[39m \u001b[38;5;241m0\u001b[39m:\n\u001b[1;32m    132\u001b[0m     \u001b[38;5;28;01mreturn\u001b[39;00m xp\u001b[38;5;241m.\u001b[39masarray([])\n\u001b[0;32m--> 134\u001b[0m \u001b[38;5;28;01mreturn\u001b[39;00m \u001b[43m_encode\u001b[49m\u001b[43m(\u001b[49m\u001b[43my\u001b[49m\u001b[43m,\u001b[49m\u001b[43m \u001b[49m\u001b[43muniques\u001b[49m\u001b[38;5;241;43m=\u001b[39;49m\u001b[38;5;28;43mself\u001b[39;49m\u001b[38;5;241;43m.\u001b[39;49m\u001b[43mclasses_\u001b[49m\u001b[43m)\u001b[49m\n",
      "File \u001b[0;32m~/.pyenv/versions/3.10.15/lib/python3.10/site-packages/sklearn/utils/_encode.py:237\u001b[0m, in \u001b[0;36m_encode\u001b[0;34m(values, uniques, check_unknown)\u001b[0m\n\u001b[1;32m    235\u001b[0m         \u001b[38;5;28;01mreturn\u001b[39;00m _map_to_integer(values, uniques)\n\u001b[1;32m    236\u001b[0m     \u001b[38;5;28;01mexcept\u001b[39;00m \u001b[38;5;167;01mKeyError\u001b[39;00m \u001b[38;5;28;01mas\u001b[39;00m e:\n\u001b[0;32m--> 237\u001b[0m         \u001b[38;5;28;01mraise\u001b[39;00m \u001b[38;5;167;01mValueError\u001b[39;00m(\u001b[38;5;124mf\u001b[39m\u001b[38;5;124m\"\u001b[39m\u001b[38;5;124my contains previously unseen labels: \u001b[39m\u001b[38;5;132;01m{\u001b[39;00m\u001b[38;5;28mstr\u001b[39m(e)\u001b[38;5;132;01m}\u001b[39;00m\u001b[38;5;124m\"\u001b[39m)\n\u001b[1;32m    238\u001b[0m \u001b[38;5;28;01melse\u001b[39;00m:\n\u001b[1;32m    239\u001b[0m     \u001b[38;5;28;01mif\u001b[39;00m check_unknown:\n",
      "\u001b[0;31mValueError\u001b[0m: y contains previously unseen labels: '512 TR'"
     ]
    }
   ],
   "source": [
    "# Run a prediction for a car over a range of mileage\n",
    "mileage_range = np.linspace(0, 50000, 100)\n",
    "\n",
    "predictions = []\n",
    "for mileage in mileage_range:\n",
    "    prediction = predict(\n",
    "        year = 1992,\n",
    "        model = \"512 TR\",\n",
    "        mileage = mileage,\n",
    "        color = \"Black\",\n",
    "        transmission = \"manual\",\n",
    "        carmodel = car_model_rf,\n",
    "        W = 1\n",
    "    )\n",
    "    predictions.append(prediction)\n",
    "\n",
    "predictions = pd.DataFrame(predictions, columns=[\"predicted\"])\n",
    "mileage_range = pd.DataFrame(mileage_range, columns=[\"mileage\"])\n",
    "predictions = pd.merge(predictions, mileage_range, how='inner', left_index=True, right_index=True)\n",
    "plt.scatter(predictions[\"mileage\"], predictions[\"predicted\"])"
   ]
  }
 ],
 "metadata": {
  "kaggle": {
   "accelerator": "none",
   "dataSources": [
    {
     "datasetId": 6959618,
     "sourceId": 11154697,
     "sourceType": "datasetVersion"
    }
   ],
   "dockerImageVersionId": 30698,
   "isGpuEnabled": false,
   "isInternetEnabled": false,
   "language": "python",
   "sourceType": "notebook"
  },
  "kernelspec": {
   "display_name": "Python 3",
   "language": "python",
   "name": "python3"
  },
  "language_info": {
   "codemirror_mode": {
    "name": "ipython",
    "version": 3
   },
   "file_extension": ".py",
   "mimetype": "text/x-python",
   "name": "python",
   "nbconvert_exporter": "python",
   "pygments_lexer": "ipython3",
   "version": "3.10.15"
  }
 },
 "nbformat": 4,
 "nbformat_minor": 4
}
