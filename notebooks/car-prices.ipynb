{
 "cells": [
  {
   "cell_type": "code",
   "execution_count": 1,
   "metadata": {
    "execution": {
     "iopub.execute_input": "2025-03-25T15:31:54.705036Z",
     "iopub.status.busy": "2025-03-25T15:31:54.704706Z",
     "iopub.status.idle": "2025-03-25T15:31:56.179121Z",
     "shell.execute_reply": "2025-03-25T15:31:56.177839Z",
     "shell.execute_reply.started": "2025-03-25T15:31:54.705010Z"
    },
    "trusted": true
   },
   "outputs": [],
   "source": [
    "# Libraries\n",
    "from datetime import date\n",
    "import numpy as np\n",
    "import pandas as pd\n",
    "import matplotlib.pyplot as plt\n",
    "import seaborn as sns\n",
    "import plotly.graph_objects as go\n",
    "import plotly.express as px\n",
    "import pickle\n",
    "from scipy import stats\n",
    "from sklearn.model_selection import train_test_split\n",
    "from sklearn.preprocessing import LabelEncoder\n",
    "from sklearn.ensemble import RandomForestRegressor\n",
    "from xgboost import XGBRegressor\n",
    "from dotenv import load_dotenv\n",
    "from supabase import create_client\n",
    "import os"
   ]
  },
  {
   "cell_type": "code",
   "execution_count": 2,
   "metadata": {
    "execution": {
     "iopub.execute_input": "2025-03-25T15:57:13.556722Z",
     "iopub.status.busy": "2025-03-25T15:57:13.556370Z",
     "iopub.status.idle": "2025-03-25T15:57:13.607440Z",
     "shell.execute_reply": "2025-03-25T15:57:13.606336Z",
     "shell.execute_reply.started": "2025-03-25T15:57:13.556693Z"
    },
    "trusted": true
   },
   "outputs": [],
   "source": [
    "# Read data\n",
    "load_dotenv()\n",
    "\n",
    "SUPABASE_URL = os.getenv(\"NEXT_PUBLIC_SUPABASE_URL\")\n",
    "SUPABASE_SERVICE_KEY = os.getenv(\"NEXT_PUBLIC_SUPABASE_SERVICE_KEY\")\n",
    "\n",
    "supabase = create_client(SUPABASE_URL, SUPABASE_SERVICE_KEY)\n",
    "\n",
    "MAKE = \"Audi\"\n",
    "min_observations = 20\n",
    "\n",
    "response = (\n",
    "    supabase.table(\"bat_completed_auctions\")\n",
    "    .select(\"year, model, mileage, normalized_color, transmission, sold_price, bid_amount, end_date, status\")\n",
    "    .eq(\"make\", MAKE)\n",
    "    .not_.is_(\"mileage\", None)\n",
    "    .not_.is_(\"transmission\", None)\n",
    "    .execute()\n",
    ")\n",
    "df = pd.DataFrame(response.data)"
   ]
  },
  {
   "cell_type": "code",
   "execution_count": 3,
   "metadata": {},
   "outputs": [
    {
     "name": "stdout",
     "output_type": "stream",
     "text": [
      "                                       sold_price\n",
      "model                                            \n",
      "R8 V10 GT                                254500.0\n",
      "R8 V10 Plus Coupe Competition Package    242000.0\n",
      "R8 V10 Plus Spyder                       222500.0\n",
      "R8 V10 Plus Coupe 6-Speed                212449.5\n",
      "R8 Performance V10 Spyder                187500.0\n",
      "...                                           ...\n",
      "TT 3.2 Coupe Quattro 6-Speed                  NaN\n",
      "TT 6-Speed                                    NaN\n",
      "Turbo Quattro Coupe                           NaN\n",
      "V8 5-Speed                                    NaN\n",
      "e-tron GT                                     NaN\n",
      "\n",
      "[435 rows x 1 columns]\n"
     ]
    }
   ],
   "source": [
    "# Top Prices by model\n",
    "prices = df[['model','sold_price']].groupby('model').mean().sort_values(by='sold_price',ascending=False)\n",
    "print(prices)"
   ]
  },
  {
   "cell_type": "code",
   "execution_count": 4,
   "metadata": {},
   "outputs": [
    {
     "data": {
      "application/vnd.plotly.v1+json": {
       "config": {
        "plotlyServerURL": "https://plot.ly"
       },
       "data": [
        {
         "alignmentgroup": "True",
         "hovertemplate": "model=%{x}<br>sold_price=%{y}<extra></extra>",
         "legendgroup": "",
         "marker": {
          "color": "#636efa"
         },
         "name": "",
         "notched": false,
         "offsetgroup": "",
         "orientation": "v",
         "showlegend": false,
         "type": "box",
         "x": [
          "100 5-Speed",
          "100 Coupe S 4-Speed",
          "100 LS",
          "100 LS 4-Speed",
          "100 LS Project",
          "200 20V Turbo Quattro",
          "200 20V Turbo Quattro",
          "200 20V Turbo Quattro",
          "200 20V Turbo Quattro Avant",
          "200 Quattro Avant Turbo 5-Speed",
          "200 Quattro Avant Turbo 5-Speed",
          "200 Quattro Avant Turbo 5-Speed",
          "200 Quattro Avant Turbo 5-Speed",
          "200 Quattro Avant Turbo 5-Speed",
          "200 Quattro Avant Turbo 5-Speed",
          "200 Quattro Turbo 5-Speed",
          "200 Quattro Turbo 5-Speed",
          "200 Quattro Turbo 5-Speed",
          "200 Quattro Turbo 5-Speed",
          "200 Quattro Turbo 5-Speed",
          "200 Turbo Quattro 5-Speed",
          "200 Turbo Quattro 5-Speed",
          "4000 5+5",
          "4000 5+5",
          "4000 CS Quattro 5-Speed",
          "4000 CS Quattro 5-Speed",
          "4000 CS Quattro 5-Speed",
          "4000 CS Quattro 5-Speed",
          "4000 CS Quattro 5-Speed",
          "4000 S 5-Speed",
          "4000S Quattro",
          "4000S Quattro 5-Speed",
          "4000S Quattro 5-Speed",
          "4000S Quattro 5-Speed",
          "4000S Quattro 5-Speed",
          "4000S Quattro 5-Speed",
          "4000S Quattro 5-Speed",
          "5000",
          "5000CD Turbo Quattro Avant 5-Speed",
          "5000CS Turbo Quattro",
          "5000CS Turbo Quattro 5-Speed",
          "5000CS Turbo Quattro Avant 5-Speed",
          "5000CS Turbo Quattro Sedan 5-Speed",
          "5000 CS Turbo Quattro Wagon 5-Speed",
          "5000 CS Turbo Quattro Wagon 5-Speed",
          "5000S 5-Speed",
          "5000S 5-Speed",
          "5000S Avant",
          "5000S Diesel 5-Speed",
          "5000S Diesel 5-Speed",
          "5000S Quattro 5-Speed",
          "5000 Turbo Diesel",
          "50LS",
          "80 Sport Quattro Tribute",
          "90",
          "90CS Quattro 5-Speed",
          "90 Quattro",
          "90 Quattro",
          "90 Quattro 5-Speed",
          "A3 2.0T Quattro S-Line",
          "A3 2.0T S-Line 6-Speed",
          "A3 TDI Premium",
          "A3 TDI Premium Plus",
          "A4",
          "A4 1.8T Quattro 5-Speed",
          "A4 1.8T Quattro 6-Speed",
          "A4 1.8T Quattro Sport 5-Speed",
          "A4 1.8t Sedan Quattro",
          "A4 2.0T",
          "A4 2.0T 6-Speed",
          "A4 2.0T Avant Quattro",
          "A4 2.0T Avant Quattro 6-Speed",
          "A4 2.0T Avant Quattro 6-Speed",
          "A4 2.0T Avant S Line Quattro 6-Speed",
          "A4 2.0T Cabriolet",
          "A4 2.0T Cabriolet",
          "A4 2.0T Cabriolet",
          "A4 2.0T Cabriolet CVT Special Edition",
          "A4 2.0T Cabriolet Quattro",
          "A4 2.0T Prestige Quattro 6-Speed",
          "A4 2.0T Quattro",
          "A4 2.0T Quattro",
          "A4 2.0T Quattro",
          "A4 2.0T Quattro 6-Speed",
          "A4 2.0T Quattro 6-Speed",
          "A4 2.0T Quattro Premium Plus 6-Speed",
          "A4 2.0T Quattro Ute Conversion",
          "A4 2.0T S Line Quattro 6-Speed Titanium Package",
          "A4 2.8",
          "A4 2.8 5-Speed",
          "A4 2.8L Quattro 5-Speed",
          "A4 2.8 Quattro",
          "A4 2.8 Quattro",
          "A4 2.8 Quattro 5-Speed",
          "A4 2.8 Quattro 5-Speed",
          "A4 2.8 Quattro 5-Speed",
          "A4 2.8 Quattro 5-Speed",
          "A4 2.8 Quattro 5-Speed",
          "A4 2.8 Quattro 5-Speed",
          "A4 2.8 Quattro 5-Speed",
          "A4 3.0 Cabriolet",
          "A4 3.0 Quattro",
          "A4 3.2 Avant Quattro 6-Speed Titanium Package",
          "A4 3.2 Cabriolet",
          "A4 3.2 Cabriolet Quattro",
          "A4 3.2 Cabriolet Quattro",
          "A4 3.2 Quattro",
          "A4 6-Speed Ute Conversion",
          "A4 Allroad 2.0T Quattro",
          "A4 Allroad 2.0T Quattro",
          "A4 Allroad 2.0T Quattro",
          "A4 Allroad 2.0T Quattro Premium Plus",
          "A4 Allroad Premium Plus",
          "A4 Allroad Premium Plus",
          "A4 Allroad Prestige",
          "A4 Allroad Prestige",
          "A4 Allroad Prestige",
          "A4 Allroad Prestige",
          "A4 Avant",
          "A4 Avant",
          "A4 Avant",
          "A4 Avant",
          "A4 Avant",
          "A4 Avant 1.8T Quattro 5-Speed",
          "A4 Avant 1.8T Quattro Ultra Sport 6-Speed",
          "A4 Avant 2.0T 6-Speed",
          "A4 Avant 2.0T Premium Plus",
          "A4 Avant 2.0T Premium Plus",
          "A4 Avant 2.0T Prestige Quattro",
          "A4 Avant 2.0T Prestige Quattro 6-Speed Conversion",
          "A4 Avant 2.0T Quattro",
          "A4 Avant 2.0T Quattro",
          "A4 Avant 2.0T Quattro",
          "A4 Avant 2.0T Quattro",
          "A4 Avant 2.0T Quattro",
          "A4 Avant 2.0T Quattro",
          "A4 Avant 2.0T Quattro",
          "A4 Avant 2.0T Quattro",
          "A4 Avant 2.0T Quattro",
          "A4 Avant 2.0T Quattro",
          "A4 Avant 2.0T Quattro 6-Speed",
          "A4 Avant 2.0T Quattro 6-Speed",
          "A4 Avant 2.0T Quattro 6-Speed",
          "A4 Avant 2.0T Quattro 6-Speed",
          "A4 Avant 2.0T Quattro 6-Speed",
          "A4 Avant 2.0T Quattro 6-Speed",
          "A4 Avant 2.0T Quattro 6-Speed",
          "A4 Avant 2.0T Quattro 6-Speed",
          "A4 Avant 2.0T Quattro 6-Speed",
          "A4 Avant 2.0T Quattro 6-Speed",
          "A4 Avant 2.0T Quattro S-Line 6-Speed",
          "A4 Avant 2.0T Quattro S-Line 6-Speed",
          "A4 Avant 2.0T Quattro S-Line 6-Speed",
          "A4 Avant 2.0T Quattro S-Line Titanium Package 6-Speed",
          "A4 Avant 3.0L V6 6-Speed",
          "A4 Avant 3.0 Ultra Sport",
          "A4 Avant 3.2 Quattro",
          "A4 Avant 3.2 Quattro",
          "A4 Avant 3.2 Quattro",
          "A4 Avant 3.2 Quattro",
          "A4 Avant 3.2 Quattro",
          "A4 Avant 3.2 Quattro 6-Speed",
          "A4 Avant 5-Speed",
          "A4 Avant Quattro 6-Speed Ultra Sport",
          "A4 Avant Quattro Ultra Sport 6-Speed",
          "A4 Avant S-Line",
          "A4 Avant S-Line",
          "A4 Avant S-Line 6-Speed",
          "A4 Avant S-Line 6-Speed",
          "A4 Avant S-Line 6-Speed",
          "A4 Avant S-Line V6 6-Speed",
          "A4 Cabriolet 1.8T",
          "A4 Cabriolet 1.8T",
          "A4 Cabriolet 2.0T",
          "A4 Cabriolet 3.0",
          "A4 Cabriolet 3.0 Quattro",
          "A4 Cabriolet 3.0 Quattro",
          "A4 Prestige 2.0T Quattro 6-Speed",
          "A4 Sedan 3.0 Quattro 6-Speed",
          "A4 Ultra Sport 6-Speed",
          "A5 2.0T Premium Plus 6-Speed",
          "A5 2.0T Prestige Cabriolet",
          "A5 2.0T Quattro Premium Cabriolet",
          "A5 2.0T Quattro Premium Plus Cabriolet",
          "A5 2.0T Quattro Premium Plus Cabriolet",
          "A5 2.0T Quattro Premium Plus Cabriolet",
          "A5 2.0T Quattro Premium Plus Cabriolet",
          "A5 2.0T Quattro Premium Plus Coupe",
          "A5 6-Speed",
          "A5 Convertible",
          "A5 Coupe",
          "A5 Coupe 2.0T Premium Plus S Line Competition",
          "A5 Coupe 2.0T Quattro Prestige",
          "A5 Coupe 3.2",
          "A5 Coupe S-Line 6-Speed",
          "A6 2.7T Quattro",
          "A6 2.7T Quattro 6-Speed",
          "A6 2.7TT 6-Speed",
          "A6 3.0 Quattro",
          "A6 3.0T Avant Premium Plus",
          "A6 3.0T Avant Quattro Premium Plus",
          "A6 3.0 TDI Quattro Prestige",
          "A6 3.0T Quattro Prestige",
          "A6 3.0T Sedan Prestige",
          "A6 3.2 Avant Quattro",
          "A6 3.2 Quattro",
          "A6 3.2 Quattro",
          "A6 4.2 Quattro",
          "A6 4.2 Quattro",
          "A6 4.2 Quattro Sport",
          "A6 4.2 Sedan S Line",
          "A6 55 TFSI Quattro Premium Plus",
          "A6 6-speed",
          "A6 6-Speed",
          "A6 Avant",
          "A6 Avant",
          "A6 Avant 3.0 Quattro",
          "A6 Avant 3.0 Quattro",
          "A6 Avant 3.0T Premium Plus",
          "A6 Avant 3.0T Premium Plus",
          "A6 Avant 3.0T Premium Plus",
          "A6 Avant 3.0T Premium Plus",
          "A6 Avant 3.0T Prestige",
          "A6 Avant 3.0T Prestige",
          "A6 Avant 3.0T Prestige",
          "A6 Avant 3.0T Prestige",
          "A6 Avant 3.0T Prestige Quattro",
          "A6 Avant 3.2",
          "A6 Avant 3.2 Quattro",
          "A6 Avant 3.2 Quattro",
          "A6 Avant 3.2 Quattro S-Line",
          "A6 Avant 3.2 Quattro S-Line",
          "A6 Sedan 3.0T Prestige",
          "A6 TDI Prestige",
          "A7 3.0T Prestige",
          "A7 Prestige",
          "A7 TDI Premium Plus",
          "A7 TDI Prestige",
          "A7 TDI Quattro Prestige",
          "A8",
          "A8 4.2 Quattro",
          "A8 4.2 Quattro",
          "A8 4.2 Quattro",
          "A8 4.2 Quattro",
          "A8 4.2 Quattro",
          "A8 4.2 Quattro",
          "A8 4.2 Quattro",
          "A8 4.2 Quattro",
          "A8 4.2 Quattro",
          "A8 4.2 Quattro",
          "A8L",
          "A8L",
          "A8L",
          "A8L",
          "A8L",
          "A8L",
          "A8L",
          "A8L",
          "A8L",
          "A8L",
          "A8L",
          "A8L",
          "A8L",
          "A8L",
          "A8L",
          "A8L",
          "A8L",
          "A8L",
          "A8L",
          "A8L",
          "A8L",
          "A8L",
          "A8L",
          "A8L",
          "A8L",
          "A8L",
          "A8L",
          "A8L",
          "A8L",
          "A8L",
          "A8L 3.0T",
          "A8L 3.0T",
          "A8L 3.0T",
          "A8L 3.0T",
          "A8L 3.0T",
          "A8L 4.0T",
          "A8L 4.0T",
          "A8L 4.0T",
          "A8L 4.0T",
          "A8L 4.0T Exclusive Package",
          "A8L 4.2 Exclusive Package",
          "A8L 4.2 Quattro",
          "A8L 4.2 Quattro",
          "A8L 4.2 Quattro",
          "A8L 4.2 Quattro 6-Speed",
          "A8L Quattro",
          "A8L TDI",
          "A8L TDI",
          "A8L TDI",
          "A8L TDI",
          "A8L TDI",
          "A8L TDI",
          "A8L TDI",
          "A8L TDI",
          "A8L TDI",
          "A8L TDI",
          "A8L TDI",
          "A8L TDI",
          "A8L TDI",
          "A8L TDI",
          "A8L TDI",
          "A8L TDI",
          "A8L TDI Quattro",
          "A8L W12",
          "A8L W12",
          "A8L W12",
          "A8L W12",
          "A8L W12",
          "A8L W12",
          "A8L W12",
          "A8L W12",
          "A8L W12",
          "A8L W12",
          "A8L W12",
          "A8L W12",
          "A8L W12",
          "A8L W12 Quattro",
          "A8L W12 Quattro",
          "A8L W12 Quattro",
          "A8L W12 Quattro",
          "A8L W12 Quattro",
          "A8L W12 Quattro",
          "A8 Quattro",
          "ABT RS6-R Avant",
          "ABT RS7-R",
          "Allroad",
          "Allroad",
          "Allroad",
          "Allroad 2.0T Quattro Premium Plus",
          "Allroad 2.0T Quattro Premium Plus",
          "Allroad 2.0T Quattro Premium Plus",
          "Allroad 2.0T Quattro Premium Plus",
          "Allroad 2.7T 6-Speed",
          "Allroad 2.7T 6-Speed",
          "Allroad 2.7T 6-Speed",
          "Allroad 2.7T 6-Speed",
          "Allroad 2.7T 6-Speed",
          "Allroad 4.2",
          "Allroad 6-Speed",
          "Allroad 6-Speed",
          "Allroad 6-Speed",
          "Allroad 6-Speed",
          "Allroad 6-Speed",
          "Allroad 6-Speed",
          "Allroad 6-Speed",
          "Allroad 6-Speed",
          "Allroad 6-Speed",
          "Allroad 6-Speed",
          "Allroad 6-Speed",
          "Allroad 6-Speed",
          "Allroad 6-Speed",
          "Allroad 6-Speed",
          "Allroad 6-Speed",
          "Allroad 6-Speed",
          "Allroad 6-Speed Conversion",
          "Allroad Premium",
          "Allroad Premium Plus",
          "Allroad Premium Plus",
          "Allroad Premium Plus",
          "Allroad Premium Plus",
          "Allroad Prestige",
          "Allroad Prestige",
          "Allroad Quattro 2.7T",
          "Allroad Quattro 6-Speed",
          "Allroad Quattro 6-Speed",
          "Allroad Quattro 6-Speed",
          "Allroad Quattro Premium",
          "Allroad Quattro Premium",
          "Allroad Quattro Premium Plus",
          "Allroad Quattro Premium Plus",
          "Allroad Quattro Premium Plus",
          "Allroad Quattro Premium Plus",
          "ALMS Commemorative TT Coupe 6-Speed",
          "Cabriolet",
          "Cabriolet",
          "Cabriolet",
          "Cabriolet",
          "Cabriolet",
          "Cabriolet",
          "Cabriolet 2.6L",
          "Coupe",
          "Coupe",
          "Coupe",
          "Coupe 5-Speed",
          "Coupe GT",
          "Coupe GT",
          "Coupe GT",
          "Coupe GT",
          "Coupe GT 5-Speed",
          "Coupe GT 5-Speed",
          "Coupe GT 5-Speed",
          "Coupe GT 5-Speed",
          "Coupe GT 5-Speed",
          "Coupe GT 5-Speed",
          "Coupe GT 5-Speed",
          "Coupe GT Commemorative Edition",
          "Coupe GT Commemorative Edition",
          "Coupe GT Commemorative Edition",
          "Coupe GT Special Build",
          "Coupe GT Special Build",
          "Coupe Quattro",
          "Coupe Quattro",
          "Coupe Quattro",
          "Coupe Quattro",
          "Coupe Quattro",
          "Coupe Quattro 5-Speed",
          "Coupe Quattro 5-Speed",
          "Coupe Quattro 5-Speed",
          "Coupe Quattro 5-Speed",
          "Coupe Quattro 5-Speed",
          "Coupe Quattro 5-Speed",
          "Coupe Quattro 5-Speed",
          "Coupe Quattro 5-Speed",
          "Coupe Quattro 5-Speed",
          "Coupe Quattro 5-Speed",
          "Coupe Quattro 5-Speed",
          "Design Center’s “RS Study” 1993 Audi 90CS Quattro Sport 5-Speed",
          "e-tron GT",
          "e-tron GT Prestige",
          "e-tron Quattro Prestige",
          "Fox",
          "Fox Project",
          "Fox Sedan 4-Speed",
          "Fox Wagon",
          "Q5 2.0T",
          "Q5 2.0T Premium Plus",
          "Q5 3.2",
          "Q5 3.2",
          "Q5 3.2 Premium Plus",
          "Q5 3.2 Premium Plus",
          "Q5 Quattro V6 TDI",
          "Q5 TDI",
          "Q5 TDI",
          "Q5 TDI",
          "Q5 TDI Premium Plus",
          "Q5 TDI Premium Plus",
          "Q5 TDI Premium Plus",
          "Q5 TDI Premium Plus",
          "Q5 TDI Premium Plus",
          "Q5 TDI Premium Plus",
          "Q5 TDI Quattro",
          "Q7 3.0T",
          "Q7 3.0T Premium Plus",
          "Q7 3.0T Premium Plus",
          "Q7 3.0T Premium Plus",
          "Q7 3.0T Premium Plus",
          "Q7 3.0T Premium Plus",
          "Q7 3.0T Premium Plus",
          "Q7 3.0T Prestige",
          "Q7 3.0T Prestige S Line",
          "Q7 3.0T Prestige S Line",
          "Q7 3.0T Prestige S Line",
          "Q7 3.0T S-Line Prestige",
          "Q7 3.6 Premium",
          "Q7 3.6 Premium",
          "Q7 3.6 Premium",
          "Q7 3.6 Prestige",
          "Q7 4.2 Premium S-Line",
          "Q7 4.2 Premium S-Line",
          "Q7 4.2 Premium S-Line",
          "Q7 4.2 Prestige",
          "Q7 4.2 Prestige",
          "Q7 Prestige",
          "Q7 Prestige S Line",
          "Q7 Prestige S-Line",
          "Q7 TDI",
          "Q7 TDI Premium Plus",
          "Q7 TDI Premium Plus",
          "Q7 TDI Premium Plus",
          "Q7 TDI Premium Plus",
          "Q7 TDI Premium Plus",
          "Q7 TDI Premium Plus",
          "Q7 TDI Premium Plus",
          "Q7 TDI Premium Plus",
          "Q7 TDI Premium Plus",
          "Q7 TDI Premium Plus",
          "Q7 TDI Premium Plus",
          "Q7 TDI Premium Plus",
          "Q7 TDI Premium Plus",
          "Q7 TDI Premium Plus",
          "Q7 TDI Prestige",
          "Q7 TDI Prestige",
          "Q7 TDI Prestige",
          "Q7 TDI Prestige",
          "Q7 TDI Prestige",
          "Q7 TDI Prestige",
          "Q7 TDI Prestige",
          "Q7 TDI Prestige",
          "Q7 TDI Prestige",
          "Q7 TDI Prestige",
          "Q7 TDI Prestige S Line",
          "Q7 TDI Prestige S Line",
          "Q7 TDI Prestige S Line",
          "Q7 TDI Prestige S Line",
          "Q7 TDI Prestige S-Line",
          "Q7 TDI Prestige S-Line",
          "Q7 TDI Prestige S-Line",
          "Q7 TDI Prestige S-Line",
          "Q7 TDI Prestige S-Line",
          "Q7 TDI Prestige S-Line",
          "Q7 TDI Prestige S Line Sport Edition",
          "Q7 TDI Prestige Sport Edition",
          "Q7 TDI Prestige Sport Edition",
          "Q7 TDI Quattro Premium Plus",
          "Q7 TDI Quattro Premium Plus",
          "Q7 TDI Quattro Premium Plus",
          "Quattro",
          "Quattro",
          "Quattro",
          "Quattro",
          "Quattro",
          "Quattro",
          "Quattro",
          "Quattro",
          "Quattro",
          "Quattro",
          "Quattro",
          "Quattro",
          "Quattro",
          "Quattro",
          "Quattro",
          "Quattro",
          "Quattro",
          "Quattro",
          "Quattro",
          "Quattro",
          "Quattro",
          "Quattro",
          "Quattro",
          "Quattro",
          "Quattro 6-Speed",
          "Quattro 6-Speed",
          "Quattro Project",
          "Quattro Project",
          "R8",
          "R8",
          "R8",
          "R8",
          "R8",
          "R8",
          "R8",
          "R8",
          "R8 4.2 6-Speed",
          "R8 4.2 6-Speed",
          "R8 4.2 Coupe",
          "R8 5.2 V10 FSI Coupe",
          "R8 6-Speed",
          "R8 6-Speed",
          "R8 6-Speed",
          "R8 6-Speed",
          "R8 6-Speed",
          "R8 6-Speed",
          "R8 6-Speed",
          "R8 6-Speed",
          "R8 6-Speed",
          "R8 6-Speed",
          "R8 6-Speed",
          "R8 6-Speed",
          "R8 6-Speed",
          "R8 6-Speed",
          "R8 6-Speed",
          "R8 6-Speed",
          "R8 6-Speed",
          "R8 6-Speed",
          "R8 6-Speed",
          "R8 6-Speed",
          "R8 6-Speed",
          "R8 Coupe",
          "R8 Coupe",
          "R8 Coupe",
          "R8 Coupe",
          "R8 Coupe",
          "R8 Coupe",
          "R8 Coupe",
          "R8 Coupe",
          "R8 Coupe",
          "R8 Coupe",
          "R8 Coupe",
          "R8 Coupe",
          "R8 Coupe",
          "R8 Coupe",
          "R8 Coupe",
          "R8 Coupe",
          "R8 Coupe",
          "R8 Coupe",
          "R8 Coupe",
          "R8 Coupe",
          "R8 Coupe",
          "R8 Coupe",
          "R8 Coupe",
          "R8 Coupe",
          "R8 Coupe",
          "R8 Coupe",
          "R8 Coupe",
          "R8 Coupe",
          "R8 Coupe",
          "R8 Coupe 6-Speed",
          "R8 Coupe 6-Speed",
          "R8 Coupe 6-Speed",
          "R8 Coupe 6-Speed",
          "R8 Coupe 6-Speed",
          "R8 Coupe 6-Speed",
          "R8 Coupe 6-Speed",
          "R8 Coupe 6-Speed",
          "R8 Coupe 6-Speed",
          "R8 Coupe 6-Speed",
          "R8 Coupe 6-Speed",
          "R8 Coupe 6-Speed",
          "R8 Coupe 6-Speed",
          "R8 Coupe 6-Speed",
          "R8 Coupe 6-Speed",
          "R8 Coupe 6-Speed",
          "R8 Coupe 6-Speed",
          "R8 Coupe 6-Speed",
          "R8 Coupe 6-Speed",
          "R8 Coupe 6-Speed",
          "R8 Coupe 6-Speed",
          "R8 Coupe 6-Speed",
          "R8 Coupe 6-Speed",
          "R8 Coupe 6-Speed",
          "R8 Coupe 6-Speed",
          "R8 Coupe 6-Speed",
          "R8 Coupe 6-Speed",
          "R8 Coupe 6-Speed",
          "R8 Coupe 6-Speed",
          "R8 Coupe 6-Speed",
          "R8 Coupe 6-Speed",
          "R8 Coupe 6-Speed",
          "R8 Coupe 6-Speed",
          "R8 Coupe 6-Speed",
          "R8 Coupe 6-Speed",
          "R8 Coupe 6-Speed",
          "R8 Coupe 6-Speed",
          "R8 Coupe 6-Speed",
          "R8 Coupe 6-Speed",
          "R8 Coupe 6-Speed",
          "R8 Coupe 6-Speed",
          "R8 Coupe 6-Speed",
          "R8 Coupe 6-Speed",
          "R8 Coupe 6-Speed",
          "R8 Coupe 6-Speed",
          "R8 Coupe 6-Speed",
          "R8 Coupe 6-Speed",
          "R8 Coupe 6-Speed",
          "R8 Coupe V10",
          "R8 Coupe V10 6-Speed",
          "R8 Coupe V10 Plus",
          "R8 GT",
          "R8 GT Coupe",
          "R8 GT Coupe",
          "R8 GT Coupe",
          "R8 GT Coupe",
          "R8 GT Coupe V10",
          "R8 GT Spyder",
          "R8 GT Spyder",
          "R8 GT Spyder",
          "R8 GT Spyder V10",
          "R8 GT Spyder V10",
          "R8 GT Spyder V10",
          "R8 GT Spyder V10",
          "R8 GT Spyder V10 6-Speed Conversion",
          "R8 GT V10 6-Speed Conversion",
          "R8 LMS GT4 EVO Race Car",
          "R8 LMS GT4 Race Car",
          "R8 LMS Ultra Race Car",
          "R8 LMS Ultra Race Car",
          "R8 Performance Coupe",
          "R8 Performance V10 Spyder",
          "R8 RWS",
          "R8 Spyder",
          "R8 Spyder",
          "R8 Spyder",
          "R8 Spyder",
          "R8 Spyder",
          "R8 Spyder",
          "R8 Spyder",
          "R8 Spyder",
          "R8 Spyder",
          "R8 Spyder 6-Speed",
          "R8 Spyder 6-Speed",
          "R8 Spyder 6-Speed",
          "R8 Spyder 6-Speed",
          "R8 Spyder 6-Speed",
          "R8 Spyder 6-Speed",
          "R8 Spyder 6-Speed",
          "R8 Spyder V10",
          "R8 Spyder V10",
          "R8 Spyder V10 6-Speed",
          "R8 Spyder V10 6-Speed",
          "R8 Spyder V10 6-Speed",
          "R8 Spyder V10 6-Speed",
          "R8 V10",
          "R8 V10",
          "R8 V10",
          "R8 V10",
          "R8 V10",
          "R8 V10",
          "R8 V10",
          "R8 V10",
          "R8 V10",
          "R8 V10",
          "R8 V10",
          "R8 V10",
          "R8 V10",
          "R8 V10",
          "R8 V10",
          "R8 V10 6-Speed",
          "R8 V10 6-Speed",
          "R8 V10 6-Speed",
          "R8 V10 6-Speed",
          "R8 V10 6-Speed",
          "R8 V10 6-Speed",
          "R8 V10 6-Speed",
          "R8 V10 6-Speed",
          "R8 V10 6-Speed",
          "R8 V10 6-Speed",
          "R8 V10 6-Speed",
          "R8 V10 6-Speed",
          "R8 V10 6-Speed",
          "R8 V10 6-Speed",
          "R8 V10 6-Speed",
          "R8 V10 6-Speed",
          "R8 V10 6-Speed",
          "R8 V10 6-Speed",
          "R8 V10 6-Speed",
          "R8 V10 6-Speed",
          "R8 V10 6-Speed",
          "R8 V10 6-Speed",
          "R8 V10 6-Speed",
          "R8 V10 6-Speed",
          "R8 V10 Competition",
          "R8 V10 Competition",
          "R8 V10 Competition",
          "R8 V10 Competition",
          "R8 V10 Competition",
          "R8 V10 Competition Coupe",
          "R8 V10 Competition Coupe",
          "R8 V10 Coupe",
          "R8 V10 Coupe",
          "R8 V10 Coupe",
          "R8 V10 Coupe",
          "R8 V10 Coupe",
          "R8 V10 Coupe",
          "R8 V10 Coupe",
          "R8 V10 Coupe",
          "R8 V10 Coupe",
          "R8 V10 Coupe",
          "R8 V10 Coupe",
          "R8 V10 Coupe",
          "R8 V10 Coupe",
          "R8 V10 Coupe",
          "R8 V10 Coupe",
          "R8 V10 Coupe",
          "R8 V10 Coupe",
          "R8 V10 Coupe",
          "R8 V10 Coupe",
          "R8 V10 Coupe",
          "R8 V10 Coupe",
          "R8 V10 Coupe",
          "R8 V10 Coupe",
          "R8 V10 Coupe",
          "R8 V10 Coupe",
          "R8 V10 Coupe",
          "R8 V10 Coupe",
          "R8 V10 Coupe",
          "R8 V10 Coupe",
          "R8 V10 Coupe",
          "R8 V10 Coupe",
          "R8 V10 Coupe",
          "R8 V10 Coupe",
          "R8 V10 Coupe",
          "R8 V10 Coupe",
          "R8 V10 Coupe",
          "R8 V10 Coupe",
          "R8 V10 Coupe",
          "R8 V10 Coupe",
          "R8 V10 Coupe 6-Speed",
          "R8 V10 Coupe 6-Speed",
          "R8 V10 Coupe 6-Speed",
          "R8 V10 Coupe 6-Speed",
          "R8 V10 Coupe 6-Speed",
          "R8 V10 Coupe 6-Speed",
          "R8 V10 Coupe 6-Speed",
          "R8 V10 Coupe 6-Speed",
          "R8 V10 Coupe 6-Speed",
          "R8 V10 Coupe 6-Speed",
          "R8 V10 Coupe 6-Speed",
          "R8 V10 Coupe 6-Speed",
          "R8 V10 Coupe 6-Speed",
          "R8 V10 Coupe 6-Speed",
          "R8 V10 Coupe 6-Speed",
          "R8 V10 Coupe 6-Speed",
          "R8 V10 Coupe 6-Speed",
          "R8 V10 Coupe 6-Speed",
          "R8 V10 Coupe 6-Speed",
          "R8 V10 Coupe 6-Speed",
          "R8 V10 Coupe 6-Speed",
          "R8 V10 Coupe 6-Speed",
          "R8 V10 Coupe 6-Speed",
          "R8 V10 Coupe 6-Speed",
          "R8 V10 Coupe 6-Speed",
          "R8 V10 Coupe 6-Speed",
          "R8 V10 Coupe 6-Speed",
          "R8 V10 Coupe 6-Speed",
          "R8 V10 Coupe 6-Speed",
          "R8 V10 Coupe 6-Speed",
          "R8 V10 Coupe 6-Speed",
          "R8 V10 Coupe 6-Speed",
          "R8 V10 Coupe 6-Speed",
          "R8 V10 Coupe 6-Speed",
          "R8 V10 Coupe 6-Speed",
          "R8 V10 Coupe 6-Speed",
          "R8 V10 Coupe 6-Speed",
          "R8 V10 Coupe 6-Speed",
          "R8 V10 Coupe 6-Speed",
          "R8 V10 Coupe 6-Speed",
          "R8 V10 Coupe 6-Speed",
          "R8 V10 Coupe 6-Speed",
          "R8 V10 Coupe 6-Speed",
          "R8 V10 Coupe 6-Speed",
          "R8 V10 Coupe 6-Speed",
          "R8 V10 Coupe 6-Speed",
          "R8 V10 Coupe 6-Speed",
          "R8 V10 Coupe 6-Speed",
          "R8 V10 Coupe 6-Speed",
          "R8 V10 Coupe 6-Speed",
          "R8 V10 Coupe 6-Speed",
          "R8 V10 Coupe 6-Speed",
          "R8 V10 Coupe 6-Speed Conversion",
          "R8 V10 Coupe 6-Speed Conversion",
          "R8 V10 Coupe 6-Speed Conversion",
          "R8 V10 Coupe 6-Speed Conversion",
          "R8 V10 Coupe 6-Speed STaSIS Challenge Extreme Edition",
          "R8 V10 Coupe Exclusive Selection Edition",
          "R8 V10 Coupe Limited Edition",
          "R8 V10 Coupe RWS",
          "R8 V10 Coupe RWS",
          "R8 V10 Coupe RWS",
          "R8 V10 Coupe RWS",
          "R8 V10 Coupe RWS",
          "R8 V10 Coupe RWS",
          "R8 V10 Coupe RWS",
          "R8 V10 Coupe RWS S Tronic",
          "R8 V10 Coupe RWS S Tronic",
          "R8 V10 Coupe RWS S Tronic",
          "R8 V10 Exclusive Selection Edition",
          "R8 V10 Exclusive Selection Edition 6-Speed",
          "R8 V10 Exclusive Selection Edition 6-Speed",
          "R8 V10 Exclusive Selection Edition 6-Speed",
          "R8 V10 GT",
          "R8 V10 GT",
          "R8 V10 GT",
          "R8 V10 GT Coupe",
          "R8 V10 Performance Coupe",
          "R8 V10 Performance Coupe",
          "R8 V10 Performance Coupe Quattro",
          "R8 V10 Performance Coupe Quattro",
          "R8 V10 Performance Panther Edition",
          "R8 V10 Performance Quattro Coupe",
          "R8 V10 Performance Quattro Coupe",
          "R8 V10 Performance RWD Coupe",
          "R8 V10 Performance Spyder",
          "R8 V10 Performance Spyder",
          "R8 V10 Performance Spyder",
          "R8 V10 Performance Spyder RWD",
          "R8 V10 Performance Spyder RWD",
          "R8 V10 Performance Spyder RWD",
          "R8 V10 Performance Spyder RWD",
          "R8 V10 Plus",
          "R8 V10 Plus Coupe",
          "R8 V10 Plus Coupe",
          "R8 V10 Plus Coupe",
          "R8 V10 Plus Coupe",
          "R8 V10 Plus Coupe",
          "R8 V10 Plus Coupe",
          "R8 V10 Plus Coupe",
          "R8 V10 Plus Coupe",
          "R8 V10 Plus Coupe",
          "R8 V10 Plus Coupe",
          "R8 V10 Plus Coupe",
          "R8 V10 Plus Coupe",
          "R8 V10 Plus Coupe",
          "R8 V10 Plus Coupe",
          "R8 V10 Plus Coupe",
          "R8 V10 Plus Coupe",
          "R8 V10 Plus Coupe",
          "R8 V10 Plus Coupe",
          "R8 V10 Plus Coupe",
          "R8 V10 Plus Coupe",
          "R8 V10 Plus Coupe",
          "R8 V10 Plus Coupe",
          "R8 V10 Plus Coupe",
          "R8 V10 Plus Coupe",
          "R8 V10 Plus Coupe",
          "R8 V10 Plus Coupe 6-Speed",
          "R8 V10 Plus Coupe 6-Speed",
          "R8 V10 Plus Coupe Competition Package",
          "R8 V10 Plus Spyder",
          "R8 V10 Plus Spyder",
          "R8 V10 Spider 6-Speed",
          "R8 V10 Spyder",
          "R8 V10 Spyder",
          "R8 V10 Spyder",
          "R8 V10 Spyder",
          "R8 V10 Spyder",
          "R8 V10 Spyder",
          "R8 V10 Spyder",
          "R8 V10 Spyder",
          "R8 V10 Spyder",
          "R8 V10 Spyder",
          "R8 V10 Spyder",
          "R8 V10 Spyder",
          "R8 V10 Spyder",
          "R8 V10 Spyder",
          "R8 V10 Spyder",
          "R8 V10 Spyder",
          "R8 V10 Spyder",
          "R8 V10 Spyder",
          "R8 V10 Spyder",
          "R8 V10 Spyder",
          "R8 V10 Spyder",
          "R8 V10 Spyder",
          "R8 V10 Spyder",
          "R8 V10 Spyder",
          "R8 V10 Spyder",
          "R8 V10 Spyder",
          "R8 V10 Spyder",
          "R8 V10 Spyder",
          "R8 V10 Spyder",
          "R8 V10 Spyder",
          "R8 V10 Spyder",
          "R8 V10 Spyder",
          "R8 V10 Spyder",
          "R8 V10 Spyder",
          "R8 V10 Spyder",
          "R8 V10 Spyder",
          "R8 V10 Spyder",
          "R8 V10 Spyder",
          "R8 V10 Spyder",
          "R8 V10 Spyder",
          "R8 V10 Spyder",
          "R8 V10 Spyder",
          "R8 V10 Spyder",
          "R8 V10 Spyder",
          "R8 V10 Spyder",
          "R8 V10 Spyder",
          "R8 V10 Spyder",
          "R8 V10 Spyder",
          "R8 V10 Spyder",
          "R8 V10 Spyder",
          "R8 V10 Spyder",
          "R8 V10 Spyder",
          "R8 V10 Spyder",
          "R8 V10 Spyder",
          "R8 V10 Spyder",
          "R8 V10 Spyder 6-Speed",
          "R8 V10 Spyder 6-Speed",
          "R8 V10 Spyder 6-Speed",
          "R8 V10 Spyder 6-Speed",
          "R8 V10 Spyder 6-Speed",
          "R8 V10 Spyder 6-Speed",
          "R8 V10 Spyder 6-Speed",
          "R8 V10 Spyder 6-Speed",
          "R8 V10 Spyder 6-Speed",
          "R8 V10 Spyder 6-Speed",
          "R8 V10 Spyder 6-Speed",
          "R8 V10 Spyder 6-Speed",
          "R8 V10 Spyder 6-Speed",
          "R8 V10 Spyder 6-Speed",
          "R8 V10 Spyder 6-Speed",
          "R8 V10 Spyder 6-Speed",
          "R8 V10 Spyder 6-Speed",
          "R8 V10 Spyder 6-Speed",
          "R8 V10 Spyder 6-Speed",
          "R8 V10 Spyder 6-Speed",
          "R8 V10 Spyder 6-Speed",
          "R8 V10 Spyder 6-Speed",
          "R8 V10 Spyder 6-Speed",
          "R8 V10 Spyder 6-Speed",
          "R8 V10 Spyder 6-Speed",
          "R8 V10 Spyder 6-Speed",
          "R8 V10 Spyder 6-Speed",
          "R8 V10 Spyder 6-Speed",
          "R8 V10 Spyder 6-Speed",
          "R8 V10 Spyder 6-Speed",
          "R8 V10 Spyder 6-Speed",
          "R8 V10 Spyder 6-Speed",
          "R8 V10 Spyder 6-Speed",
          "R8 V10 Spyder 6-Speed",
          "R8 V10 Spyder 6-Speed",
          "R8 V10 Spyder 6-Speed",
          "R8 V10 Spyder 6-Speed",
          "R8 V10 Spyder 6-Speed",
          "R8 V10 Spyder 6-Speed",
          "R8 V8 6-Speed",
          "R8 V8 Spyder 6-Speed",
          "Roadster TT 225 Quattro 6-Speed",
          "RS2 Avant",
          "RS2 Avant",
          "RS2 Avant",
          "RS2 Avant",
          "RS2 Avant",
          "RS2 Avant",
          "RS2 Avant",
          "RS2 Avant",
          "RS2 Avant",
          "RS2 Avant",
          "RS2 Avant",
          "RS2 Avant",
          "RS2 Avant",
          "RS2 Avant",
          "RS2 Avant",
          "RS2 Avant",
          "RS2 Avant",
          "RS2 Avant",
          "RS3",
          "RS3",
          "RS3",
          "RS3",
          "RS3",
          "RS3",
          "RS3",
          "RS3",
          "RS3",
          "RS3",
          "RS3",
          "RS3",
          "RS3",
          "RS4",
          "RS4",
          "RS4",
          "RS4",
          "RS4",
          "RS4",
          "RS4",
          "RS4",
          "RS4",
          "RS4",
          "RS4",
          "RS4",
          "RS4",
          "RS4",
          "RS4",
          "RS4",
          "RS4",
          "RS4",
          "RS4",
          "RS4",
          "RS4",
          "RS4",
          "RS4",
          "RS4",
          "RS4",
          "RS4",
          "RS4",
          "RS4",
          "RS4",
          "RS4",
          "RS4",
          "RS4",
          "RS4",
          "RS4",
          "RS4",
          "RS4",
          "RS4",
          "RS4",
          "RS4",
          "RS4",
          "RS4",
          "RS4",
          "RS4",
          "RS4",
          "RS4",
          "RS4",
          "RS4",
          "RS4",
          "RS4",
          "RS4",
          "RS4",
          "RS4",
          "RS4",
          "RS4",
          "RS4",
          "RS4",
          "RS4",
          "RS4",
          "RS4",
          "RS4",
          "RS4",
          "RS4",
          "RS4",
          "RS4",
          "RS4",
          "RS4",
          "RS4",
          "RS4",
          "RS4",
          "RS4",
          "RS4",
          "RS4",
          "RS4",
          "RS4",
          "RS4",
          "RS4",
          "RS4",
          "RS4",
          "RS4",
          "RS4",
          "RS4",
          "RS4",
          "RS4",
          "RS4",
          "RS4",
          "RS4",
          "RS4",
          "RS4",
          "RS4",
          "RS4",
          "RS4",
          "RS4",
          "RS4",
          "RS4",
          "RS4",
          "RS4",
          "RS4",
          "RS4",
          "RS4",
          "RS4",
          "RS4",
          "RS4",
          "RS4",
          "RS4",
          "RS4",
          "RS4",
          "RS4",
          "RS4",
          "RS4",
          "RS4",
          "RS4",
          "RS4",
          "RS4",
          "RS4",
          "RS4",
          "RS4",
          "RS4",
          "RS4",
          "RS4",
          "RS4",
          "RS4",
          "RS4",
          "RS4",
          "RS4",
          "RS4",
          "RS4",
          "RS4",
          "RS4",
          "RS4",
          "RS4",
          "RS4",
          "RS4",
          "RS4",
          "RS4",
          "RS4",
          "RS4",
          "RS4",
          "RS4",
          "RS4",
          "RS4",
          "RS4",
          "RS4",
          "RS4",
          "RS4",
          "RS4",
          "RS4",
          "RS4",
          "RS4",
          "RS4",
          "RS4",
          "RS4",
          "RS4",
          "RS4",
          "RS4",
          "RS4",
          "RS4",
          "RS4",
          "RS4",
          "RS4",
          "RS4",
          "RS4",
          "RS4",
          "RS4",
          "RS4",
          "RS4",
          "RS4",
          "RS4",
          "RS4",
          "RS4",
          "RS4",
          "RS4",
          "RS4",
          "RS4",
          "RS4",
          "RS4",
          "RS4",
          "RS4",
          "RS4",
          "RS4",
          "RS4",
          "RS4",
          "RS4",
          "RS4",
          "RS4",
          "RS4",
          "RS4",
          "RS4",
          "RS4",
          "RS4",
          "RS4",
          "RS4",
          "RS4",
          "RS4",
          "RS4",
          "RS4",
          "RS4",
          "RS4",
          "RS4",
          "RS4",
          "RS4",
          "RS4",
          "RS4",
          "RS4",
          "RS4",
          "RS4",
          "RS4",
          "RS4",
          "RS4",
          "RS4",
          "RS4",
          "RS4",
          "RS4",
          "RS4",
          "RS4",
          "RS4 6-Speed",
          "RS4 6-Speed",
          "RS4 6-Speed",
          "RS4 6-Speed",
          "RS4 Avant",
          "RS4 Avant",
          "RS4 Avant",
          "RS4 Avant 6-Speed",
          "RS4 Avant 6-Speed",
          "RS4 Avant 6-Speed",
          "RS4 Avant 6-Speed",
          "RS4 Avant 6-Speed",
          "RS4 Avant Clone 6-Speed",
          "RS4 Cabriolet",
          "RS4 Cabriolet",
          "RS4 Cabriolet",
          "RS4 Cabriolet",
          "RS4 Cabriolet",
          "RS4 Cabriolet",
          "RS4 Cabriolet",
          "RS4 Cabriolet",
          "RS4 Cabriolet",
          "RS4 Cabriolet",
          "RS4 Cabriolet",
          "RS4 Cabriolet",
          "RS4 Cabriolet",
          "RS4 Cabriolet",
          "RS4 Cabriolet",
          "RS4 Cabriolet",
          "RS4 Cabriolet",
          "RS4 Cabriolet",
          "RS4 Cabriolet",
          "RS4 Cabriolet",
          "RS4 Cabriolet",
          "RS4 Cabriolet",
          "RS4 Cabriolet",
          "RS4 Project",
          "RS5",
          "RS5",
          "RS5",
          "RS5",
          "RS5",
          "RS5",
          "RS5",
          "RS5",
          "RS5",
          "RS5",
          "RS5",
          "RS5",
          "RS5",
          "RS5",
          "RS5 Cabriolet",
          "RS5 Cabriolet",
          "RS5 Cabriolet",
          "RS5 Cabriolet",
          "RS5 Cabriolet",
          "RS5 Cabriolet",
          "RS5 Cabriolet",
          "RS5 Coupe",
          "RS5 Coupe",
          "RS5 Coupe",
          "RS5 Coupe",
          "RS5 Coupe",
          "RS5 Coupe",
          "RS5 Coupe",
          "RS5 Coupe",
          "RS5 Coupe Competition Package",
          "RS5 Coupe Sport Edition",
          "RS5 Sportback",
          "RS5 Sportback",
          "RS5 Sportback",
          "RS5 Sportback",
          "RS5 Sportback",
          "RS5 Sportback Panther Edition",
          "RS6",
          "RS6",
          "RS6",
          "RS6",
          "RS6",
          "RS6",
          "RS6",
          "RS6",
          "RS6",
          "RS6",
          "RS6",
          "RS6",
          "RS6",
          "RS6",
          "RS6",
          "RS6",
          "RS6",
          "RS6",
          "RS6",
          "RS6",
          "RS6",
          "RS6",
          "RS6",
          "RS6",
          "RS6",
          "RS6",
          "RS6",
          "RS6",
          "RS6",
          "RS6",
          "RS6",
          "RS6",
          "RS6",
          "RS6",
          "RS6",
          "RS6",
          "RS6",
          "RS6",
          "RS6",
          "RS6",
          "RS6",
          "RS6",
          "RS6",
          "RS6",
          "RS6",
          "RS6",
          "RS6",
          "RS6",
          "RS6",
          "RS6",
          "RS6",
          "RS6",
          "RS6",
          "RS6",
          "RS6",
          "RS6",
          "RS6",
          "RS6",
          "RS6",
          "RS6",
          "RS6",
          "RS6",
          "RS6",
          "RS6",
          "RS6",
          "RS6",
          "RS6",
          "RS6",
          "RS6",
          "RS6",
          "RS6",
          "RS6",
          "RS6",
          "RS6",
          "RS6",
          "RS6",
          "RS6",
          "RS6",
          "RS6",
          "RS6",
          "RS6",
          "RS6",
          "RS6",
          "RS6",
          "RS6 6-Speed",
          "RS6 6-Speed",
          "RS6 6-Speed",
          "RS6 6-Speed",
          "RS6 6-Speed",
          "RS6 6-Speed",
          "RS6 6-Speed",
          "RS6 6-Speed Manual",
          "RS6 Avant",
          "RS6 Avant",
          "RS6 Avant",
          "RS6 Avant",
          "RS6 Avant",
          "RS6 Avant",
          "RS6 Avant",
          "RS6 Avant",
          "RS6 Avant",
          "RS6 Avant",
          "RS6 Avant",
          "RS6 Avant",
          "RS6 Avant",
          "RS6 Avant",
          "RS6 Avant",
          "RS6 Avant",
          "RS6 Avant",
          "RS6 Avant",
          "RS6 Avant",
          "RS6 Avant",
          "RS6 Avant",
          "RS6 Avant",
          "RS6 Avant",
          "RS6 Avant",
          "RS6 Avant",
          "RS6 Avant",
          "RS6 Avant",
          "RS6 Avant",
          "RS6 Avant",
          "RS6 Avant",
          "RS6 Avant",
          "RS6 Avant",
          "RS6 Avant",
          "RS6 Avant",
          "RS6 Avant",
          "RS6 Avant",
          "RS6 Avant",
          "RS6 Avant",
          "RS6 Avant",
          "RS6 Avant",
          "RS6 Avant",
          "RS6 Avant",
          "RS6 Avant",
          "RS6 Avant",
          "RS6 Avant",
          "RS6 Avant",
          "RS6 Avant",
          "RS6 Avant",
          "RS6 Avant",
          "RS6 Avant",
          "RS6 Avant Performance",
          "RS6 Avant Performance",
          "RS6 Avant Performance",
          "RS6 Avant Performance",
          "RS6 Avant Performance",
          "RS6 Avant Performance",
          "RS6 Avant Performance Bronze Edition",
          "RS7",
          "RS7",
          "RS7",
          "RS7",
          "RS7",
          "RS7",
          "RS7",
          "RS7",
          "RS7",
          "RS7",
          "RS7",
          "RS7",
          "RS7",
          "RS7",
          "RS7",
          "RS7",
          "RS7",
          "RS7",
          "RS7",
          "RS7 Dynamic Edition",
          "RS7 Performance",
          "RS7 Performance Bronze Edition",
          "RS e-tron GT",
          "RS e-tron GT",
          "RS e-tron GT Year One Package",
          "RS Q8",
          "RS Q8",
          "RS Q8",
          "RS Q8",
          "S2 Avant",
          "S2 Avant",
          "S2 Coupe",
          "S3",
          "S3 Launch Edition",
          "S4",
          "S4",
          "S4",
          "S4",
          "S4",
          "S4",
          "S4",
          "S4",
          "S4",
          "S4",
          "S4",
          "S4",
          "S4",
          "S4",
          "S4",
          "S4",
          "S4",
          "S4",
          "S4",
          "S4",
          "S4",
          "S4",
          "S4",
          "S4",
          "S4",
          "S4",
          "S4",
          "S4",
          "S4",
          "S4",
          "S4",
          "S4",
          "S4 25quattro",
          "S4 25quattro 6-Speed",
          "S4 25Quattro 6-Speed",
          "S4 25quattro Special Edition",
          "S4 25quattro Special Edition",
          "S4 25quattro Special Edition 6-Speed",
          "S4 5-Speed",
          "S4 5-Speed",
          "S4 5-Speed",
          "S4 5-Speed",
          "S4 5-Speed",
          "S4 6-Speed",
          "S4 6-Speed",
          "S4 6-Speed",
          "S4 6-Speed",
          "S4 6-Speed",
          "S4 6-Speed",
          "S4 6-Speed",
          "S4 6-Speed",
          "S4 6-Speed",
          "S4 6-Speed",
          "S4 6-Speed",
          "S4 6-Speed",
          "S4 6-Speed",
          "S4 6-Speed",
          "S4 6-Speed",
          "S4 6-Speed",
          "S4 6-Speed",
          "S4 6-Speed",
          "S4 6-Speed",
          "S4 6-Speed",
          "S4 6-Speed",
          "S4 6-Speed",
          "S4 6-Speed",
          "S4 6-Speed",
          "S4 6-Speed",
          "S4 6-Speed",
          "S4 6-Speed",
          "S4 6-Speed",
          "S4 6-Speed",
          "S4 6-Speed",
          "S4 6-Speed",
          "S4 6-Speed",
          "S4 6-Speed",
          "S4 6-Speed",
          "S4 6-Speed",
          "S4 6-Speed",
          "S4 6-Speed",
          "S4 6-Speed",
          "S4 6-Speed",
          "S4 6-Speed",
          "S4 6-Speed",
          "S4 6-Speed",
          "S4 6-Speed",
          "S4 6-Speed",
          "S4 6-Speed",
          "S4 6-Speed",
          "S4 6-Speed",
          "S4 6-Speed",
          "S4 6-Speed",
          "S4 6-Speed",
          "S4 6-Speed",
          "S4 6-Speed",
          "S4 6-Speed",
          "S4 6-Speed",
          "S4 6-Speed",
          "S4 6-Speed",
          "S4 6-Speed",
          "S4 6-Speed",
          "S4 6-Speed",
          "S4 6-Speed",
          "S4 6-Speed",
          "S4 6-Speed",
          "S4 6-Speed",
          "S4 6-Speed",
          "S4 6-Speed",
          "S4 6-Speed",
          "S4 6-Speed",
          "S4 6-Speed",
          "S4 6-Speed",
          "S4 6-Speed",
          "S4 6-Speed",
          "S4 6-Speed",
          "S4 6-Speed",
          "S4 6-Speed",
          "S4 6-Speed",
          "S4 6-Speed",
          "S4 6-Speed",
          "S4 6-Speed",
          "S4 6-Speed",
          "S4 6-Speed",
          "S4 6-Speed",
          "S4 6-Speed",
          "S4 6-Speed",
          "S4 6-Speed",
          "S4 6-Speed",
          "S4 6-Speed",
          "S4 6-Speed",
          "S4 6-Speed",
          "S4 6-Speed",
          "S4 6-Speed",
          "S4 6-Speed",
          "S4 6-Speed",
          "S4 6-Speed",
          "S4 6-Speed",
          "S4 6-Speed",
          "S4 6-Speed",
          "S4 6-Speed",
          "S4 6-Speed",
          "S4 6-Speed",
          "S4 6-Speed",
          "S4 6-Speed",
          "S4 6-Speed",
          "S4 6-Speed",
          "S4 6-Speed",
          "S4 6-Speed",
          "S4 6-Speed",
          "S4 6-Speed",
          "S4 6-Speed",
          "S4 6-Speed",
          "S4 6-Speed",
          "S4 6-Speed",
          "S4 6-Speed",
          "S4 6-Speed",
          "S4 6-Speed Show Car",
          "S4 Avant",
          "S4 Avant",
          "S4 Avant",
          "S4 Avant",
          "S4 Avant",
          "S4 Avant",
          "S4 Avant",
          "S4 Avant",
          "S4 Avant",
          "S4 Avant",
          "S4 Avant",
          "S4 Avant",
          "S4 Avant",
          "S4 Avant",
          "S4 Avant",
          "S4 Avant",
          "S4 Avant",
          "S4 Avant",
          "S4 Avant 6-Speed",
          "S4 Avant 6-Speed",
          "S4 Avant 6-Speed",
          "S4 Avant 6-Speed",
          "S4 Avant 6-Speed",
          "S4 Avant 6-Speed",
          "S4 Avant 6-Speed",
          "S4 Avant 6-Speed",
          "S4 Avant 6-Speed",
          "S4 Avant 6-Speed",
          "S4 Avant 6-Speed",
          "S4 Avant 6-Speed",
          "S4 Avant 6-Speed",
          "S4 Avant 6-Speed",
          "S4 Avant 6-Speed",
          "S4 Avant 6-Speed",
          "S4 Avant 6-Speed",
          "S4 Avant 6-Speed",
          "S4 Avant 6-Speed",
          "S4 Avant 6-Speed",
          "S4 Avant 6-Speed",
          "S4 Avant 6-Speed",
          "S4 Avant 6-Speed",
          "S4 Avant 6-Speed",
          "S4 Avant 6-Speed",
          "S4 Avant 6-Speed",
          "S4 Avant 6-Speed",
          "S4 Avant 6-Speed",
          "S4 Avant 6-Speed",
          "S4 Avant 6-Speed",
          "S4 Avant 6-Speed",
          "S4 Avant 6-Speed",
          "S4 Avant 6-Speed",
          "S4 Avant 6-Speed",
          "S4 Avant 6-Speed",
          "S4 Avant 6-Speed",
          "S4 Avant 6-Speed",
          "S4 Avant 6-Speed",
          "S4 Avant 6-Speed",
          "S4 Avant 6-Speed",
          "S4 Avant 6-Speed",
          "S4 Avant 6-Speed",
          "S4 Avant 6-Speed",
          "S4 Avant 6-Speed",
          "S4 Avant 6-Speed",
          "S4 Avant 6-Speed",
          "S4 Avant 6-Speed",
          "S4 Avant 6-Speed",
          "S4 Avant 6-Speed",
          "S4 Avant 6-Speed",
          "S4 Avant 6-Speed",
          "S4 Avant 6-Speed",
          "S4 Avant 6-Speed",
          "S4 Avant 6-Speed",
          "S4 Avant 6-Speed",
          "S4 Avant 6-Speed",
          "S4 Avant 6-Speed",
          "S4 Avant 6-Speed",
          "S4 Avant 6-Speed",
          "S4 Avant 6-Speed",
          "S4 Avant 6-Speed",
          "S4 Avant 6-Speed",
          "S4 Avant 6-Speed",
          "S4 Avant 6-Speed",
          "S4 Avant 6-Speed",
          "S4 Avant 6-Speed",
          "S4 Avant 6-Speed",
          "S4 Avant 6-Speed",
          "S4 Avant 6-Speed",
          "S4 Avant 6-Speed",
          "S4 Avant 6-Speed",
          "S4 Avant 6-Speed",
          "S4 Avant 6-Speed",
          "S4 Avant 6-Speed",
          "S4 Avant 6-Speed",
          "S4 Avant 6-Speed",
          "S4 Avant 6-Speed",
          "S4 Avant 6-Speed",
          "S4 Avant 6-Speed",
          "S4 Avant 6-Speed",
          "S4 Avant 6-Speed",
          "S4 Avant 6-Speed",
          "S4 Avant 6-Speed",
          "S4 Avant 6-Speed",
          "S4 Avant 6-Speed",
          "S4 Avant 6-Speed",
          "S4 Avant 6-Speed",
          "S4 Avant 6-Speed",
          "S4 Avant 6-Speed",
          "S4 Avant 6-Speed",
          "S4 Avant 6-Speed",
          "S4 Avant 6-Speed",
          "S4 Avant 6-Speed",
          "S4 Avant 6-Speed",
          "S4 Avant 6-Speed",
          "S4 Avant 6-Speed",
          "S4 Avant 6-Speed",
          "S4 Avant 6-Speed",
          "S4 Avant 6-Speed",
          "S4 Avant 6-Speed",
          "S4 Avant 6-Speed",
          "S4 Avant 6-Speed",
          "S4 Avant 6-Speed",
          "S4 Avant 6-Speed",
          "S4 Avant 6-Speed",
          "S4 Avant 6-Speed",
          "S4 Avant 6-Speed",
          "S4 Avant 6-Speed",
          "S4 Avant 6-Speed",
          "S4 Avant 6-Speed",
          "S4 Avant 6-Speed",
          "S4 Avant 6-Speed",
          "S4 Avant 6-Speed Project",
          "S4 Avant 6-Speed Project",
          "S4 Avant Quattro 6-Speed",
          "S4 Cabriolet",
          "S4 Cabriolet",
          "S4 Cabriolet",
          "S4 Cabriolet",
          "S4 Cabriolet",
          "S4 Cabriolet",
          "S4 Cabriolet 6-Speed",
          "S4 Cabriolet 6-Speed",
          "S4 Cabriolet 6-Speed",
          "S4 Cabriolet 6-Speed",
          "S4 Cabriolet 6-Speed",
          "S4 Cabriolet 6-Speed",
          "S4 Convertible 6-Speed",
          "S4 Nogaro Blue Edition",
          "S4 Nogaro Blue Edition",
          "S4 Premium Plus 6-Speed",
          "S4 Premium Plus 6-Speed",
          "S4 Prestige",
          "S4 Sedan",
          "S4 Sedan",
          "S4 Sedan 6-Speed",
          "S4 Sedan 6-Speed",
          "S4 Sedan 6-Speed",
          "S4 Sedan 6-Speed",
          "S4 Sedan 6-Speed",
          "S4 Sedan 6-Speed",
          "S4 Sedan 6-Speed",
          "S4 Sedan 6-Speed",
          "S4 Sedan 6-Speed",
          "S5 6-Speed",
          "S5 6-Speed",
          "S5 6-Speed",
          "S5 6-Speed",
          "S5 6-Speed",
          "S5 6-Speed",
          "S5 6-Speed",
          "S5 6-Speed",
          "S5 6-Speed",
          "S5 Cabriolet",
          "S5 Cabriolet",
          "S5 Cabriolet",
          "S5 Cabriolet",
          "S5 Cabriolet",
          "S5 Cabriolet",
          "S5 Cabriolet",
          "S5 Cabriolet",
          "S5 Cabriolet Quattro",
          "S5 Coupe",
          "S5 Coupe",
          "S5 Coupe",
          "S5 Coupe",
          "S5 Coupe 6-Speed",
          "S5 Coupe 6-Speed",
          "S5 Coupe 6-Speed",
          "S5 Coupe 6-Speed",
          "S5 Coupe 6-Speed",
          "S5 Coupe 6-Speed",
          "S5 Coupe 6-Speed",
          "S5 Coupe 6-Speed",
          "S5 Coupe 6-Speed",
          "S5 Coupe 6-Speed",
          "S5 Coupe 6-Speed",
          "S5 Coupe 6-Speed",
          "S5 Coupe 6-Speed",
          "S5 Coupe 6-Speed",
          "S5 Coupe 6-Speed",
          "S5 Coupe 6-Speed",
          "S5 Coupe 6-Speed",
          "S5 Coupe 6-Speed",
          "S5 Coupe Quattro 6-Speed",
          "S5 Premium Plus 6-Speed",
          "S5 Premium Plus Cabriolet",
          "S5 Prestige",
          "S5 Prestige",
          "S5 Prestige 6-Speed",
          "S5 Prestige Cabriolet",
          "S5 Prestige Cabriolet",
          "S5 Prestige Cabriolet",
          "S5 Prestige Cabriolet",
          "S5 Prestige Cabriolet",
          "S5 Prestige Cabriolet",
          "S5 Prestige Cabriolet",
          "S5 Prestige Cabriolet",
          "S5 Prestige Cabriolet",
          "S5 Prestige Coupe 6-Speed",
          "S5 Prestige Coupe 6-Speed",
          "S5 Prestige Sportback",
          "S5 Sportback",
          "S5 Sportback Prestige",
          "S6",
          "S6",
          "S6",
          "S6",
          "S6",
          "S6",
          "S6",
          "S6",
          "S6",
          "S6",
          "S6",
          "S6",
          "S6",
          "S6",
          "S6",
          "S6",
          "S6",
          "S6",
          "S6",
          "S6",
          "S6",
          "S6 5-Speed",
          "S6 5-Speed",
          "S6 5-Speed",
          "S6 5-Speed",
          "S6 5-Speed",
          "S6 5-Speed",
          "S6 5-Speed",
          "S6 5-Speed",
          "S6 6-Speed",
          "S6 6-Speed",
          "S6 6-Speed",
          "S6 Avant",
          "S6 Avant",
          "S6 Avant",
          "S6 Avant",
          "S6 Avant",
          "S6 Avant",
          "S6 Avant",
          "S6 Avant",
          "S6 Avant",
          "S6 Avant",
          "S6 Avant 5-Speed",
          "S6 Avant 5-Speed",
          "S6 Avant 5-Speed",
          "S6 Avant 5-Speed",
          "S6 Avant 5-Speed",
          "S6 Avant 5-Speed",
          "S6 Avant 5-Speed",
          "S6 Avant 5-Speed",
          "S6 Avant 5-Speed",
          "S6 Avant 5-Speed",
          "S6 Avant 5-Speed",
          "S6 Avant 6-Speed",
          "S6 Avant 6-Speed",
          "S6 Avant 6-Speed",
          "S6 Avant 6-Speed",
          "S6 Avant 6-Speed",
          "S6 Avant 6-Speed",
          "S6 Avant 6-Speed",
          "S6 Avant 6-Speed",
          "S6 Avant 6-Speed",
          "S6 Avant 6-Speed",
          "S6 Avant 6-Speed",
          "S6 Avant 6-Speed",
          "S6 Plus Avant",
          "S6 Prestige",
          "S6 Quattro",
          "S6 Quattro",
          "S6 Quattro",
          "S6 Quattro Prestige",
          "S6 V10",
          "S7",
          "S7 Premium Plus",
          "S7 Premium Plus",
          "S7 Prestige",
          "S7 Prestige",
          "S7 Prestige",
          "S7 Prestige",
          "S7 Prestige",
          "S8",
          "S8",
          "S8",
          "S8",
          "S8",
          "S8",
          "S8",
          "S8",
          "S8",
          "S8",
          "S8",
          "S8",
          "S8",
          "S8",
          "S8",
          "S8",
          "S8",
          "S8",
          "S8",
          "S8",
          "S8",
          "S8",
          "S8",
          "S8",
          "S8",
          "S8",
          "S8",
          "S8",
          "S8",
          "S8",
          "S8",
          "S8",
          "S8",
          "S8",
          "S8",
          "S8",
          "S8",
          "S8",
          "S8",
          "S8",
          "S8",
          "S8",
          "S8",
          "S8",
          "S8",
          "S8 4.0T",
          "S8 6-Speed",
          "S8 6-Speed",
          "S8 6-Speed",
          "S8 6-Speed",
          "S8 6-Speed",
          "S8 6-Speed",
          "S8 6-Speed",
          "S8 6-Speed",
          "S8 6-Speed",
          "S8 6-Speed",
          "S8 6-Speed",
          "S8 6-Speed",
          "S8 Plus",
          "S8 Plus",
          "S8 Plus",
          "S8 Plus",
          "S8 Plus",
          "S8 Plus",
          "S8 V10",
          "S8 V10",
          "S8 V10",
          "S8 V10",
          "S8 V10",
          "S8 V10",
          "S8 V10",
          "Sport 90 Quattro 6-Speed",
          "Sport Quattro",
          "SQ5",
          "SQ5",
          "SQ5",
          "SQ5",
          "TT",
          "TT 3.2 Convertible",
          "TT 3.2 Coupe Quattro 6-Speed",
          "TT 3.2 Quattro",
          "TT 3.2 Quattro 6-Speed",
          "TT 3.2 Quattro 6-Speed",
          "TT 3.2 Quattro Coupe",
          "TT 3.2 Roadster Quattro",
          "TT 3.2 Roadster Quattro",
          "TT 3.2 Roadster Quattro",
          "TT 3.2 Roadster Quattro",
          "TT 3.2 Roadster Quattro",
          "TT 6-Speed",
          "TT ALMS Commemorative Edition 6-Speed",
          "TT ALMS Commemorative Edition 6-Speed",
          "TT ALMS Commemorative Edition 6-Speed",
          "TT ALMS Commemorative Edition 6-Speed",
          "TT ALMS Commemorative Edition 6-Speed",
          "TT ALMS Commemorative Edition 6-Speed",
          "TT ALMS Commemorative Edition 6-Speed",
          "TT ALMS Commemorative Edition 6-Speed",
          "TT ALMS Commemorative Edition 6-Speed",
          "TT ALMS Commemorative Edition 6-Speed",
          "TT ALMS Commemorative Edition 6-Speed",
          "TT American Le Mans Series Commemorative Edition",
          "TT American Le Mans Series Commemorative Edition",
          "TT Convertible 6-Speed",
          "TT Convertible 6-Speed",
          "TT Coupe",
          "TT Coupe",
          "TT Coupe",
          "TT Coupe 180 5-Speed",
          "TT Coupe 180 5-Speed",
          "TT Coupe 180 Quattro 5-Speed",
          "TT Coupe 180 Quattro 5-Speed",
          "TT Coupe 180 Quattro 5-Speed",
          "TT Coupe 225 Quattro 6-Speed",
          "TT Coupe 225 Quattro 6-Speed",
          "TT Coupe 225 Quattro 6-Speed",
          "TT Coupe 225 Quattro 6-Speed",
          "TT Coupe 225 Quattro 6-Speed",
          "TT Coupe 225 Quattro 6-Speed",
          "TT Coupe 225 Quattro 6-Speed",
          "TT Coupe 225 Quattro 6-Speed",
          "TT Coupe 225 Quattro 6-Speed",
          "TT Coupe 225 Quattro 6-Speed",
          "TT Coupe 225 Quattro 6-Speed",
          "TT Coupe 225 Quattro 6-Speed",
          "TT Coupe 225 Quattro 6-Speed",
          "TT Coupe 225 Quattro 6-Speed",
          "TT Coupe 225 Quattro 6-Speed",
          "TT Coupe 225 Quattro 6-Speed",
          "TT Coupe 225 Quattro 6-Speed",
          "TT Coupe 225 Quattro 6-Speed",
          "TT Coupe 225 Quattro 6-Speed",
          "TT Coupe 3.2 Quattro",
          "TT Coupe 3.2 Quattro",
          "TT Coupe 3.2 Quattro",
          "TT Coupe 3.2 Quattro",
          "TT Coupe 3.2 Quattro",
          "TT Coupe 3.2 Quattro",
          "TT Coupe 3.2 Quattro 6-Speed",
          "TT Coupe 3.2 Quattro 6-Speed",
          "TT Coupe 3.2 Quattro 6-Speed",
          "TT Coupe 3.2 Quattro 6-Speed",
          "TT Coupe 3.2 Quattro Special Edition",
          "TT Coupe 5-Speed",
          "TT Coupe 5-Speed",
          "TT Coupe 5-Speed",
          "TT Coupe 5-Speed",
          "TT Coupe 5-Speed",
          "TT Coupe 6-Speed",
          "TT Coupe ALMS Commemorative Edition",
          "TT Coupe ALMS Commemorative Edition Quattro 6-Speed",
          "TT Coupe Prestige Quattro",
          "TT Coupe Quattro 5-Speed",
          "TT Coupe Quattro 5-Speed",
          "TT Coupe Quattro 5-Speed",
          "TT Coupe Quattro 5-Speed",
          "TT Coupe Quattro 5-Speed",
          "TT Coupe Quattro 5-Speed",
          "TT Coupe Quattro 6-Speed",
          "TT Coupe Quattro 6-Speed",
          "TT Coupe Quattro 6-Speed",
          "TT Coupe Quattro 6-Speed",
          "TT Coupe Quattro 6-Speed",
          "TT Coupe Quattro 6-Speed",
          "TT Coupe Quattro 6-Speed",
          "TT Coupe Quattro 6-Speed",
          "TT Coupe Quattro ALMS Commemorative Edition 6-Speed",
          "TT Neiman Marcus Edition",
          "TT Neiman Marcus Edition",
          "TT Prestige 3.2 Quattro 6-Speed",
          "TT Quattro 5-Speed",
          "TT Quattro 5-Speed",
          "TT Quattro 6-Speed",
          "TT Quattro 6-Speed",
          "TT Quattro Coupe 6-Speed",
          "TT Roadster",
          "TT Roadster",
          "TT Roadster",
          "TT Roadster",
          "TT Roadster",
          "TT Roadster",
          "TT Roadster",
          "TT Roadster 180 5-Speed",
          "TT Roadster 180 5-Speed",
          "TT  Roadster 225 Quattro 6-Speed",
          "TT  Roadster 225 Quattro 6-Speed",
          "TT Roadster 225 Quattro 6-Speed",
          "TT Roadster 225 Quattro 6-Speed",
          "TT Roadster 225 Quattro 6-Speed",
          "TT Roadster 225 Quattro 6-Speed",
          "TT Roadster 225 Quattro 6-Speed",
          "TT Roadster 225 Quattro 6-Speed",
          "TT Roadster 225 Quattro 6-Speed",
          "TT Roadster 225 Quattro 6-Speed",
          "TT Roadster 225 Quattro 6-Speed",
          "TT Roadster 225 Quattro 6-Speed",
          "TT Roadster 225 Quattro 6-Speed",
          "TT Roadster 225 Quattro 6-Speed",
          "TT Roadster 225 Quattro 6-Speed",
          "TT Roadster 225 Quattro 6-Speed",
          "TT Roadster 225 Quattro 6-Speed",
          "TT Roadster 225 Quattro 6-Speed",
          "TT Roadster 225 Quattro 6-Speed",
          "TT Roadster 225 Quattro 6-Speed",
          "TT Roadster 225 Quattro 6-Speed",
          "TT Roadster 225 Quattro 6-Speed",
          "TT Roadster 225 Quattro 6-Speed",
          "TT Roadster 225 Quattro 6-Speed",
          "TT Roadster 225 Quattro 6-Speed",
          "TT Roadster 225 Quattro 6-Speed",
          "TT Roadster 225 Quattro 6-Speed",
          "TT Roadster 225 Quattro 6-Speed",
          "TT Roadster 225 Quattro 6-Speed",
          "TT Roadster 225 Quattro 6-Speed",
          "TT Roadster 225 Quattro 6-Speed",
          "TT Roadster 225 Quattro 6-Speed",
          "TT Roadster 225 Quattro 6-Speed",
          "TT Roadster 225 Quattro 6-Speed",
          "TT Roadster 225 Quattro 6-Speed",
          "TT Roadster 225 Quattro 6-Speed",
          "TT Roadster 225 Quattro 6-Speed",
          "TT Roadster 225 Quattro 6-Speed",
          "TT Roadster 225 Quattro 6-Speed",
          "TT Roadster 225 Quattro 6-Speed",
          "TT Roadster 225 Quattro 6-Speed",
          "TT Roadster 225 Quattro 6-Speed",
          "TT Roadster 225 Quattro 6-Speed",
          "TT Roadster 225 Quattro 6-Speed",
          "TT Roadster 225 Quattro 6-Speed",
          "TT Roadster 225 Quattro 6-Speed",
          "TT Roadster 225 Quattro 6-Speed",
          "TT Roadster 225 Quattro 6-Speed",
          "TT Roadster 225 Quattro 6-Speed",
          "TT Roadster 225 Quattro 6-Speed",
          "TT Roadster 225 Quattro 6-Speed",
          "TT Roadster 225 Quattro 6-Speed",
          "TT Roadster 225 Quattro 6-Speed",
          "TT Roadster 225 Quattro 6-Speed",
          "TT Roadster 225 Quattro 6-Speed",
          "TT Roadster 225 Quattro 6-Speed",
          "TT Roadster 225 Quattro 6-Speed",
          "TT Roadster 225 Quattro 6-Speed",
          "TT Roadster 225 Quattro 6-Speed",
          "TT Roadster 225 Quattro 6-Speed",
          "TT Roadster 225 Quattro 6-Speed",
          "TT Roadster 225 Quattro 6-Speed",
          "TT Roadster 225 Quattro 6-Speed",
          "TT Roadster 225 Quattro 6-Speed",
          "TT Roadster 225 Quattro 6-Speed",
          "TT Roadster 225 Quattro 6-Speed",
          "TT Roadster 225 Quattro 6-Speed",
          "TT Roadster 225 Quattro 6-Speed",
          "TT Roadster 225 Quattro 6-Speed",
          "TT Roadster 225 Quattro 6-Speed",
          "TT Roadster 225 Quattro 6-Speed",
          "TT Roadster 225 Quattro 6-Speed",
          "TT Roadster 225 Quattro 6-Speed",
          "TT Roadster 225 Quattro 6-Speed",
          "TT Roadster 225 Quattro 6-Speed",
          "TT Roadster 225 Quattro 6-Speed",
          "TT Roadster 225 Quattro 6-Speed",
          "TT Roadster 3.2 Quattro",
          "TT Roadster 3.2 Quattro",
          "TT Roadster 3.2 Quattro",
          "TT Roadster 3.2 Quattro 6-Speed",
          "TT Roadster 3.2 Quattro 6-Speed",
          "TT Roadster 3.2 Quattro 6-Speed",
          "TT Roadster 3.2 Quattro Special Edition",
          "TT Roadster 3.2 Quattro Special Edition",
          "TT Roadster 3.2 Quattro Special Edition",
          "TT Roadster 3.2 Quattro Special Edition",
          "TT Roadster 5-Speed",
          "TT Roadster 5-Speed",
          "TT Roadster 5-Speed",
          "TT Roadster 5-Speed",
          "TT Roadster 5-Speed",
          "TT Roadster 6-Speed",
          "TT Roadster 6-Speed",
          "TT Roadster 6-Speed",
          "TT Roadster 6-Speed",
          "TT Roadster Quattro",
          "TT Roadster Quattro",
          "TT Roadster Quattro",
          "TT Roadster Quattro",
          "TT Roadster Quattro",
          "TT Roadster Quattro 6-Speed",
          "TT RS",
          "TT RS",
          "TT RS",
          "TT RS",
          "TT RS",
          "TT RS",
          "TT RS",
          "TT RS",
          "TT RS",
          "TT RS",
          "TT RS",
          "TT RS",
          "TT RS",
          "TT RS",
          "TT RS",
          "TT RS",
          "TT RS",
          "TT RS",
          "TT RS",
          "TT RS",
          "TT RS",
          "TT RS",
          "TT RS",
          "TT RS",
          "TT RS",
          "TT RS",
          "TT RS",
          "TT RS",
          "TT RS",
          "TT RS",
          "TT RS",
          "TT RS",
          "TT RS",
          "TT RS",
          "TT RS 6-Speed",
          "TT RS 6-Speed",
          "TT RS 6-Speed",
          "TT RS Final Edition",
          "TTS",
          "TTS",
          "TTS",
          "TTS",
          "TT S-Line",
          "TTS Quattro",
          "TTS Quattro",
          "TTS Quattro Premium Plus Coupe",
          "TTS Roadster",
          "TTS Roadster Quattro",
          "TT-Swapped Euro 1988 Volkswagen Golf GTI",
          "TT-Swapped Euro 1988 Volkswagen Golf GTI",
          "Turbo Quattro Coupe",
          "Ur-Quattro",
          "Ur-Quattro",
          "Ur-Quattro",
          "Ur-Quattro",
          "Ur-Quattro",
          "Ur-Quattro",
          "Ur-Quattro",
          "Ur-Quattro",
          "Ur-Quattro",
          "Ur-Quattro",
          "Ur-Quattro",
          "Ur-Quattro",
          "Ur-Quattro",
          "Ur-Quattro",
          "Ur-Quattro",
          "Ur-Quattro",
          "Ur-Quattro",
          "Ur-Quattro",
          "Ur-Quattro",
          "Ur-Quattro",
          "Ur-Quattro",
          "Ur-Quattro",
          "Ur-Quattro",
          "Ur-Quattro",
          "UR-Quattro",
          "UR-Quattro",
          "UR-Quattro",
          "Ur-Quattro Turbo Coupe",
          "V8 5-Speed",
          "V8–Powered 2018 Velocity Exo-Contour",
          "V8 Quattro",
          "V8 Quattro",
          "V8 Quattro",
          "V8 Quattro"
         ],
         "x0": " ",
         "xaxis": "x",
         "y": {
          "bdata": "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",
          "dtype": "f8"
         },
         "y0": " ",
         "yaxis": "y"
        }
       ],
       "layout": {
        "boxmode": "group",
        "legend": {
         "tracegroupgap": 0
        },
        "margin": {
         "t": 60
        },
        "template": {
         "data": {
          "bar": [
           {
            "error_x": {
             "color": "#2a3f5f"
            },
            "error_y": {
             "color": "#2a3f5f"
            },
            "marker": {
             "line": {
              "color": "#E5ECF6",
              "width": 0.5
             },
             "pattern": {
              "fillmode": "overlay",
              "size": 10,
              "solidity": 0.2
             }
            },
            "type": "bar"
           }
          ],
          "barpolar": [
           {
            "marker": {
             "line": {
              "color": "#E5ECF6",
              "width": 0.5
             },
             "pattern": {
              "fillmode": "overlay",
              "size": 10,
              "solidity": 0.2
             }
            },
            "type": "barpolar"
           }
          ],
          "carpet": [
           {
            "aaxis": {
             "endlinecolor": "#2a3f5f",
             "gridcolor": "white",
             "linecolor": "white",
             "minorgridcolor": "white",
             "startlinecolor": "#2a3f5f"
            },
            "baxis": {
             "endlinecolor": "#2a3f5f",
             "gridcolor": "white",
             "linecolor": "white",
             "minorgridcolor": "white",
             "startlinecolor": "#2a3f5f"
            },
            "type": "carpet"
           }
          ],
          "choropleth": [
           {
            "colorbar": {
             "outlinewidth": 0,
             "ticks": ""
            },
            "type": "choropleth"
           }
          ],
          "contour": [
           {
            "colorbar": {
             "outlinewidth": 0,
             "ticks": ""
            },
            "colorscale": [
             [
              0,
              "#0d0887"
             ],
             [
              0.1111111111111111,
              "#46039f"
             ],
             [
              0.2222222222222222,
              "#7201a8"
             ],
             [
              0.3333333333333333,
              "#9c179e"
             ],
             [
              0.4444444444444444,
              "#bd3786"
             ],
             [
              0.5555555555555556,
              "#d8576b"
             ],
             [
              0.6666666666666666,
              "#ed7953"
             ],
             [
              0.7777777777777778,
              "#fb9f3a"
             ],
             [
              0.8888888888888888,
              "#fdca26"
             ],
             [
              1,
              "#f0f921"
             ]
            ],
            "type": "contour"
           }
          ],
          "contourcarpet": [
           {
            "colorbar": {
             "outlinewidth": 0,
             "ticks": ""
            },
            "type": "contourcarpet"
           }
          ],
          "heatmap": [
           {
            "colorbar": {
             "outlinewidth": 0,
             "ticks": ""
            },
            "colorscale": [
             [
              0,
              "#0d0887"
             ],
             [
              0.1111111111111111,
              "#46039f"
             ],
             [
              0.2222222222222222,
              "#7201a8"
             ],
             [
              0.3333333333333333,
              "#9c179e"
             ],
             [
              0.4444444444444444,
              "#bd3786"
             ],
             [
              0.5555555555555556,
              "#d8576b"
             ],
             [
              0.6666666666666666,
              "#ed7953"
             ],
             [
              0.7777777777777778,
              "#fb9f3a"
             ],
             [
              0.8888888888888888,
              "#fdca26"
             ],
             [
              1,
              "#f0f921"
             ]
            ],
            "type": "heatmap"
           }
          ],
          "histogram": [
           {
            "marker": {
             "pattern": {
              "fillmode": "overlay",
              "size": 10,
              "solidity": 0.2
             }
            },
            "type": "histogram"
           }
          ],
          "histogram2d": [
           {
            "colorbar": {
             "outlinewidth": 0,
             "ticks": ""
            },
            "colorscale": [
             [
              0,
              "#0d0887"
             ],
             [
              0.1111111111111111,
              "#46039f"
             ],
             [
              0.2222222222222222,
              "#7201a8"
             ],
             [
              0.3333333333333333,
              "#9c179e"
             ],
             [
              0.4444444444444444,
              "#bd3786"
             ],
             [
              0.5555555555555556,
              "#d8576b"
             ],
             [
              0.6666666666666666,
              "#ed7953"
             ],
             [
              0.7777777777777778,
              "#fb9f3a"
             ],
             [
              0.8888888888888888,
              "#fdca26"
             ],
             [
              1,
              "#f0f921"
             ]
            ],
            "type": "histogram2d"
           }
          ],
          "histogram2dcontour": [
           {
            "colorbar": {
             "outlinewidth": 0,
             "ticks": ""
            },
            "colorscale": [
             [
              0,
              "#0d0887"
             ],
             [
              0.1111111111111111,
              "#46039f"
             ],
             [
              0.2222222222222222,
              "#7201a8"
             ],
             [
              0.3333333333333333,
              "#9c179e"
             ],
             [
              0.4444444444444444,
              "#bd3786"
             ],
             [
              0.5555555555555556,
              "#d8576b"
             ],
             [
              0.6666666666666666,
              "#ed7953"
             ],
             [
              0.7777777777777778,
              "#fb9f3a"
             ],
             [
              0.8888888888888888,
              "#fdca26"
             ],
             [
              1,
              "#f0f921"
             ]
            ],
            "type": "histogram2dcontour"
           }
          ],
          "mesh3d": [
           {
            "colorbar": {
             "outlinewidth": 0,
             "ticks": ""
            },
            "type": "mesh3d"
           }
          ],
          "parcoords": [
           {
            "line": {
             "colorbar": {
              "outlinewidth": 0,
              "ticks": ""
             }
            },
            "type": "parcoords"
           }
          ],
          "pie": [
           {
            "automargin": true,
            "type": "pie"
           }
          ],
          "scatter": [
           {
            "fillpattern": {
             "fillmode": "overlay",
             "size": 10,
             "solidity": 0.2
            },
            "type": "scatter"
           }
          ],
          "scatter3d": [
           {
            "line": {
             "colorbar": {
              "outlinewidth": 0,
              "ticks": ""
             }
            },
            "marker": {
             "colorbar": {
              "outlinewidth": 0,
              "ticks": ""
             }
            },
            "type": "scatter3d"
           }
          ],
          "scattercarpet": [
           {
            "marker": {
             "colorbar": {
              "outlinewidth": 0,
              "ticks": ""
             }
            },
            "type": "scattercarpet"
           }
          ],
          "scattergeo": [
           {
            "marker": {
             "colorbar": {
              "outlinewidth": 0,
              "ticks": ""
             }
            },
            "type": "scattergeo"
           }
          ],
          "scattergl": [
           {
            "marker": {
             "colorbar": {
              "outlinewidth": 0,
              "ticks": ""
             }
            },
            "type": "scattergl"
           }
          ],
          "scattermap": [
           {
            "marker": {
             "colorbar": {
              "outlinewidth": 0,
              "ticks": ""
             }
            },
            "type": "scattermap"
           }
          ],
          "scattermapbox": [
           {
            "marker": {
             "colorbar": {
              "outlinewidth": 0,
              "ticks": ""
             }
            },
            "type": "scattermapbox"
           }
          ],
          "scatterpolar": [
           {
            "marker": {
             "colorbar": {
              "outlinewidth": 0,
              "ticks": ""
             }
            },
            "type": "scatterpolar"
           }
          ],
          "scatterpolargl": [
           {
            "marker": {
             "colorbar": {
              "outlinewidth": 0,
              "ticks": ""
             }
            },
            "type": "scatterpolargl"
           }
          ],
          "scatterternary": [
           {
            "marker": {
             "colorbar": {
              "outlinewidth": 0,
              "ticks": ""
             }
            },
            "type": "scatterternary"
           }
          ],
          "surface": [
           {
            "colorbar": {
             "outlinewidth": 0,
             "ticks": ""
            },
            "colorscale": [
             [
              0,
              "#0d0887"
             ],
             [
              0.1111111111111111,
              "#46039f"
             ],
             [
              0.2222222222222222,
              "#7201a8"
             ],
             [
              0.3333333333333333,
              "#9c179e"
             ],
             [
              0.4444444444444444,
              "#bd3786"
             ],
             [
              0.5555555555555556,
              "#d8576b"
             ],
             [
              0.6666666666666666,
              "#ed7953"
             ],
             [
              0.7777777777777778,
              "#fb9f3a"
             ],
             [
              0.8888888888888888,
              "#fdca26"
             ],
             [
              1,
              "#f0f921"
             ]
            ],
            "type": "surface"
           }
          ],
          "table": [
           {
            "cells": {
             "fill": {
              "color": "#EBF0F8"
             },
             "line": {
              "color": "white"
             }
            },
            "header": {
             "fill": {
              "color": "#C8D4E3"
             },
             "line": {
              "color": "white"
             }
            },
            "type": "table"
           }
          ]
         },
         "layout": {
          "annotationdefaults": {
           "arrowcolor": "#2a3f5f",
           "arrowhead": 0,
           "arrowwidth": 1
          },
          "autotypenumbers": "strict",
          "coloraxis": {
           "colorbar": {
            "outlinewidth": 0,
            "ticks": ""
           }
          },
          "colorscale": {
           "diverging": [
            [
             0,
             "#8e0152"
            ],
            [
             0.1,
             "#c51b7d"
            ],
            [
             0.2,
             "#de77ae"
            ],
            [
             0.3,
             "#f1b6da"
            ],
            [
             0.4,
             "#fde0ef"
            ],
            [
             0.5,
             "#f7f7f7"
            ],
            [
             0.6,
             "#e6f5d0"
            ],
            [
             0.7,
             "#b8e186"
            ],
            [
             0.8,
             "#7fbc41"
            ],
            [
             0.9,
             "#4d9221"
            ],
            [
             1,
             "#276419"
            ]
           ],
           "sequential": [
            [
             0,
             "#0d0887"
            ],
            [
             0.1111111111111111,
             "#46039f"
            ],
            [
             0.2222222222222222,
             "#7201a8"
            ],
            [
             0.3333333333333333,
             "#9c179e"
            ],
            [
             0.4444444444444444,
             "#bd3786"
            ],
            [
             0.5555555555555556,
             "#d8576b"
            ],
            [
             0.6666666666666666,
             "#ed7953"
            ],
            [
             0.7777777777777778,
             "#fb9f3a"
            ],
            [
             0.8888888888888888,
             "#fdca26"
            ],
            [
             1,
             "#f0f921"
            ]
           ],
           "sequentialminus": [
            [
             0,
             "#0d0887"
            ],
            [
             0.1111111111111111,
             "#46039f"
            ],
            [
             0.2222222222222222,
             "#7201a8"
            ],
            [
             0.3333333333333333,
             "#9c179e"
            ],
            [
             0.4444444444444444,
             "#bd3786"
            ],
            [
             0.5555555555555556,
             "#d8576b"
            ],
            [
             0.6666666666666666,
             "#ed7953"
            ],
            [
             0.7777777777777778,
             "#fb9f3a"
            ],
            [
             0.8888888888888888,
             "#fdca26"
            ],
            [
             1,
             "#f0f921"
            ]
           ]
          },
          "colorway": [
           "#636efa",
           "#EF553B",
           "#00cc96",
           "#ab63fa",
           "#FFA15A",
           "#19d3f3",
           "#FF6692",
           "#B6E880",
           "#FF97FF",
           "#FECB52"
          ],
          "font": {
           "color": "#2a3f5f"
          },
          "geo": {
           "bgcolor": "white",
           "lakecolor": "white",
           "landcolor": "#E5ECF6",
           "showlakes": true,
           "showland": true,
           "subunitcolor": "white"
          },
          "hoverlabel": {
           "align": "left"
          },
          "hovermode": "closest",
          "mapbox": {
           "style": "light"
          },
          "paper_bgcolor": "white",
          "plot_bgcolor": "#E5ECF6",
          "polar": {
           "angularaxis": {
            "gridcolor": "white",
            "linecolor": "white",
            "ticks": ""
           },
           "bgcolor": "#E5ECF6",
           "radialaxis": {
            "gridcolor": "white",
            "linecolor": "white",
            "ticks": ""
           }
          },
          "scene": {
           "xaxis": {
            "backgroundcolor": "#E5ECF6",
            "gridcolor": "white",
            "gridwidth": 2,
            "linecolor": "white",
            "showbackground": true,
            "ticks": "",
            "zerolinecolor": "white"
           },
           "yaxis": {
            "backgroundcolor": "#E5ECF6",
            "gridcolor": "white",
            "gridwidth": 2,
            "linecolor": "white",
            "showbackground": true,
            "ticks": "",
            "zerolinecolor": "white"
           },
           "zaxis": {
            "backgroundcolor": "#E5ECF6",
            "gridcolor": "white",
            "gridwidth": 2,
            "linecolor": "white",
            "showbackground": true,
            "ticks": "",
            "zerolinecolor": "white"
           }
          },
          "shapedefaults": {
           "line": {
            "color": "#2a3f5f"
           }
          },
          "ternary": {
           "aaxis": {
            "gridcolor": "white",
            "linecolor": "white",
            "ticks": ""
           },
           "baxis": {
            "gridcolor": "white",
            "linecolor": "white",
            "ticks": ""
           },
           "bgcolor": "#E5ECF6",
           "caxis": {
            "gridcolor": "white",
            "linecolor": "white",
            "ticks": ""
           }
          },
          "title": {
           "x": 0.05
          },
          "xaxis": {
           "automargin": true,
           "gridcolor": "white",
           "linecolor": "white",
           "ticks": "",
           "title": {
            "standoff": 15
           },
           "zerolinecolor": "white",
           "zerolinewidth": 2
          },
          "yaxis": {
           "automargin": true,
           "gridcolor": "white",
           "linecolor": "white",
           "ticks": "",
           "title": {
            "standoff": 15
           },
           "zerolinecolor": "white",
           "zerolinewidth": 2
          }
         }
        },
        "title": {
         "text": "Price vs Model"
        },
        "xaxis": {
         "anchor": "y",
         "domain": [
          0,
          1
         ],
         "title": {
          "text": "Model"
         }
        },
        "yaxis": {
         "anchor": "x",
         "domain": [
          0,
          1
         ],
         "title": {
          "text": "Average Price"
         }
        }
       }
      }
     },
     "metadata": {},
     "output_type": "display_data"
    }
   ],
   "source": [
    "# Price by model\n",
    "display_p=df[['model','year','sold_price']]\n",
    "\n",
    "fig=px.box(display_p,x=\"model\",y=\"sold_price\")\n",
    "fig.update_layout(title_text='Price vs Model',xaxis_title=\"Model\",yaxis_title=\"Average Price\")"
   ]
  },
  {
   "cell_type": "code",
   "execution_count": 5,
   "metadata": {},
   "outputs": [
    {
     "data": {
      "application/vnd.plotly.v1+json": {
       "config": {
        "plotlyServerURL": "https://plot.ly"
       },
       "data": [
        {
         "marker": {
          "color": [
           "crimson",
           "lightslategray",
           "lightslategray",
           "lightslategray",
           "lightslategray",
           "lightslategray",
           "lightslategray",
           "lightslategray",
           "lightslategray",
           "lightslategray",
           "lightslategray",
           "lightslategray",
           "lightslategray",
           "lightslategray",
           "lightslategray",
           "lightslategray",
           "lightslategray",
           "lightslategray",
           "lightslategray",
           "lightslategray",
           "lightslategray",
           "lightslategray",
           "lightslategray"
          ]
         },
         "orientation": "h",
         "type": "bar",
         "x": {
          "bdata": "1gBxAHAAVABLADcANAAyADAALQAnACcAIgAgAB4AHQAZABgAGAAYABcAFQAVABMAEwA=",
          "dtype": "i2"
         },
         "y": [
          "RS4",
          "S4 6-Speed",
          "S4 Avant 6-Speed",
          "RS6",
          "TT Roadster 225 Quattro 6-Speed",
          "R8 V10 Spyder",
          "R8 V10 Coupe 6-Speed",
          "RS6 Avant",
          "R8 Coupe 6-Speed",
          "S8",
          "R8 V10 Coupe",
          "R8 V10 Spyder 6-Speed",
          "TT RS",
          "S4",
          "A8L",
          "R8 Coupe",
          "R8 V10 Plus Coupe",
          "R8 V10 6-Speed",
          "Quattro",
          "Ur-Quattro",
          "RS4 Cabriolet",
          "R8 6-Speed",
          "S6"
         ]
        }
       ],
       "layout": {
        "template": {
         "data": {
          "bar": [
           {
            "error_x": {
             "color": "#2a3f5f"
            },
            "error_y": {
             "color": "#2a3f5f"
            },
            "marker": {
             "line": {
              "color": "#E5ECF6",
              "width": 0.5
             },
             "pattern": {
              "fillmode": "overlay",
              "size": 10,
              "solidity": 0.2
             }
            },
            "type": "bar"
           }
          ],
          "barpolar": [
           {
            "marker": {
             "line": {
              "color": "#E5ECF6",
              "width": 0.5
             },
             "pattern": {
              "fillmode": "overlay",
              "size": 10,
              "solidity": 0.2
             }
            },
            "type": "barpolar"
           }
          ],
          "carpet": [
           {
            "aaxis": {
             "endlinecolor": "#2a3f5f",
             "gridcolor": "white",
             "linecolor": "white",
             "minorgridcolor": "white",
             "startlinecolor": "#2a3f5f"
            },
            "baxis": {
             "endlinecolor": "#2a3f5f",
             "gridcolor": "white",
             "linecolor": "white",
             "minorgridcolor": "white",
             "startlinecolor": "#2a3f5f"
            },
            "type": "carpet"
           }
          ],
          "choropleth": [
           {
            "colorbar": {
             "outlinewidth": 0,
             "ticks": ""
            },
            "type": "choropleth"
           }
          ],
          "contour": [
           {
            "colorbar": {
             "outlinewidth": 0,
             "ticks": ""
            },
            "colorscale": [
             [
              0,
              "#0d0887"
             ],
             [
              0.1111111111111111,
              "#46039f"
             ],
             [
              0.2222222222222222,
              "#7201a8"
             ],
             [
              0.3333333333333333,
              "#9c179e"
             ],
             [
              0.4444444444444444,
              "#bd3786"
             ],
             [
              0.5555555555555556,
              "#d8576b"
             ],
             [
              0.6666666666666666,
              "#ed7953"
             ],
             [
              0.7777777777777778,
              "#fb9f3a"
             ],
             [
              0.8888888888888888,
              "#fdca26"
             ],
             [
              1,
              "#f0f921"
             ]
            ],
            "type": "contour"
           }
          ],
          "contourcarpet": [
           {
            "colorbar": {
             "outlinewidth": 0,
             "ticks": ""
            },
            "type": "contourcarpet"
           }
          ],
          "heatmap": [
           {
            "colorbar": {
             "outlinewidth": 0,
             "ticks": ""
            },
            "colorscale": [
             [
              0,
              "#0d0887"
             ],
             [
              0.1111111111111111,
              "#46039f"
             ],
             [
              0.2222222222222222,
              "#7201a8"
             ],
             [
              0.3333333333333333,
              "#9c179e"
             ],
             [
              0.4444444444444444,
              "#bd3786"
             ],
             [
              0.5555555555555556,
              "#d8576b"
             ],
             [
              0.6666666666666666,
              "#ed7953"
             ],
             [
              0.7777777777777778,
              "#fb9f3a"
             ],
             [
              0.8888888888888888,
              "#fdca26"
             ],
             [
              1,
              "#f0f921"
             ]
            ],
            "type": "heatmap"
           }
          ],
          "histogram": [
           {
            "marker": {
             "pattern": {
              "fillmode": "overlay",
              "size": 10,
              "solidity": 0.2
             }
            },
            "type": "histogram"
           }
          ],
          "histogram2d": [
           {
            "colorbar": {
             "outlinewidth": 0,
             "ticks": ""
            },
            "colorscale": [
             [
              0,
              "#0d0887"
             ],
             [
              0.1111111111111111,
              "#46039f"
             ],
             [
              0.2222222222222222,
              "#7201a8"
             ],
             [
              0.3333333333333333,
              "#9c179e"
             ],
             [
              0.4444444444444444,
              "#bd3786"
             ],
             [
              0.5555555555555556,
              "#d8576b"
             ],
             [
              0.6666666666666666,
              "#ed7953"
             ],
             [
              0.7777777777777778,
              "#fb9f3a"
             ],
             [
              0.8888888888888888,
              "#fdca26"
             ],
             [
              1,
              "#f0f921"
             ]
            ],
            "type": "histogram2d"
           }
          ],
          "histogram2dcontour": [
           {
            "colorbar": {
             "outlinewidth": 0,
             "ticks": ""
            },
            "colorscale": [
             [
              0,
              "#0d0887"
             ],
             [
              0.1111111111111111,
              "#46039f"
             ],
             [
              0.2222222222222222,
              "#7201a8"
             ],
             [
              0.3333333333333333,
              "#9c179e"
             ],
             [
              0.4444444444444444,
              "#bd3786"
             ],
             [
              0.5555555555555556,
              "#d8576b"
             ],
             [
              0.6666666666666666,
              "#ed7953"
             ],
             [
              0.7777777777777778,
              "#fb9f3a"
             ],
             [
              0.8888888888888888,
              "#fdca26"
             ],
             [
              1,
              "#f0f921"
             ]
            ],
            "type": "histogram2dcontour"
           }
          ],
          "mesh3d": [
           {
            "colorbar": {
             "outlinewidth": 0,
             "ticks": ""
            },
            "type": "mesh3d"
           }
          ],
          "parcoords": [
           {
            "line": {
             "colorbar": {
              "outlinewidth": 0,
              "ticks": ""
             }
            },
            "type": "parcoords"
           }
          ],
          "pie": [
           {
            "automargin": true,
            "type": "pie"
           }
          ],
          "scatter": [
           {
            "fillpattern": {
             "fillmode": "overlay",
             "size": 10,
             "solidity": 0.2
            },
            "type": "scatter"
           }
          ],
          "scatter3d": [
           {
            "line": {
             "colorbar": {
              "outlinewidth": 0,
              "ticks": ""
             }
            },
            "marker": {
             "colorbar": {
              "outlinewidth": 0,
              "ticks": ""
             }
            },
            "type": "scatter3d"
           }
          ],
          "scattercarpet": [
           {
            "marker": {
             "colorbar": {
              "outlinewidth": 0,
              "ticks": ""
             }
            },
            "type": "scattercarpet"
           }
          ],
          "scattergeo": [
           {
            "marker": {
             "colorbar": {
              "outlinewidth": 0,
              "ticks": ""
             }
            },
            "type": "scattergeo"
           }
          ],
          "scattergl": [
           {
            "marker": {
             "colorbar": {
              "outlinewidth": 0,
              "ticks": ""
             }
            },
            "type": "scattergl"
           }
          ],
          "scattermap": [
           {
            "marker": {
             "colorbar": {
              "outlinewidth": 0,
              "ticks": ""
             }
            },
            "type": "scattermap"
           }
          ],
          "scattermapbox": [
           {
            "marker": {
             "colorbar": {
              "outlinewidth": 0,
              "ticks": ""
             }
            },
            "type": "scattermapbox"
           }
          ],
          "scatterpolar": [
           {
            "marker": {
             "colorbar": {
              "outlinewidth": 0,
              "ticks": ""
             }
            },
            "type": "scatterpolar"
           }
          ],
          "scatterpolargl": [
           {
            "marker": {
             "colorbar": {
              "outlinewidth": 0,
              "ticks": ""
             }
            },
            "type": "scatterpolargl"
           }
          ],
          "scatterternary": [
           {
            "marker": {
             "colorbar": {
              "outlinewidth": 0,
              "ticks": ""
             }
            },
            "type": "scatterternary"
           }
          ],
          "surface": [
           {
            "colorbar": {
             "outlinewidth": 0,
             "ticks": ""
            },
            "colorscale": [
             [
              0,
              "#0d0887"
             ],
             [
              0.1111111111111111,
              "#46039f"
             ],
             [
              0.2222222222222222,
              "#7201a8"
             ],
             [
              0.3333333333333333,
              "#9c179e"
             ],
             [
              0.4444444444444444,
              "#bd3786"
             ],
             [
              0.5555555555555556,
              "#d8576b"
             ],
             [
              0.6666666666666666,
              "#ed7953"
             ],
             [
              0.7777777777777778,
              "#fb9f3a"
             ],
             [
              0.8888888888888888,
              "#fdca26"
             ],
             [
              1,
              "#f0f921"
             ]
            ],
            "type": "surface"
           }
          ],
          "table": [
           {
            "cells": {
             "fill": {
              "color": "#EBF0F8"
             },
             "line": {
              "color": "white"
             }
            },
            "header": {
             "fill": {
              "color": "#C8D4E3"
             },
             "line": {
              "color": "white"
             }
            },
            "type": "table"
           }
          ]
         },
         "layout": {
          "annotationdefaults": {
           "arrowcolor": "#2a3f5f",
           "arrowhead": 0,
           "arrowwidth": 1
          },
          "autotypenumbers": "strict",
          "coloraxis": {
           "colorbar": {
            "outlinewidth": 0,
            "ticks": ""
           }
          },
          "colorscale": {
           "diverging": [
            [
             0,
             "#8e0152"
            ],
            [
             0.1,
             "#c51b7d"
            ],
            [
             0.2,
             "#de77ae"
            ],
            [
             0.3,
             "#f1b6da"
            ],
            [
             0.4,
             "#fde0ef"
            ],
            [
             0.5,
             "#f7f7f7"
            ],
            [
             0.6,
             "#e6f5d0"
            ],
            [
             0.7,
             "#b8e186"
            ],
            [
             0.8,
             "#7fbc41"
            ],
            [
             0.9,
             "#4d9221"
            ],
            [
             1,
             "#276419"
            ]
           ],
           "sequential": [
            [
             0,
             "#0d0887"
            ],
            [
             0.1111111111111111,
             "#46039f"
            ],
            [
             0.2222222222222222,
             "#7201a8"
            ],
            [
             0.3333333333333333,
             "#9c179e"
            ],
            [
             0.4444444444444444,
             "#bd3786"
            ],
            [
             0.5555555555555556,
             "#d8576b"
            ],
            [
             0.6666666666666666,
             "#ed7953"
            ],
            [
             0.7777777777777778,
             "#fb9f3a"
            ],
            [
             0.8888888888888888,
             "#fdca26"
            ],
            [
             1,
             "#f0f921"
            ]
           ],
           "sequentialminus": [
            [
             0,
             "#0d0887"
            ],
            [
             0.1111111111111111,
             "#46039f"
            ],
            [
             0.2222222222222222,
             "#7201a8"
            ],
            [
             0.3333333333333333,
             "#9c179e"
            ],
            [
             0.4444444444444444,
             "#bd3786"
            ],
            [
             0.5555555555555556,
             "#d8576b"
            ],
            [
             0.6666666666666666,
             "#ed7953"
            ],
            [
             0.7777777777777778,
             "#fb9f3a"
            ],
            [
             0.8888888888888888,
             "#fdca26"
            ],
            [
             1,
             "#f0f921"
            ]
           ]
          },
          "colorway": [
           "#636efa",
           "#EF553B",
           "#00cc96",
           "#ab63fa",
           "#FFA15A",
           "#19d3f3",
           "#FF6692",
           "#B6E880",
           "#FF97FF",
           "#FECB52"
          ],
          "font": {
           "color": "#2a3f5f"
          },
          "geo": {
           "bgcolor": "white",
           "lakecolor": "white",
           "landcolor": "#E5ECF6",
           "showlakes": true,
           "showland": true,
           "subunitcolor": "white"
          },
          "hoverlabel": {
           "align": "left"
          },
          "hovermode": "closest",
          "mapbox": {
           "style": "light"
          },
          "paper_bgcolor": "white",
          "plot_bgcolor": "#E5ECF6",
          "polar": {
           "angularaxis": {
            "gridcolor": "white",
            "linecolor": "white",
            "ticks": ""
           },
           "bgcolor": "#E5ECF6",
           "radialaxis": {
            "gridcolor": "white",
            "linecolor": "white",
            "ticks": ""
           }
          },
          "scene": {
           "xaxis": {
            "backgroundcolor": "#E5ECF6",
            "gridcolor": "white",
            "gridwidth": 2,
            "linecolor": "white",
            "showbackground": true,
            "ticks": "",
            "zerolinecolor": "white"
           },
           "yaxis": {
            "backgroundcolor": "#E5ECF6",
            "gridcolor": "white",
            "gridwidth": 2,
            "linecolor": "white",
            "showbackground": true,
            "ticks": "",
            "zerolinecolor": "white"
           },
           "zaxis": {
            "backgroundcolor": "#E5ECF6",
            "gridcolor": "white",
            "gridwidth": 2,
            "linecolor": "white",
            "showbackground": true,
            "ticks": "",
            "zerolinecolor": "white"
           }
          },
          "shapedefaults": {
           "line": {
            "color": "#2a3f5f"
           }
          },
          "ternary": {
           "aaxis": {
            "gridcolor": "white",
            "linecolor": "white",
            "ticks": ""
           },
           "baxis": {
            "gridcolor": "white",
            "linecolor": "white",
            "ticks": ""
           },
           "bgcolor": "#E5ECF6",
           "caxis": {
            "gridcolor": "white",
            "linecolor": "white",
            "ticks": ""
           }
          },
          "title": {
           "x": 0.05
          },
          "xaxis": {
           "automargin": true,
           "gridcolor": "white",
           "linecolor": "white",
           "ticks": "",
           "title": {
            "standoff": 15
           },
           "zerolinecolor": "white",
           "zerolinewidth": 2
          },
          "yaxis": {
           "automargin": true,
           "gridcolor": "white",
           "linecolor": "white",
           "ticks": "",
           "title": {
            "standoff": 15
           },
           "zerolinecolor": "white",
           "zerolinewidth": 2
          }
         }
        },
        "title": {
         "text": "Most represented Models in the Dataset"
        },
        "xaxis": {
         "title": {
          "text": "Count"
         }
        },
        "yaxis": {
         "title": {
          "text": "Model"
         }
        }
       }
      }
     },
     "metadata": {},
     "output_type": "display_data"
    }
   ],
   "source": [
    "# Filter to models with more than min_observations\n",
    "counts=df['model'].value_counts()\n",
    "frequent_models = counts[counts >= min_observations].index\n",
    "\n",
    "# Filter the data to frequent models\n",
    "df = df[df['model'].isin(frequent_models)]\n",
    "popular_labels=frequent_models\n",
    "\n",
    "colors=['lightslategray',]*len(popular_labels)\n",
    "colors[0]='crimson'\n",
    "\n",
    "fig=go.Figure(data=[go.Bar(x=counts[:25],y=popular_labels,marker_color=colors,orientation='h')])\n",
    "fig.update_layout(title_text='Most represented Models in the Dataset',xaxis_title=\"Count\",yaxis_title=\"Model\")"
   ]
  },
  {
   "cell_type": "code",
   "execution_count": 6,
   "metadata": {},
   "outputs": [
    {
     "data": {
      "application/vnd.plotly.v1+json": {
       "config": {
        "plotlyServerURL": "https://plot.ly"
       },
       "data": [
        {
         "type": "bar",
         "x": [
          1970,
          1971,
          1972,
          1973,
          1974,
          1975,
          1976,
          1977,
          1978,
          1979,
          1980,
          1981,
          1982,
          1983,
          1984,
          1985,
          1986,
          1987,
          1988,
          1989,
          1990,
          1991,
          1992,
          1993,
          1994,
          1995,
          1996,
          1997,
          1998,
          1999,
          2000,
          2001,
          2002,
          2003,
          2004,
          2005,
          2006,
          2007,
          2008,
          2009,
          2010,
          2011,
          2012,
          2013,
          2014,
          2015,
          2016,
          2017,
          2018,
          2019,
          2020,
          2021,
          2022,
          2023,
          2024
         ],
         "y": [
          0,
          0,
          0,
          0,
          0,
          0,
          0,
          0,
          0,
          0,
          0,
          1,
          2,
          25,
          9,
          11,
          0,
          0,
          0,
          0,
          0,
          0,
          1,
          9,
          1,
          3,
          0,
          0,
          0,
          0,
          27,
          113,
          37,
          101,
          42,
          30,
          27,
          166,
          155,
          45,
          45,
          77,
          73,
          23,
          53,
          32,
          7,
          32,
          15,
          1,
          5,
          24,
          13,
          8,
          0
         ]
        }
       ],
       "layout": {
        "template": {
         "data": {
          "bar": [
           {
            "error_x": {
             "color": "#2a3f5f"
            },
            "error_y": {
             "color": "#2a3f5f"
            },
            "marker": {
             "line": {
              "color": "#E5ECF6",
              "width": 0.5
             },
             "pattern": {
              "fillmode": "overlay",
              "size": 10,
              "solidity": 0.2
             }
            },
            "type": "bar"
           }
          ],
          "barpolar": [
           {
            "marker": {
             "line": {
              "color": "#E5ECF6",
              "width": 0.5
             },
             "pattern": {
              "fillmode": "overlay",
              "size": 10,
              "solidity": 0.2
             }
            },
            "type": "barpolar"
           }
          ],
          "carpet": [
           {
            "aaxis": {
             "endlinecolor": "#2a3f5f",
             "gridcolor": "white",
             "linecolor": "white",
             "minorgridcolor": "white",
             "startlinecolor": "#2a3f5f"
            },
            "baxis": {
             "endlinecolor": "#2a3f5f",
             "gridcolor": "white",
             "linecolor": "white",
             "minorgridcolor": "white",
             "startlinecolor": "#2a3f5f"
            },
            "type": "carpet"
           }
          ],
          "choropleth": [
           {
            "colorbar": {
             "outlinewidth": 0,
             "ticks": ""
            },
            "type": "choropleth"
           }
          ],
          "contour": [
           {
            "colorbar": {
             "outlinewidth": 0,
             "ticks": ""
            },
            "colorscale": [
             [
              0,
              "#0d0887"
             ],
             [
              0.1111111111111111,
              "#46039f"
             ],
             [
              0.2222222222222222,
              "#7201a8"
             ],
             [
              0.3333333333333333,
              "#9c179e"
             ],
             [
              0.4444444444444444,
              "#bd3786"
             ],
             [
              0.5555555555555556,
              "#d8576b"
             ],
             [
              0.6666666666666666,
              "#ed7953"
             ],
             [
              0.7777777777777778,
              "#fb9f3a"
             ],
             [
              0.8888888888888888,
              "#fdca26"
             ],
             [
              1,
              "#f0f921"
             ]
            ],
            "type": "contour"
           }
          ],
          "contourcarpet": [
           {
            "colorbar": {
             "outlinewidth": 0,
             "ticks": ""
            },
            "type": "contourcarpet"
           }
          ],
          "heatmap": [
           {
            "colorbar": {
             "outlinewidth": 0,
             "ticks": ""
            },
            "colorscale": [
             [
              0,
              "#0d0887"
             ],
             [
              0.1111111111111111,
              "#46039f"
             ],
             [
              0.2222222222222222,
              "#7201a8"
             ],
             [
              0.3333333333333333,
              "#9c179e"
             ],
             [
              0.4444444444444444,
              "#bd3786"
             ],
             [
              0.5555555555555556,
              "#d8576b"
             ],
             [
              0.6666666666666666,
              "#ed7953"
             ],
             [
              0.7777777777777778,
              "#fb9f3a"
             ],
             [
              0.8888888888888888,
              "#fdca26"
             ],
             [
              1,
              "#f0f921"
             ]
            ],
            "type": "heatmap"
           }
          ],
          "histogram": [
           {
            "marker": {
             "pattern": {
              "fillmode": "overlay",
              "size": 10,
              "solidity": 0.2
             }
            },
            "type": "histogram"
           }
          ],
          "histogram2d": [
           {
            "colorbar": {
             "outlinewidth": 0,
             "ticks": ""
            },
            "colorscale": [
             [
              0,
              "#0d0887"
             ],
             [
              0.1111111111111111,
              "#46039f"
             ],
             [
              0.2222222222222222,
              "#7201a8"
             ],
             [
              0.3333333333333333,
              "#9c179e"
             ],
             [
              0.4444444444444444,
              "#bd3786"
             ],
             [
              0.5555555555555556,
              "#d8576b"
             ],
             [
              0.6666666666666666,
              "#ed7953"
             ],
             [
              0.7777777777777778,
              "#fb9f3a"
             ],
             [
              0.8888888888888888,
              "#fdca26"
             ],
             [
              1,
              "#f0f921"
             ]
            ],
            "type": "histogram2d"
           }
          ],
          "histogram2dcontour": [
           {
            "colorbar": {
             "outlinewidth": 0,
             "ticks": ""
            },
            "colorscale": [
             [
              0,
              "#0d0887"
             ],
             [
              0.1111111111111111,
              "#46039f"
             ],
             [
              0.2222222222222222,
              "#7201a8"
             ],
             [
              0.3333333333333333,
              "#9c179e"
             ],
             [
              0.4444444444444444,
              "#bd3786"
             ],
             [
              0.5555555555555556,
              "#d8576b"
             ],
             [
              0.6666666666666666,
              "#ed7953"
             ],
             [
              0.7777777777777778,
              "#fb9f3a"
             ],
             [
              0.8888888888888888,
              "#fdca26"
             ],
             [
              1,
              "#f0f921"
             ]
            ],
            "type": "histogram2dcontour"
           }
          ],
          "mesh3d": [
           {
            "colorbar": {
             "outlinewidth": 0,
             "ticks": ""
            },
            "type": "mesh3d"
           }
          ],
          "parcoords": [
           {
            "line": {
             "colorbar": {
              "outlinewidth": 0,
              "ticks": ""
             }
            },
            "type": "parcoords"
           }
          ],
          "pie": [
           {
            "automargin": true,
            "type": "pie"
           }
          ],
          "scatter": [
           {
            "fillpattern": {
             "fillmode": "overlay",
             "size": 10,
             "solidity": 0.2
            },
            "type": "scatter"
           }
          ],
          "scatter3d": [
           {
            "line": {
             "colorbar": {
              "outlinewidth": 0,
              "ticks": ""
             }
            },
            "marker": {
             "colorbar": {
              "outlinewidth": 0,
              "ticks": ""
             }
            },
            "type": "scatter3d"
           }
          ],
          "scattercarpet": [
           {
            "marker": {
             "colorbar": {
              "outlinewidth": 0,
              "ticks": ""
             }
            },
            "type": "scattercarpet"
           }
          ],
          "scattergeo": [
           {
            "marker": {
             "colorbar": {
              "outlinewidth": 0,
              "ticks": ""
             }
            },
            "type": "scattergeo"
           }
          ],
          "scattergl": [
           {
            "marker": {
             "colorbar": {
              "outlinewidth": 0,
              "ticks": ""
             }
            },
            "type": "scattergl"
           }
          ],
          "scattermap": [
           {
            "marker": {
             "colorbar": {
              "outlinewidth": 0,
              "ticks": ""
             }
            },
            "type": "scattermap"
           }
          ],
          "scattermapbox": [
           {
            "marker": {
             "colorbar": {
              "outlinewidth": 0,
              "ticks": ""
             }
            },
            "type": "scattermapbox"
           }
          ],
          "scatterpolar": [
           {
            "marker": {
             "colorbar": {
              "outlinewidth": 0,
              "ticks": ""
             }
            },
            "type": "scatterpolar"
           }
          ],
          "scatterpolargl": [
           {
            "marker": {
             "colorbar": {
              "outlinewidth": 0,
              "ticks": ""
             }
            },
            "type": "scatterpolargl"
           }
          ],
          "scatterternary": [
           {
            "marker": {
             "colorbar": {
              "outlinewidth": 0,
              "ticks": ""
             }
            },
            "type": "scatterternary"
           }
          ],
          "surface": [
           {
            "colorbar": {
             "outlinewidth": 0,
             "ticks": ""
            },
            "colorscale": [
             [
              0,
              "#0d0887"
             ],
             [
              0.1111111111111111,
              "#46039f"
             ],
             [
              0.2222222222222222,
              "#7201a8"
             ],
             [
              0.3333333333333333,
              "#9c179e"
             ],
             [
              0.4444444444444444,
              "#bd3786"
             ],
             [
              0.5555555555555556,
              "#d8576b"
             ],
             [
              0.6666666666666666,
              "#ed7953"
             ],
             [
              0.7777777777777778,
              "#fb9f3a"
             ],
             [
              0.8888888888888888,
              "#fdca26"
             ],
             [
              1,
              "#f0f921"
             ]
            ],
            "type": "surface"
           }
          ],
          "table": [
           {
            "cells": {
             "fill": {
              "color": "#EBF0F8"
             },
             "line": {
              "color": "white"
             }
            },
            "header": {
             "fill": {
              "color": "#C8D4E3"
             },
             "line": {
              "color": "white"
             }
            },
            "type": "table"
           }
          ]
         },
         "layout": {
          "annotationdefaults": {
           "arrowcolor": "#2a3f5f",
           "arrowhead": 0,
           "arrowwidth": 1
          },
          "autotypenumbers": "strict",
          "coloraxis": {
           "colorbar": {
            "outlinewidth": 0,
            "ticks": ""
           }
          },
          "colorscale": {
           "diverging": [
            [
             0,
             "#8e0152"
            ],
            [
             0.1,
             "#c51b7d"
            ],
            [
             0.2,
             "#de77ae"
            ],
            [
             0.3,
             "#f1b6da"
            ],
            [
             0.4,
             "#fde0ef"
            ],
            [
             0.5,
             "#f7f7f7"
            ],
            [
             0.6,
             "#e6f5d0"
            ],
            [
             0.7,
             "#b8e186"
            ],
            [
             0.8,
             "#7fbc41"
            ],
            [
             0.9,
             "#4d9221"
            ],
            [
             1,
             "#276419"
            ]
           ],
           "sequential": [
            [
             0,
             "#0d0887"
            ],
            [
             0.1111111111111111,
             "#46039f"
            ],
            [
             0.2222222222222222,
             "#7201a8"
            ],
            [
             0.3333333333333333,
             "#9c179e"
            ],
            [
             0.4444444444444444,
             "#bd3786"
            ],
            [
             0.5555555555555556,
             "#d8576b"
            ],
            [
             0.6666666666666666,
             "#ed7953"
            ],
            [
             0.7777777777777778,
             "#fb9f3a"
            ],
            [
             0.8888888888888888,
             "#fdca26"
            ],
            [
             1,
             "#f0f921"
            ]
           ],
           "sequentialminus": [
            [
             0,
             "#0d0887"
            ],
            [
             0.1111111111111111,
             "#46039f"
            ],
            [
             0.2222222222222222,
             "#7201a8"
            ],
            [
             0.3333333333333333,
             "#9c179e"
            ],
            [
             0.4444444444444444,
             "#bd3786"
            ],
            [
             0.5555555555555556,
             "#d8576b"
            ],
            [
             0.6666666666666666,
             "#ed7953"
            ],
            [
             0.7777777777777778,
             "#fb9f3a"
            ],
            [
             0.8888888888888888,
             "#fdca26"
            ],
            [
             1,
             "#f0f921"
            ]
           ]
          },
          "colorway": [
           "#636efa",
           "#EF553B",
           "#00cc96",
           "#ab63fa",
           "#FFA15A",
           "#19d3f3",
           "#FF6692",
           "#B6E880",
           "#FF97FF",
           "#FECB52"
          ],
          "font": {
           "color": "#2a3f5f"
          },
          "geo": {
           "bgcolor": "white",
           "lakecolor": "white",
           "landcolor": "#E5ECF6",
           "showlakes": true,
           "showland": true,
           "subunitcolor": "white"
          },
          "hoverlabel": {
           "align": "left"
          },
          "hovermode": "closest",
          "mapbox": {
           "style": "light"
          },
          "paper_bgcolor": "white",
          "plot_bgcolor": "#E5ECF6",
          "polar": {
           "angularaxis": {
            "gridcolor": "white",
            "linecolor": "white",
            "ticks": ""
           },
           "bgcolor": "#E5ECF6",
           "radialaxis": {
            "gridcolor": "white",
            "linecolor": "white",
            "ticks": ""
           }
          },
          "scene": {
           "xaxis": {
            "backgroundcolor": "#E5ECF6",
            "gridcolor": "white",
            "gridwidth": 2,
            "linecolor": "white",
            "showbackground": true,
            "ticks": "",
            "zerolinecolor": "white"
           },
           "yaxis": {
            "backgroundcolor": "#E5ECF6",
            "gridcolor": "white",
            "gridwidth": 2,
            "linecolor": "white",
            "showbackground": true,
            "ticks": "",
            "zerolinecolor": "white"
           },
           "zaxis": {
            "backgroundcolor": "#E5ECF6",
            "gridcolor": "white",
            "gridwidth": 2,
            "linecolor": "white",
            "showbackground": true,
            "ticks": "",
            "zerolinecolor": "white"
           }
          },
          "shapedefaults": {
           "line": {
            "color": "#2a3f5f"
           }
          },
          "ternary": {
           "aaxis": {
            "gridcolor": "white",
            "linecolor": "white",
            "ticks": ""
           },
           "baxis": {
            "gridcolor": "white",
            "linecolor": "white",
            "ticks": ""
           },
           "bgcolor": "#E5ECF6",
           "caxis": {
            "gridcolor": "white",
            "linecolor": "white",
            "ticks": ""
           }
          },
          "title": {
           "x": 0.05
          },
          "xaxis": {
           "automargin": true,
           "gridcolor": "white",
           "linecolor": "white",
           "ticks": "",
           "title": {
            "standoff": 15
           },
           "zerolinecolor": "white",
           "zerolinewidth": 2
          },
          "yaxis": {
           "automargin": true,
           "gridcolor": "white",
           "linecolor": "white",
           "ticks": "",
           "title": {
            "standoff": 15
           },
           "zerolinecolor": "white",
           "zerolinewidth": 2
          }
         }
        },
        "title": {
         "text": "Car year distribution"
        },
        "xaxis": {
         "title": {
          "text": "Year"
         }
        },
        "yaxis": {
         "title": {
          "text": "Count Cars sold"
         }
        }
       }
      }
     },
     "metadata": {},
     "output_type": "display_data"
    }
   ],
   "source": [
    "#distribution of number of cars over the years\n",
    "dic = {1970+i : sum(df['year']==1970+i) for i in range(55)}\n",
    "x_dic = [1970 + i for i in range(55)]\n",
    "y_dic = [dic[1970 + i] for i in range(55)]\n",
    "\n",
    "# Plot\n",
    "fig = go.Figure([go.Bar(x=x_dic, y=y_dic)])\n",
    "\n",
    "fig.update_layout(title=\"Car year distribution\",\n",
    "                  xaxis_title=\"Year\",\n",
    "                  yaxis_title=\"Count Cars sold\")\n",
    "\n",
    "\n",
    "fig.show()"
   ]
  },
  {
   "cell_type": "code",
   "execution_count": 7,
   "metadata": {},
   "outputs": [
    {
     "data": {
      "application/vnd.plotly.v1+json": {
       "config": {
        "plotlyServerURL": "https://plot.ly"
       },
       "data": [
        {
         "hole": 0.3,
         "hoverinfo": "label+percent+name",
         "insidetextorientation": "radial",
         "labels": [
          "manual",
          "automatic"
         ],
         "textinfo": "label+percent",
         "type": "pie",
         "values": [
          709,
          504
         ]
        }
       ],
       "layout": {
        "template": {
         "data": {
          "bar": [
           {
            "error_x": {
             "color": "#2a3f5f"
            },
            "error_y": {
             "color": "#2a3f5f"
            },
            "marker": {
             "line": {
              "color": "#E5ECF6",
              "width": 0.5
             },
             "pattern": {
              "fillmode": "overlay",
              "size": 10,
              "solidity": 0.2
             }
            },
            "type": "bar"
           }
          ],
          "barpolar": [
           {
            "marker": {
             "line": {
              "color": "#E5ECF6",
              "width": 0.5
             },
             "pattern": {
              "fillmode": "overlay",
              "size": 10,
              "solidity": 0.2
             }
            },
            "type": "barpolar"
           }
          ],
          "carpet": [
           {
            "aaxis": {
             "endlinecolor": "#2a3f5f",
             "gridcolor": "white",
             "linecolor": "white",
             "minorgridcolor": "white",
             "startlinecolor": "#2a3f5f"
            },
            "baxis": {
             "endlinecolor": "#2a3f5f",
             "gridcolor": "white",
             "linecolor": "white",
             "minorgridcolor": "white",
             "startlinecolor": "#2a3f5f"
            },
            "type": "carpet"
           }
          ],
          "choropleth": [
           {
            "colorbar": {
             "outlinewidth": 0,
             "ticks": ""
            },
            "type": "choropleth"
           }
          ],
          "contour": [
           {
            "colorbar": {
             "outlinewidth": 0,
             "ticks": ""
            },
            "colorscale": [
             [
              0,
              "#0d0887"
             ],
             [
              0.1111111111111111,
              "#46039f"
             ],
             [
              0.2222222222222222,
              "#7201a8"
             ],
             [
              0.3333333333333333,
              "#9c179e"
             ],
             [
              0.4444444444444444,
              "#bd3786"
             ],
             [
              0.5555555555555556,
              "#d8576b"
             ],
             [
              0.6666666666666666,
              "#ed7953"
             ],
             [
              0.7777777777777778,
              "#fb9f3a"
             ],
             [
              0.8888888888888888,
              "#fdca26"
             ],
             [
              1,
              "#f0f921"
             ]
            ],
            "type": "contour"
           }
          ],
          "contourcarpet": [
           {
            "colorbar": {
             "outlinewidth": 0,
             "ticks": ""
            },
            "type": "contourcarpet"
           }
          ],
          "heatmap": [
           {
            "colorbar": {
             "outlinewidth": 0,
             "ticks": ""
            },
            "colorscale": [
             [
              0,
              "#0d0887"
             ],
             [
              0.1111111111111111,
              "#46039f"
             ],
             [
              0.2222222222222222,
              "#7201a8"
             ],
             [
              0.3333333333333333,
              "#9c179e"
             ],
             [
              0.4444444444444444,
              "#bd3786"
             ],
             [
              0.5555555555555556,
              "#d8576b"
             ],
             [
              0.6666666666666666,
              "#ed7953"
             ],
             [
              0.7777777777777778,
              "#fb9f3a"
             ],
             [
              0.8888888888888888,
              "#fdca26"
             ],
             [
              1,
              "#f0f921"
             ]
            ],
            "type": "heatmap"
           }
          ],
          "histogram": [
           {
            "marker": {
             "pattern": {
              "fillmode": "overlay",
              "size": 10,
              "solidity": 0.2
             }
            },
            "type": "histogram"
           }
          ],
          "histogram2d": [
           {
            "colorbar": {
             "outlinewidth": 0,
             "ticks": ""
            },
            "colorscale": [
             [
              0,
              "#0d0887"
             ],
             [
              0.1111111111111111,
              "#46039f"
             ],
             [
              0.2222222222222222,
              "#7201a8"
             ],
             [
              0.3333333333333333,
              "#9c179e"
             ],
             [
              0.4444444444444444,
              "#bd3786"
             ],
             [
              0.5555555555555556,
              "#d8576b"
             ],
             [
              0.6666666666666666,
              "#ed7953"
             ],
             [
              0.7777777777777778,
              "#fb9f3a"
             ],
             [
              0.8888888888888888,
              "#fdca26"
             ],
             [
              1,
              "#f0f921"
             ]
            ],
            "type": "histogram2d"
           }
          ],
          "histogram2dcontour": [
           {
            "colorbar": {
             "outlinewidth": 0,
             "ticks": ""
            },
            "colorscale": [
             [
              0,
              "#0d0887"
             ],
             [
              0.1111111111111111,
              "#46039f"
             ],
             [
              0.2222222222222222,
              "#7201a8"
             ],
             [
              0.3333333333333333,
              "#9c179e"
             ],
             [
              0.4444444444444444,
              "#bd3786"
             ],
             [
              0.5555555555555556,
              "#d8576b"
             ],
             [
              0.6666666666666666,
              "#ed7953"
             ],
             [
              0.7777777777777778,
              "#fb9f3a"
             ],
             [
              0.8888888888888888,
              "#fdca26"
             ],
             [
              1,
              "#f0f921"
             ]
            ],
            "type": "histogram2dcontour"
           }
          ],
          "mesh3d": [
           {
            "colorbar": {
             "outlinewidth": 0,
             "ticks": ""
            },
            "type": "mesh3d"
           }
          ],
          "parcoords": [
           {
            "line": {
             "colorbar": {
              "outlinewidth": 0,
              "ticks": ""
             }
            },
            "type": "parcoords"
           }
          ],
          "pie": [
           {
            "automargin": true,
            "type": "pie"
           }
          ],
          "scatter": [
           {
            "fillpattern": {
             "fillmode": "overlay",
             "size": 10,
             "solidity": 0.2
            },
            "type": "scatter"
           }
          ],
          "scatter3d": [
           {
            "line": {
             "colorbar": {
              "outlinewidth": 0,
              "ticks": ""
             }
            },
            "marker": {
             "colorbar": {
              "outlinewidth": 0,
              "ticks": ""
             }
            },
            "type": "scatter3d"
           }
          ],
          "scattercarpet": [
           {
            "marker": {
             "colorbar": {
              "outlinewidth": 0,
              "ticks": ""
             }
            },
            "type": "scattercarpet"
           }
          ],
          "scattergeo": [
           {
            "marker": {
             "colorbar": {
              "outlinewidth": 0,
              "ticks": ""
             }
            },
            "type": "scattergeo"
           }
          ],
          "scattergl": [
           {
            "marker": {
             "colorbar": {
              "outlinewidth": 0,
              "ticks": ""
             }
            },
            "type": "scattergl"
           }
          ],
          "scattermap": [
           {
            "marker": {
             "colorbar": {
              "outlinewidth": 0,
              "ticks": ""
             }
            },
            "type": "scattermap"
           }
          ],
          "scattermapbox": [
           {
            "marker": {
             "colorbar": {
              "outlinewidth": 0,
              "ticks": ""
             }
            },
            "type": "scattermapbox"
           }
          ],
          "scatterpolar": [
           {
            "marker": {
             "colorbar": {
              "outlinewidth": 0,
              "ticks": ""
             }
            },
            "type": "scatterpolar"
           }
          ],
          "scatterpolargl": [
           {
            "marker": {
             "colorbar": {
              "outlinewidth": 0,
              "ticks": ""
             }
            },
            "type": "scatterpolargl"
           }
          ],
          "scatterternary": [
           {
            "marker": {
             "colorbar": {
              "outlinewidth": 0,
              "ticks": ""
             }
            },
            "type": "scatterternary"
           }
          ],
          "surface": [
           {
            "colorbar": {
             "outlinewidth": 0,
             "ticks": ""
            },
            "colorscale": [
             [
              0,
              "#0d0887"
             ],
             [
              0.1111111111111111,
              "#46039f"
             ],
             [
              0.2222222222222222,
              "#7201a8"
             ],
             [
              0.3333333333333333,
              "#9c179e"
             ],
             [
              0.4444444444444444,
              "#bd3786"
             ],
             [
              0.5555555555555556,
              "#d8576b"
             ],
             [
              0.6666666666666666,
              "#ed7953"
             ],
             [
              0.7777777777777778,
              "#fb9f3a"
             ],
             [
              0.8888888888888888,
              "#fdca26"
             ],
             [
              1,
              "#f0f921"
             ]
            ],
            "type": "surface"
           }
          ],
          "table": [
           {
            "cells": {
             "fill": {
              "color": "#EBF0F8"
             },
             "line": {
              "color": "white"
             }
            },
            "header": {
             "fill": {
              "color": "#C8D4E3"
             },
             "line": {
              "color": "white"
             }
            },
            "type": "table"
           }
          ]
         },
         "layout": {
          "annotationdefaults": {
           "arrowcolor": "#2a3f5f",
           "arrowhead": 0,
           "arrowwidth": 1
          },
          "autotypenumbers": "strict",
          "coloraxis": {
           "colorbar": {
            "outlinewidth": 0,
            "ticks": ""
           }
          },
          "colorscale": {
           "diverging": [
            [
             0,
             "#8e0152"
            ],
            [
             0.1,
             "#c51b7d"
            ],
            [
             0.2,
             "#de77ae"
            ],
            [
             0.3,
             "#f1b6da"
            ],
            [
             0.4,
             "#fde0ef"
            ],
            [
             0.5,
             "#f7f7f7"
            ],
            [
             0.6,
             "#e6f5d0"
            ],
            [
             0.7,
             "#b8e186"
            ],
            [
             0.8,
             "#7fbc41"
            ],
            [
             0.9,
             "#4d9221"
            ],
            [
             1,
             "#276419"
            ]
           ],
           "sequential": [
            [
             0,
             "#0d0887"
            ],
            [
             0.1111111111111111,
             "#46039f"
            ],
            [
             0.2222222222222222,
             "#7201a8"
            ],
            [
             0.3333333333333333,
             "#9c179e"
            ],
            [
             0.4444444444444444,
             "#bd3786"
            ],
            [
             0.5555555555555556,
             "#d8576b"
            ],
            [
             0.6666666666666666,
             "#ed7953"
            ],
            [
             0.7777777777777778,
             "#fb9f3a"
            ],
            [
             0.8888888888888888,
             "#fdca26"
            ],
            [
             1,
             "#f0f921"
            ]
           ],
           "sequentialminus": [
            [
             0,
             "#0d0887"
            ],
            [
             0.1111111111111111,
             "#46039f"
            ],
            [
             0.2222222222222222,
             "#7201a8"
            ],
            [
             0.3333333333333333,
             "#9c179e"
            ],
            [
             0.4444444444444444,
             "#bd3786"
            ],
            [
             0.5555555555555556,
             "#d8576b"
            ],
            [
             0.6666666666666666,
             "#ed7953"
            ],
            [
             0.7777777777777778,
             "#fb9f3a"
            ],
            [
             0.8888888888888888,
             "#fdca26"
            ],
            [
             1,
             "#f0f921"
            ]
           ]
          },
          "colorway": [
           "#636efa",
           "#EF553B",
           "#00cc96",
           "#ab63fa",
           "#FFA15A",
           "#19d3f3",
           "#FF6692",
           "#B6E880",
           "#FF97FF",
           "#FECB52"
          ],
          "font": {
           "color": "#2a3f5f"
          },
          "geo": {
           "bgcolor": "white",
           "lakecolor": "white",
           "landcolor": "#E5ECF6",
           "showlakes": true,
           "showland": true,
           "subunitcolor": "white"
          },
          "hoverlabel": {
           "align": "left"
          },
          "hovermode": "closest",
          "mapbox": {
           "style": "light"
          },
          "paper_bgcolor": "white",
          "plot_bgcolor": "#E5ECF6",
          "polar": {
           "angularaxis": {
            "gridcolor": "white",
            "linecolor": "white",
            "ticks": ""
           },
           "bgcolor": "#E5ECF6",
           "radialaxis": {
            "gridcolor": "white",
            "linecolor": "white",
            "ticks": ""
           }
          },
          "scene": {
           "xaxis": {
            "backgroundcolor": "#E5ECF6",
            "gridcolor": "white",
            "gridwidth": 2,
            "linecolor": "white",
            "showbackground": true,
            "ticks": "",
            "zerolinecolor": "white"
           },
           "yaxis": {
            "backgroundcolor": "#E5ECF6",
            "gridcolor": "white",
            "gridwidth": 2,
            "linecolor": "white",
            "showbackground": true,
            "ticks": "",
            "zerolinecolor": "white"
           },
           "zaxis": {
            "backgroundcolor": "#E5ECF6",
            "gridcolor": "white",
            "gridwidth": 2,
            "linecolor": "white",
            "showbackground": true,
            "ticks": "",
            "zerolinecolor": "white"
           }
          },
          "shapedefaults": {
           "line": {
            "color": "#2a3f5f"
           }
          },
          "ternary": {
           "aaxis": {
            "gridcolor": "white",
            "linecolor": "white",
            "ticks": ""
           },
           "baxis": {
            "gridcolor": "white",
            "linecolor": "white",
            "ticks": ""
           },
           "bgcolor": "#E5ECF6",
           "caxis": {
            "gridcolor": "white",
            "linecolor": "white",
            "ticks": ""
           }
          },
          "title": {
           "x": 0.05
          },
          "xaxis": {
           "automargin": true,
           "gridcolor": "white",
           "linecolor": "white",
           "ticks": "",
           "title": {
            "standoff": 15
           },
           "zerolinecolor": "white",
           "zerolinewidth": 2
          },
          "yaxis": {
           "automargin": true,
           "gridcolor": "white",
           "linecolor": "white",
           "ticks": "",
           "title": {
            "standoff": 15
           },
           "zerolinecolor": "white",
           "zerolinewidth": 2
          }
         }
        }
       }
      }
     },
     "metadata": {},
     "output_type": "display_data"
    }
   ],
   "source": [
    "# Distribution of transmission\n",
    "data_pie = df['transmission'].value_counts()\n",
    "\n",
    "fig = go.Figure(data=[go.Pie(labels=data_pie.index, values=data_pie.tolist(), textinfo='label+percent',insidetextorientation='radial')])\n",
    "\n",
    "fig.update_traces(hole=.3, hoverinfo=\"label+percent+name\")"
   ]
  },
  {
   "cell_type": "code",
   "execution_count": 8,
   "metadata": {},
   "outputs": [
    {
     "data": {
      "image/png": "[encoded data removed]",
      "text/plain": [
       "<Figure size 500x500 with 1 Axes>"
      ]
     },
     "metadata": {},
     "output_type": "display_data"
    },
    {
     "data": {
      "image/png": "[encoded data removed]",
      "text/plain": [
       "<Figure size 640x480 with 1 Axes>"
      ]
     },
     "metadata": {},
     "output_type": "display_data"
    }
   ],
   "source": [
    "# Replace sold_price with bid_amount and remove outliers\n",
    "df['sold_price'] = df['sold_price'].fillna(df['bid_amount'])\n",
    "df = df.dropna()\n",
    "\n",
    "# Remove outliers\n",
    "price_threshold = 1000000\n",
    "df.drop(df[df['sold_price'] >= price_threshold].index,inplace=True)\n",
    "\n",
    "# Plot distribution of sold_price\n",
    "sns.displot(df['sold_price'])\n",
    "fig = plt.figure()\n",
    "res = stats.probplot(df['sold_price'], plot=plt)\n"
   ]
  },
  {
   "cell_type": "code",
   "execution_count": 9,
   "metadata": {
    "collapsed": true,
    "execution": {
     "iopub.execute_input": "2025-03-25T15:40:36.204029Z",
     "iopub.status.busy": "2025-03-25T15:40:36.203659Z",
     "iopub.status.idle": "2025-03-25T15:40:38.622810Z",
     "shell.execute_reply": "2025-03-25T15:40:38.621756Z",
     "shell.execute_reply.started": "2025-03-25T15:40:36.203993Z"
    },
    "jupyter": {
     "outputs_hidden": true
    },
    "trusted": true
   },
   "outputs": [
    {
     "data": {
      "text/plain": [
       "array([[<Axes: title={'center': 'year'}>,\n",
       "        <Axes: title={'center': 'mileage'}>],\n",
       "       [<Axes: title={'center': 'sold_price'}>,\n",
       "        <Axes: title={'center': 'bid_amount'}>]], dtype=object)"
      ]
     },
     "execution_count": 9,
     "metadata": {},
     "output_type": "execute_result"
    },
    {
     "data": {
      "image/png": "[encoded data removed]",
      "text/plain": [
       "<Figure size 2000x1000 with 4 Axes>"
      ]
     },
     "metadata": {},
     "output_type": "display_data"
    }
   ],
   "source": [
    "# Data distribution\n",
    "df.hist(figsize=(20,10),bins = 50)"
   ]
  },
  {
   "cell_type": "code",
   "execution_count": 10,
   "metadata": {},
   "outputs": [],
   "source": [
    "# Weight by recency\n",
    "df['days_since_end'] = (pd.to_datetime(date.today()) - pd.to_datetime(df[\"end_date\"])).dt.days\n",
    "K = 1\n",
    "T = 360\n",
    "df['W'] = K*np.exp(-df['days_since_end']/T)\n"
   ]
  },
  {
   "cell_type": "code",
   "execution_count": 11,
   "metadata": {},
   "outputs": [
    {
     "data": {
      "image/png": "[encoded data removed]",
      "text/plain": [
       "<Figure size 500x500 with 1 Axes>"
      ]
     },
     "metadata": {},
     "output_type": "display_data"
    },
    {
     "data": {
      "image/png": "[encoded data removed]",
      "text/plain": [
       "<Figure size 640x480 with 1 Axes>"
      ]
     },
     "metadata": {},
     "output_type": "display_data"
    }
   ],
   "source": [
    "#Log transform sold_price & mileage\n",
    "df['sold_price'] = np.log(df['sold_price'])\n",
    "df['mileage'] = np.log1p(df['mileage'])\n",
    "\n",
    "sns.displot(df['sold_price'])\n",
    "fig = plt.figure()\n",
    "res = stats.probplot(df['sold_price'], plot=plt)"
   ]
  },
  {
   "cell_type": "code",
   "execution_count": 12,
   "metadata": {
    "execution": {
     "iopub.execute_input": "2025-03-25T15:44:52.717089Z",
     "iopub.status.busy": "2025-03-25T15:44:52.716713Z",
     "iopub.status.idle": "2025-03-25T15:44:52.754814Z",
     "shell.execute_reply": "2025-03-25T15:44:52.753706Z",
     "shell.execute_reply.started": "2025-03-25T15:44:52.717061Z"
    },
    "trusted": true
   },
   "outputs": [
    {
     "data": {
      "text/html": [
       "<div>\n",
       "<style scoped>\n",
       "    .dataframe tbody tr th:only-of-type {\n",
       "        vertical-align: middle;\n",
       "    }\n",
       "\n",
       "    .dataframe tbody tr th {\n",
       "        vertical-align: top;\n",
       "    }\n",
       "\n",
       "    .dataframe thead th {\n",
       "        text-align: right;\n",
       "    }\n",
       "</style>\n",
       "<table border=\"1\" class=\"dataframe\">\n",
       "  <thead>\n",
       "    <tr style=\"text-align: right;\">\n",
       "      <th></th>\n",
       "      <th>year</th>\n",
       "      <th>mileage</th>\n",
       "      <th>sold_price</th>\n",
       "      <th>bid_amount</th>\n",
       "      <th>days_since_end</th>\n",
       "      <th>W</th>\n",
       "    </tr>\n",
       "  </thead>\n",
       "  <tbody>\n",
       "    <tr>\n",
       "      <th>count</th>\n",
       "      <td>1157.000000</td>\n",
       "      <td>1157.000000</td>\n",
       "      <td>1157.000000</td>\n",
       "      <td>1157.000000</td>\n",
       "      <td>1157.00000</td>\n",
       "      <td>1157.000000</td>\n",
       "    </tr>\n",
       "    <tr>\n",
       "      <th>mean</th>\n",
       "      <td>2007.310285</td>\n",
       "      <td>10.546640</td>\n",
       "      <td>10.482615</td>\n",
       "      <td>51668.258427</td>\n",
       "      <td>988.32325</td>\n",
       "      <td>0.221544</td>\n",
       "    </tr>\n",
       "    <tr>\n",
       "      <th>std</th>\n",
       "      <td>7.145643</td>\n",
       "      <td>1.126994</td>\n",
       "      <td>0.871102</td>\n",
       "      <td>45369.997449</td>\n",
       "      <td>741.65982</td>\n",
       "      <td>0.265482</td>\n",
       "    </tr>\n",
       "    <tr>\n",
       "      <th>min</th>\n",
       "      <td>1981.000000</td>\n",
       "      <td>2.995732</td>\n",
       "      <td>8.517193</td>\n",
       "      <td>5000.000000</td>\n",
       "      <td>1.00000</td>\n",
       "      <td>0.000091</td>\n",
       "    </tr>\n",
       "    <tr>\n",
       "      <th>25%</th>\n",
       "      <td>2003.000000</td>\n",
       "      <td>9.952325</td>\n",
       "      <td>9.798127</td>\n",
       "      <td>18000.000000</td>\n",
       "      <td>373.00000</td>\n",
       "      <td>0.019852</td>\n",
       "    </tr>\n",
       "    <tr>\n",
       "      <th>50%</th>\n",
       "      <td>2008.000000</td>\n",
       "      <td>10.839601</td>\n",
       "      <td>10.373491</td>\n",
       "      <td>32000.000000</td>\n",
       "      <td>839.00000</td>\n",
       "      <td>0.097242</td>\n",
       "    </tr>\n",
       "    <tr>\n",
       "      <th>75%</th>\n",
       "      <td>2011.000000</td>\n",
       "      <td>11.373675</td>\n",
       "      <td>11.289782</td>\n",
       "      <td>80000.000000</td>\n",
       "      <td>1411.00000</td>\n",
       "      <td>0.354832</td>\n",
       "    </tr>\n",
       "    <tr>\n",
       "      <th>max</th>\n",
       "      <td>2023.000000</td>\n",
       "      <td>12.409018</td>\n",
       "      <td>12.367341</td>\n",
       "      <td>235000.000000</td>\n",
       "      <td>3348.00000</td>\n",
       "      <td>0.997226</td>\n",
       "    </tr>\n",
       "  </tbody>\n",
       "</table>\n",
       "</div>"
      ],
      "text/plain": [
       "              year      mileage   sold_price     bid_amount  days_since_end  \\\n",
       "count  1157.000000  1157.000000  1157.000000    1157.000000      1157.00000   \n",
       "mean   2007.310285    10.546640    10.482615   51668.258427       988.32325   \n",
       "std       7.145643     1.126994     0.871102   45369.997449       741.65982   \n",
       "min    1981.000000     2.995732     8.517193    5000.000000         1.00000   \n",
       "25%    2003.000000     9.952325     9.798127   18000.000000       373.00000   \n",
       "50%    2008.000000    10.839601    10.373491   32000.000000       839.00000   \n",
       "75%    2011.000000    11.373675    11.289782   80000.000000      1411.00000   \n",
       "max    2023.000000    12.409018    12.367341  235000.000000      3348.00000   \n",
       "\n",
       "                 W  \n",
       "count  1157.000000  \n",
       "mean      0.221544  \n",
       "std       0.265482  \n",
       "min       0.000091  \n",
       "25%       0.019852  \n",
       "50%       0.097242  \n",
       "75%       0.354832  \n",
       "max       0.997226  "
      ]
     },
     "execution_count": 12,
     "metadata": {},
     "output_type": "execute_result"
    }
   ],
   "source": [
    "# Summarize transformed data\n",
    "df.describe()"
   ]
  },
  {
   "cell_type": "code",
   "execution_count": 13,
   "metadata": {
    "collapsed": true,
    "execution": {
     "iopub.execute_input": "2025-03-25T15:41:56.775341Z",
     "iopub.status.busy": "2025-03-25T15:41:56.774416Z",
     "iopub.status.idle": "2025-03-25T15:41:56.789549Z",
     "shell.execute_reply": "2025-03-25T15:41:56.788537Z",
     "shell.execute_reply.started": "2025-03-25T15:41:56.775289Z"
    },
    "jupyter": {
     "outputs_hidden": true
    },
    "trusted": true
   },
   "outputs": [
    {
     "data": {
      "text/html": [
       "<div>\n",
       "<style scoped>\n",
       "    .dataframe tbody tr th:only-of-type {\n",
       "        vertical-align: middle;\n",
       "    }\n",
       "\n",
       "    .dataframe tbody tr th {\n",
       "        vertical-align: top;\n",
       "    }\n",
       "\n",
       "    .dataframe thead th {\n",
       "        text-align: right;\n",
       "    }\n",
       "</style>\n",
       "<table border=\"1\" class=\"dataframe\">\n",
       "  <thead>\n",
       "    <tr style=\"text-align: right;\">\n",
       "      <th></th>\n",
       "      <th>year</th>\n",
       "      <th>model</th>\n",
       "      <th>mileage</th>\n",
       "      <th>normalized_color</th>\n",
       "      <th>transmission</th>\n",
       "      <th>W</th>\n",
       "    </tr>\n",
       "  </thead>\n",
       "  <tbody>\n",
       "    <tr>\n",
       "      <th>250</th>\n",
       "      <td>2008</td>\n",
       "      <td>A8L</td>\n",
       "      <td>11.326608</td>\n",
       "      <td>Gray</td>\n",
       "      <td>automatic</td>\n",
       "      <td>0.409972</td>\n",
       "    </tr>\n",
       "    <tr>\n",
       "      <th>251</th>\n",
       "      <td>2012</td>\n",
       "      <td>A8L</td>\n",
       "      <td>11.891369</td>\n",
       "      <td>Gray</td>\n",
       "      <td>automatic</td>\n",
       "      <td>0.524954</td>\n",
       "    </tr>\n",
       "    <tr>\n",
       "      <th>252</th>\n",
       "      <td>2015</td>\n",
       "      <td>A8L</td>\n",
       "      <td>11.512935</td>\n",
       "      <td>Silver</td>\n",
       "      <td>automatic</td>\n",
       "      <td>0.880049</td>\n",
       "    </tr>\n",
       "    <tr>\n",
       "      <th>253</th>\n",
       "      <td>2009</td>\n",
       "      <td>A8L</td>\n",
       "      <td>11.373675</td>\n",
       "      <td>Black</td>\n",
       "      <td>automatic</td>\n",
       "      <td>0.738763</td>\n",
       "    </tr>\n",
       "    <tr>\n",
       "      <th>254</th>\n",
       "      <td>2011</td>\n",
       "      <td>A8L</td>\n",
       "      <td>11.362114</td>\n",
       "      <td>Silver</td>\n",
       "      <td>automatic</td>\n",
       "      <td>0.691118</td>\n",
       "    </tr>\n",
       "    <tr>\n",
       "      <th>...</th>\n",
       "      <td>...</td>\n",
       "      <td>...</td>\n",
       "      <td>...</td>\n",
       "      <td>...</td>\n",
       "      <td>...</td>\n",
       "      <td>...</td>\n",
       "    </tr>\n",
       "    <tr>\n",
       "      <th>2323</th>\n",
       "      <td>1983</td>\n",
       "      <td>Ur-Quattro</td>\n",
       "      <td>11.561725</td>\n",
       "      <td>Black</td>\n",
       "      <td>automatic</td>\n",
       "      <td>0.007243</td>\n",
       "    </tr>\n",
       "    <tr>\n",
       "      <th>2324</th>\n",
       "      <td>1984</td>\n",
       "      <td>Ur-Quattro</td>\n",
       "      <td>11.626263</td>\n",
       "      <td>Gray</td>\n",
       "      <td>manual</td>\n",
       "      <td>0.007103</td>\n",
       "    </tr>\n",
       "    <tr>\n",
       "      <th>2326</th>\n",
       "      <td>1983</td>\n",
       "      <td>Ur-Quattro</td>\n",
       "      <td>11.314487</td>\n",
       "      <td>Beige</td>\n",
       "      <td>manual</td>\n",
       "      <td>0.000113</td>\n",
       "    </tr>\n",
       "    <tr>\n",
       "      <th>2327</th>\n",
       "      <td>1984</td>\n",
       "      <td>Ur-Quattro</td>\n",
       "      <td>11.127278</td>\n",
       "      <td>Red</td>\n",
       "      <td>manual</td>\n",
       "      <td>0.001422</td>\n",
       "    </tr>\n",
       "    <tr>\n",
       "      <th>2328</th>\n",
       "      <td>1985</td>\n",
       "      <td>Ur-Quattro</td>\n",
       "      <td>11.626263</td>\n",
       "      <td>Gray</td>\n",
       "      <td>manual</td>\n",
       "      <td>0.002747</td>\n",
       "    </tr>\n",
       "  </tbody>\n",
       "</table>\n",
       "<p>1157 rows × 6 columns</p>\n",
       "</div>"
      ],
      "text/plain": [
       "      year       model    mileage normalized_color transmission         W\n",
       "250   2008         A8L  11.326608             Gray    automatic  0.409972\n",
       "251   2012         A8L  11.891369             Gray    automatic  0.524954\n",
       "252   2015         A8L  11.512935           Silver    automatic  0.880049\n",
       "253   2009         A8L  11.373675            Black    automatic  0.738763\n",
       "254   2011         A8L  11.362114           Silver    automatic  0.691118\n",
       "...    ...         ...        ...              ...          ...       ...\n",
       "2323  1983  Ur-Quattro  11.561725            Black    automatic  0.007243\n",
       "2324  1984  Ur-Quattro  11.626263             Gray       manual  0.007103\n",
       "2326  1983  Ur-Quattro  11.314487            Beige       manual  0.000113\n",
       "2327  1984  Ur-Quattro  11.127278              Red       manual  0.001422\n",
       "2328  1985  Ur-Quattro  11.626263             Gray       manual  0.002747\n",
       "\n",
       "[1157 rows x 6 columns]"
      ]
     },
     "execution_count": 13,
     "metadata": {},
     "output_type": "execute_result"
    }
   ],
   "source": [
    "# Prepare target and features\n",
    "y = df[\"sold_price\"]\n",
    "X = df.drop([\"sold_price\",\"bid_amount\",\"end_date\", \"status\", \"days_since_end\"],axis=1)\n",
    "X"
   ]
  },
  {
   "cell_type": "code",
   "execution_count": 14,
   "metadata": {},
   "outputs": [
    {
     "name": "stdout",
     "output_type": "stream",
     "text": [
      "Model Mapping: {'A8L': 0, 'Quattro': 1, 'R8 6-Speed': 2, 'R8 Coupe': 3, 'R8 Coupe 6-Speed': 4, 'R8 V10 6-Speed': 5, 'R8 V10 Coupe': 6, 'R8 V10 Coupe 6-Speed': 7, 'R8 V10 Plus Coupe': 8, 'R8 V10 Spyder': 9, 'R8 V10 Spyder 6-Speed': 10, 'RS4': 11, 'RS4 Cabriolet': 12, 'RS6': 13, 'RS6 Avant': 14, 'S4': 15, 'S4 6-Speed': 16, 'S4 Avant 6-Speed': 17, 'S6': 18, 'S8': 19, 'TT RS': 20, 'TT Roadster 225 Quattro 6-Speed': 21, 'Ur-Quattro': 22}\n",
      "Color Mapping: {'Beige': 0, 'Black': 1, 'Blue': 2, 'Brown': 3, 'Gray': 4, 'Green': 5, 'Maroon': 6, 'Orange': 7, 'Pink': 8, 'Purple': 9, 'Red': 10, 'Silver': 11, 'Unknown': 12, 'White': 13, 'Yellow': 14}\n",
      "Trans Mapping: {'automatic': 0, 'manual': 1}\n"
     ]
    },
    {
     "data": {
      "text/html": [
       "<div>\n",
       "<style scoped>\n",
       "    .dataframe tbody tr th:only-of-type {\n",
       "        vertical-align: middle;\n",
       "    }\n",
       "\n",
       "    .dataframe tbody tr th {\n",
       "        vertical-align: top;\n",
       "    }\n",
       "\n",
       "    .dataframe thead th {\n",
       "        text-align: right;\n",
       "    }\n",
       "</style>\n",
       "<table border=\"1\" class=\"dataframe\">\n",
       "  <thead>\n",
       "    <tr style=\"text-align: right;\">\n",
       "      <th></th>\n",
       "      <th>year</th>\n",
       "      <th>model</th>\n",
       "      <th>mileage</th>\n",
       "      <th>normalized_color</th>\n",
       "      <th>transmission</th>\n",
       "      <th>W</th>\n",
       "    </tr>\n",
       "  </thead>\n",
       "  <tbody>\n",
       "    <tr>\n",
       "      <th>250</th>\n",
       "      <td>2008</td>\n",
       "      <td>0</td>\n",
       "      <td>11.326608</td>\n",
       "      <td>4</td>\n",
       "      <td>0</td>\n",
       "      <td>0.409972</td>\n",
       "    </tr>\n",
       "    <tr>\n",
       "      <th>251</th>\n",
       "      <td>2012</td>\n",
       "      <td>0</td>\n",
       "      <td>11.891369</td>\n",
       "      <td>4</td>\n",
       "      <td>0</td>\n",
       "      <td>0.524954</td>\n",
       "    </tr>\n",
       "    <tr>\n",
       "      <th>252</th>\n",
       "      <td>2015</td>\n",
       "      <td>0</td>\n",
       "      <td>11.512935</td>\n",
       "      <td>11</td>\n",
       "      <td>0</td>\n",
       "      <td>0.880049</td>\n",
       "    </tr>\n",
       "    <tr>\n",
       "      <th>253</th>\n",
       "      <td>2009</td>\n",
       "      <td>0</td>\n",
       "      <td>11.373675</td>\n",
       "      <td>1</td>\n",
       "      <td>0</td>\n",
       "      <td>0.738763</td>\n",
       "    </tr>\n",
       "    <tr>\n",
       "      <th>254</th>\n",
       "      <td>2011</td>\n",
       "      <td>0</td>\n",
       "      <td>11.362114</td>\n",
       "      <td>11</td>\n",
       "      <td>0</td>\n",
       "      <td>0.691118</td>\n",
       "    </tr>\n",
       "    <tr>\n",
       "      <th>...</th>\n",
       "      <td>...</td>\n",
       "      <td>...</td>\n",
       "      <td>...</td>\n",
       "      <td>...</td>\n",
       "      <td>...</td>\n",
       "      <td>...</td>\n",
       "    </tr>\n",
       "    <tr>\n",
       "      <th>2323</th>\n",
       "      <td>1983</td>\n",
       "      <td>22</td>\n",
       "      <td>11.561725</td>\n",
       "      <td>1</td>\n",
       "      <td>0</td>\n",
       "      <td>0.007243</td>\n",
       "    </tr>\n",
       "    <tr>\n",
       "      <th>2324</th>\n",
       "      <td>1984</td>\n",
       "      <td>22</td>\n",
       "      <td>11.626263</td>\n",
       "      <td>4</td>\n",
       "      <td>1</td>\n",
       "      <td>0.007103</td>\n",
       "    </tr>\n",
       "    <tr>\n",
       "      <th>2326</th>\n",
       "      <td>1983</td>\n",
       "      <td>22</td>\n",
       "      <td>11.314487</td>\n",
       "      <td>0</td>\n",
       "      <td>1</td>\n",
       "      <td>0.000113</td>\n",
       "    </tr>\n",
       "    <tr>\n",
       "      <th>2327</th>\n",
       "      <td>1984</td>\n",
       "      <td>22</td>\n",
       "      <td>11.127278</td>\n",
       "      <td>10</td>\n",
       "      <td>1</td>\n",
       "      <td>0.001422</td>\n",
       "    </tr>\n",
       "    <tr>\n",
       "      <th>2328</th>\n",
       "      <td>1985</td>\n",
       "      <td>22</td>\n",
       "      <td>11.626263</td>\n",
       "      <td>4</td>\n",
       "      <td>1</td>\n",
       "      <td>0.002747</td>\n",
       "    </tr>\n",
       "  </tbody>\n",
       "</table>\n",
       "<p>1157 rows × 6 columns</p>\n",
       "</div>"
      ],
      "text/plain": [
       "      year  model    mileage  normalized_color  transmission         W\n",
       "250   2008      0  11.326608                 4             0  0.409972\n",
       "251   2012      0  11.891369                 4             0  0.524954\n",
       "252   2015      0  11.512935                11             0  0.880049\n",
       "253   2009      0  11.373675                 1             0  0.738763\n",
       "254   2011      0  11.362114                11             0  0.691118\n",
       "...    ...    ...        ...               ...           ...       ...\n",
       "2323  1983     22  11.561725                 1             0  0.007243\n",
       "2324  1984     22  11.626263                 4             1  0.007103\n",
       "2326  1983     22  11.314487                 0             1  0.000113\n",
       "2327  1984     22  11.127278                10             1  0.001422\n",
       "2328  1985     22  11.626263                 4             1  0.002747\n",
       "\n",
       "[1157 rows x 6 columns]"
      ]
     },
     "execution_count": 14,
     "metadata": {},
     "output_type": "execute_result"
    }
   ],
   "source": [
    "# Encode categorical features\n",
    "Lbl_model = LabelEncoder()\n",
    "Lbl_color = LabelEncoder()\n",
    "Lbl_trans = LabelEncoder()\n",
    "\n",
    "#df.make=Lbl.fit_transform(df.make)\n",
    "X.model=Lbl_model.fit_transform(df.model)\n",
    "print(\"Model Mapping:\", dict(zip(Lbl_model.classes_, Lbl_model.transform(Lbl_model.classes_))))\n",
    "X.normalized_color=Lbl_color.fit_transform(df.normalized_color)\n",
    "print(\"Color Mapping:\", dict(zip(Lbl_color.classes_, Lbl_color.transform(Lbl_color.classes_))))\n",
    "X.transmission =Lbl_trans.fit_transform(df.transmission)\n",
    "print(\"Trans Mapping:\", dict(zip(Lbl_trans.classes_, Lbl_trans.transform(Lbl_trans.classes_))))\n",
    "X"
   ]
  },
  {
   "cell_type": "code",
   "execution_count": 15,
   "metadata": {
    "execution": {
     "iopub.execute_input": "2025-03-25T15:42:08.395704Z",
     "iopub.status.busy": "2025-03-25T15:42:08.394591Z",
     "iopub.status.idle": "2025-03-25T15:42:10.228410Z",
     "shell.execute_reply": "2025-03-25T15:42:10.227347Z",
     "shell.execute_reply.started": "2025-03-25T15:42:08.395668Z"
    },
    "trusted": true
   },
   "outputs": [
    {
     "name": "stdout",
     "output_type": "stream",
     "text": [
      "Random Forest Regressor Train Score is :  0.9355022608701051\n",
      "Random Forest Regressor Test Score is :  0.899099707284291\n"
     ]
    },
    {
     "data": {
      "text/plain": [
       "array([0.43489665, 0.26094679, 0.25363616, 0.01424007, 0.00725732,\n",
       "       0.029023  ])"
      ]
     },
     "execution_count": 15,
     "metadata": {},
     "output_type": "execute_result"
    }
   ],
   "source": [
    "# Fit Model\n",
    "# Features\n",
    "# year\tmodel\tmileage\tnormalized_color\ttransmission\n",
    "\n",
    "X_train, X_test, y_train, y_test = train_test_split(X, y, test_size=0.20, random_state=42, shuffle = True)\n",
    "\n",
    "car_model_rf = RandomForestRegressor(n_estimators=100, random_state=33, monotonic_cst = [0,0,-1,0,0,0])\n",
    "car_model_rf.fit(X_train,y_train, sample_weight=X_train['W'])\n",
    "print('Random Forest Regressor Train Score is : ' ,  car_model_rf.score(X_train, y_train))\n",
    "print('Random Forest Regressor Test Score is : ' , car_model_rf.score(X_test, y_test)) \n",
    "\n",
    "predicted_rf = pd.DataFrame(car_model_rf.predict(X_test), index=X_test.index, columns=['predicted_rf'])\n",
    "car_model_rf.feature_importances_\n"
   ]
  },
  {
   "cell_type": "code",
   "execution_count": 16,
   "metadata": {},
   "outputs": [
    {
     "data": {
      "text/html": [
       "<div>\n",
       "<style scoped>\n",
       "    .dataframe tbody tr th:only-of-type {\n",
       "        vertical-align: middle;\n",
       "    }\n",
       "\n",
       "    .dataframe tbody tr th {\n",
       "        vertical-align: top;\n",
       "    }\n",
       "\n",
       "    .dataframe thead th {\n",
       "        text-align: right;\n",
       "    }\n",
       "</style>\n",
       "<table border=\"1\" class=\"dataframe\">\n",
       "  <thead>\n",
       "    <tr style=\"text-align: right;\">\n",
       "      <th></th>\n",
       "      <th>year</th>\n",
       "      <th>model</th>\n",
       "      <th>mileage</th>\n",
       "      <th>normalized_color</th>\n",
       "      <th>transmission</th>\n",
       "      <th>W</th>\n",
       "    </tr>\n",
       "  </thead>\n",
       "  <tbody>\n",
       "    <tr>\n",
       "      <th>1765</th>\n",
       "      <td>2005</td>\n",
       "      <td>S4 Avant 6-Speed</td>\n",
       "      <td>11.608245</td>\n",
       "      <td>Blue</td>\n",
       "      <td>manual</td>\n",
       "      <td>0.015205</td>\n",
       "    </tr>\n",
       "    <tr>\n",
       "      <th>880</th>\n",
       "      <td>2015</td>\n",
       "      <td>R8 V10 Plus Coupe</td>\n",
       "      <td>9.798183</td>\n",
       "      <td>Gray</td>\n",
       "      <td>automatic</td>\n",
       "      <td>0.753269</td>\n",
       "    </tr>\n",
       "    <tr>\n",
       "      <th>614</th>\n",
       "      <td>2008</td>\n",
       "      <td>R8 Coupe 6-Speed</td>\n",
       "      <td>10.799596</td>\n",
       "      <td>Gray</td>\n",
       "      <td>manual</td>\n",
       "      <td>0.317518</td>\n",
       "    </tr>\n",
       "    <tr>\n",
       "      <th>920</th>\n",
       "      <td>2015</td>\n",
       "      <td>R8 V10 Spyder</td>\n",
       "      <td>9.392745</td>\n",
       "      <td>Black</td>\n",
       "      <td>automatic</td>\n",
       "      <td>0.263597</td>\n",
       "    </tr>\n",
       "    <tr>\n",
       "      <th>1529</th>\n",
       "      <td>2001</td>\n",
       "      <td>S4</td>\n",
       "      <td>10.545368</td>\n",
       "      <td>Yellow</td>\n",
       "      <td>manual</td>\n",
       "      <td>0.001290</td>\n",
       "    </tr>\n",
       "    <tr>\n",
       "      <th>...</th>\n",
       "      <td>...</td>\n",
       "      <td>...</td>\n",
       "      <td>...</td>\n",
       "      <td>...</td>\n",
       "      <td>...</td>\n",
       "      <td>...</td>\n",
       "    </tr>\n",
       "    <tr>\n",
       "      <th>2285</th>\n",
       "      <td>2013</td>\n",
       "      <td>TT RS</td>\n",
       "      <td>9.852247</td>\n",
       "      <td>Black</td>\n",
       "      <td>manual</td>\n",
       "      <td>0.001947</td>\n",
       "    </tr>\n",
       "    <tr>\n",
       "      <th>1180</th>\n",
       "      <td>2007</td>\n",
       "      <td>RS4</td>\n",
       "      <td>11.938200</td>\n",
       "      <td>Blue</td>\n",
       "      <td>manual</td>\n",
       "      <td>0.770195</td>\n",
       "    </tr>\n",
       "    <tr>\n",
       "      <th>1001</th>\n",
       "      <td>2011</td>\n",
       "      <td>R8 V10 Spyder 6-Speed</td>\n",
       "      <td>8.243019</td>\n",
       "      <td>Black</td>\n",
       "      <td>manual</td>\n",
       "      <td>0.040200</td>\n",
       "    </tr>\n",
       "    <tr>\n",
       "      <th>1778</th>\n",
       "      <td>2007</td>\n",
       "      <td>S4 Avant 6-Speed</td>\n",
       "      <td>11.532738</td>\n",
       "      <td>Blue</td>\n",
       "      <td>manual</td>\n",
       "      <td>0.168077</td>\n",
       "    </tr>\n",
       "    <tr>\n",
       "      <th>1985</th>\n",
       "      <td>2008</td>\n",
       "      <td>S8</td>\n",
       "      <td>11.652696</td>\n",
       "      <td>Silver</td>\n",
       "      <td>automatic</td>\n",
       "      <td>0.050204</td>\n",
       "    </tr>\n",
       "  </tbody>\n",
       "</table>\n",
       "<p>232 rows × 6 columns</p>\n",
       "</div>"
      ],
      "text/plain": [
       "      year                  model    mileage normalized_color transmission  \\\n",
       "1765  2005       S4 Avant 6-Speed  11.608245             Blue       manual   \n",
       "880   2015      R8 V10 Plus Coupe   9.798183             Gray    automatic   \n",
       "614   2008       R8 Coupe 6-Speed  10.799596             Gray       manual   \n",
       "920   2015          R8 V10 Spyder   9.392745            Black    automatic   \n",
       "1529  2001                     S4  10.545368           Yellow       manual   \n",
       "...    ...                    ...        ...              ...          ...   \n",
       "2285  2013                  TT RS   9.852247            Black       manual   \n",
       "1180  2007                    RS4  11.938200             Blue       manual   \n",
       "1001  2011  R8 V10 Spyder 6-Speed   8.243019            Black       manual   \n",
       "1778  2007       S4 Avant 6-Speed  11.532738             Blue       manual   \n",
       "1985  2008                     S8  11.652696           Silver    automatic   \n",
       "\n",
       "             W  \n",
       "1765  0.015205  \n",
       "880   0.753269  \n",
       "614   0.317518  \n",
       "920   0.263597  \n",
       "1529  0.001290  \n",
       "...        ...  \n",
       "2285  0.001947  \n",
       "1180  0.770195  \n",
       "1001  0.040200  \n",
       "1778  0.168077  \n",
       "1985  0.050204  \n",
       "\n",
       "[232 rows x 6 columns]"
      ]
     },
     "execution_count": 16,
     "metadata": {},
     "output_type": "execute_result"
    }
   ],
   "source": [
    "# Inverse transform features\n",
    "X_analysis = X_test.copy()\n",
    "X_analysis.model = Lbl_model.inverse_transform(X_test.model)\n",
    "X_analysis.normalized_color = Lbl_color.inverse_transform(X_test.normalized_color)\n",
    "X_analysis.transmission = Lbl_trans.inverse_transform(X_test.transmission)\n",
    "X_analysis"
   ]
  },
  {
   "cell_type": "code",
   "execution_count": 17,
   "metadata": {
    "execution": {
     "iopub.execute_input": "2025-03-25T16:21:27.420545Z",
     "iopub.status.busy": "2025-03-25T16:21:27.420165Z",
     "iopub.status.idle": "2025-03-25T16:21:27.431906Z",
     "shell.execute_reply": "2025-03-25T16:21:27.430768Z",
     "shell.execute_reply.started": "2025-03-25T16:21:27.420515Z"
    },
    "trusted": true
   },
   "outputs": [
    {
     "data": {
      "text/html": [
       "<div>\n",
       "<style scoped>\n",
       "    .dataframe tbody tr th:only-of-type {\n",
       "        vertical-align: middle;\n",
       "    }\n",
       "\n",
       "    .dataframe tbody tr th {\n",
       "        vertical-align: top;\n",
       "    }\n",
       "\n",
       "    .dataframe thead th {\n",
       "        text-align: right;\n",
       "    }\n",
       "</style>\n",
       "<table border=\"1\" class=\"dataframe\">\n",
       "  <thead>\n",
       "    <tr style=\"text-align: right;\">\n",
       "      <th></th>\n",
       "      <th>sold_price</th>\n",
       "      <th>year</th>\n",
       "      <th>model</th>\n",
       "      <th>mileage</th>\n",
       "      <th>normalized_color</th>\n",
       "      <th>transmission</th>\n",
       "      <th>W</th>\n",
       "      <th>predicted_rf</th>\n",
       "    </tr>\n",
       "  </thead>\n",
       "  <tbody>\n",
       "    <tr>\n",
       "      <th>1765</th>\n",
       "      <td>25638.0</td>\n",
       "      <td>2005</td>\n",
       "      <td>S4 Avant 6-Speed</td>\n",
       "      <td>110000.0</td>\n",
       "      <td>Blue</td>\n",
       "      <td>manual</td>\n",
       "      <td>0.015205</td>\n",
       "      <td>14748.928692</td>\n",
       "    </tr>\n",
       "    <tr>\n",
       "      <th>880</th>\n",
       "      <td>101000.0</td>\n",
       "      <td>2015</td>\n",
       "      <td>R8 V10 Plus Coupe</td>\n",
       "      <td>18000.0</td>\n",
       "      <td>Gray</td>\n",
       "      <td>automatic</td>\n",
       "      <td>0.753269</td>\n",
       "      <td>113473.371439</td>\n",
       "    </tr>\n",
       "    <tr>\n",
       "      <th>614</th>\n",
       "      <td>66000.0</td>\n",
       "      <td>2008</td>\n",
       "      <td>R8 Coupe 6-Speed</td>\n",
       "      <td>49000.0</td>\n",
       "      <td>Gray</td>\n",
       "      <td>manual</td>\n",
       "      <td>0.317518</td>\n",
       "      <td>53072.628132</td>\n",
       "    </tr>\n",
       "    <tr>\n",
       "      <th>920</th>\n",
       "      <td>92500.0</td>\n",
       "      <td>2015</td>\n",
       "      <td>R8 V10 Spyder</td>\n",
       "      <td>12000.0</td>\n",
       "      <td>Black</td>\n",
       "      <td>automatic</td>\n",
       "      <td>0.263597</td>\n",
       "      <td>111754.212960</td>\n",
       "    </tr>\n",
       "    <tr>\n",
       "      <th>1529</th>\n",
       "      <td>17750.0</td>\n",
       "      <td>2001</td>\n",
       "      <td>S4</td>\n",
       "      <td>38000.0</td>\n",
       "      <td>Yellow</td>\n",
       "      <td>manual</td>\n",
       "      <td>0.001290</td>\n",
       "      <td>21913.252126</td>\n",
       "    </tr>\n",
       "    <tr>\n",
       "      <th>...</th>\n",
       "      <td>...</td>\n",
       "      <td>...</td>\n",
       "      <td>...</td>\n",
       "      <td>...</td>\n",
       "      <td>...</td>\n",
       "      <td>...</td>\n",
       "      <td>...</td>\n",
       "      <td>...</td>\n",
       "    </tr>\n",
       "    <tr>\n",
       "      <th>2285</th>\n",
       "      <td>45750.0</td>\n",
       "      <td>2013</td>\n",
       "      <td>TT RS</td>\n",
       "      <td>19000.0</td>\n",
       "      <td>Black</td>\n",
       "      <td>manual</td>\n",
       "      <td>0.001947</td>\n",
       "      <td>46844.085072</td>\n",
       "    </tr>\n",
       "    <tr>\n",
       "      <th>1180</th>\n",
       "      <td>18001.0</td>\n",
       "      <td>2007</td>\n",
       "      <td>RS4</td>\n",
       "      <td>153000.0</td>\n",
       "      <td>Blue</td>\n",
       "      <td>manual</td>\n",
       "      <td>0.770195</td>\n",
       "      <td>18996.081301</td>\n",
       "    </tr>\n",
       "    <tr>\n",
       "      <th>1001</th>\n",
       "      <td>171500.0</td>\n",
       "      <td>2011</td>\n",
       "      <td>R8 V10 Spyder 6-Speed</td>\n",
       "      <td>3800.0</td>\n",
       "      <td>Black</td>\n",
       "      <td>manual</td>\n",
       "      <td>0.040200</td>\n",
       "      <td>172868.124996</td>\n",
       "    </tr>\n",
       "    <tr>\n",
       "      <th>1778</th>\n",
       "      <td>22054.0</td>\n",
       "      <td>2007</td>\n",
       "      <td>S4 Avant 6-Speed</td>\n",
       "      <td>102000.0</td>\n",
       "      <td>Blue</td>\n",
       "      <td>manual</td>\n",
       "      <td>0.168077</td>\n",
       "      <td>15867.256915</td>\n",
       "    </tr>\n",
       "    <tr>\n",
       "      <th>1985</th>\n",
       "      <td>11250.0</td>\n",
       "      <td>2008</td>\n",
       "      <td>S8</td>\n",
       "      <td>115000.0</td>\n",
       "      <td>Silver</td>\n",
       "      <td>automatic</td>\n",
       "      <td>0.050204</td>\n",
       "      <td>13764.290660</td>\n",
       "    </tr>\n",
       "  </tbody>\n",
       "</table>\n",
       "<p>232 rows × 8 columns</p>\n",
       "</div>"
      ],
      "text/plain": [
       "      sold_price  year                  model   mileage normalized_color  \\\n",
       "1765     25638.0  2005       S4 Avant 6-Speed  110000.0             Blue   \n",
       "880     101000.0  2015      R8 V10 Plus Coupe   18000.0             Gray   \n",
       "614      66000.0  2008       R8 Coupe 6-Speed   49000.0             Gray   \n",
       "920      92500.0  2015          R8 V10 Spyder   12000.0            Black   \n",
       "1529     17750.0  2001                     S4   38000.0           Yellow   \n",
       "...          ...   ...                    ...       ...              ...   \n",
       "2285     45750.0  2013                  TT RS   19000.0            Black   \n",
       "1180     18001.0  2007                    RS4  153000.0             Blue   \n",
       "1001    171500.0  2011  R8 V10 Spyder 6-Speed    3800.0            Black   \n",
       "1778     22054.0  2007       S4 Avant 6-Speed  102000.0             Blue   \n",
       "1985     11250.0  2008                     S8  115000.0           Silver   \n",
       "\n",
       "     transmission         W   predicted_rf  \n",
       "1765       manual  0.015205   14748.928692  \n",
       "880     automatic  0.753269  113473.371439  \n",
       "614        manual  0.317518   53072.628132  \n",
       "920     automatic  0.263597  111754.212960  \n",
       "1529       manual  0.001290   21913.252126  \n",
       "...           ...       ...            ...  \n",
       "2285       manual  0.001947   46844.085072  \n",
       "1180       manual  0.770195   18996.081301  \n",
       "1001       manual  0.040200  172868.124996  \n",
       "1778       manual  0.168077   15867.256915  \n",
       "1985    automatic  0.050204   13764.290660  \n",
       "\n",
       "[232 rows x 8 columns]"
      ]
     },
     "execution_count": 17,
     "metadata": {},
     "output_type": "execute_result"
    }
   ],
   "source": [
    "# Analyze Results: Add target and predicted values\n",
    "X_analysis = pd.merge(y_test, X_analysis, how='inner', left_index=True, right_index=True)\n",
    "X_analysis = pd.merge(X_analysis, predicted_rf, how='inner', left_index=True, right_index=True)\n",
    "X_analysis.sold_price = np.exp(X_analysis.sold_price)\n",
    "X_analysis.predicted_rf = np.exp(X_analysis.predicted_rf)\n",
    "X_analysis.mileage = np.exp(X_analysis.mileage) - 1\n",
    "X_analysis"
   ]
  },
  {
   "cell_type": "code",
   "execution_count": 18,
   "metadata": {},
   "outputs": [
    {
     "data": {
      "text/plain": [
       "Price Range\n",
       "0 - 50000          150\n",
       "50000 - 100000      40\n",
       "100000 - 150000     30\n",
       "150000 - 200000      9\n",
       "200000 - 250000      3\n",
       "Name: count, dtype: int64"
      ]
     },
     "execution_count": 18,
     "metadata": {},
     "output_type": "execute_result"
    }
   ],
   "source": [
    "# Define price ranges\n",
    "def getrange(Price):\n",
    "    if (Price >= 0 and Price < 50000):\n",
    "        return '0 - 50000'\n",
    "    if (Price >= 50000 and Price < 100000):\n",
    "        return '50000 - 100000'\n",
    "    if (Price >= 100000 and Price < 150000):\n",
    "        return '100000 - 150000'\n",
    "    if (Price >= 150000 and Price < 200000):\n",
    "        return '150000 - 200000'\n",
    "    if (Price >= 200000 and Price < 250000):\n",
    "        return '200000 - 250000'\n",
    "    if (Price >= 250000 and Price < 300000):\n",
    "        return '250000 - 300000'\n",
    "    if (Price >= 300000 and Price < 350000):\n",
    "        return '300000 - 350000'\n",
    "    if (Price >= 350000):\n",
    "        return 'Over 350000'\n",
    "X_analysis['Price Range'] = X_analysis['sold_price'].apply(lambda x:getrange(x))\n",
    "\n",
    "X_analysis['Price Range'].value_counts()"
   ]
  },
  {
   "cell_type": "code",
   "execution_count": 19,
   "metadata": {
    "execution": {
     "iopub.execute_input": "2025-03-25T15:43:08.046017Z",
     "iopub.status.busy": "2025-03-25T15:43:08.045653Z",
     "iopub.status.idle": "2025-03-25T15:43:08.579109Z",
     "shell.execute_reply": "2025-03-25T15:43:08.578036Z",
     "shell.execute_reply.started": "2025-03-25T15:43:08.045989Z"
    },
    "trusted": true
   },
   "outputs": [
    {
     "data": {
      "text/plain": [
       "<Axes: xlabel='sold_price', ylabel='predicted_rf'>"
      ]
     },
     "execution_count": 19,
     "metadata": {},
     "output_type": "execute_result"
    },
    {
     "data": {
      "image/png": "[encoded data removed]",
      "text/plain": [
       "<Figure size 1000x1000 with 1 Axes>"
      ]
     },
     "metadata": {},
     "output_type": "display_data"
    }
   ],
   "source": [
    "# Plot true vs predicted values scatter\n",
    "\n",
    "plt.figure(figsize = (10, 10))\n",
    "sns.regplot(x=X_analysis.sold_price, y=X_analysis.predicted_rf)\n",
    "#sns.regplot(x=X_analysis.sold_price, y=X_analysis.predicted_xgb)"
   ]
  },
  {
   "cell_type": "code",
   "execution_count": 20,
   "metadata": {},
   "outputs": [],
   "source": [
    "# Save model\n",
    "today_date = date.today().strftime('%Y-%m-%d')\n",
    "path = f\"../models/{MAKE}\"\n",
    "if not os.path.exists(path):\n",
    "    os.makedirs(path)\n",
    "\n",
    "pickle.dump(car_model_rf, open(f'{path}/model.pkl','wb'))\n",
    "pickle.dump(Lbl_model, open(f'{path}/labels_model.pkl','wb'))\n",
    "pickle.dump(Lbl_color, open(f'{path}/labels_color.pkl','wb'))\n",
    "pickle.dump(Lbl_trans, open(f'{path}/labels_transmission.pkl','wb'))"
   ]
  },
  {
   "cell_type": "code",
   "execution_count": 21,
   "metadata": {
    "execution": {
     "iopub.execute_input": "2025-03-25T16:22:56.451082Z",
     "iopub.status.busy": "2025-03-25T16:22:56.450128Z",
     "iopub.status.idle": "2025-03-25T16:23:04.220363Z",
     "shell.execute_reply": "2025-03-25T16:23:04.219275Z",
     "shell.execute_reply.started": "2025-03-25T16:22:56.451039Z"
    },
    "trusted": true
   },
   "outputs": [
    {
     "data": {
      "text/plain": [
       "<seaborn.axisgrid.FacetGrid at 0x3045ff220>"
      ]
     },
     "execution_count": 21,
     "metadata": {},
     "output_type": "execute_result"
    },
    {
     "data": {
      "image/png": "[encoded data removed]",
      "text/plain": [
       "<Figure size 900x2400 with 23 Axes>"
      ]
     },
     "metadata": {},
     "output_type": "display_data"
    }
   ],
   "source": [
    "# Predicted vs Sold Price Scatter by model\n",
    "g = sns.FacetGrid(X_analysis, col=\"model\", col_wrap=3)\n",
    "\n",
    "# Map scatter plots to the grid\n",
    "g.map(sns.regplot, \"predicted_rf\", \"sold_price\")"
   ]
  },
  {
   "cell_type": "code",
   "execution_count": 22,
   "metadata": {},
   "outputs": [
    {
     "data": {
      "text/plain": [
       "<seaborn.axisgrid.FacetGrid at 0x30566d2a0>"
      ]
     },
     "execution_count": 22,
     "metadata": {},
     "output_type": "execute_result"
    },
    {
     "data": {
      "image/png": "[encoded data removed]",
      "text/plain": [
       "<Figure size 900x2400 with 23 Axes>"
      ]
     },
     "metadata": {},
     "output_type": "display_data"
    }
   ],
   "source": [
    "# Analyze Residuals by model\n",
    "X_analysis['diff'] = X_analysis.sold_price - X_analysis.predicted_rf\n",
    "g = sns.FacetGrid(X_analysis, col=\"model\", col_wrap=3)\n",
    "\n",
    "# Map scatter plots to the grid\n",
    "g.map(plt.hist, \"diff\", bins = 50)\n"
   ]
  },
  {
   "cell_type": "code",
   "execution_count": 23,
   "metadata": {},
   "outputs": [],
   "source": [
    "# Prediction function\n",
    "\n",
    "def predict(year, model, mileage, color, transmission, carmodel, W):\n",
    "    input_data = pd.DataFrame([[year, model, mileage, color, transmission, W]], \n",
    "                              columns=[\"year\", \"model\", \"mileage\", \"normalized_color\", \"transmission\", \"W\"])\n",
    "    input_data.model=Lbl_model.transform(input_data.model)\n",
    "    input_data.normalized_color=Lbl_color.transform(input_data.normalized_color)\n",
    "    input_data.transmission=Lbl_trans.transform(input_data.transmission)\n",
    "    input_data.mileage = np.log1p(input_data.mileage)\n",
    "    price_scaled = carmodel.predict(input_data)\n",
    "\n",
    "    price = np.exp(price_scaled)\n",
    "    \n",
    "    return price[0].round(0)"
   ]
  },
  {
   "cell_type": "code",
   "execution_count": 24,
   "metadata": {},
   "outputs": [
    {
     "ename": "ValueError",
     "evalue": "y contains previously unseen labels: '512 TR'",
     "output_type": "error",
     "traceback": [
      "\u001b[0;31m---------------------------------------------------------------------------\u001b[0m",
      "\u001b[0;31mKeyError\u001b[0m                                  Traceback (most recent call last)",
      "File \u001b[0;32m~/.pyenv/versions/3.10.15/lib/python3.10/site-packages/sklearn/utils/_encode.py:235\u001b[0m, in \u001b[0;36m_encode\u001b[0;34m(values, uniques, check_unknown)\u001b[0m\n\u001b[1;32m    234\u001b[0m \u001b[38;5;28;01mtry\u001b[39;00m:\n\u001b[0;32m--> 235\u001b[0m     \u001b[38;5;28;01mreturn\u001b[39;00m \u001b[43m_map_to_integer\u001b[49m\u001b[43m(\u001b[49m\u001b[43mvalues\u001b[49m\u001b[43m,\u001b[49m\u001b[43m \u001b[49m\u001b[43muniques\u001b[49m\u001b[43m)\u001b[49m\n\u001b[1;32m    236\u001b[0m \u001b[38;5;28;01mexcept\u001b[39;00m \u001b[38;5;167;01mKeyError\u001b[39;00m \u001b[38;5;28;01mas\u001b[39;00m e:\n",
      "File \u001b[0;32m~/.pyenv/versions/3.10.15/lib/python3.10/site-packages/sklearn/utils/_encode.py:174\u001b[0m, in \u001b[0;36m_map_to_integer\u001b[0;34m(values, uniques)\u001b[0m\n\u001b[1;32m    173\u001b[0m table \u001b[38;5;241m=\u001b[39m _nandict({val: i \u001b[38;5;28;01mfor\u001b[39;00m i, val \u001b[38;5;129;01min\u001b[39;00m \u001b[38;5;28menumerate\u001b[39m(uniques)})\n\u001b[0;32m--> 174\u001b[0m \u001b[38;5;28;01mreturn\u001b[39;00m xp\u001b[38;5;241m.\u001b[39masarray([table[v] \u001b[38;5;28;01mfor\u001b[39;00m v \u001b[38;5;129;01min\u001b[39;00m values], device\u001b[38;5;241m=\u001b[39mdevice(values))\n",
      "File \u001b[0;32m~/.pyenv/versions/3.10.15/lib/python3.10/site-packages/sklearn/utils/_encode.py:174\u001b[0m, in \u001b[0;36m<listcomp>\u001b[0;34m(.0)\u001b[0m\n\u001b[1;32m    173\u001b[0m table \u001b[38;5;241m=\u001b[39m _nandict({val: i \u001b[38;5;28;01mfor\u001b[39;00m i, val \u001b[38;5;129;01min\u001b[39;00m \u001b[38;5;28menumerate\u001b[39m(uniques)})\n\u001b[0;32m--> 174\u001b[0m \u001b[38;5;28;01mreturn\u001b[39;00m xp\u001b[38;5;241m.\u001b[39masarray([\u001b[43mtable\u001b[49m\u001b[43m[\u001b[49m\u001b[43mv\u001b[49m\u001b[43m]\u001b[49m \u001b[38;5;28;01mfor\u001b[39;00m v \u001b[38;5;129;01min\u001b[39;00m values], device\u001b[38;5;241m=\u001b[39mdevice(values))\n",
      "File \u001b[0;32m~/.pyenv/versions/3.10.15/lib/python3.10/site-packages/sklearn/utils/_encode.py:167\u001b[0m, in \u001b[0;36m_nandict.__missing__\u001b[0;34m(self, key)\u001b[0m\n\u001b[1;32m    166\u001b[0m     \u001b[38;5;28;01mreturn\u001b[39;00m \u001b[38;5;28mself\u001b[39m\u001b[38;5;241m.\u001b[39mnan_value\n\u001b[0;32m--> 167\u001b[0m \u001b[38;5;28;01mraise\u001b[39;00m \u001b[38;5;167;01mKeyError\u001b[39;00m(key)\n",
      "\u001b[0;31mKeyError\u001b[0m: '512 TR'",
      "\nDuring handling of the above exception, another exception occurred:\n",
      "\u001b[0;31mValueError\u001b[0m                                Traceback (most recent call last)",
      "Cell \u001b[0;32mIn[24], line 6\u001b[0m\n\u001b[1;32m      4\u001b[0m predictions \u001b[38;5;241m=\u001b[39m []\n\u001b[1;32m      5\u001b[0m \u001b[38;5;28;01mfor\u001b[39;00m mileage \u001b[38;5;129;01min\u001b[39;00m mileage_range:\n\u001b[0;32m----> 6\u001b[0m     prediction \u001b[38;5;241m=\u001b[39m \u001b[43mpredict\u001b[49m\u001b[43m(\u001b[49m\n\u001b[1;32m      7\u001b[0m \u001b[43m        \u001b[49m\u001b[43myear\u001b[49m\u001b[43m \u001b[49m\u001b[38;5;241;43m=\u001b[39;49m\u001b[43m \u001b[49m\u001b[38;5;241;43m1992\u001b[39;49m\u001b[43m,\u001b[49m\n\u001b[1;32m      8\u001b[0m \u001b[43m        \u001b[49m\u001b[43mmodel\u001b[49m\u001b[43m \u001b[49m\u001b[38;5;241;43m=\u001b[39;49m\u001b[43m \u001b[49m\u001b[38;5;124;43m\"\u001b[39;49m\u001b[38;5;124;43m512 TR\u001b[39;49m\u001b[38;5;124;43m\"\u001b[39;49m\u001b[43m,\u001b[49m\n\u001b[1;32m      9\u001b[0m \u001b[43m        \u001b[49m\u001b[43mmileage\u001b[49m\u001b[43m \u001b[49m\u001b[38;5;241;43m=\u001b[39;49m\u001b[43m \u001b[49m\u001b[43mmileage\u001b[49m\u001b[43m,\u001b[49m\n\u001b[1;32m     10\u001b[0m \u001b[43m        \u001b[49m\u001b[43mcolor\u001b[49m\u001b[43m \u001b[49m\u001b[38;5;241;43m=\u001b[39;49m\u001b[43m \u001b[49m\u001b[38;5;124;43m\"\u001b[39;49m\u001b[38;5;124;43mBlack\u001b[39;49m\u001b[38;5;124;43m\"\u001b[39;49m\u001b[43m,\u001b[49m\n\u001b[1;32m     11\u001b[0m \u001b[43m        \u001b[49m\u001b[43mtransmission\u001b[49m\u001b[43m \u001b[49m\u001b[38;5;241;43m=\u001b[39;49m\u001b[43m \u001b[49m\u001b[38;5;124;43m\"\u001b[39;49m\u001b[38;5;124;43mmanual\u001b[39;49m\u001b[38;5;124;43m\"\u001b[39;49m\u001b[43m,\u001b[49m\n\u001b[1;32m     12\u001b[0m \u001b[43m        \u001b[49m\u001b[43mcarmodel\u001b[49m\u001b[43m \u001b[49m\u001b[38;5;241;43m=\u001b[39;49m\u001b[43m \u001b[49m\u001b[43mcar_model_rf\u001b[49m\u001b[43m,\u001b[49m\n\u001b[1;32m     13\u001b[0m \u001b[43m        \u001b[49m\u001b[43mW\u001b[49m\u001b[43m \u001b[49m\u001b[38;5;241;43m=\u001b[39;49m\u001b[43m \u001b[49m\u001b[38;5;241;43m1\u001b[39;49m\n\u001b[1;32m     14\u001b[0m \u001b[43m    \u001b[49m\u001b[43m)\u001b[49m\n\u001b[1;32m     15\u001b[0m     predictions\u001b[38;5;241m.\u001b[39mappend(prediction)\n\u001b[1;32m     17\u001b[0m predictions \u001b[38;5;241m=\u001b[39m pd\u001b[38;5;241m.\u001b[39mDataFrame(predictions, columns\u001b[38;5;241m=\u001b[39m[\u001b[38;5;124m\"\u001b[39m\u001b[38;5;124mpredicted\u001b[39m\u001b[38;5;124m\"\u001b[39m])\n",
      "Cell \u001b[0;32mIn[23], line 6\u001b[0m, in \u001b[0;36mpredict\u001b[0;34m(year, model, mileage, color, transmission, carmodel, W)\u001b[0m\n\u001b[1;32m      3\u001b[0m \u001b[38;5;28;01mdef\u001b[39;00m \u001b[38;5;21mpredict\u001b[39m(year, model, mileage, color, transmission, carmodel, W):\n\u001b[1;32m      4\u001b[0m     input_data \u001b[38;5;241m=\u001b[39m pd\u001b[38;5;241m.\u001b[39mDataFrame([[year, model, mileage, color, transmission, W]], \n\u001b[1;32m      5\u001b[0m                               columns\u001b[38;5;241m=\u001b[39m[\u001b[38;5;124m\"\u001b[39m\u001b[38;5;124myear\u001b[39m\u001b[38;5;124m\"\u001b[39m, \u001b[38;5;124m\"\u001b[39m\u001b[38;5;124mmodel\u001b[39m\u001b[38;5;124m\"\u001b[39m, \u001b[38;5;124m\"\u001b[39m\u001b[38;5;124mmileage\u001b[39m\u001b[38;5;124m\"\u001b[39m, \u001b[38;5;124m\"\u001b[39m\u001b[38;5;124mnormalized_color\u001b[39m\u001b[38;5;124m\"\u001b[39m, \u001b[38;5;124m\"\u001b[39m\u001b[38;5;124mtransmission\u001b[39m\u001b[38;5;124m\"\u001b[39m, \u001b[38;5;124m\"\u001b[39m\u001b[38;5;124mW\u001b[39m\u001b[38;5;124m\"\u001b[39m])\n\u001b[0;32m----> 6\u001b[0m     input_data\u001b[38;5;241m.\u001b[39mmodel\u001b[38;5;241m=\u001b[39m\u001b[43mLbl_model\u001b[49m\u001b[38;5;241;43m.\u001b[39;49m\u001b[43mtransform\u001b[49m\u001b[43m(\u001b[49m\u001b[43minput_data\u001b[49m\u001b[38;5;241;43m.\u001b[39;49m\u001b[43mmodel\u001b[49m\u001b[43m)\u001b[49m\n\u001b[1;32m      7\u001b[0m     input_data\u001b[38;5;241m.\u001b[39mnormalized_color\u001b[38;5;241m=\u001b[39mLbl_color\u001b[38;5;241m.\u001b[39mtransform(input_data\u001b[38;5;241m.\u001b[39mnormalized_color)\n\u001b[1;32m      8\u001b[0m     input_data\u001b[38;5;241m.\u001b[39mtransmission\u001b[38;5;241m=\u001b[39mLbl_trans\u001b[38;5;241m.\u001b[39mtransform(input_data\u001b[38;5;241m.\u001b[39mtransmission)\n",
      "File \u001b[0;32m~/.pyenv/versions/3.10.15/lib/python3.10/site-packages/sklearn/preprocessing/_label.py:134\u001b[0m, in \u001b[0;36mLabelEncoder.transform\u001b[0;34m(self, y)\u001b[0m\n\u001b[1;32m    131\u001b[0m \u001b[38;5;28;01mif\u001b[39;00m _num_samples(y) \u001b[38;5;241m==\u001b[39m \u001b[38;5;241m0\u001b[39m:\n\u001b[1;32m    132\u001b[0m     \u001b[38;5;28;01mreturn\u001b[39;00m xp\u001b[38;5;241m.\u001b[39masarray([])\n\u001b[0;32m--> 134\u001b[0m \u001b[38;5;28;01mreturn\u001b[39;00m \u001b[43m_encode\u001b[49m\u001b[43m(\u001b[49m\u001b[43my\u001b[49m\u001b[43m,\u001b[49m\u001b[43m \u001b[49m\u001b[43muniques\u001b[49m\u001b[38;5;241;43m=\u001b[39;49m\u001b[38;5;28;43mself\u001b[39;49m\u001b[38;5;241;43m.\u001b[39;49m\u001b[43mclasses_\u001b[49m\u001b[43m)\u001b[49m\n",
      "File \u001b[0;32m~/.pyenv/versions/3.10.15/lib/python3.10/site-packages/sklearn/utils/_encode.py:237\u001b[0m, in \u001b[0;36m_encode\u001b[0;34m(values, uniques, check_unknown)\u001b[0m\n\u001b[1;32m    235\u001b[0m         \u001b[38;5;28;01mreturn\u001b[39;00m _map_to_integer(values, uniques)\n\u001b[1;32m    236\u001b[0m     \u001b[38;5;28;01mexcept\u001b[39;00m \u001b[38;5;167;01mKeyError\u001b[39;00m \u001b[38;5;28;01mas\u001b[39;00m e:\n\u001b[0;32m--> 237\u001b[0m         \u001b[38;5;28;01mraise\u001b[39;00m \u001b[38;5;167;01mValueError\u001b[39;00m(\u001b[38;5;124mf\u001b[39m\u001b[38;5;124m\"\u001b[39m\u001b[38;5;124my contains previously unseen labels: \u001b[39m\u001b[38;5;132;01m{\u001b[39;00m\u001b[38;5;28mstr\u001b[39m(e)\u001b[38;5;132;01m}\u001b[39;00m\u001b[38;5;124m\"\u001b[39m)\n\u001b[1;32m    238\u001b[0m \u001b[38;5;28;01melse\u001b[39;00m:\n\u001b[1;32m    239\u001b[0m     \u001b[38;5;28;01mif\u001b[39;00m check_unknown:\n",
      "\u001b[0;31mValueError\u001b[0m: y contains previously unseen labels: '512 TR'"
     ]
    }
   ],
   "source": [
    "# Run a prediction for a car over a range of mileage\n",
    "mileage_range = np.linspace(0, 50000, 100)\n",
    "\n",
    "predictions = []\n",
    "for mileage in mileage_range:\n",
    "    prediction = predict(\n",
    "        year = 1992,\n",
    "        model = \"512 TR\",\n",
    "        mileage = mileage,\n",
    "        color = \"Black\",\n",
    "        transmission = \"manual\",\n",
    "        carmodel = car_model_rf,\n",
    "        W = 1\n",
    "    )\n",
    "    predictions.append(prediction)\n",
    "\n",
    "predictions = pd.DataFrame(predictions, columns=[\"predicted\"])\n",
    "mileage_range = pd.DataFrame(mileage_range, columns=[\"mileage\"])\n",
    "predictions = pd.merge(predictions, mileage_range, how='inner', left_index=True, right_index=True)\n",
    "plt.scatter(predictions[\"mileage\"], predictions[\"predicted\"])"
   ]
  }
 ],
 "metadata": {
  "kaggle": {
   "accelerator": "none",
   "dataSources": [
    {
     "datasetId": 6959618,
     "sourceId": 11154697,
     "sourceType": "datasetVersion"
    }
   ],
   "dockerImageVersionId": 30698,
   "isGpuEnabled": false,
   "isInternetEnabled": false,
   "language": "python",
   "sourceType": "notebook"
  },
  "kernelspec": {
   "display_name": "Python 3",
   "language": "python",
   "name": "python3"
  },
  "language_info": {
   "codemirror_mode": {
    "name": "ipython",
    "version": 3
   },
   "file_extension": ".py",
   "mimetype": "text/x-python",
   "name": "python",
   "nbconvert_exporter": "python",
   "pygments_lexer": "ipython3",
   "version": "3.10.15"
  }
 },
 "nbformat": 4,
 "nbformat_minor": 4
}
