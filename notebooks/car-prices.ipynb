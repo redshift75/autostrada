{
 "cells": [
  {
   "cell_type": "code",
   "execution_count": 1,
   "metadata": {
    "execution": {
     "iopub.execute_input": "2025-03-25T15:31:54.705036Z",
     "iopub.status.busy": "2025-03-25T15:31:54.704706Z",
     "iopub.status.idle": "2025-03-25T15:31:56.179121Z",
     "shell.execute_reply": "2025-03-25T15:31:56.177839Z",
     "shell.execute_reply.started": "2025-03-25T15:31:54.705010Z"
    },
    "trusted": true
   },
   "outputs": [],
   "source": [
    "# Libraries\n",
    "from datetime import date\n",
    "import numpy as np\n",
    "import pandas as pd\n",
    "import matplotlib.pyplot as plt\n",
    "import seaborn as sns\n",
    "import plotly.graph_objects as go\n",
    "import plotly.express as px\n",
    "import pickle\n",
    "from scipy import stats\n",
    "from sklearn.model_selection import train_test_split\n",
    "from sklearn.preprocessing import LabelEncoder\n",
    "from sklearn.ensemble import RandomForestRegressor\n",
    "from xgboost import XGBRegressor\n",
    "from dotenv import load_dotenv\n",
    "from supabase import create_client\n",
    "import os"
   ]
  },
  {
   "cell_type": "code",
   "execution_count": 2,
   "metadata": {
    "execution": {
     "iopub.execute_input": "2025-03-25T15:57:13.556722Z",
     "iopub.status.busy": "2025-03-25T15:57:13.556370Z",
     "iopub.status.idle": "2025-03-25T15:57:13.607440Z",
     "shell.execute_reply": "2025-03-25T15:57:13.606336Z",
     "shell.execute_reply.started": "2025-03-25T15:57:13.556693Z"
    },
    "trusted": true
   },
   "outputs": [],
   "source": [
    "# Read data\n",
    "load_dotenv()\n",
    "\n",
    "SUPABASE_URL = os.getenv(\"NEXT_PUBLIC_SUPABASE_URL\")\n",
    "SUPABASE_SERVICE_KEY = os.getenv(\"NEXT_PUBLIC_SUPABASE_SERVICE_KEY\")\n",
    "\n",
    "supabase = create_client(SUPABASE_URL, SUPABASE_SERVICE_KEY)\n",
    "\n",
    "MAKE = \"Lamborghini\"\n",
    "min_observations = 10\n",
    "\n",
    "response = (\n",
    "    supabase.table(\"bat_completed_auctions\")\n",
    "    .select(\"year, model, mileage, normalized_color, transmission, sold_price, bid_amount, end_date, status\")\n",
    "    .eq(\"make\", MAKE)\n",
    "    .not_.is_(\"mileage\", None)\n",
    "    .not_.is_(\"transmission\", None)\n",
    "    .execute()\n",
    ")\n",
    "df = pd.DataFrame(response.data)"
   ]
  },
  {
   "cell_type": "code",
   "execution_count": 3,
   "metadata": {},
   "outputs": [
    {
     "name": "stdout",
     "output_type": "stream",
     "text": [
      "                                                status\n",
      "model                                                 \n",
      "Gallardo 6-Speed                                    23\n",
      "Countach 25th Anniversary                           21\n",
      "Huracan STO                                         20\n",
      "Diablo                                              18\n",
      "Diablo VT Roadster                                  18\n",
      "...                                                ...\n",
      "Huracan Performante Coupe                            1\n",
      "Countach LP500 S Project                             1\n",
      "Gallardo LP570-4 Performante Spyder                  1\n",
      "Huracan Super Trofeo EVO 10th Edition Race Car       1\n",
      "Urus S                                               1\n",
      "\n",
      "[145 rows x 1 columns]\n"
     ]
    }
   ],
   "source": [
    "# Count by model\n",
    "counts = df[['model','status']].groupby('model').count().sort_values(by='status',ascending=False)\n",
    "print(counts)"
   ]
  },
  {
   "cell_type": "code",
   "execution_count": 4,
   "metadata": {},
   "outputs": [
    {
     "data": {
      "application/vnd.plotly.v1+json": {
       "config": {
        "plotlyServerURL": "https://plot.ly"
       },
       "data": [
        {
         "alignmentgroup": "True",
         "hovertemplate": "model=%{x}<br>sold_price=%{y}<extra></extra>",
         "legendgroup": "",
         "marker": {
          "color": "#636efa"
         },
         "name": "",
         "notched": false,
         "offsetgroup": "",
         "orientation": "v",
         "showlegend": false,
         "type": "box",
         "x": [
          "1R Tractor",
          "1R Tractor",
          "2241R Tractor",
          "2R Tractor",
          "3352 R Tractor",
          "350 GT",
          "350 GT Project",
          "3 CTL Tractor",
          "3-Mile 2023 Ducati Streetfighter V4 Lamborghini",
          "400 GT 2+2",
          "400 GT 2+2",
          "400 GT 2+2",
          "400 GT 2+2",
          "400 GT 2+2",
          "400 GT 2+2 Project",
          "Aventador LP700-4 Coupe",
          "Aventador LP700-4 Coupe",
          "Aventador LP700-4 Coupe",
          "Aventador LP700-4 Coupe",
          "Aventador LP700-4 Coupe",
          "Aventador LP700-4 Coupe",
          "Aventador LP700-4 Coupe",
          "Aventador LP700-4 Miura 50 Homage Edition",
          "Aventador LP700-4 Miura 50 Homage Edition",
          "Aventador LP700-4 Miura 50 Homage Edition",
          "Aventador LP700-4 Pirelli Edition Roadster",
          "Aventador LP 700-4 Roadster",
          "Aventador LP 700-4 Roadster",
          "Aventador LP700-4 Roadster",
          "Aventador LP700-4 Roadster",
          "Aventador LP700-4 Roadster",
          "Aventador LP700-4 Roadster",
          "Aventador LP 720-4 50 Anniversario Roadster",
          "Aventador LP 720-4 50 Anniversario Roadster",
          "Aventador LP750-4 SV Coupe",
          "Aventador LP750-4 SV Coupe",
          "Aventador LP750-4 SV Coupe",
          "Aventador LP750-4 SV Coupe",
          "Aventador LP750-4 SV Coupe",
          "Aventador LP750-4 SV Coupe",
          "Aventador LP750-4 SV Coupe",
          "Aventador LP750-4 SV Roadster",
          "Aventador LP750-4 SV Roadster",
          "Aventador LP750-4 SV Roadster",
          "Aventador LP750-4 SV Roadster",
          "Aventador LP750-4 SV Roadster",
          "Aventador LP770-4 SVJ Coupe",
          "Aventador LP770-4 SVJ Roadster",
          "Aventador LP780-4 Ultimae Coupe",
          "Aventador LP780-4 Ultimae Coupe",
          "Aventador LP780-4 Ultimae Coupe",
          "Aventador LP780-4 Ultimae Coupe",
          "Aventador LP780-4 Ultimae Coupe",
          "Aventador LP780-4 Ultimae Coupe",
          "Aventador LP780-4 Ultimae Coupe",
          "Aventador LP 780-4 Ultimae Roadster",
          "Aventador LP780-4 Ultimae Roadster",
          "Aventador LP780-4 Ultimae Roadster",
          "Aventador Miura 50 Homage Edition",
          "Aventador S",
          "Aventador S Coupe",
          "Aventador S Roadster",
          "Aventador S Roadster",
          "Aventador S Roadster",
          "Countach 25th Anniversary",
          "Countach 25th Anniversary",
          "Countach 25th Anniversary",
          "Countach 25th Anniversary",
          "Countach 25th Anniversary",
          "Countach 25th Anniversary",
          "Countach 25th Anniversary",
          "Countach 25th Anniversary",
          "Countach 25th Anniversary",
          "Countach 25th Anniversary",
          "Countach 25th Anniversary",
          "Countach 25th Anniversary",
          "Countach 25th Anniversary",
          "Countach 25th Anniversary",
          "Countach 25th Anniversary",
          "Countach 25th Anniversary",
          "Countach 25th Anniversary",
          "Countach 25th Anniversary",
          "Countach 25th Anniversary",
          "Countach 25th Anniversary",
          "Countach 25th Anniversary",
          "Countach 5000 QV",
          "Countach 5000 QV",
          "Countach 5000 QV",
          "Countach 5000 QV",
          "Countach 5000 QV",
          "Countach 5000 QV",
          "Countach 5000 QV",
          "Countach 5000 QV",
          "Countach 5000 QV",
          "Countach 5000 QV",
          "Countach 5000 QV",
          "Countach 5000 QV",
          "Countach 5000 QV",
          "Countach 5000 QV",
          "Countach 5000 QV",
          "Countach 5000 QV",
          "Countach 5000 QV",
          "Countach 5000 QV",
          "Countach 5000 QV Project",
          "Countach LP400 Periscopio",
          "Countach LP400 Periscopio",
          "Countach LP400 S",
          "Countach LP400 S",
          "Countach LP400 S Series II",
          "Countach LP5000 S",
          "Countach LP500 S",
          "Countach LP500 S",
          "Countach LP500 S Project",
          "Countach LPI 800-4",
          "Countach LPI 800-4",
          "Countach LPI 800-4",
          "Countach LPI 800-4",
          "Diablo",
          "Diablo",
          "Diablo",
          "Diablo",
          "Diablo",
          "Diablo",
          "Diablo",
          "Diablo",
          "Diablo",
          "Diablo",
          "Diablo",
          "Diablo",
          "Diablo",
          "Diablo",
          "Diablo",
          "Diablo",
          "Diablo",
          "Diablo",
          "Diablo GT Tribute",
          "Diablo SE30",
          "Diablo SV",
          "Diablo SV",
          "Diablo SV",
          "Diablo SV",
          "Diablo SV",
          "Diablo SV",
          "Diablo SV",
          "Diablo SV",
          "Diablo SV Coupe",
          "Diablo SV Monterey Edition",
          "Diablo VT",
          "Diablo VT",
          "Diablo VT",
          "Diablo VT",
          "Diablo VT",
          "Diablo VT",
          "Diablo VT",
          "Diablo VT",
          "Diablo VT",
          "Diablo VT",
          "Diablo VT",
          "Diablo VT",
          "Diablo VT 6.0",
          "Diablo VT 6.0",
          "Diablo VT 6.0",
          "Diablo VT 6.0",
          "Diablo VT 6.0",
          "Diablo VT 6.0",
          "Diablo VT 6.0",
          "Diablo VT 6.0",
          "Diablo VT 6.0",
          "Diablo VT Millennium Roadster",
          "Diablo VT Millennium Roadster",
          "Diablo VT Roadster",
          "Diablo VT Roadster",
          "Diablo VT Roadster",
          "Diablo VT Roadster",
          "Diablo VT Roadster",
          "Diablo VT Roadster",
          "Diablo VT Roadster",
          "Diablo VT Roadster",
          "Diablo VT Roadster",
          "Diablo VT Roadster",
          "Diablo VT Roadster",
          "Diablo VT Roadster",
          "Diablo VT Roadster",
          "Diablo VT Roadster",
          "Diablo VT Roadster",
          "Diablo VT Roadster",
          "Diablo VT Roadster",
          "Diablo VT Roadster",
          "Espada",
          "Espada",
          "Espada Series 2",
          "Espada Series 2",
          "Espada Series I 5-Speed",
          "Espada Series I 5-Speed",
          "Espada Series I 5-Speed Project",
          "Espada Series II",
          "Espada Series III",
          "Espada Series III",
          "Espada Series III 5-Speed",
          "Espada Series III 5-Speed",
          "Espada Series III 5-Speed",
          "Espada Series III 5-Speed",
          "Espada Series III 5-Speed",
          "Espada Series III Project",
          "Espada Series III Project",
          "Gallardo",
          "Gallardo",
          "Gallardo",
          "Gallardo",
          "Gallardo",
          "Gallardo",
          "Gallardo",
          "Gallardo",
          "Gallardo",
          "Gallardo",
          "Gallardo",
          "Gallardo",
          "Gallardo",
          "Gallardo",
          "Gallardo",
          "Gallardo",
          "Gallardo",
          "Gallardo 6-Speed",
          "Gallardo 6-Speed",
          "Gallardo 6-Speed",
          "Gallardo 6-Speed",
          "Gallardo 6-Speed",
          "Gallardo 6-Speed",
          "Gallardo 6-Speed",
          "Gallardo 6-Speed",
          "Gallardo 6-Speed",
          "Gallardo 6-Speed",
          "Gallardo 6-Speed",
          "Gallardo 6-Speed",
          "Gallardo 6-Speed",
          "Gallardo 6-Speed",
          "Gallardo 6-Speed",
          "Gallardo 6-Speed",
          "Gallardo 6-Speed",
          "Gallardo 6-Speed",
          "Gallardo 6-Speed",
          "Gallardo 6-Speed",
          "Gallardo 6-Speed",
          "Gallardo 6-Speed",
          "Gallardo 6-Speed",
          "Gallardo Coupe",
          "Gallardo Coupe",
          "Gallardo Coupe",
          "Gallardo Coupe",
          "Gallardo Coupe",
          "Gallardo Coupe",
          "Gallardo Coupe",
          "Gallardo Coupe",
          "Gallardo Coupe",
          "Gallardo LP550-2",
          "Gallardo LP550-2 Coupe",
          "Gallardo LP550-2 Coupe",
          "Gallardo LP550-2 Coupe",
          "Gallardo LP550-2 Coupe",
          "Gallardo LP550-2 Coupe 6-Speed",
          "Gallardo LP550-2 Spyder",
          "Gallardo LP550-2 Spyder",
          "Gallardo LP560-2 50th Anniversario 6-Speed",
          "Gallardo LP560-2 50th Anniversario 6-Speed",
          "Gallardo LP560-2 50th Anniversario 6-Speed",
          "Gallardo LP560-2 50th Anniversario 6-Speed",
          "Gallardo LP560-2 50th Anniversario 6-Speed",
          "Gallardo LP560-4",
          "Gallardo LP560-4 Coupe",
          "Gallardo LP560-4 Coupe",
          "Gallardo LP560-4 Coupe",
          "Gallardo LP560-4 Spyder",
          "Gallardo LP560-4 Spyder",
          "Gallardo LP560-4 Spyder",
          "Gallardo LP570-4 Blancpain Edition",
          "Gallardo LP570-4 Performante Spyder",
          "Gallardo LP570-4 Spyder Performante",
          "Gallardo LP570-4 Spyder Performante",
          "Gallardo LP570-4 Spyder Performante",
          "Gallardo LP570-4 Spyder Performante",
          "Gallardo LP570-4 Spyder Performante",
          "Gallardo LP570-4 Spyder Performante",
          "Gallardo LP570-4 Spyder Performante",
          "Gallardo LP570-4 Spyder Performante",
          "Gallardo LP570-4 Spyder Performante",
          "Gallardo LP570-4 Spyder Performante",
          "Gallardo LP570-4 Spyder Performante",
          "Gallardo LP570-4 Spyder Performante 6-Speed",
          "Gallardo LP570-4 Spyder Performante Edizione Tecnica",
          "Gallardo LP570-4 Squadra Corse",
          "Gallardo LP570-4 Superleggera",
          "Gallardo LP570-4 Superleggera",
          "Gallardo LP570-4 Superleggera",
          "Gallardo LP570-4 Superleggera",
          "Gallardo LP570-4 Superleggera",
          "Gallardo LP570-4 Superleggera",
          "Gallardo LP570-4 Superleggera Edizione Tecnica",
          "Gallardo LP570-4 Superleggera Edizione Tecnica",
          "Gallardo LP570-4 Superleggera Edizione Tecnica",
          "Gallardo LP570-4 Super Trofeo Race Car",
          "Gallardo LP570-4 Super Trofeo Race Car",
          "Gallardo Nera Coupe",
          "Gallardo SE",
          "Gallardo SE",
          "Gallardo Spyder",
          "Gallardo Spyder",
          "Gallardo Spyder",
          "Gallardo Spyder",
          "Gallardo Spyder",
          "Gallardo Spyder",
          "Gallardo Spyder",
          "Gallardo Spyder",
          "Gallardo Spyder",
          "Gallardo Spyder",
          "Gallardo Spyder",
          "Gallardo Spyder",
          "Gallardo Spyder",
          "Gallardo Spyder",
          "Gallardo Spyder",
          "Gallardo Spyder",
          "Gallardo Spyder 6-Speed",
          "Gallardo Spyder 6-Speed",
          "Gallardo Spyder 6-Speed",
          "Gallardo Spyder 6-Speed",
          "Gallardo Spyder 6-Speed",
          "Gallardo Spyder 6-Speed",
          "Gallardo Spyder 6-Speed",
          "Gallardo Spyder 6-Speed",
          "Gallardo Spyder 6-Speed",
          "Gallardo Spyder 6-Speed",
          "Gallardo Spyder 6-Speed",
          "Gallardo Spyder 6-Speed",
          "Gallardo Spyder 6-Speed",
          "Gallardo Superleggera",
          "Gallardo Superleggera",
          "Gallardo Superleggera",
          "Gallardo Superleggera",
          "Gallardo Superleggera",
          "Gallardo Superleggera",
          "Gallardo Superleggera",
          "Gallardo Superleggera",
          "Gallardo Superleggera",
          "Gallardo Superleggera",
          "Gallardo Superleggera",
          "Gallardo Superleggera",
          "Gallardo Superleggera 6-Speed",
          "Gallardo Superleggera Race Car",
          "Gallardo Superleggera RWD 6-Speed Conversion",
          "Gallardo Track Car",
          "Huracan EVO RWD",
          "Huracan EVO RWD",
          "Huracan EVO RWD Coupe",
          "Huracan EVO RWD Coupe",
          "Huracan Evo RWD Spyder",
          "Huracan EVO RWD Spyder",
          "Huracan EVO RWD Spyder",
          "Huracan EVO RWD Spyder",
          "Huracan Evo Spyder",
          "Huracan Evo Spyder",
          "Huracan EVO Spyder",
          "Huracan GT3 Race Car",
          "Huracan LP 580-2",
          "Huracan LP 580-2 Coupe",
          "Huracan LP580-2 Coupe",
          "Huracan LP580-2 Coupe",
          "Huracan LP580-2 Coupe",
          "Huracan LP580-2 Spyder",
          "Huracan LP580-2 Spyder",
          "Huracan LP580-2 Spyder",
          "Huracan LP580-2 Spyder",
          "Huracan LP580-2 Spyder",
          "Huracan LP 610-4",
          "Huracan LP610-4",
          "Huracan LP610-4",
          "Huracán LP610-4",
          "Huracan LP610-4 Coupe",
          "Huracan LP610-4 Coupe",
          "Huracan LP610-4 Coupe",
          "Huracan LP610-4 Coupe",
          "Huracan LP610-4 Coupe",
          "Huracan LP610-4 Coupe",
          "Huracan LP610-4 Coupe",
          "Huracan LP610-4 Coupe",
          "Huracan LP610-4 Coupe",
          "Huracan LP610-4 Coupe",
          "Huracan LP610-4 Coupe",
          "Huracan LP610-4 Spyder",
          "Huracan LP610-4 Spyder",
          "Huracan LP610-4 Spyder",
          "Huracan LP610-4 Spyder",
          "Huracan LP 620-2 Super Trofeo Race Car",
          "Huracan LP640-4 Performante Coupe",
          "Huracan Performante",
          "Huracan Performante",
          "Huracan Performante",
          "Huracan Performante",
          "Huracan Performante",
          "Huracan Performante Coupe",
          "Huracán Performante Coupe",
          "Huracan Performante Spyder",
          "Huracan Performante Spyder",
          "Huracan Performante Spyder",
          "Huracan Sterrato",
          "Huracan Sterrato",
          "Huracan Sterrato",
          "Huracan Sterrato",
          "Huracan Sterrato",
          "Huracan Sterrato",
          "Huracan Sterrato",
          "Huracan Sterrato",
          "Huracan STO",
          "Huracan STO",
          "Huracan STO",
          "Huracan STO",
          "Huracan STO",
          "Huracan STO",
          "Huracan STO",
          "Huracan STO",
          "Huracan STO",
          "Huracan STO",
          "Huracan STO",
          "Huracan STO",
          "Huracan STO",
          "Huracan STO",
          "Huracan STO",
          "Huracan STO",
          "Huracan STO",
          "Huracan STO",
          "Huracan STO",
          "Huracan STO",
          "Huracan Super Trofeo EVO 10th Edition Race Car",
          "Huracan Super Trofeo EVO Collector 2019",
          "Huracan Tecnica",
          "Huracan Tecnica",
          "Islero",
          "Jalpa",
          "Jalpa",
          "Jalpa",
          "Jalpa",
          "Jalpa",
          "Jalpa",
          "Jalpa",
          "Jalpa",
          "Jalpa",
          "Jalpa",
          "Jalpa",
          "Jalpa",
          "Jalpa",
          "Jalpa",
          "Jalpa",
          "Jalpa P350",
          "Jalpa Project",
          "Jarama",
          "Jarama",
          "Jarama",
          "Jarama",
          "Jarama",
          "Jarama 400 GT",
          "Jarama S",
          "Jarama S",
          "LM002",
          "LM002",
          "LP570-4 Gallardo Superleggera",
          "Miura P400",
          "Murcielago",
          "Murcielago",
          "Murcielago",
          "Murcielago",
          "Murcielago",
          "Murcielago",
          "Murcielago 40th-Anniversary Edition",
          "Murcielago 40th Anniversary Edition 6-Speed",
          "Murcielago 6-Speed",
          "Murcielago 6-Speed",
          "Murcielago 6-Speed",
          "Murcielago 6-Speed",
          "Murcielago 6-Speed",
          "Murcielago 6-Speed",
          "Murcielago 6-Speed",
          "Murcielago 6-Speed",
          "Murcielago 6-Speed",
          "Murcielago 6-Speed",
          "Murcielago 6-Speed",
          "Murcielago 6-Speed",
          "Murcielago 6-Speed",
          "Murcielago 6-Speed",
          "Murcielago 6-Speed",
          "Murcielago 6-Speed",
          "Murcielago Coupe",
          "Murcielago Coupe",
          "Murcielago Coupe 6-Speed",
          "Murcielago Coupe 6-Speed",
          "Murcielago LP640",
          "Murcielago LP640",
          "Murcielago LP640",
          "Murcielago LP640",
          "Murcielago LP640 Coupe",
          "Murcielago LP640 Coupe",
          "Murcielago LP640 Roadster",
          "Murcielago LP640 Roadster",
          "Murcielago LP640 Roadster",
          "Murcielago LP640 Roadster",
          "Murcielago LP640 Roadster",
          "Murcielago LP640 Roadster",
          "Murcielago LP640 Roadster",
          "Murcielago LP640 Roadster",
          "Murcielago LP640 Roadster",
          "Murcielago LP640 Roadster",
          "Murcielago LP640 Versace Edition",
          "Murcielago LP670-4 SuperVeloce",
          "Murcielago LP670-4 SuperVeloce",
          "Murcielago LP670-4 SuperVeloce",
          "Murcielago Roadster",
          "Murcielago Roadster",
          "Murcielago Roadster",
          "Murcielago Roadster",
          "Murcielago Roadster",
          "Murcielago Roadster",
          "Murcielago Roadster",
          "Murcielago Roadster",
          "Murcielago Roadster",
          "Murcielago Roadster",
          "Murcielago Roadster",
          "Murcielago Roadster",
          "Murcielago Roadster 6-Speed",
          "Reventon Coupe",
          "Revuelto",
          "Sian FKP 37",
          "Urraco P200",
          "Urraco P200",
          "Urraco P250",
          "Urraco P250",
          "Urraco P250",
          "Urraco P250",
          "Urraco P250",
          "Urraco P250 S",
          "Urraco P250S",
          "Urraco P250S",
          "Urraco P250S",
          "Urraco P300",
          "Urraco P300",
          "Urus",
          "Urus",
          "Urus",
          "Urus",
          "Urus",
          "Urus",
          "Urus",
          "Urus",
          "Urus",
          "Urus",
          "Urus",
          "Urus",
          "Urus Performante",
          "Urus Performante",
          "Urus Performante",
          "Urus S"
         ],
         "x0": " ",
         "xaxis": "x",
         "y": {
          "bdata": "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",
          "dtype": "f8"
         },
         "y0": " ",
         "yaxis": "y"
        }
       ],
       "layout": {
        "boxmode": "group",
        "legend": {
         "tracegroupgap": 0
        },
        "margin": {
         "t": 60
        },
        "template": {
         "data": {
          "bar": [
           {
            "error_x": {
             "color": "#2a3f5f"
            },
            "error_y": {
             "color": "#2a3f5f"
            },
            "marker": {
             "line": {
              "color": "#E5ECF6",
              "width": 0.5
             },
             "pattern": {
              "fillmode": "overlay",
              "size": 10,
              "solidity": 0.2
             }
            },
            "type": "bar"
           }
          ],
          "barpolar": [
           {
            "marker": {
             "line": {
              "color": "#E5ECF6",
              "width": 0.5
             },
             "pattern": {
              "fillmode": "overlay",
              "size": 10,
              "solidity": 0.2
             }
            },
            "type": "barpolar"
           }
          ],
          "carpet": [
           {
            "aaxis": {
             "endlinecolor": "#2a3f5f",
             "gridcolor": "white",
             "linecolor": "white",
             "minorgridcolor": "white",
             "startlinecolor": "#2a3f5f"
            },
            "baxis": {
             "endlinecolor": "#2a3f5f",
             "gridcolor": "white",
             "linecolor": "white",
             "minorgridcolor": "white",
             "startlinecolor": "#2a3f5f"
            },
            "type": "carpet"
           }
          ],
          "choropleth": [
           {
            "colorbar": {
             "outlinewidth": 0,
             "ticks": ""
            },
            "type": "choropleth"
           }
          ],
          "contour": [
           {
            "colorbar": {
             "outlinewidth": 0,
             "ticks": ""
            },
            "colorscale": [
             [
              0,
              "#0d0887"
             ],
             [
              0.1111111111111111,
              "#46039f"
             ],
             [
              0.2222222222222222,
              "#7201a8"
             ],
             [
              0.3333333333333333,
              "#9c179e"
             ],
             [
              0.4444444444444444,
              "#bd3786"
             ],
             [
              0.5555555555555556,
              "#d8576b"
             ],
             [
              0.6666666666666666,
              "#ed7953"
             ],
             [
              0.7777777777777778,
              "#fb9f3a"
             ],
             [
              0.8888888888888888,
              "#fdca26"
             ],
             [
              1,
              "#f0f921"
             ]
            ],
            "type": "contour"
           }
          ],
          "contourcarpet": [
           {
            "colorbar": {
             "outlinewidth": 0,
             "ticks": ""
            },
            "type": "contourcarpet"
           }
          ],
          "heatmap": [
           {
            "colorbar": {
             "outlinewidth": 0,
             "ticks": ""
            },
            "colorscale": [
             [
              0,
              "#0d0887"
             ],
             [
              0.1111111111111111,
              "#46039f"
             ],
             [
              0.2222222222222222,
              "#7201a8"
             ],
             [
              0.3333333333333333,
              "#9c179e"
             ],
             [
              0.4444444444444444,
              "#bd3786"
             ],
             [
              0.5555555555555556,
              "#d8576b"
             ],
             [
              0.6666666666666666,
              "#ed7953"
             ],
             [
              0.7777777777777778,
              "#fb9f3a"
             ],
             [
              0.8888888888888888,
              "#fdca26"
             ],
             [
              1,
              "#f0f921"
             ]
            ],
            "type": "heatmap"
           }
          ],
          "histogram": [
           {
            "marker": {
             "pattern": {
              "fillmode": "overlay",
              "size": 10,
              "solidity": 0.2
             }
            },
            "type": "histogram"
           }
          ],
          "histogram2d": [
           {
            "colorbar": {
             "outlinewidth": 0,
             "ticks": ""
            },
            "colorscale": [
             [
              0,
              "#0d0887"
             ],
             [
              0.1111111111111111,
              "#46039f"
             ],
             [
              0.2222222222222222,
              "#7201a8"
             ],
             [
              0.3333333333333333,
              "#9c179e"
             ],
             [
              0.4444444444444444,
              "#bd3786"
             ],
             [
              0.5555555555555556,
              "#d8576b"
             ],
             [
              0.6666666666666666,
              "#ed7953"
             ],
             [
              0.7777777777777778,
              "#fb9f3a"
             ],
             [
              0.8888888888888888,
              "#fdca26"
             ],
             [
              1,
              "#f0f921"
             ]
            ],
            "type": "histogram2d"
           }
          ],
          "histogram2dcontour": [
           {
            "colorbar": {
             "outlinewidth": 0,
             "ticks": ""
            },
            "colorscale": [
             [
              0,
              "#0d0887"
             ],
             [
              0.1111111111111111,
              "#46039f"
             ],
             [
              0.2222222222222222,
              "#7201a8"
             ],
             [
              0.3333333333333333,
              "#9c179e"
             ],
             [
              0.4444444444444444,
              "#bd3786"
             ],
             [
              0.5555555555555556,
              "#d8576b"
             ],
             [
              0.6666666666666666,
              "#ed7953"
             ],
             [
              0.7777777777777778,
              "#fb9f3a"
             ],
             [
              0.8888888888888888,
              "#fdca26"
             ],
             [
              1,
              "#f0f921"
             ]
            ],
            "type": "histogram2dcontour"
           }
          ],
          "mesh3d": [
           {
            "colorbar": {
             "outlinewidth": 0,
             "ticks": ""
            },
            "type": "mesh3d"
           }
          ],
          "parcoords": [
           {
            "line": {
             "colorbar": {
              "outlinewidth": 0,
              "ticks": ""
             }
            },
            "type": "parcoords"
           }
          ],
          "pie": [
           {
            "automargin": true,
            "type": "pie"
           }
          ],
          "scatter": [
           {
            "fillpattern": {
             "fillmode": "overlay",
             "size": 10,
             "solidity": 0.2
            },
            "type": "scatter"
           }
          ],
          "scatter3d": [
           {
            "line": {
             "colorbar": {
              "outlinewidth": 0,
              "ticks": ""
             }
            },
            "marker": {
             "colorbar": {
              "outlinewidth": 0,
              "ticks": ""
             }
            },
            "type": "scatter3d"
           }
          ],
          "scattercarpet": [
           {
            "marker": {
             "colorbar": {
              "outlinewidth": 0,
              "ticks": ""
             }
            },
            "type": "scattercarpet"
           }
          ],
          "scattergeo": [
           {
            "marker": {
             "colorbar": {
              "outlinewidth": 0,
              "ticks": ""
             }
            },
            "type": "scattergeo"
           }
          ],
          "scattergl": [
           {
            "marker": {
             "colorbar": {
              "outlinewidth": 0,
              "ticks": ""
             }
            },
            "type": "scattergl"
           }
          ],
          "scattermap": [
           {
            "marker": {
             "colorbar": {
              "outlinewidth": 0,
              "ticks": ""
             }
            },
            "type": "scattermap"
           }
          ],
          "scattermapbox": [
           {
            "marker": {
             "colorbar": {
              "outlinewidth": 0,
              "ticks": ""
             }
            },
            "type": "scattermapbox"
           }
          ],
          "scatterpolar": [
           {
            "marker": {
             "colorbar": {
              "outlinewidth": 0,
              "ticks": ""
             }
            },
            "type": "scatterpolar"
           }
          ],
          "scatterpolargl": [
           {
            "marker": {
             "colorbar": {
              "outlinewidth": 0,
              "ticks": ""
             }
            },
            "type": "scatterpolargl"
           }
          ],
          "scatterternary": [
           {
            "marker": {
             "colorbar": {
              "outlinewidth": 0,
              "ticks": ""
             }
            },
            "type": "scatterternary"
           }
          ],
          "surface": [
           {
            "colorbar": {
             "outlinewidth": 0,
             "ticks": ""
            },
            "colorscale": [
             [
              0,
              "#0d0887"
             ],
             [
              0.1111111111111111,
              "#46039f"
             ],
             [
              0.2222222222222222,
              "#7201a8"
             ],
             [
              0.3333333333333333,
              "#9c179e"
             ],
             [
              0.4444444444444444,
              "#bd3786"
             ],
             [
              0.5555555555555556,
              "#d8576b"
             ],
             [
              0.6666666666666666,
              "#ed7953"
             ],
             [
              0.7777777777777778,
              "#fb9f3a"
             ],
             [
              0.8888888888888888,
              "#fdca26"
             ],
             [
              1,
              "#f0f921"
             ]
            ],
            "type": "surface"
           }
          ],
          "table": [
           {
            "cells": {
             "fill": {
              "color": "#EBF0F8"
             },
             "line": {
              "color": "white"
             }
            },
            "header": {
             "fill": {
              "color": "#C8D4E3"
             },
             "line": {
              "color": "white"
             }
            },
            "type": "table"
           }
          ]
         },
         "layout": {
          "annotationdefaults": {
           "arrowcolor": "#2a3f5f",
           "arrowhead": 0,
           "arrowwidth": 1
          },
          "autotypenumbers": "strict",
          "coloraxis": {
           "colorbar": {
            "outlinewidth": 0,
            "ticks": ""
           }
          },
          "colorscale": {
           "diverging": [
            [
             0,
             "#8e0152"
            ],
            [
             0.1,
             "#c51b7d"
            ],
            [
             0.2,
             "#de77ae"
            ],
            [
             0.3,
             "#f1b6da"
            ],
            [
             0.4,
             "#fde0ef"
            ],
            [
             0.5,
             "#f7f7f7"
            ],
            [
             0.6,
             "#e6f5d0"
            ],
            [
             0.7,
             "#b8e186"
            ],
            [
             0.8,
             "#7fbc41"
            ],
            [
             0.9,
             "#4d9221"
            ],
            [
             1,
             "#276419"
            ]
           ],
           "sequential": [
            [
             0,
             "#0d0887"
            ],
            [
             0.1111111111111111,
             "#46039f"
            ],
            [
             0.2222222222222222,
             "#7201a8"
            ],
            [
             0.3333333333333333,
             "#9c179e"
            ],
            [
             0.4444444444444444,
             "#bd3786"
            ],
            [
             0.5555555555555556,
             "#d8576b"
            ],
            [
             0.6666666666666666,
             "#ed7953"
            ],
            [
             0.7777777777777778,
             "#fb9f3a"
            ],
            [
             0.8888888888888888,
             "#fdca26"
            ],
            [
             1,
             "#f0f921"
            ]
           ],
           "sequentialminus": [
            [
             0,
             "#0d0887"
            ],
            [
             0.1111111111111111,
             "#46039f"
            ],
            [
             0.2222222222222222,
             "#7201a8"
            ],
            [
             0.3333333333333333,
             "#9c179e"
            ],
            [
             0.4444444444444444,
             "#bd3786"
            ],
            [
             0.5555555555555556,
             "#d8576b"
            ],
            [
             0.6666666666666666,
             "#ed7953"
            ],
            [
             0.7777777777777778,
             "#fb9f3a"
            ],
            [
             0.8888888888888888,
             "#fdca26"
            ],
            [
             1,
             "#f0f921"
            ]
           ]
          },
          "colorway": [
           "#636efa",
           "#EF553B",
           "#00cc96",
           "#ab63fa",
           "#FFA15A",
           "#19d3f3",
           "#FF6692",
           "#B6E880",
           "#FF97FF",
           "#FECB52"
          ],
          "font": {
           "color": "#2a3f5f"
          },
          "geo": {
           "bgcolor": "white",
           "lakecolor": "white",
           "landcolor": "#E5ECF6",
           "showlakes": true,
           "showland": true,
           "subunitcolor": "white"
          },
          "hoverlabel": {
           "align": "left"
          },
          "hovermode": "closest",
          "mapbox": {
           "style": "light"
          },
          "paper_bgcolor": "white",
          "plot_bgcolor": "#E5ECF6",
          "polar": {
           "angularaxis": {
            "gridcolor": "white",
            "linecolor": "white",
            "ticks": ""
           },
           "bgcolor": "#E5ECF6",
           "radialaxis": {
            "gridcolor": "white",
            "linecolor": "white",
            "ticks": ""
           }
          },
          "scene": {
           "xaxis": {
            "backgroundcolor": "#E5ECF6",
            "gridcolor": "white",
            "gridwidth": 2,
            "linecolor": "white",
            "showbackground": true,
            "ticks": "",
            "zerolinecolor": "white"
           },
           "yaxis": {
            "backgroundcolor": "#E5ECF6",
            "gridcolor": "white",
            "gridwidth": 2,
            "linecolor": "white",
            "showbackground": true,
            "ticks": "",
            "zerolinecolor": "white"
           },
           "zaxis": {
            "backgroundcolor": "#E5ECF6",
            "gridcolor": "white",
            "gridwidth": 2,
            "linecolor": "white",
            "showbackground": true,
            "ticks": "",
            "zerolinecolor": "white"
           }
          },
          "shapedefaults": {
           "line": {
            "color": "#2a3f5f"
           }
          },
          "ternary": {
           "aaxis": {
            "gridcolor": "white",
            "linecolor": "white",
            "ticks": ""
           },
           "baxis": {
            "gridcolor": "white",
            "linecolor": "white",
            "ticks": ""
           },
           "bgcolor": "#E5ECF6",
           "caxis": {
            "gridcolor": "white",
            "linecolor": "white",
            "ticks": ""
           }
          },
          "title": {
           "x": 0.05
          },
          "xaxis": {
           "automargin": true,
           "gridcolor": "white",
           "linecolor": "white",
           "ticks": "",
           "title": {
            "standoff": 15
           },
           "zerolinecolor": "white",
           "zerolinewidth": 2
          },
          "yaxis": {
           "automargin": true,
           "gridcolor": "white",
           "linecolor": "white",
           "ticks": "",
           "title": {
            "standoff": 15
           },
           "zerolinecolor": "white",
           "zerolinewidth": 2
          }
         }
        },
        "title": {
         "text": "Price vs Model"
        },
        "xaxis": {
         "anchor": "y",
         "domain": [
          0,
          1
         ],
         "title": {
          "text": "Model"
         }
        },
        "yaxis": {
         "anchor": "x",
         "domain": [
          0,
          1
         ],
         "title": {
          "text": "Average Price"
         }
        }
       }
      }
     },
     "metadata": {},
     "output_type": "display_data"
    }
   ],
   "source": [
    "# Price by model\n",
    "display_p=df[['model','year','sold_price']]\n",
    "\n",
    "fig=px.box(display_p,x=\"model\",y=\"sold_price\")\n",
    "fig.update_layout(title_text='Price vs Model',xaxis_title=\"Model\",yaxis_title=\"Average Price\")"
   ]
  },
  {
   "cell_type": "code",
   "execution_count": 5,
   "metadata": {},
   "outputs": [
    {
     "data": {
      "application/vnd.plotly.v1+json": {
       "config": {
        "plotlyServerURL": "https://plot.ly"
       },
       "data": [
        {
         "marker": {
          "color": [
           "crimson",
           "lightslategray",
           "lightslategray",
           "lightslategray",
           "lightslategray",
           "lightslategray",
           "lightslategray",
           "lightslategray",
           "lightslategray",
           "lightslategray",
           "lightslategray",
           "lightslategray",
           "lightslategray",
           "lightslategray",
           "lightslategray",
           "lightslategray",
           "lightslategray",
           "lightslategray"
          ]
         },
         "orientation": "h",
         "type": "bar",
         "x": {
          "bdata": "FxUUEhISERAQDw0MDAwMCwsKCQkICAcHBw==",
          "dtype": "i1"
         },
         "y": [
          "Gallardo 6-Speed",
          "Countach 25th Anniversary",
          "Huracan STO",
          "Diablo",
          "Diablo VT Roadster",
          "Countach 5000 QV",
          "Gallardo",
          "Gallardo Spyder",
          "Murcielago 6-Speed",
          "Jalpa",
          "Gallardo Spyder 6-Speed",
          "Urus",
          "Diablo VT",
          "Gallardo Superleggera",
          "Murcielago Roadster",
          "Huracan LP610-4 Coupe",
          "Gallardo LP570-4 Spyder Performante",
          "Murcielago LP640 Roadster"
         ]
        }
       ],
       "layout": {
        "template": {
         "data": {
          "bar": [
           {
            "error_x": {
             "color": "#2a3f5f"
            },
            "error_y": {
             "color": "#2a3f5f"
            },
            "marker": {
             "line": {
              "color": "#E5ECF6",
              "width": 0.5
             },
             "pattern": {
              "fillmode": "overlay",
              "size": 10,
              "solidity": 0.2
             }
            },
            "type": "bar"
           }
          ],
          "barpolar": [
           {
            "marker": {
             "line": {
              "color": "#E5ECF6",
              "width": 0.5
             },
             "pattern": {
              "fillmode": "overlay",
              "size": 10,
              "solidity": 0.2
             }
            },
            "type": "barpolar"
           }
          ],
          "carpet": [
           {
            "aaxis": {
             "endlinecolor": "#2a3f5f",
             "gridcolor": "white",
             "linecolor": "white",
             "minorgridcolor": "white",
             "startlinecolor": "#2a3f5f"
            },
            "baxis": {
             "endlinecolor": "#2a3f5f",
             "gridcolor": "white",
             "linecolor": "white",
             "minorgridcolor": "white",
             "startlinecolor": "#2a3f5f"
            },
            "type": "carpet"
           }
          ],
          "choropleth": [
           {
            "colorbar": {
             "outlinewidth": 0,
             "ticks": ""
            },
            "type": "choropleth"
           }
          ],
          "contour": [
           {
            "colorbar": {
             "outlinewidth": 0,
             "ticks": ""
            },
            "colorscale": [
             [
              0,
              "#0d0887"
             ],
             [
              0.1111111111111111,
              "#46039f"
             ],
             [
              0.2222222222222222,
              "#7201a8"
             ],
             [
              0.3333333333333333,
              "#9c179e"
             ],
             [
              0.4444444444444444,
              "#bd3786"
             ],
             [
              0.5555555555555556,
              "#d8576b"
             ],
             [
              0.6666666666666666,
              "#ed7953"
             ],
             [
              0.7777777777777778,
              "#fb9f3a"
             ],
             [
              0.8888888888888888,
              "#fdca26"
             ],
             [
              1,
              "#f0f921"
             ]
            ],
            "type": "contour"
           }
          ],
          "contourcarpet": [
           {
            "colorbar": {
             "outlinewidth": 0,
             "ticks": ""
            },
            "type": "contourcarpet"
           }
          ],
          "heatmap": [
           {
            "colorbar": {
             "outlinewidth": 0,
             "ticks": ""
            },
            "colorscale": [
             [
              0,
              "#0d0887"
             ],
             [
              0.1111111111111111,
              "#46039f"
             ],
             [
              0.2222222222222222,
              "#7201a8"
             ],
             [
              0.3333333333333333,
              "#9c179e"
             ],
             [
              0.4444444444444444,
              "#bd3786"
             ],
             [
              0.5555555555555556,
              "#d8576b"
             ],
             [
              0.6666666666666666,
              "#ed7953"
             ],
             [
              0.7777777777777778,
              "#fb9f3a"
             ],
             [
              0.8888888888888888,
              "#fdca26"
             ],
             [
              1,
              "#f0f921"
             ]
            ],
            "type": "heatmap"
           }
          ],
          "histogram": [
           {
            "marker": {
             "pattern": {
              "fillmode": "overlay",
              "size": 10,
              "solidity": 0.2
             }
            },
            "type": "histogram"
           }
          ],
          "histogram2d": [
           {
            "colorbar": {
             "outlinewidth": 0,
             "ticks": ""
            },
            "colorscale": [
             [
              0,
              "#0d0887"
             ],
             [
              0.1111111111111111,
              "#46039f"
             ],
             [
              0.2222222222222222,
              "#7201a8"
             ],
             [
              0.3333333333333333,
              "#9c179e"
             ],
             [
              0.4444444444444444,
              "#bd3786"
             ],
             [
              0.5555555555555556,
              "#d8576b"
             ],
             [
              0.6666666666666666,
              "#ed7953"
             ],
             [
              0.7777777777777778,
              "#fb9f3a"
             ],
             [
              0.8888888888888888,
              "#fdca26"
             ],
             [
              1,
              "#f0f921"
             ]
            ],
            "type": "histogram2d"
           }
          ],
          "histogram2dcontour": [
           {
            "colorbar": {
             "outlinewidth": 0,
             "ticks": ""
            },
            "colorscale": [
             [
              0,
              "#0d0887"
             ],
             [
              0.1111111111111111,
              "#46039f"
             ],
             [
              0.2222222222222222,
              "#7201a8"
             ],
             [
              0.3333333333333333,
              "#9c179e"
             ],
             [
              0.4444444444444444,
              "#bd3786"
             ],
             [
              0.5555555555555556,
              "#d8576b"
             ],
             [
              0.6666666666666666,
              "#ed7953"
             ],
             [
              0.7777777777777778,
              "#fb9f3a"
             ],
             [
              0.8888888888888888,
              "#fdca26"
             ],
             [
              1,
              "#f0f921"
             ]
            ],
            "type": "histogram2dcontour"
           }
          ],
          "mesh3d": [
           {
            "colorbar": {
             "outlinewidth": 0,
             "ticks": ""
            },
            "type": "mesh3d"
           }
          ],
          "parcoords": [
           {
            "line": {
             "colorbar": {
              "outlinewidth": 0,
              "ticks": ""
             }
            },
            "type": "parcoords"
           }
          ],
          "pie": [
           {
            "automargin": true,
            "type": "pie"
           }
          ],
          "scatter": [
           {
            "fillpattern": {
             "fillmode": "overlay",
             "size": 10,
             "solidity": 0.2
            },
            "type": "scatter"
           }
          ],
          "scatter3d": [
           {
            "line": {
             "colorbar": {
              "outlinewidth": 0,
              "ticks": ""
             }
            },
            "marker": {
             "colorbar": {
              "outlinewidth": 0,
              "ticks": ""
             }
            },
            "type": "scatter3d"
           }
          ],
          "scattercarpet": [
           {
            "marker": {
             "colorbar": {
              "outlinewidth": 0,
              "ticks": ""
             }
            },
            "type": "scattercarpet"
           }
          ],
          "scattergeo": [
           {
            "marker": {
             "colorbar": {
              "outlinewidth": 0,
              "ticks": ""
             }
            },
            "type": "scattergeo"
           }
          ],
          "scattergl": [
           {
            "marker": {
             "colorbar": {
              "outlinewidth": 0,
              "ticks": ""
             }
            },
            "type": "scattergl"
           }
          ],
          "scattermap": [
           {
            "marker": {
             "colorbar": {
              "outlinewidth": 0,
              "ticks": ""
             }
            },
            "type": "scattermap"
           }
          ],
          "scattermapbox": [
           {
            "marker": {
             "colorbar": {
              "outlinewidth": 0,
              "ticks": ""
             }
            },
            "type": "scattermapbox"
           }
          ],
          "scatterpolar": [
           {
            "marker": {
             "colorbar": {
              "outlinewidth": 0,
              "ticks": ""
             }
            },
            "type": "scatterpolar"
           }
          ],
          "scatterpolargl": [
           {
            "marker": {
             "colorbar": {
              "outlinewidth": 0,
              "ticks": ""
             }
            },
            "type": "scatterpolargl"
           }
          ],
          "scatterternary": [
           {
            "marker": {
             "colorbar": {
              "outlinewidth": 0,
              "ticks": ""
             }
            },
            "type": "scatterternary"
           }
          ],
          "surface": [
           {
            "colorbar": {
             "outlinewidth": 0,
             "ticks": ""
            },
            "colorscale": [
             [
              0,
              "#0d0887"
             ],
             [
              0.1111111111111111,
              "#46039f"
             ],
             [
              0.2222222222222222,
              "#7201a8"
             ],
             [
              0.3333333333333333,
              "#9c179e"
             ],
             [
              0.4444444444444444,
              "#bd3786"
             ],
             [
              0.5555555555555556,
              "#d8576b"
             ],
             [
              0.6666666666666666,
              "#ed7953"
             ],
             [
              0.7777777777777778,
              "#fb9f3a"
             ],
             [
              0.8888888888888888,
              "#fdca26"
             ],
             [
              1,
              "#f0f921"
             ]
            ],
            "type": "surface"
           }
          ],
          "table": [
           {
            "cells": {
             "fill": {
              "color": "#EBF0F8"
             },
             "line": {
              "color": "white"
             }
            },
            "header": {
             "fill": {
              "color": "#C8D4E3"
             },
             "line": {
              "color": "white"
             }
            },
            "type": "table"
           }
          ]
         },
         "layout": {
          "annotationdefaults": {
           "arrowcolor": "#2a3f5f",
           "arrowhead": 0,
           "arrowwidth": 1
          },
          "autotypenumbers": "strict",
          "coloraxis": {
           "colorbar": {
            "outlinewidth": 0,
            "ticks": ""
           }
          },
          "colorscale": {
           "diverging": [
            [
             0,
             "#8e0152"
            ],
            [
             0.1,
             "#c51b7d"
            ],
            [
             0.2,
             "#de77ae"
            ],
            [
             0.3,
             "#f1b6da"
            ],
            [
             0.4,
             "#fde0ef"
            ],
            [
             0.5,
             "#f7f7f7"
            ],
            [
             0.6,
             "#e6f5d0"
            ],
            [
             0.7,
             "#b8e186"
            ],
            [
             0.8,
             "#7fbc41"
            ],
            [
             0.9,
             "#4d9221"
            ],
            [
             1,
             "#276419"
            ]
           ],
           "sequential": [
            [
             0,
             "#0d0887"
            ],
            [
             0.1111111111111111,
             "#46039f"
            ],
            [
             0.2222222222222222,
             "#7201a8"
            ],
            [
             0.3333333333333333,
             "#9c179e"
            ],
            [
             0.4444444444444444,
             "#bd3786"
            ],
            [
             0.5555555555555556,
             "#d8576b"
            ],
            [
             0.6666666666666666,
             "#ed7953"
            ],
            [
             0.7777777777777778,
             "#fb9f3a"
            ],
            [
             0.8888888888888888,
             "#fdca26"
            ],
            [
             1,
             "#f0f921"
            ]
           ],
           "sequentialminus": [
            [
             0,
             "#0d0887"
            ],
            [
             0.1111111111111111,
             "#46039f"
            ],
            [
             0.2222222222222222,
             "#7201a8"
            ],
            [
             0.3333333333333333,
             "#9c179e"
            ],
            [
             0.4444444444444444,
             "#bd3786"
            ],
            [
             0.5555555555555556,
             "#d8576b"
            ],
            [
             0.6666666666666666,
             "#ed7953"
            ],
            [
             0.7777777777777778,
             "#fb9f3a"
            ],
            [
             0.8888888888888888,
             "#fdca26"
            ],
            [
             1,
             "#f0f921"
            ]
           ]
          },
          "colorway": [
           "#636efa",
           "#EF553B",
           "#00cc96",
           "#ab63fa",
           "#FFA15A",
           "#19d3f3",
           "#FF6692",
           "#B6E880",
           "#FF97FF",
           "#FECB52"
          ],
          "font": {
           "color": "#2a3f5f"
          },
          "geo": {
           "bgcolor": "white",
           "lakecolor": "white",
           "landcolor": "#E5ECF6",
           "showlakes": true,
           "showland": true,
           "subunitcolor": "white"
          },
          "hoverlabel": {
           "align": "left"
          },
          "hovermode": "closest",
          "mapbox": {
           "style": "light"
          },
          "paper_bgcolor": "white",
          "plot_bgcolor": "#E5ECF6",
          "polar": {
           "angularaxis": {
            "gridcolor": "white",
            "linecolor": "white",
            "ticks": ""
           },
           "bgcolor": "#E5ECF6",
           "radialaxis": {
            "gridcolor": "white",
            "linecolor": "white",
            "ticks": ""
           }
          },
          "scene": {
           "xaxis": {
            "backgroundcolor": "#E5ECF6",
            "gridcolor": "white",
            "gridwidth": 2,
            "linecolor": "white",
            "showbackground": true,
            "ticks": "",
            "zerolinecolor": "white"
           },
           "yaxis": {
            "backgroundcolor": "#E5ECF6",
            "gridcolor": "white",
            "gridwidth": 2,
            "linecolor": "white",
            "showbackground": true,
            "ticks": "",
            "zerolinecolor": "white"
           },
           "zaxis": {
            "backgroundcolor": "#E5ECF6",
            "gridcolor": "white",
            "gridwidth": 2,
            "linecolor": "white",
            "showbackground": true,
            "ticks": "",
            "zerolinecolor": "white"
           }
          },
          "shapedefaults": {
           "line": {
            "color": "#2a3f5f"
           }
          },
          "ternary": {
           "aaxis": {
            "gridcolor": "white",
            "linecolor": "white",
            "ticks": ""
           },
           "baxis": {
            "gridcolor": "white",
            "linecolor": "white",
            "ticks": ""
           },
           "bgcolor": "#E5ECF6",
           "caxis": {
            "gridcolor": "white",
            "linecolor": "white",
            "ticks": ""
           }
          },
          "title": {
           "x": 0.05
          },
          "xaxis": {
           "automargin": true,
           "gridcolor": "white",
           "linecolor": "white",
           "ticks": "",
           "title": {
            "standoff": 15
           },
           "zerolinecolor": "white",
           "zerolinewidth": 2
          },
          "yaxis": {
           "automargin": true,
           "gridcolor": "white",
           "linecolor": "white",
           "ticks": "",
           "title": {
            "standoff": 15
           },
           "zerolinecolor": "white",
           "zerolinewidth": 2
          }
         }
        },
        "title": {
         "text": "Most represented Models in the Dataset"
        },
        "xaxis": {
         "title": {
          "text": "Count"
         }
        },
        "yaxis": {
         "title": {
          "text": "Model"
         }
        }
       }
      }
     },
     "metadata": {},
     "output_type": "display_data"
    }
   ],
   "source": [
    "# Filter to models with more than min_observations\n",
    "counts=df['model'].value_counts()\n",
    "frequent_models = counts[counts >= min_observations].index\n",
    "\n",
    "# Filter the data to frequent models\n",
    "df = df[df['model'].isin(frequent_models)]\n",
    "popular_labels=frequent_models\n",
    "\n",
    "colors=['lightslategray',]*len(popular_labels)\n",
    "colors[0]='crimson'\n",
    "\n",
    "fig=go.Figure(data=[go.Bar(x=counts[:25],y=popular_labels,marker_color=colors,orientation='h')])\n",
    "fig.update_layout(title_text='Most represented Models in the Dataset',xaxis_title=\"Count\",yaxis_title=\"Model\")"
   ]
  },
  {
   "cell_type": "code",
   "execution_count": 6,
   "metadata": {},
   "outputs": [
    {
     "data": {
      "application/vnd.plotly.v1+json": {
       "config": {
        "plotlyServerURL": "https://plot.ly"
       },
       "data": [
        {
         "type": "bar",
         "x": [
          1970,
          1971,
          1972,
          1973,
          1974,
          1975,
          1976,
          1977,
          1978,
          1979,
          1980,
          1981,
          1982,
          1983,
          1984,
          1985,
          1986,
          1987,
          1988,
          1989,
          1990,
          1991,
          1992,
          1993,
          1994,
          1995,
          1996,
          1997,
          1998,
          1999,
          2000,
          2001,
          2002,
          2003,
          2004,
          2005,
          2006,
          2007,
          2008,
          2009,
          2010,
          2011,
          2012,
          2013,
          2014,
          2015,
          2016,
          2017,
          2018,
          2019,
          2020,
          2021,
          2022,
          2023,
          2024
         ],
         "y": [
          0,
          0,
          0,
          0,
          0,
          0,
          0,
          0,
          0,
          0,
          0,
          0,
          0,
          0,
          5,
          2,
          3,
          9,
          13,
          21,
          1,
          16,
          2,
          1,
          7,
          4,
          4,
          4,
          3,
          7,
          0,
          0,
          2,
          7,
          36,
          7,
          23,
          8,
          33,
          2,
          1,
          5,
          4,
          2,
          0,
          10,
          1,
          0,
          0,
          5,
          3,
          6,
          8,
          7,
          3
         ]
        }
       ],
       "layout": {
        "template": {
         "data": {
          "bar": [
           {
            "error_x": {
             "color": "#2a3f5f"
            },
            "error_y": {
             "color": "#2a3f5f"
            },
            "marker": {
             "line": {
              "color": "#E5ECF6",
              "width": 0.5
             },
             "pattern": {
              "fillmode": "overlay",
              "size": 10,
              "solidity": 0.2
             }
            },
            "type": "bar"
           }
          ],
          "barpolar": [
           {
            "marker": {
             "line": {
              "color": "#E5ECF6",
              "width": 0.5
             },
             "pattern": {
              "fillmode": "overlay",
              "size": 10,
              "solidity": 0.2
             }
            },
            "type": "barpolar"
           }
          ],
          "carpet": [
           {
            "aaxis": {
             "endlinecolor": "#2a3f5f",
             "gridcolor": "white",
             "linecolor": "white",
             "minorgridcolor": "white",
             "startlinecolor": "#2a3f5f"
            },
            "baxis": {
             "endlinecolor": "#2a3f5f",
             "gridcolor": "white",
             "linecolor": "white",
             "minorgridcolor": "white",
             "startlinecolor": "#2a3f5f"
            },
            "type": "carpet"
           }
          ],
          "choropleth": [
           {
            "colorbar": {
             "outlinewidth": 0,
             "ticks": ""
            },
            "type": "choropleth"
           }
          ],
          "contour": [
           {
            "colorbar": {
             "outlinewidth": 0,
             "ticks": ""
            },
            "colorscale": [
             [
              0,
              "#0d0887"
             ],
             [
              0.1111111111111111,
              "#46039f"
             ],
             [
              0.2222222222222222,
              "#7201a8"
             ],
             [
              0.3333333333333333,
              "#9c179e"
             ],
             [
              0.4444444444444444,
              "#bd3786"
             ],
             [
              0.5555555555555556,
              "#d8576b"
             ],
             [
              0.6666666666666666,
              "#ed7953"
             ],
             [
              0.7777777777777778,
              "#fb9f3a"
             ],
             [
              0.8888888888888888,
              "#fdca26"
             ],
             [
              1,
              "#f0f921"
             ]
            ],
            "type": "contour"
           }
          ],
          "contourcarpet": [
           {
            "colorbar": {
             "outlinewidth": 0,
             "ticks": ""
            },
            "type": "contourcarpet"
           }
          ],
          "heatmap": [
           {
            "colorbar": {
             "outlinewidth": 0,
             "ticks": ""
            },
            "colorscale": [
             [
              0,
              "#0d0887"
             ],
             [
              0.1111111111111111,
              "#46039f"
             ],
             [
              0.2222222222222222,
              "#7201a8"
             ],
             [
              0.3333333333333333,
              "#9c179e"
             ],
             [
              0.4444444444444444,
              "#bd3786"
             ],
             [
              0.5555555555555556,
              "#d8576b"
             ],
             [
              0.6666666666666666,
              "#ed7953"
             ],
             [
              0.7777777777777778,
              "#fb9f3a"
             ],
             [
              0.8888888888888888,
              "#fdca26"
             ],
             [
              1,
              "#f0f921"
             ]
            ],
            "type": "heatmap"
           }
          ],
          "histogram": [
           {
            "marker": {
             "pattern": {
              "fillmode": "overlay",
              "size": 10,
              "solidity": 0.2
             }
            },
            "type": "histogram"
           }
          ],
          "histogram2d": [
           {
            "colorbar": {
             "outlinewidth": 0,
             "ticks": ""
            },
            "colorscale": [
             [
              0,
              "#0d0887"
             ],
             [
              0.1111111111111111,
              "#46039f"
             ],
             [
              0.2222222222222222,
              "#7201a8"
             ],
             [
              0.3333333333333333,
              "#9c179e"
             ],
             [
              0.4444444444444444,
              "#bd3786"
             ],
             [
              0.5555555555555556,
              "#d8576b"
             ],
             [
              0.6666666666666666,
              "#ed7953"
             ],
             [
              0.7777777777777778,
              "#fb9f3a"
             ],
             [
              0.8888888888888888,
              "#fdca26"
             ],
             [
              1,
              "#f0f921"
             ]
            ],
            "type": "histogram2d"
           }
          ],
          "histogram2dcontour": [
           {
            "colorbar": {
             "outlinewidth": 0,
             "ticks": ""
            },
            "colorscale": [
             [
              0,
              "#0d0887"
             ],
             [
              0.1111111111111111,
              "#46039f"
             ],
             [
              0.2222222222222222,
              "#7201a8"
             ],
             [
              0.3333333333333333,
              "#9c179e"
             ],
             [
              0.4444444444444444,
              "#bd3786"
             ],
             [
              0.5555555555555556,
              "#d8576b"
             ],
             [
              0.6666666666666666,
              "#ed7953"
             ],
             [
              0.7777777777777778,
              "#fb9f3a"
             ],
             [
              0.8888888888888888,
              "#fdca26"
             ],
             [
              1,
              "#f0f921"
             ]
            ],
            "type": "histogram2dcontour"
           }
          ],
          "mesh3d": [
           {
            "colorbar": {
             "outlinewidth": 0,
             "ticks": ""
            },
            "type": "mesh3d"
           }
          ],
          "parcoords": [
           {
            "line": {
             "colorbar": {
              "outlinewidth": 0,
              "ticks": ""
             }
            },
            "type": "parcoords"
           }
          ],
          "pie": [
           {
            "automargin": true,
            "type": "pie"
           }
          ],
          "scatter": [
           {
            "fillpattern": {
             "fillmode": "overlay",
             "size": 10,
             "solidity": 0.2
            },
            "type": "scatter"
           }
          ],
          "scatter3d": [
           {
            "line": {
             "colorbar": {
              "outlinewidth": 0,
              "ticks": ""
             }
            },
            "marker": {
             "colorbar": {
              "outlinewidth": 0,
              "ticks": ""
             }
            },
            "type": "scatter3d"
           }
          ],
          "scattercarpet": [
           {
            "marker": {
             "colorbar": {
              "outlinewidth": 0,
              "ticks": ""
             }
            },
            "type": "scattercarpet"
           }
          ],
          "scattergeo": [
           {
            "marker": {
             "colorbar": {
              "outlinewidth": 0,
              "ticks": ""
             }
            },
            "type": "scattergeo"
           }
          ],
          "scattergl": [
           {
            "marker": {
             "colorbar": {
              "outlinewidth": 0,
              "ticks": ""
             }
            },
            "type": "scattergl"
           }
          ],
          "scattermap": [
           {
            "marker": {
             "colorbar": {
              "outlinewidth": 0,
              "ticks": ""
             }
            },
            "type": "scattermap"
           }
          ],
          "scattermapbox": [
           {
            "marker": {
             "colorbar": {
              "outlinewidth": 0,
              "ticks": ""
             }
            },
            "type": "scattermapbox"
           }
          ],
          "scatterpolar": [
           {
            "marker": {
             "colorbar": {
              "outlinewidth": 0,
              "ticks": ""
             }
            },
            "type": "scatterpolar"
           }
          ],
          "scatterpolargl": [
           {
            "marker": {
             "colorbar": {
              "outlinewidth": 0,
              "ticks": ""
             }
            },
            "type": "scatterpolargl"
           }
          ],
          "scatterternary": [
           {
            "marker": {
             "colorbar": {
              "outlinewidth": 0,
              "ticks": ""
             }
            },
            "type": "scatterternary"
           }
          ],
          "surface": [
           {
            "colorbar": {
             "outlinewidth": 0,
             "ticks": ""
            },
            "colorscale": [
             [
              0,
              "#0d0887"
             ],
             [
              0.1111111111111111,
              "#46039f"
             ],
             [
              0.2222222222222222,
              "#7201a8"
             ],
             [
              0.3333333333333333,
              "#9c179e"
             ],
             [
              0.4444444444444444,
              "#bd3786"
             ],
             [
              0.5555555555555556,
              "#d8576b"
             ],
             [
              0.6666666666666666,
              "#ed7953"
             ],
             [
              0.7777777777777778,
              "#fb9f3a"
             ],
             [
              0.8888888888888888,
              "#fdca26"
             ],
             [
              1,
              "#f0f921"
             ]
            ],
            "type": "surface"
           }
          ],
          "table": [
           {
            "cells": {
             "fill": {
              "color": "#EBF0F8"
             },
             "line": {
              "color": "white"
             }
            },
            "header": {
             "fill": {
              "color": "#C8D4E3"
             },
             "line": {
              "color": "white"
             }
            },
            "type": "table"
           }
          ]
         },
         "layout": {
          "annotationdefaults": {
           "arrowcolor": "#2a3f5f",
           "arrowhead": 0,
           "arrowwidth": 1
          },
          "autotypenumbers": "strict",
          "coloraxis": {
           "colorbar": {
            "outlinewidth": 0,
            "ticks": ""
           }
          },
          "colorscale": {
           "diverging": [
            [
             0,
             "#8e0152"
            ],
            [
             0.1,
             "#c51b7d"
            ],
            [
             0.2,
             "#de77ae"
            ],
            [
             0.3,
             "#f1b6da"
            ],
            [
             0.4,
             "#fde0ef"
            ],
            [
             0.5,
             "#f7f7f7"
            ],
            [
             0.6,
             "#e6f5d0"
            ],
            [
             0.7,
             "#b8e186"
            ],
            [
             0.8,
             "#7fbc41"
            ],
            [
             0.9,
             "#4d9221"
            ],
            [
             1,
             "#276419"
            ]
           ],
           "sequential": [
            [
             0,
             "#0d0887"
            ],
            [
             0.1111111111111111,
             "#46039f"
            ],
            [
             0.2222222222222222,
             "#7201a8"
            ],
            [
             0.3333333333333333,
             "#9c179e"
            ],
            [
             0.4444444444444444,
             "#bd3786"
            ],
            [
             0.5555555555555556,
             "#d8576b"
            ],
            [
             0.6666666666666666,
             "#ed7953"
            ],
            [
             0.7777777777777778,
             "#fb9f3a"
            ],
            [
             0.8888888888888888,
             "#fdca26"
            ],
            [
             1,
             "#f0f921"
            ]
           ],
           "sequentialminus": [
            [
             0,
             "#0d0887"
            ],
            [
             0.1111111111111111,
             "#46039f"
            ],
            [
             0.2222222222222222,
             "#7201a8"
            ],
            [
             0.3333333333333333,
             "#9c179e"
            ],
            [
             0.4444444444444444,
             "#bd3786"
            ],
            [
             0.5555555555555556,
             "#d8576b"
            ],
            [
             0.6666666666666666,
             "#ed7953"
            ],
            [
             0.7777777777777778,
             "#fb9f3a"
            ],
            [
             0.8888888888888888,
             "#fdca26"
            ],
            [
             1,
             "#f0f921"
            ]
           ]
          },
          "colorway": [
           "#636efa",
           "#EF553B",
           "#00cc96",
           "#ab63fa",
           "#FFA15A",
           "#19d3f3",
           "#FF6692",
           "#B6E880",
           "#FF97FF",
           "#FECB52"
          ],
          "font": {
           "color": "#2a3f5f"
          },
          "geo": {
           "bgcolor": "white",
           "lakecolor": "white",
           "landcolor": "#E5ECF6",
           "showlakes": true,
           "showland": true,
           "subunitcolor": "white"
          },
          "hoverlabel": {
           "align": "left"
          },
          "hovermode": "closest",
          "mapbox": {
           "style": "light"
          },
          "paper_bgcolor": "white",
          "plot_bgcolor": "#E5ECF6",
          "polar": {
           "angularaxis": {
            "gridcolor": "white",
            "linecolor": "white",
            "ticks": ""
           },
           "bgcolor": "#E5ECF6",
           "radialaxis": {
            "gridcolor": "white",
            "linecolor": "white",
            "ticks": ""
           }
          },
          "scene": {
           "xaxis": {
            "backgroundcolor": "#E5ECF6",
            "gridcolor": "white",
            "gridwidth": 2,
            "linecolor": "white",
            "showbackground": true,
            "ticks": "",
            "zerolinecolor": "white"
           },
           "yaxis": {
            "backgroundcolor": "#E5ECF6",
            "gridcolor": "white",
            "gridwidth": 2,
            "linecolor": "white",
            "showbackground": true,
            "ticks": "",
            "zerolinecolor": "white"
           },
           "zaxis": {
            "backgroundcolor": "#E5ECF6",
            "gridcolor": "white",
            "gridwidth": 2,
            "linecolor": "white",
            "showbackground": true,
            "ticks": "",
            "zerolinecolor": "white"
           }
          },
          "shapedefaults": {
           "line": {
            "color": "#2a3f5f"
           }
          },
          "ternary": {
           "aaxis": {
            "gridcolor": "white",
            "linecolor": "white",
            "ticks": ""
           },
           "baxis": {
            "gridcolor": "white",
            "linecolor": "white",
            "ticks": ""
           },
           "bgcolor": "#E5ECF6",
           "caxis": {
            "gridcolor": "white",
            "linecolor": "white",
            "ticks": ""
           }
          },
          "title": {
           "x": 0.05
          },
          "xaxis": {
           "automargin": true,
           "gridcolor": "white",
           "linecolor": "white",
           "ticks": "",
           "title": {
            "standoff": 15
           },
           "zerolinecolor": "white",
           "zerolinewidth": 2
          },
          "yaxis": {
           "automargin": true,
           "gridcolor": "white",
           "linecolor": "white",
           "ticks": "",
           "title": {
            "standoff": 15
           },
           "zerolinecolor": "white",
           "zerolinewidth": 2
          }
         }
        },
        "title": {
         "text": "Car year distribution"
        },
        "xaxis": {
         "title": {
          "text": "Year"
         }
        },
        "yaxis": {
         "title": {
          "text": "Count Cars sold"
         }
        }
       }
      }
     },
     "metadata": {},
     "output_type": "display_data"
    }
   ],
   "source": [
    "#distribution of number of cars over the years\n",
    "dic = {1970+i : sum(df['year']==1970+i) for i in range(55)}\n",
    "x_dic = [1970 + i for i in range(55)]\n",
    "y_dic = [dic[1970 + i] for i in range(55)]\n",
    "\n",
    "# Plot\n",
    "fig = go.Figure([go.Bar(x=x_dic, y=y_dic)])\n",
    "\n",
    "fig.update_layout(title=\"Car year distribution\",\n",
    "                  xaxis_title=\"Year\",\n",
    "                  yaxis_title=\"Count Cars sold\")\n",
    "\n",
    "\n",
    "fig.show()"
   ]
  },
  {
   "cell_type": "code",
   "execution_count": 7,
   "metadata": {},
   "outputs": [
    {
     "data": {
      "application/vnd.plotly.v1+json": {
       "config": {
        "plotlyServerURL": "https://plot.ly"
       },
       "data": [
        {
         "hole": 0.3,
         "hoverinfo": "label+percent+name",
         "insidetextorientation": "radial",
         "labels": [
          "manual",
          "automatic"
         ],
         "textinfo": "label+percent",
         "type": "pie",
         "values": [
          147,
          128
         ]
        }
       ],
       "layout": {
        "template": {
         "data": {
          "bar": [
           {
            "error_x": {
             "color": "#2a3f5f"
            },
            "error_y": {
             "color": "#2a3f5f"
            },
            "marker": {
             "line": {
              "color": "#E5ECF6",
              "width": 0.5
             },
             "pattern": {
              "fillmode": "overlay",
              "size": 10,
              "solidity": 0.2
             }
            },
            "type": "bar"
           }
          ],
          "barpolar": [
           {
            "marker": {
             "line": {
              "color": "#E5ECF6",
              "width": 0.5
             },
             "pattern": {
              "fillmode": "overlay",
              "size": 10,
              "solidity": 0.2
             }
            },
            "type": "barpolar"
           }
          ],
          "carpet": [
           {
            "aaxis": {
             "endlinecolor": "#2a3f5f",
             "gridcolor": "white",
             "linecolor": "white",
             "minorgridcolor": "white",
             "startlinecolor": "#2a3f5f"
            },
            "baxis": {
             "endlinecolor": "#2a3f5f",
             "gridcolor": "white",
             "linecolor": "white",
             "minorgridcolor": "white",
             "startlinecolor": "#2a3f5f"
            },
            "type": "carpet"
           }
          ],
          "choropleth": [
           {
            "colorbar": {
             "outlinewidth": 0,
             "ticks": ""
            },
            "type": "choropleth"
           }
          ],
          "contour": [
           {
            "colorbar": {
             "outlinewidth": 0,
             "ticks": ""
            },
            "colorscale": [
             [
              0,
              "#0d0887"
             ],
             [
              0.1111111111111111,
              "#46039f"
             ],
             [
              0.2222222222222222,
              "#7201a8"
             ],
             [
              0.3333333333333333,
              "#9c179e"
             ],
             [
              0.4444444444444444,
              "#bd3786"
             ],
             [
              0.5555555555555556,
              "#d8576b"
             ],
             [
              0.6666666666666666,
              "#ed7953"
             ],
             [
              0.7777777777777778,
              "#fb9f3a"
             ],
             [
              0.8888888888888888,
              "#fdca26"
             ],
             [
              1,
              "#f0f921"
             ]
            ],
            "type": "contour"
           }
          ],
          "contourcarpet": [
           {
            "colorbar": {
             "outlinewidth": 0,
             "ticks": ""
            },
            "type": "contourcarpet"
           }
          ],
          "heatmap": [
           {
            "colorbar": {
             "outlinewidth": 0,
             "ticks": ""
            },
            "colorscale": [
             [
              0,
              "#0d0887"
             ],
             [
              0.1111111111111111,
              "#46039f"
             ],
             [
              0.2222222222222222,
              "#7201a8"
             ],
             [
              0.3333333333333333,
              "#9c179e"
             ],
             [
              0.4444444444444444,
              "#bd3786"
             ],
             [
              0.5555555555555556,
              "#d8576b"
             ],
             [
              0.6666666666666666,
              "#ed7953"
             ],
             [
              0.7777777777777778,
              "#fb9f3a"
             ],
             [
              0.8888888888888888,
              "#fdca26"
             ],
             [
              1,
              "#f0f921"
             ]
            ],
            "type": "heatmap"
           }
          ],
          "histogram": [
           {
            "marker": {
             "pattern": {
              "fillmode": "overlay",
              "size": 10,
              "solidity": 0.2
             }
            },
            "type": "histogram"
           }
          ],
          "histogram2d": [
           {
            "colorbar": {
             "outlinewidth": 0,
             "ticks": ""
            },
            "colorscale": [
             [
              0,
              "#0d0887"
             ],
             [
              0.1111111111111111,
              "#46039f"
             ],
             [
              0.2222222222222222,
              "#7201a8"
             ],
             [
              0.3333333333333333,
              "#9c179e"
             ],
             [
              0.4444444444444444,
              "#bd3786"
             ],
             [
              0.5555555555555556,
              "#d8576b"
             ],
             [
              0.6666666666666666,
              "#ed7953"
             ],
             [
              0.7777777777777778,
              "#fb9f3a"
             ],
             [
              0.8888888888888888,
              "#fdca26"
             ],
             [
              1,
              "#f0f921"
             ]
            ],
            "type": "histogram2d"
           }
          ],
          "histogram2dcontour": [
           {
            "colorbar": {
             "outlinewidth": 0,
             "ticks": ""
            },
            "colorscale": [
             [
              0,
              "#0d0887"
             ],
             [
              0.1111111111111111,
              "#46039f"
             ],
             [
              0.2222222222222222,
              "#7201a8"
             ],
             [
              0.3333333333333333,
              "#9c179e"
             ],
             [
              0.4444444444444444,
              "#bd3786"
             ],
             [
              0.5555555555555556,
              "#d8576b"
             ],
             [
              0.6666666666666666,
              "#ed7953"
             ],
             [
              0.7777777777777778,
              "#fb9f3a"
             ],
             [
              0.8888888888888888,
              "#fdca26"
             ],
             [
              1,
              "#f0f921"
             ]
            ],
            "type": "histogram2dcontour"
           }
          ],
          "mesh3d": [
           {
            "colorbar": {
             "outlinewidth": 0,
             "ticks": ""
            },
            "type": "mesh3d"
           }
          ],
          "parcoords": [
           {
            "line": {
             "colorbar": {
              "outlinewidth": 0,
              "ticks": ""
             }
            },
            "type": "parcoords"
           }
          ],
          "pie": [
           {
            "automargin": true,
            "type": "pie"
           }
          ],
          "scatter": [
           {
            "fillpattern": {
             "fillmode": "overlay",
             "size": 10,
             "solidity": 0.2
            },
            "type": "scatter"
           }
          ],
          "scatter3d": [
           {
            "line": {
             "colorbar": {
              "outlinewidth": 0,
              "ticks": ""
             }
            },
            "marker": {
             "colorbar": {
              "outlinewidth": 0,
              "ticks": ""
             }
            },
            "type": "scatter3d"
           }
          ],
          "scattercarpet": [
           {
            "marker": {
             "colorbar": {
              "outlinewidth": 0,
              "ticks": ""
             }
            },
            "type": "scattercarpet"
           }
          ],
          "scattergeo": [
           {
            "marker": {
             "colorbar": {
              "outlinewidth": 0,
              "ticks": ""
             }
            },
            "type": "scattergeo"
           }
          ],
          "scattergl": [
           {
            "marker": {
             "colorbar": {
              "outlinewidth": 0,
              "ticks": ""
             }
            },
            "type": "scattergl"
           }
          ],
          "scattermap": [
           {
            "marker": {
             "colorbar": {
              "outlinewidth": 0,
              "ticks": ""
             }
            },
            "type": "scattermap"
           }
          ],
          "scattermapbox": [
           {
            "marker": {
             "colorbar": {
              "outlinewidth": 0,
              "ticks": ""
             }
            },
            "type": "scattermapbox"
           }
          ],
          "scatterpolar": [
           {
            "marker": {
             "colorbar": {
              "outlinewidth": 0,
              "ticks": ""
             }
            },
            "type": "scatterpolar"
           }
          ],
          "scatterpolargl": [
           {
            "marker": {
             "colorbar": {
              "outlinewidth": 0,
              "ticks": ""
             }
            },
            "type": "scatterpolargl"
           }
          ],
          "scatterternary": [
           {
            "marker": {
             "colorbar": {
              "outlinewidth": 0,
              "ticks": ""
             }
            },
            "type": "scatterternary"
           }
          ],
          "surface": [
           {
            "colorbar": {
             "outlinewidth": 0,
             "ticks": ""
            },
            "colorscale": [
             [
              0,
              "#0d0887"
             ],
             [
              0.1111111111111111,
              "#46039f"
             ],
             [
              0.2222222222222222,
              "#7201a8"
             ],
             [
              0.3333333333333333,
              "#9c179e"
             ],
             [
              0.4444444444444444,
              "#bd3786"
             ],
             [
              0.5555555555555556,
              "#d8576b"
             ],
             [
              0.6666666666666666,
              "#ed7953"
             ],
             [
              0.7777777777777778,
              "#fb9f3a"
             ],
             [
              0.8888888888888888,
              "#fdca26"
             ],
             [
              1,
              "#f0f921"
             ]
            ],
            "type": "surface"
           }
          ],
          "table": [
           {
            "cells": {
             "fill": {
              "color": "#EBF0F8"
             },
             "line": {
              "color": "white"
             }
            },
            "header": {
             "fill": {
              "color": "#C8D4E3"
             },
             "line": {
              "color": "white"
             }
            },
            "type": "table"
           }
          ]
         },
         "layout": {
          "annotationdefaults": {
           "arrowcolor": "#2a3f5f",
           "arrowhead": 0,
           "arrowwidth": 1
          },
          "autotypenumbers": "strict",
          "coloraxis": {
           "colorbar": {
            "outlinewidth": 0,
            "ticks": ""
           }
          },
          "colorscale": {
           "diverging": [
            [
             0,
             "#8e0152"
            ],
            [
             0.1,
             "#c51b7d"
            ],
            [
             0.2,
             "#de77ae"
            ],
            [
             0.3,
             "#f1b6da"
            ],
            [
             0.4,
             "#fde0ef"
            ],
            [
             0.5,
             "#f7f7f7"
            ],
            [
             0.6,
             "#e6f5d0"
            ],
            [
             0.7,
             "#b8e186"
            ],
            [
             0.8,
             "#7fbc41"
            ],
            [
             0.9,
             "#4d9221"
            ],
            [
             1,
             "#276419"
            ]
           ],
           "sequential": [
            [
             0,
             "#0d0887"
            ],
            [
             0.1111111111111111,
             "#46039f"
            ],
            [
             0.2222222222222222,
             "#7201a8"
            ],
            [
             0.3333333333333333,
             "#9c179e"
            ],
            [
             0.4444444444444444,
             "#bd3786"
            ],
            [
             0.5555555555555556,
             "#d8576b"
            ],
            [
             0.6666666666666666,
             "#ed7953"
            ],
            [
             0.7777777777777778,
             "#fb9f3a"
            ],
            [
             0.8888888888888888,
             "#fdca26"
            ],
            [
             1,
             "#f0f921"
            ]
           ],
           "sequentialminus": [
            [
             0,
             "#0d0887"
            ],
            [
             0.1111111111111111,
             "#46039f"
            ],
            [
             0.2222222222222222,
             "#7201a8"
            ],
            [
             0.3333333333333333,
             "#9c179e"
            ],
            [
             0.4444444444444444,
             "#bd3786"
            ],
            [
             0.5555555555555556,
             "#d8576b"
            ],
            [
             0.6666666666666666,
             "#ed7953"
            ],
            [
             0.7777777777777778,
             "#fb9f3a"
            ],
            [
             0.8888888888888888,
             "#fdca26"
            ],
            [
             1,
             "#f0f921"
            ]
           ]
          },
          "colorway": [
           "#636efa",
           "#EF553B",
           "#00cc96",
           "#ab63fa",
           "#FFA15A",
           "#19d3f3",
           "#FF6692",
           "#B6E880",
           "#FF97FF",
           "#FECB52"
          ],
          "font": {
           "color": "#2a3f5f"
          },
          "geo": {
           "bgcolor": "white",
           "lakecolor": "white",
           "landcolor": "#E5ECF6",
           "showlakes": true,
           "showland": true,
           "subunitcolor": "white"
          },
          "hoverlabel": {
           "align": "left"
          },
          "hovermode": "closest",
          "mapbox": {
           "style": "light"
          },
          "paper_bgcolor": "white",
          "plot_bgcolor": "#E5ECF6",
          "polar": {
           "angularaxis": {
            "gridcolor": "white",
            "linecolor": "white",
            "ticks": ""
           },
           "bgcolor": "#E5ECF6",
           "radialaxis": {
            "gridcolor": "white",
            "linecolor": "white",
            "ticks": ""
           }
          },
          "scene": {
           "xaxis": {
            "backgroundcolor": "#E5ECF6",
            "gridcolor": "white",
            "gridwidth": 2,
            "linecolor": "white",
            "showbackground": true,
            "ticks": "",
            "zerolinecolor": "white"
           },
           "yaxis": {
            "backgroundcolor": "#E5ECF6",
            "gridcolor": "white",
            "gridwidth": 2,
            "linecolor": "white",
            "showbackground": true,
            "ticks": "",
            "zerolinecolor": "white"
           },
           "zaxis": {
            "backgroundcolor": "#E5ECF6",
            "gridcolor": "white",
            "gridwidth": 2,
            "linecolor": "white",
            "showbackground": true,
            "ticks": "",
            "zerolinecolor": "white"
           }
          },
          "shapedefaults": {
           "line": {
            "color": "#2a3f5f"
           }
          },
          "ternary": {
           "aaxis": {
            "gridcolor": "white",
            "linecolor": "white",
            "ticks": ""
           },
           "baxis": {
            "gridcolor": "white",
            "linecolor": "white",
            "ticks": ""
           },
           "bgcolor": "#E5ECF6",
           "caxis": {
            "gridcolor": "white",
            "linecolor": "white",
            "ticks": ""
           }
          },
          "title": {
           "x": 0.05
          },
          "xaxis": {
           "automargin": true,
           "gridcolor": "white",
           "linecolor": "white",
           "ticks": "",
           "title": {
            "standoff": 15
           },
           "zerolinecolor": "white",
           "zerolinewidth": 2
          },
          "yaxis": {
           "automargin": true,
           "gridcolor": "white",
           "linecolor": "white",
           "ticks": "",
           "title": {
            "standoff": 15
           },
           "zerolinecolor": "white",
           "zerolinewidth": 2
          }
         }
        }
       }
      }
     },
     "metadata": {},
     "output_type": "display_data"
    }
   ],
   "source": [
    "# Distribution of transmission\n",
    "data_pie = df['transmission'].value_counts()\n",
    "\n",
    "fig = go.Figure(data=[go.Pie(labels=data_pie.index, values=data_pie.tolist(), textinfo='label+percent',insidetextorientation='radial')])\n",
    "\n",
    "fig.update_traces(hole=.3, hoverinfo=\"label+percent+name\")"
   ]
  },
  {
   "cell_type": "code",
   "execution_count": 8,
   "metadata": {},
   "outputs": [
    {
     "data": {
      "image/png": "[encoded data removed]",
      "text/plain": [
       "<Figure size 500x500 with 1 Axes>"
      ]
     },
     "metadata": {},
     "output_type": "display_data"
    },
    {
     "data": {
      "image/png": "[encoded data removed]",
      "text/plain": [
       "<Figure size 640x480 with 1 Axes>"
      ]
     },
     "metadata": {},
     "output_type": "display_data"
    }
   ],
   "source": [
    "# Replace sold_price with bid_amount and remove outliers\n",
    "df['sold_price'] = df['sold_price'].fillna(df['bid_amount'])\n",
    "df = df.dropna()\n",
    "\n",
    "# Remove outliers\n",
    "price_threshold = 1000000\n",
    "df.drop(df[df['sold_price'] >= price_threshold].index,inplace=True)\n",
    "\n",
    "# Plot distribution of sold_price\n",
    "sns.displot(df['sold_price'])\n",
    "fig = plt.figure()\n",
    "res = stats.probplot(df['sold_price'], plot=plt)\n"
   ]
  },
  {
   "cell_type": "code",
   "execution_count": 9,
   "metadata": {
    "collapsed": true,
    "execution": {
     "iopub.execute_input": "2025-03-25T15:40:36.204029Z",
     "iopub.status.busy": "2025-03-25T15:40:36.203659Z",
     "iopub.status.idle": "2025-03-25T15:40:38.622810Z",
     "shell.execute_reply": "2025-03-25T15:40:38.621756Z",
     "shell.execute_reply.started": "2025-03-25T15:40:36.203993Z"
    },
    "jupyter": {
     "outputs_hidden": true
    },
    "trusted": true
   },
   "outputs": [
    {
     "data": {
      "text/plain": [
       "array([[<Axes: title={'center': 'year'}>,\n",
       "        <Axes: title={'center': 'mileage'}>],\n",
       "       [<Axes: title={'center': 'sold_price'}>,\n",
       "        <Axes: title={'center': 'bid_amount'}>]], dtype=object)"
      ]
     },
     "execution_count": 9,
     "metadata": {},
     "output_type": "execute_result"
    },
    {
     "data": {
      "image/png": "[encoded data removed]",
      "text/plain": [
       "<Figure size 2000x1000 with 4 Axes>"
      ]
     },
     "metadata": {},
     "output_type": "display_data"
    }
   ],
   "source": [
    "# Data distribution\n",
    "df.hist(figsize=(20,10),bins = 50)"
   ]
  },
  {
   "cell_type": "code",
   "execution_count": 10,
   "metadata": {},
   "outputs": [],
   "source": [
    "# Weight by recency\n",
    "df['days_since_end'] = (pd.to_datetime(date.today()) - pd.to_datetime(df[\"end_date\"])).dt.days\n",
    "K = 1\n",
    "T = 360\n",
    "df['W'] = K*np.exp(-df['days_since_end']/T)\n"
   ]
  },
  {
   "cell_type": "code",
   "execution_count": 11,
   "metadata": {},
   "outputs": [
    {
     "data": {
      "image/png": "[encoded data removed]",
      "text/plain": [
       "<Figure size 500x500 with 1 Axes>"
      ]
     },
     "metadata": {},
     "output_type": "display_data"
    },
    {
     "data": {
      "image/png": "[encoded data removed]",
      "text/plain": [
       "<Figure size 640x480 with 1 Axes>"
      ]
     },
     "metadata": {},
     "output_type": "display_data"
    }
   ],
   "source": [
    "#Log transform sold_price & mileage\n",
    "df['sold_price'] = np.log(df['sold_price'])\n",
    "df['mileage'] = np.log1p(df['mileage'])\n",
    "\n",
    "sns.displot(df['sold_price'])\n",
    "fig = plt.figure()\n",
    "res = stats.probplot(df['sold_price'], plot=plt)"
   ]
  },
  {
   "cell_type": "code",
   "execution_count": 12,
   "metadata": {
    "execution": {
     "iopub.execute_input": "2025-03-25T15:44:52.717089Z",
     "iopub.status.busy": "2025-03-25T15:44:52.716713Z",
     "iopub.status.idle": "2025-03-25T15:44:52.754814Z",
     "shell.execute_reply": "2025-03-25T15:44:52.753706Z",
     "shell.execute_reply.started": "2025-03-25T15:44:52.717061Z"
    },
    "trusted": true
   },
   "outputs": [
    {
     "data": {
      "text/html": [
       "<div>\n",
       "<style scoped>\n",
       "    .dataframe tbody tr th:only-of-type {\n",
       "        vertical-align: middle;\n",
       "    }\n",
       "\n",
       "    .dataframe tbody tr th {\n",
       "        vertical-align: top;\n",
       "    }\n",
       "\n",
       "    .dataframe thead th {\n",
       "        text-align: right;\n",
       "    }\n",
       "</style>\n",
       "<table border=\"1\" class=\"dataframe\">\n",
       "  <thead>\n",
       "    <tr style=\"text-align: right;\">\n",
       "      <th></th>\n",
       "      <th>year</th>\n",
       "      <th>mileage</th>\n",
       "      <th>sold_price</th>\n",
       "      <th>bid_amount</th>\n",
       "      <th>days_since_end</th>\n",
       "      <th>W</th>\n",
       "    </tr>\n",
       "  </thead>\n",
       "  <tbody>\n",
       "    <tr>\n",
       "      <th>count</th>\n",
       "      <td>272.000000</td>\n",
       "      <td>272.000000</td>\n",
       "      <td>272.000000</td>\n",
       "      <td>272.000000</td>\n",
       "      <td>272.000000</td>\n",
       "      <td>272.000000</td>\n",
       "    </tr>\n",
       "    <tr>\n",
       "      <th>mean</th>\n",
       "      <td>2002.768382</td>\n",
       "      <td>9.141764</td>\n",
       "      <td>12.229604</td>\n",
       "      <td>251268.275735</td>\n",
       "      <td>803.047794</td>\n",
       "      <td>0.242383</td>\n",
       "    </tr>\n",
       "    <tr>\n",
       "      <th>std</th>\n",
       "      <td>10.767658</td>\n",
       "      <td>1.345373</td>\n",
       "      <td>0.637878</td>\n",
       "      <td>168522.581111</td>\n",
       "      <td>584.269331</td>\n",
       "      <td>0.252050</td>\n",
       "    </tr>\n",
       "    <tr>\n",
       "      <th>min</th>\n",
       "      <td>1984.000000</td>\n",
       "      <td>3.663562</td>\n",
       "      <td>11.089805</td>\n",
       "      <td>65500.000000</td>\n",
       "      <td>1.000000</td>\n",
       "      <td>0.000182</td>\n",
       "    </tr>\n",
       "    <tr>\n",
       "      <th>25%</th>\n",
       "      <td>1991.000000</td>\n",
       "      <td>8.699681</td>\n",
       "      <td>11.709719</td>\n",
       "      <td>121750.000000</td>\n",
       "      <td>377.750000</td>\n",
       "      <td>0.051475</td>\n",
       "    </tr>\n",
       "    <tr>\n",
       "      <th>50%</th>\n",
       "      <td>2004.000000</td>\n",
       "      <td>9.472782</td>\n",
       "      <td>12.193414</td>\n",
       "      <td>197500.000000</td>\n",
       "      <td>694.500000</td>\n",
       "      <td>0.145270</td>\n",
       "    </tr>\n",
       "    <tr>\n",
       "      <th>75%</th>\n",
       "      <td>2008.000000</td>\n",
       "      <td>9.998843</td>\n",
       "      <td>12.734492</td>\n",
       "      <td>339250.000000</td>\n",
       "      <td>1068.000000</td>\n",
       "      <td>0.350181</td>\n",
       "    </tr>\n",
       "    <tr>\n",
       "      <th>max</th>\n",
       "      <td>2024.000000</td>\n",
       "      <td>11.643962</td>\n",
       "      <td>13.664688</td>\n",
       "      <td>860000.000000</td>\n",
       "      <td>3101.000000</td>\n",
       "      <td>0.997226</td>\n",
       "    </tr>\n",
       "  </tbody>\n",
       "</table>\n",
       "</div>"
      ],
      "text/plain": [
       "              year     mileage  sold_price     bid_amount  days_since_end  \\\n",
       "count   272.000000  272.000000  272.000000     272.000000      272.000000   \n",
       "mean   2002.768382    9.141764   12.229604  251268.275735      803.047794   \n",
       "std      10.767658    1.345373    0.637878  168522.581111      584.269331   \n",
       "min    1984.000000    3.663562   11.089805   65500.000000        1.000000   \n",
       "25%    1991.000000    8.699681   11.709719  121750.000000      377.750000   \n",
       "50%    2004.000000    9.472782   12.193414  197500.000000      694.500000   \n",
       "75%    2008.000000    9.998843   12.734492  339250.000000     1068.000000   \n",
       "max    2024.000000   11.643962   13.664688  860000.000000     3101.000000   \n",
       "\n",
       "                W  \n",
       "count  272.000000  \n",
       "mean     0.242383  \n",
       "std      0.252050  \n",
       "min      0.000182  \n",
       "25%      0.051475  \n",
       "50%      0.145270  \n",
       "75%      0.350181  \n",
       "max      0.997226  "
      ]
     },
     "execution_count": 12,
     "metadata": {},
     "output_type": "execute_result"
    }
   ],
   "source": [
    "# Summarize transformed data\n",
    "df.describe()"
   ]
  },
  {
   "cell_type": "code",
   "execution_count": 13,
   "metadata": {
    "collapsed": true,
    "execution": {
     "iopub.execute_input": "2025-03-25T15:41:56.775341Z",
     "iopub.status.busy": "2025-03-25T15:41:56.774416Z",
     "iopub.status.idle": "2025-03-25T15:41:56.789549Z",
     "shell.execute_reply": "2025-03-25T15:41:56.788537Z",
     "shell.execute_reply.started": "2025-03-25T15:41:56.775289Z"
    },
    "jupyter": {
     "outputs_hidden": true
    },
    "trusted": true
   },
   "outputs": [
    {
     "data": {
      "text/html": [
       "<div>\n",
       "<style scoped>\n",
       "    .dataframe tbody tr th:only-of-type {\n",
       "        vertical-align: middle;\n",
       "    }\n",
       "\n",
       "    .dataframe tbody tr th {\n",
       "        vertical-align: top;\n",
       "    }\n",
       "\n",
       "    .dataframe thead th {\n",
       "        text-align: right;\n",
       "    }\n",
       "</style>\n",
       "<table border=\"1\" class=\"dataframe\">\n",
       "  <thead>\n",
       "    <tr style=\"text-align: right;\">\n",
       "      <th></th>\n",
       "      <th>year</th>\n",
       "      <th>model</th>\n",
       "      <th>mileage</th>\n",
       "      <th>normalized_color</th>\n",
       "      <th>transmission</th>\n",
       "      <th>W</th>\n",
       "    </tr>\n",
       "  </thead>\n",
       "  <tbody>\n",
       "    <tr>\n",
       "      <th>64</th>\n",
       "      <td>1989</td>\n",
       "      <td>Countach 25th Anniversary</td>\n",
       "      <td>8.732466</td>\n",
       "      <td>Black</td>\n",
       "      <td>manual</td>\n",
       "      <td>0.761685</td>\n",
       "    </tr>\n",
       "    <tr>\n",
       "      <th>66</th>\n",
       "      <td>1989</td>\n",
       "      <td>Countach 25th Anniversary</td>\n",
       "      <td>8.006701</td>\n",
       "      <td>Black</td>\n",
       "      <td>manual</td>\n",
       "      <td>0.724537</td>\n",
       "    </tr>\n",
       "    <tr>\n",
       "      <th>67</th>\n",
       "      <td>1989</td>\n",
       "      <td>Countach 25th Anniversary</td>\n",
       "      <td>8.732466</td>\n",
       "      <td>Black</td>\n",
       "      <td>manual</td>\n",
       "      <td>0.529347</td>\n",
       "    </tr>\n",
       "    <tr>\n",
       "      <th>68</th>\n",
       "      <td>1989</td>\n",
       "      <td>Countach 25th Anniversary</td>\n",
       "      <td>9.998843</td>\n",
       "      <td>Red</td>\n",
       "      <td>manual</td>\n",
       "      <td>0.445600</td>\n",
       "    </tr>\n",
       "    <tr>\n",
       "      <th>69</th>\n",
       "      <td>1989</td>\n",
       "      <td>Countach 25th Anniversary</td>\n",
       "      <td>8.699681</td>\n",
       "      <td>Black</td>\n",
       "      <td>manual</td>\n",
       "      <td>0.325556</td>\n",
       "    </tr>\n",
       "    <tr>\n",
       "      <th>...</th>\n",
       "      <td>...</td>\n",
       "      <td>...</td>\n",
       "      <td>...</td>\n",
       "      <td>...</td>\n",
       "      <td>...</td>\n",
       "      <td>...</td>\n",
       "    </tr>\n",
       "    <tr>\n",
       "      <th>548</th>\n",
       "      <td>2021</td>\n",
       "      <td>Urus</td>\n",
       "      <td>8.699681</td>\n",
       "      <td>Gray</td>\n",
       "      <td>automatic</td>\n",
       "      <td>0.148740</td>\n",
       "    </tr>\n",
       "    <tr>\n",
       "      <th>549</th>\n",
       "      <td>2022</td>\n",
       "      <td>Urus</td>\n",
       "      <td>7.601402</td>\n",
       "      <td>Black</td>\n",
       "      <td>automatic</td>\n",
       "      <td>0.085577</td>\n",
       "    </tr>\n",
       "    <tr>\n",
       "      <th>550</th>\n",
       "      <td>2019</td>\n",
       "      <td>Urus</td>\n",
       "      <td>4.615121</td>\n",
       "      <td>Blue</td>\n",
       "      <td>automatic</td>\n",
       "      <td>0.006909</td>\n",
       "    </tr>\n",
       "    <tr>\n",
       "      <th>551</th>\n",
       "      <td>2019</td>\n",
       "      <td>Urus</td>\n",
       "      <td>9.852247</td>\n",
       "      <td>Blue</td>\n",
       "      <td>automatic</td>\n",
       "      <td>0.116484</td>\n",
       "    </tr>\n",
       "    <tr>\n",
       "      <th>552</th>\n",
       "      <td>2020</td>\n",
       "      <td>Urus</td>\n",
       "      <td>9.903538</td>\n",
       "      <td>Yellow</td>\n",
       "      <td>automatic</td>\n",
       "      <td>0.778801</td>\n",
       "    </tr>\n",
       "  </tbody>\n",
       "</table>\n",
       "<p>272 rows × 6 columns</p>\n",
       "</div>"
      ],
      "text/plain": [
       "     year                      model   mileage normalized_color transmission  \\\n",
       "64   1989  Countach 25th Anniversary  8.732466            Black       manual   \n",
       "66   1989  Countach 25th Anniversary  8.006701            Black       manual   \n",
       "67   1989  Countach 25th Anniversary  8.732466            Black       manual   \n",
       "68   1989  Countach 25th Anniversary  9.998843              Red       manual   \n",
       "69   1989  Countach 25th Anniversary  8.699681            Black       manual   \n",
       "..    ...                        ...       ...              ...          ...   \n",
       "548  2021                       Urus  8.699681             Gray    automatic   \n",
       "549  2022                       Urus  7.601402            Black    automatic   \n",
       "550  2019                       Urus  4.615121             Blue    automatic   \n",
       "551  2019                       Urus  9.852247             Blue    automatic   \n",
       "552  2020                       Urus  9.903538           Yellow    automatic   \n",
       "\n",
       "            W  \n",
       "64   0.761685  \n",
       "66   0.724537  \n",
       "67   0.529347  \n",
       "68   0.445600  \n",
       "69   0.325556  \n",
       "..        ...  \n",
       "548  0.148740  \n",
       "549  0.085577  \n",
       "550  0.006909  \n",
       "551  0.116484  \n",
       "552  0.778801  \n",
       "\n",
       "[272 rows x 6 columns]"
      ]
     },
     "execution_count": 13,
     "metadata": {},
     "output_type": "execute_result"
    }
   ],
   "source": [
    "# Prepare target and features\n",
    "y = df[\"sold_price\"]\n",
    "X = df.drop([\"sold_price\",\"bid_amount\",\"end_date\", \"status\", \"days_since_end\"],axis=1)\n",
    "X"
   ]
  },
  {
   "cell_type": "code",
   "execution_count": 14,
   "metadata": {},
   "outputs": [
    {
     "name": "stdout",
     "output_type": "stream",
     "text": [
      "Model Mapping: {'Countach 25th Anniversary': 0, 'Countach 5000 QV': 1, 'Diablo': 2, 'Diablo VT': 3, 'Diablo VT Roadster': 4, 'Gallardo': 5, 'Gallardo 6-Speed': 6, 'Gallardo LP570-4 Spyder Performante': 7, 'Gallardo Spyder': 8, 'Gallardo Spyder 6-Speed': 9, 'Gallardo Superleggera': 10, 'Huracan LP610-4 Coupe': 11, 'Huracan STO': 12, 'Jalpa': 13, 'Murcielago 6-Speed': 14, 'Murcielago LP640 Roadster': 15, 'Murcielago Roadster': 16, 'Urus': 17}\n",
      "Color Mapping: {'Black': 0, 'Blue': 1, 'Gold': 2, 'Gray': 3, 'Green': 4, 'Orange': 5, 'Purple': 6, 'Red': 7, 'Silver': 8, 'White': 9, 'Yellow': 10}\n",
      "Trans Mapping: {'automatic': 0, 'manual': 1}\n"
     ]
    },
    {
     "data": {
      "text/html": [
       "<div>\n",
       "<style scoped>\n",
       "    .dataframe tbody tr th:only-of-type {\n",
       "        vertical-align: middle;\n",
       "    }\n",
       "\n",
       "    .dataframe tbody tr th {\n",
       "        vertical-align: top;\n",
       "    }\n",
       "\n",
       "    .dataframe thead th {\n",
       "        text-align: right;\n",
       "    }\n",
       "</style>\n",
       "<table border=\"1\" class=\"dataframe\">\n",
       "  <thead>\n",
       "    <tr style=\"text-align: right;\">\n",
       "      <th></th>\n",
       "      <th>year</th>\n",
       "      <th>model</th>\n",
       "      <th>mileage</th>\n",
       "      <th>normalized_color</th>\n",
       "      <th>transmission</th>\n",
       "      <th>W</th>\n",
       "    </tr>\n",
       "  </thead>\n",
       "  <tbody>\n",
       "    <tr>\n",
       "      <th>64</th>\n",
       "      <td>1989</td>\n",
       "      <td>0</td>\n",
       "      <td>8.732466</td>\n",
       "      <td>0</td>\n",
       "      <td>1</td>\n",
       "      <td>0.761685</td>\n",
       "    </tr>\n",
       "    <tr>\n",
       "      <th>66</th>\n",
       "      <td>1989</td>\n",
       "      <td>0</td>\n",
       "      <td>8.006701</td>\n",
       "      <td>0</td>\n",
       "      <td>1</td>\n",
       "      <td>0.724537</td>\n",
       "    </tr>\n",
       "    <tr>\n",
       "      <th>67</th>\n",
       "      <td>1989</td>\n",
       "      <td>0</td>\n",
       "      <td>8.732466</td>\n",
       "      <td>0</td>\n",
       "      <td>1</td>\n",
       "      <td>0.529347</td>\n",
       "    </tr>\n",
       "    <tr>\n",
       "      <th>68</th>\n",
       "      <td>1989</td>\n",
       "      <td>0</td>\n",
       "      <td>9.998843</td>\n",
       "      <td>7</td>\n",
       "      <td>1</td>\n",
       "      <td>0.445600</td>\n",
       "    </tr>\n",
       "    <tr>\n",
       "      <th>69</th>\n",
       "      <td>1989</td>\n",
       "      <td>0</td>\n",
       "      <td>8.699681</td>\n",
       "      <td>0</td>\n",
       "      <td>1</td>\n",
       "      <td>0.325556</td>\n",
       "    </tr>\n",
       "    <tr>\n",
       "      <th>...</th>\n",
       "      <td>...</td>\n",
       "      <td>...</td>\n",
       "      <td>...</td>\n",
       "      <td>...</td>\n",
       "      <td>...</td>\n",
       "      <td>...</td>\n",
       "    </tr>\n",
       "    <tr>\n",
       "      <th>548</th>\n",
       "      <td>2021</td>\n",
       "      <td>17</td>\n",
       "      <td>8.699681</td>\n",
       "      <td>3</td>\n",
       "      <td>0</td>\n",
       "      <td>0.148740</td>\n",
       "    </tr>\n",
       "    <tr>\n",
       "      <th>549</th>\n",
       "      <td>2022</td>\n",
       "      <td>17</td>\n",
       "      <td>7.601402</td>\n",
       "      <td>0</td>\n",
       "      <td>0</td>\n",
       "      <td>0.085577</td>\n",
       "    </tr>\n",
       "    <tr>\n",
       "      <th>550</th>\n",
       "      <td>2019</td>\n",
       "      <td>17</td>\n",
       "      <td>4.615121</td>\n",
       "      <td>1</td>\n",
       "      <td>0</td>\n",
       "      <td>0.006909</td>\n",
       "    </tr>\n",
       "    <tr>\n",
       "      <th>551</th>\n",
       "      <td>2019</td>\n",
       "      <td>17</td>\n",
       "      <td>9.852247</td>\n",
       "      <td>1</td>\n",
       "      <td>0</td>\n",
       "      <td>0.116484</td>\n",
       "    </tr>\n",
       "    <tr>\n",
       "      <th>552</th>\n",
       "      <td>2020</td>\n",
       "      <td>17</td>\n",
       "      <td>9.903538</td>\n",
       "      <td>10</td>\n",
       "      <td>0</td>\n",
       "      <td>0.778801</td>\n",
       "    </tr>\n",
       "  </tbody>\n",
       "</table>\n",
       "<p>272 rows × 6 columns</p>\n",
       "</div>"
      ],
      "text/plain": [
       "     year  model   mileage  normalized_color  transmission         W\n",
       "64   1989      0  8.732466                 0             1  0.761685\n",
       "66   1989      0  8.006701                 0             1  0.724537\n",
       "67   1989      0  8.732466                 0             1  0.529347\n",
       "68   1989      0  9.998843                 7             1  0.445600\n",
       "69   1989      0  8.699681                 0             1  0.325556\n",
       "..    ...    ...       ...               ...           ...       ...\n",
       "548  2021     17  8.699681                 3             0  0.148740\n",
       "549  2022     17  7.601402                 0             0  0.085577\n",
       "550  2019     17  4.615121                 1             0  0.006909\n",
       "551  2019     17  9.852247                 1             0  0.116484\n",
       "552  2020     17  9.903538                10             0  0.778801\n",
       "\n",
       "[272 rows x 6 columns]"
      ]
     },
     "execution_count": 14,
     "metadata": {},
     "output_type": "execute_result"
    }
   ],
   "source": [
    "# Encode categorical features\n",
    "Lbl_model = LabelEncoder()\n",
    "Lbl_color = LabelEncoder()\n",
    "Lbl_trans = LabelEncoder()\n",
    "\n",
    "#df.make=Lbl.fit_transform(df.make)\n",
    "X.model=Lbl_model.fit_transform(df.model)\n",
    "print(\"Model Mapping:\", dict(zip(Lbl_model.classes_, Lbl_model.transform(Lbl_model.classes_))))\n",
    "X.normalized_color=Lbl_color.fit_transform(df.normalized_color)\n",
    "print(\"Color Mapping:\", dict(zip(Lbl_color.classes_, Lbl_color.transform(Lbl_color.classes_))))\n",
    "X.transmission =Lbl_trans.fit_transform(df.transmission)\n",
    "print(\"Trans Mapping:\", dict(zip(Lbl_trans.classes_, Lbl_trans.transform(Lbl_trans.classes_))))\n",
    "X"
   ]
  },
  {
   "cell_type": "code",
   "execution_count": 15,
   "metadata": {
    "execution": {
     "iopub.execute_input": "2025-03-25T15:42:08.395704Z",
     "iopub.status.busy": "2025-03-25T15:42:08.394591Z",
     "iopub.status.idle": "2025-03-25T15:42:10.228410Z",
     "shell.execute_reply": "2025-03-25T15:42:10.227347Z",
     "shell.execute_reply.started": "2025-03-25T15:42:08.395668Z"
    },
    "trusted": true
   },
   "outputs": [
    {
     "name": "stdout",
     "output_type": "stream",
     "text": [
      "Random Forest Regressor Train Score is :  0.9470883909121789\n"
     ]
    },
    {
     "data": {
      "text/plain": [
       "array([0.18430968, 0.65169099, 0.10487398, 0.01375299, 0.01001859,\n",
       "       0.03535377])"
      ]
     },
     "execution_count": 15,
     "metadata": {},
     "output_type": "execute_result"
    }
   ],
   "source": [
    "# Fit Model\n",
    "# Features\n",
    "# year\tmodel\tmileage\tnormalized_color\ttransmission\n",
    "\n",
    "#X_train, X_test, y_train, y_test = train_test_split(X, y, test_size=0.2, random_state=42, shuffle = True)\n",
    "\n",
    "car_model_rf = RandomForestRegressor(n_estimators=150, random_state=33, monotonic_cst = [0,0,-1,0,0,0])\n",
    "car_model_rf.fit(X,y, sample_weight=X['W'])\n",
    "print('Random Forest Regressor Train Score is : ' ,  car_model_rf.score(X, y))\n",
    "#print('Random Forest Regressor Test Score is : ' , car_model_rf.score(X_test, y_test)) \n",
    "\n",
    "predicted_rf = pd.DataFrame(car_model_rf.predict(X), index=X.index, columns=['predicted_rf'])\n",
    "car_model_rf.feature_importances_\n"
   ]
  },
  {
   "cell_type": "code",
   "execution_count": 16,
   "metadata": {},
   "outputs": [
    {
     "data": {
      "text/html": [
       "<div>\n",
       "<style scoped>\n",
       "    .dataframe tbody tr th:only-of-type {\n",
       "        vertical-align: middle;\n",
       "    }\n",
       "\n",
       "    .dataframe tbody tr th {\n",
       "        vertical-align: top;\n",
       "    }\n",
       "\n",
       "    .dataframe thead th {\n",
       "        text-align: right;\n",
       "    }\n",
       "</style>\n",
       "<table border=\"1\" class=\"dataframe\">\n",
       "  <thead>\n",
       "    <tr style=\"text-align: right;\">\n",
       "      <th></th>\n",
       "      <th>year</th>\n",
       "      <th>model</th>\n",
       "      <th>mileage</th>\n",
       "      <th>normalized_color</th>\n",
       "      <th>transmission</th>\n",
       "      <th>W</th>\n",
       "    </tr>\n",
       "  </thead>\n",
       "  <tbody>\n",
       "    <tr>\n",
       "      <th>64</th>\n",
       "      <td>1989</td>\n",
       "      <td>Countach 25th Anniversary</td>\n",
       "      <td>8.732466</td>\n",
       "      <td>Black</td>\n",
       "      <td>manual</td>\n",
       "      <td>0.761685</td>\n",
       "    </tr>\n",
       "    <tr>\n",
       "      <th>66</th>\n",
       "      <td>1989</td>\n",
       "      <td>Countach 25th Anniversary</td>\n",
       "      <td>8.006701</td>\n",
       "      <td>Black</td>\n",
       "      <td>manual</td>\n",
       "      <td>0.724537</td>\n",
       "    </tr>\n",
       "    <tr>\n",
       "      <th>67</th>\n",
       "      <td>1989</td>\n",
       "      <td>Countach 25th Anniversary</td>\n",
       "      <td>8.732466</td>\n",
       "      <td>Black</td>\n",
       "      <td>manual</td>\n",
       "      <td>0.529347</td>\n",
       "    </tr>\n",
       "    <tr>\n",
       "      <th>68</th>\n",
       "      <td>1989</td>\n",
       "      <td>Countach 25th Anniversary</td>\n",
       "      <td>9.998843</td>\n",
       "      <td>Red</td>\n",
       "      <td>manual</td>\n",
       "      <td>0.445600</td>\n",
       "    </tr>\n",
       "    <tr>\n",
       "      <th>69</th>\n",
       "      <td>1989</td>\n",
       "      <td>Countach 25th Anniversary</td>\n",
       "      <td>8.699681</td>\n",
       "      <td>Black</td>\n",
       "      <td>manual</td>\n",
       "      <td>0.325556</td>\n",
       "    </tr>\n",
       "    <tr>\n",
       "      <th>...</th>\n",
       "      <td>...</td>\n",
       "      <td>...</td>\n",
       "      <td>...</td>\n",
       "      <td>...</td>\n",
       "      <td>...</td>\n",
       "      <td>...</td>\n",
       "    </tr>\n",
       "    <tr>\n",
       "      <th>548</th>\n",
       "      <td>2021</td>\n",
       "      <td>Urus</td>\n",
       "      <td>8.699681</td>\n",
       "      <td>Gray</td>\n",
       "      <td>automatic</td>\n",
       "      <td>0.148740</td>\n",
       "    </tr>\n",
       "    <tr>\n",
       "      <th>549</th>\n",
       "      <td>2022</td>\n",
       "      <td>Urus</td>\n",
       "      <td>7.601402</td>\n",
       "      <td>Black</td>\n",
       "      <td>automatic</td>\n",
       "      <td>0.085577</td>\n",
       "    </tr>\n",
       "    <tr>\n",
       "      <th>550</th>\n",
       "      <td>2019</td>\n",
       "      <td>Urus</td>\n",
       "      <td>4.615121</td>\n",
       "      <td>Blue</td>\n",
       "      <td>automatic</td>\n",
       "      <td>0.006909</td>\n",
       "    </tr>\n",
       "    <tr>\n",
       "      <th>551</th>\n",
       "      <td>2019</td>\n",
       "      <td>Urus</td>\n",
       "      <td>9.852247</td>\n",
       "      <td>Blue</td>\n",
       "      <td>automatic</td>\n",
       "      <td>0.116484</td>\n",
       "    </tr>\n",
       "    <tr>\n",
       "      <th>552</th>\n",
       "      <td>2020</td>\n",
       "      <td>Urus</td>\n",
       "      <td>9.903538</td>\n",
       "      <td>Yellow</td>\n",
       "      <td>automatic</td>\n",
       "      <td>0.778801</td>\n",
       "    </tr>\n",
       "  </tbody>\n",
       "</table>\n",
       "<p>272 rows × 6 columns</p>\n",
       "</div>"
      ],
      "text/plain": [
       "     year                      model   mileage normalized_color transmission  \\\n",
       "64   1989  Countach 25th Anniversary  8.732466            Black       manual   \n",
       "66   1989  Countach 25th Anniversary  8.006701            Black       manual   \n",
       "67   1989  Countach 25th Anniversary  8.732466            Black       manual   \n",
       "68   1989  Countach 25th Anniversary  9.998843              Red       manual   \n",
       "69   1989  Countach 25th Anniversary  8.699681            Black       manual   \n",
       "..    ...                        ...       ...              ...          ...   \n",
       "548  2021                       Urus  8.699681             Gray    automatic   \n",
       "549  2022                       Urus  7.601402            Black    automatic   \n",
       "550  2019                       Urus  4.615121             Blue    automatic   \n",
       "551  2019                       Urus  9.852247             Blue    automatic   \n",
       "552  2020                       Urus  9.903538           Yellow    automatic   \n",
       "\n",
       "            W  \n",
       "64   0.761685  \n",
       "66   0.724537  \n",
       "67   0.529347  \n",
       "68   0.445600  \n",
       "69   0.325556  \n",
       "..        ...  \n",
       "548  0.148740  \n",
       "549  0.085577  \n",
       "550  0.006909  \n",
       "551  0.116484  \n",
       "552  0.778801  \n",
       "\n",
       "[272 rows x 6 columns]"
      ]
     },
     "execution_count": 16,
     "metadata": {},
     "output_type": "execute_result"
    }
   ],
   "source": [
    "# Inverse transform features\n",
    "X_analysis = X.copy()\n",
    "X_analysis.model = Lbl_model.inverse_transform(X.model)\n",
    "X_analysis.normalized_color = Lbl_color.inverse_transform(X.normalized_color)\n",
    "X_analysis.transmission = Lbl_trans.inverse_transform(X.transmission)\n",
    "X_analysis"
   ]
  },
  {
   "cell_type": "code",
   "execution_count": 17,
   "metadata": {
    "execution": {
     "iopub.execute_input": "2025-03-25T16:21:27.420545Z",
     "iopub.status.busy": "2025-03-25T16:21:27.420165Z",
     "iopub.status.idle": "2025-03-25T16:21:27.431906Z",
     "shell.execute_reply": "2025-03-25T16:21:27.430768Z",
     "shell.execute_reply.started": "2025-03-25T16:21:27.420515Z"
    },
    "trusted": true
   },
   "outputs": [
    {
     "data": {
      "text/html": [
       "<div>\n",
       "<style scoped>\n",
       "    .dataframe tbody tr th:only-of-type {\n",
       "        vertical-align: middle;\n",
       "    }\n",
       "\n",
       "    .dataframe tbody tr th {\n",
       "        vertical-align: top;\n",
       "    }\n",
       "\n",
       "    .dataframe thead th {\n",
       "        text-align: right;\n",
       "    }\n",
       "</style>\n",
       "<table border=\"1\" class=\"dataframe\">\n",
       "  <thead>\n",
       "    <tr style=\"text-align: right;\">\n",
       "      <th></th>\n",
       "      <th>sold_price</th>\n",
       "      <th>year</th>\n",
       "      <th>model</th>\n",
       "      <th>mileage</th>\n",
       "      <th>normalized_color</th>\n",
       "      <th>transmission</th>\n",
       "      <th>W</th>\n",
       "      <th>predicted_rf</th>\n",
       "    </tr>\n",
       "  </thead>\n",
       "  <tbody>\n",
       "    <tr>\n",
       "      <th>64</th>\n",
       "      <td>495000.0</td>\n",
       "      <td>1989</td>\n",
       "      <td>Countach 25th Anniversary</td>\n",
       "      <td>6200.0</td>\n",
       "      <td>Black</td>\n",
       "      <td>manual</td>\n",
       "      <td>0.761685</td>\n",
       "      <td>511164.500108</td>\n",
       "    </tr>\n",
       "    <tr>\n",
       "      <th>66</th>\n",
       "      <td>525000.0</td>\n",
       "      <td>1989</td>\n",
       "      <td>Countach 25th Anniversary</td>\n",
       "      <td>3000.0</td>\n",
       "      <td>Black</td>\n",
       "      <td>manual</td>\n",
       "      <td>0.724537</td>\n",
       "      <td>535093.580567</td>\n",
       "    </tr>\n",
       "    <tr>\n",
       "      <th>67</th>\n",
       "      <td>512000.0</td>\n",
       "      <td>1989</td>\n",
       "      <td>Countach 25th Anniversary</td>\n",
       "      <td>6200.0</td>\n",
       "      <td>Black</td>\n",
       "      <td>manual</td>\n",
       "      <td>0.529347</td>\n",
       "      <td>505920.622346</td>\n",
       "    </tr>\n",
       "    <tr>\n",
       "      <th>68</th>\n",
       "      <td>501000.0</td>\n",
       "      <td>1989</td>\n",
       "      <td>Countach 25th Anniversary</td>\n",
       "      <td>22000.0</td>\n",
       "      <td>Red</td>\n",
       "      <td>manual</td>\n",
       "      <td>0.445600</td>\n",
       "      <td>475087.178911</td>\n",
       "    </tr>\n",
       "    <tr>\n",
       "      <th>69</th>\n",
       "      <td>461000.0</td>\n",
       "      <td>1989</td>\n",
       "      <td>Countach 25th Anniversary</td>\n",
       "      <td>6000.0</td>\n",
       "      <td>Black</td>\n",
       "      <td>manual</td>\n",
       "      <td>0.325556</td>\n",
       "      <td>490791.558144</td>\n",
       "    </tr>\n",
       "    <tr>\n",
       "      <th>...</th>\n",
       "      <td>...</td>\n",
       "      <td>...</td>\n",
       "      <td>...</td>\n",
       "      <td>...</td>\n",
       "      <td>...</td>\n",
       "      <td>...</td>\n",
       "      <td>...</td>\n",
       "      <td>...</td>\n",
       "    </tr>\n",
       "    <tr>\n",
       "      <th>548</th>\n",
       "      <td>217000.0</td>\n",
       "      <td>2021</td>\n",
       "      <td>Urus</td>\n",
       "      <td>6000.0</td>\n",
       "      <td>Gray</td>\n",
       "      <td>automatic</td>\n",
       "      <td>0.148740</td>\n",
       "      <td>223982.145396</td>\n",
       "    </tr>\n",
       "    <tr>\n",
       "      <th>549</th>\n",
       "      <td>284000.0</td>\n",
       "      <td>2022</td>\n",
       "      <td>Urus</td>\n",
       "      <td>2000.0</td>\n",
       "      <td>Black</td>\n",
       "      <td>automatic</td>\n",
       "      <td>0.085577</td>\n",
       "      <td>295986.814801</td>\n",
       "    </tr>\n",
       "    <tr>\n",
       "      <th>550</th>\n",
       "      <td>206000.0</td>\n",
       "      <td>2019</td>\n",
       "      <td>Urus</td>\n",
       "      <td>100.0</td>\n",
       "      <td>Blue</td>\n",
       "      <td>automatic</td>\n",
       "      <td>0.006909</td>\n",
       "      <td>279337.509397</td>\n",
       "    </tr>\n",
       "    <tr>\n",
       "      <th>551</th>\n",
       "      <td>194000.0</td>\n",
       "      <td>2019</td>\n",
       "      <td>Urus</td>\n",
       "      <td>19000.0</td>\n",
       "      <td>Blue</td>\n",
       "      <td>automatic</td>\n",
       "      <td>0.116484</td>\n",
       "      <td>191039.016828</td>\n",
       "    </tr>\n",
       "    <tr>\n",
       "      <th>552</th>\n",
       "      <td>152152.0</td>\n",
       "      <td>2020</td>\n",
       "      <td>Urus</td>\n",
       "      <td>20000.0</td>\n",
       "      <td>Yellow</td>\n",
       "      <td>automatic</td>\n",
       "      <td>0.778801</td>\n",
       "      <td>161450.446096</td>\n",
       "    </tr>\n",
       "  </tbody>\n",
       "</table>\n",
       "<p>272 rows × 8 columns</p>\n",
       "</div>"
      ],
      "text/plain": [
       "     sold_price  year                      model  mileage normalized_color  \\\n",
       "64     495000.0  1989  Countach 25th Anniversary   6200.0            Black   \n",
       "66     525000.0  1989  Countach 25th Anniversary   3000.0            Black   \n",
       "67     512000.0  1989  Countach 25th Anniversary   6200.0            Black   \n",
       "68     501000.0  1989  Countach 25th Anniversary  22000.0              Red   \n",
       "69     461000.0  1989  Countach 25th Anniversary   6000.0            Black   \n",
       "..          ...   ...                        ...      ...              ...   \n",
       "548    217000.0  2021                       Urus   6000.0             Gray   \n",
       "549    284000.0  2022                       Urus   2000.0            Black   \n",
       "550    206000.0  2019                       Urus    100.0             Blue   \n",
       "551    194000.0  2019                       Urus  19000.0             Blue   \n",
       "552    152152.0  2020                       Urus  20000.0           Yellow   \n",
       "\n",
       "    transmission         W   predicted_rf  \n",
       "64        manual  0.761685  511164.500108  \n",
       "66        manual  0.724537  535093.580567  \n",
       "67        manual  0.529347  505920.622346  \n",
       "68        manual  0.445600  475087.178911  \n",
       "69        manual  0.325556  490791.558144  \n",
       "..           ...       ...            ...  \n",
       "548    automatic  0.148740  223982.145396  \n",
       "549    automatic  0.085577  295986.814801  \n",
       "550    automatic  0.006909  279337.509397  \n",
       "551    automatic  0.116484  191039.016828  \n",
       "552    automatic  0.778801  161450.446096  \n",
       "\n",
       "[272 rows x 8 columns]"
      ]
     },
     "execution_count": 17,
     "metadata": {},
     "output_type": "execute_result"
    }
   ],
   "source": [
    "# Analyze Results: Add target and predicted values\n",
    "X_analysis = pd.merge(y, X_analysis, how='inner', left_index=True, right_index=True)\n",
    "X_analysis = pd.merge(X_analysis, predicted_rf, how='inner', left_index=True, right_index=True)\n",
    "X_analysis.sold_price = np.exp(X_analysis.sold_price)\n",
    "X_analysis.predicted_rf = np.exp(X_analysis.predicted_rf)\n",
    "X_analysis.mileage = np.exp(X_analysis.mileage) - 1\n",
    "X_analysis"
   ]
  },
  {
   "cell_type": "code",
   "execution_count": 18,
   "metadata": {},
   "outputs": [
    {
     "data": {
      "text/plain": [
       "Price Range\n",
       "Over 350000        63\n",
       "100000 - 150000    55\n",
       "50000 - 100000     43\n",
       "150000 - 200000    38\n",
       "200000 - 250000    37\n",
       "250000 - 300000    20\n",
       "300000 - 350000    16\n",
       "Name: count, dtype: int64"
      ]
     },
     "execution_count": 18,
     "metadata": {},
     "output_type": "execute_result"
    }
   ],
   "source": [
    "# Define price ranges\n",
    "def getrange(Price):\n",
    "    if (Price >= 0 and Price < 50000):\n",
    "        return '0 - 50000'\n",
    "    if (Price >= 50000 and Price < 100000):\n",
    "        return '50000 - 100000'\n",
    "    if (Price >= 100000 and Price < 150000):\n",
    "        return '100000 - 150000'\n",
    "    if (Price >= 150000 and Price < 200000):\n",
    "        return '150000 - 200000'\n",
    "    if (Price >= 200000 and Price < 250000):\n",
    "        return '200000 - 250000'\n",
    "    if (Price >= 250000 and Price < 300000):\n",
    "        return '250000 - 300000'\n",
    "    if (Price >= 300000 and Price < 350000):\n",
    "        return '300000 - 350000'\n",
    "    if (Price >= 350000):\n",
    "        return 'Over 350000'\n",
    "X_analysis['Price Range'] = X_analysis['sold_price'].apply(lambda x:getrange(x))\n",
    "\n",
    "X_analysis['Price Range'].value_counts()"
   ]
  },
  {
   "cell_type": "code",
   "execution_count": 19,
   "metadata": {
    "execution": {
     "iopub.execute_input": "2025-03-25T15:43:08.046017Z",
     "iopub.status.busy": "2025-03-25T15:43:08.045653Z",
     "iopub.status.idle": "2025-03-25T15:43:08.579109Z",
     "shell.execute_reply": "2025-03-25T15:43:08.578036Z",
     "shell.execute_reply.started": "2025-03-25T15:43:08.045989Z"
    },
    "trusted": true
   },
   "outputs": [
    {
     "data": {
      "text/plain": [
       "<Axes: xlabel='sold_price', ylabel='predicted_rf'>"
      ]
     },
     "execution_count": 19,
     "metadata": {},
     "output_type": "execute_result"
    },
    {
     "data": {
      "image/png": "[encoded data removed]",
      "text/plain": [
       "<Figure size 1000x1000 with 1 Axes>"
      ]
     },
     "metadata": {},
     "output_type": "display_data"
    }
   ],
   "source": [
    "# Plot true vs predicted values scatter\n",
    "\n",
    "plt.figure(figsize = (10, 10))\n",
    "sns.regplot(x=X_analysis.sold_price, y=X_analysis.predicted_rf)\n",
    "#sns.regplot(x=X_analysis.sold_price, y=X_analysis.predicted_xgb)"
   ]
  },
  {
   "cell_type": "code",
   "execution_count": 21,
   "metadata": {
    "execution": {
     "iopub.execute_input": "2025-03-25T16:22:56.451082Z",
     "iopub.status.busy": "2025-03-25T16:22:56.450128Z",
     "iopub.status.idle": "2025-03-25T16:23:04.220363Z",
     "shell.execute_reply": "2025-03-25T16:23:04.219275Z",
     "shell.execute_reply.started": "2025-03-25T16:22:56.451039Z"
    },
    "trusted": true
   },
   "outputs": [
    {
     "data": {
      "text/plain": [
       "<seaborn.axisgrid.FacetGrid at 0x3090634f0>"
      ]
     },
     "execution_count": 21,
     "metadata": {},
     "output_type": "execute_result"
    },
    {
     "data": {
      "image/png": "[encoded data removed]",
      "text/plain": [
       "<Figure size 900x1800 with 18 Axes>"
      ]
     },
     "metadata": {},
     "output_type": "display_data"
    }
   ],
   "source": [
    "# Predicted vs Sold Price Scatter by model\n",
    "g = sns.FacetGrid(X_analysis, col=\"model\", col_wrap=3, sharex=False, sharey=False)\n",
    "\n",
    "# Map scatter plots to the grid\n",
    "g.map(sns.regplot, \"predicted_rf\", \"sold_price\")"
   ]
  },
  {
   "cell_type": "code",
   "execution_count": 22,
   "metadata": {},
   "outputs": [
    {
     "data": {
      "text/plain": [
       "<seaborn.axisgrid.FacetGrid at 0x30a57dd80>"
      ]
     },
     "execution_count": 22,
     "metadata": {},
     "output_type": "execute_result"
    },
    {
     "data": {
      "image/png": "[encoded data removed]",
      "text/plain": [
       "<Figure size 900x1800 with 18 Axes>"
      ]
     },
     "metadata": {},
     "output_type": "display_data"
    }
   ],
   "source": [
    "# Analyze Residuals by model\n",
    "X_analysis['diff'] = X_analysis.sold_price - X_analysis.predicted_rf\n",
    "g = sns.FacetGrid(X_analysis, col=\"model\", col_wrap=3)\n",
    "\n",
    "# Map scatter plots to the grid\n",
    "g.map(plt.hist, \"diff\", bins = 50)\n"
   ]
  },
  {
   "cell_type": "code",
   "execution_count": 23,
   "metadata": {},
   "outputs": [],
   "source": [
    "# Prediction function\n",
    "\n",
    "def predict(year, model, mileage, color, transmission, carmodel, W):\n",
    "    input_data = pd.DataFrame([[year, model, mileage, color, transmission, W]], \n",
    "                              columns=[\"year\", \"model\", \"mileage\", \"normalized_color\", \"transmission\", \"W\"])\n",
    "    input_data.model=Lbl_model.transform(input_data.model)\n",
    "    input_data.normalized_color=Lbl_color.transform(input_data.normalized_color)\n",
    "    input_data.transmission=Lbl_trans.transform(input_data.transmission)\n",
    "    input_data.mileage = np.log1p(input_data.mileage)\n",
    "    price_scaled = carmodel.predict(input_data)\n",
    "\n",
    "    price = np.exp(price_scaled)\n",
    "    \n",
    "    return price[0].round(0)"
   ]
  },
  {
   "cell_type": "code",
   "execution_count": 24,
   "metadata": {},
   "outputs": [
    {
     "ename": "ValueError",
     "evalue": "y contains previously unseen labels: '512 TR'",
     "output_type": "error",
     "traceback": [
      "\u001b[0;31m---------------------------------------------------------------------------\u001b[0m",
      "\u001b[0;31mKeyError\u001b[0m                                  Traceback (most recent call last)",
      "File \u001b[0;32m~/.pyenv/versions/3.10.15/lib/python3.10/site-packages/sklearn/utils/_encode.py:235\u001b[0m, in \u001b[0;36m_encode\u001b[0;34m(values, uniques, check_unknown)\u001b[0m\n\u001b[1;32m    234\u001b[0m \u001b[38;5;28;01mtry\u001b[39;00m:\n\u001b[0;32m--> 235\u001b[0m     \u001b[38;5;28;01mreturn\u001b[39;00m \u001b[43m_map_to_integer\u001b[49m\u001b[43m(\u001b[49m\u001b[43mvalues\u001b[49m\u001b[43m,\u001b[49m\u001b[43m \u001b[49m\u001b[43muniques\u001b[49m\u001b[43m)\u001b[49m\n\u001b[1;32m    236\u001b[0m \u001b[38;5;28;01mexcept\u001b[39;00m \u001b[38;5;167;01mKeyError\u001b[39;00m \u001b[38;5;28;01mas\u001b[39;00m e:\n",
      "File \u001b[0;32m~/.pyenv/versions/3.10.15/lib/python3.10/site-packages/sklearn/utils/_encode.py:174\u001b[0m, in \u001b[0;36m_map_to_integer\u001b[0;34m(values, uniques)\u001b[0m\n\u001b[1;32m    173\u001b[0m table \u001b[38;5;241m=\u001b[39m _nandict({val: i \u001b[38;5;28;01mfor\u001b[39;00m i, val \u001b[38;5;129;01min\u001b[39;00m \u001b[38;5;28menumerate\u001b[39m(uniques)})\n\u001b[0;32m--> 174\u001b[0m \u001b[38;5;28;01mreturn\u001b[39;00m xp\u001b[38;5;241m.\u001b[39masarray([table[v] \u001b[38;5;28;01mfor\u001b[39;00m v \u001b[38;5;129;01min\u001b[39;00m values], device\u001b[38;5;241m=\u001b[39mdevice(values))\n",
      "File \u001b[0;32m~/.pyenv/versions/3.10.15/lib/python3.10/site-packages/sklearn/utils/_encode.py:174\u001b[0m, in \u001b[0;36m<listcomp>\u001b[0;34m(.0)\u001b[0m\n\u001b[1;32m    173\u001b[0m table \u001b[38;5;241m=\u001b[39m _nandict({val: i \u001b[38;5;28;01mfor\u001b[39;00m i, val \u001b[38;5;129;01min\u001b[39;00m \u001b[38;5;28menumerate\u001b[39m(uniques)})\n\u001b[0;32m--> 174\u001b[0m \u001b[38;5;28;01mreturn\u001b[39;00m xp\u001b[38;5;241m.\u001b[39masarray([\u001b[43mtable\u001b[49m\u001b[43m[\u001b[49m\u001b[43mv\u001b[49m\u001b[43m]\u001b[49m \u001b[38;5;28;01mfor\u001b[39;00m v \u001b[38;5;129;01min\u001b[39;00m values], device\u001b[38;5;241m=\u001b[39mdevice(values))\n",
      "File \u001b[0;32m~/.pyenv/versions/3.10.15/lib/python3.10/site-packages/sklearn/utils/_encode.py:167\u001b[0m, in \u001b[0;36m_nandict.__missing__\u001b[0;34m(self, key)\u001b[0m\n\u001b[1;32m    166\u001b[0m     \u001b[38;5;28;01mreturn\u001b[39;00m \u001b[38;5;28mself\u001b[39m\u001b[38;5;241m.\u001b[39mnan_value\n\u001b[0;32m--> 167\u001b[0m \u001b[38;5;28;01mraise\u001b[39;00m \u001b[38;5;167;01mKeyError\u001b[39;00m(key)\n",
      "\u001b[0;31mKeyError\u001b[0m: '512 TR'",
      "\nDuring handling of the above exception, another exception occurred:\n",
      "\u001b[0;31mValueError\u001b[0m                                Traceback (most recent call last)",
      "Cell \u001b[0;32mIn[24], line 6\u001b[0m\n\u001b[1;32m      4\u001b[0m predictions \u001b[38;5;241m=\u001b[39m []\n\u001b[1;32m      5\u001b[0m \u001b[38;5;28;01mfor\u001b[39;00m mileage \u001b[38;5;129;01min\u001b[39;00m mileage_range:\n\u001b[0;32m----> 6\u001b[0m     prediction \u001b[38;5;241m=\u001b[39m \u001b[43mpredict\u001b[49m\u001b[43m(\u001b[49m\n\u001b[1;32m      7\u001b[0m \u001b[43m        \u001b[49m\u001b[43myear\u001b[49m\u001b[43m \u001b[49m\u001b[38;5;241;43m=\u001b[39;49m\u001b[43m \u001b[49m\u001b[38;5;241;43m1992\u001b[39;49m\u001b[43m,\u001b[49m\n\u001b[1;32m      8\u001b[0m \u001b[43m        \u001b[49m\u001b[43mmodel\u001b[49m\u001b[43m \u001b[49m\u001b[38;5;241;43m=\u001b[39;49m\u001b[43m \u001b[49m\u001b[38;5;124;43m\"\u001b[39;49m\u001b[38;5;124;43m512 TR\u001b[39;49m\u001b[38;5;124;43m\"\u001b[39;49m\u001b[43m,\u001b[49m\n\u001b[1;32m      9\u001b[0m \u001b[43m        \u001b[49m\u001b[43mmileage\u001b[49m\u001b[43m \u001b[49m\u001b[38;5;241;43m=\u001b[39;49m\u001b[43m \u001b[49m\u001b[43mmileage\u001b[49m\u001b[43m,\u001b[49m\n\u001b[1;32m     10\u001b[0m \u001b[43m        \u001b[49m\u001b[43mcolor\u001b[49m\u001b[43m \u001b[49m\u001b[38;5;241;43m=\u001b[39;49m\u001b[43m \u001b[49m\u001b[38;5;124;43m\"\u001b[39;49m\u001b[38;5;124;43mBlack\u001b[39;49m\u001b[38;5;124;43m\"\u001b[39;49m\u001b[43m,\u001b[49m\n\u001b[1;32m     11\u001b[0m \u001b[43m        \u001b[49m\u001b[43mtransmission\u001b[49m\u001b[43m \u001b[49m\u001b[38;5;241;43m=\u001b[39;49m\u001b[43m \u001b[49m\u001b[38;5;124;43m\"\u001b[39;49m\u001b[38;5;124;43mmanual\u001b[39;49m\u001b[38;5;124;43m\"\u001b[39;49m\u001b[43m,\u001b[49m\n\u001b[1;32m     12\u001b[0m \u001b[43m        \u001b[49m\u001b[43mcarmodel\u001b[49m\u001b[43m \u001b[49m\u001b[38;5;241;43m=\u001b[39;49m\u001b[43m \u001b[49m\u001b[43mcar_model_rf\u001b[49m\u001b[43m,\u001b[49m\n\u001b[1;32m     13\u001b[0m \u001b[43m        \u001b[49m\u001b[43mW\u001b[49m\u001b[43m \u001b[49m\u001b[38;5;241;43m=\u001b[39;49m\u001b[43m \u001b[49m\u001b[38;5;241;43m1\u001b[39;49m\n\u001b[1;32m     14\u001b[0m \u001b[43m    \u001b[49m\u001b[43m)\u001b[49m\n\u001b[1;32m     15\u001b[0m     predictions\u001b[38;5;241m.\u001b[39mappend(prediction)\n\u001b[1;32m     17\u001b[0m predictions \u001b[38;5;241m=\u001b[39m pd\u001b[38;5;241m.\u001b[39mDataFrame(predictions, columns\u001b[38;5;241m=\u001b[39m[\u001b[38;5;124m\"\u001b[39m\u001b[38;5;124mpredicted\u001b[39m\u001b[38;5;124m\"\u001b[39m])\n",
      "Cell \u001b[0;32mIn[23], line 6\u001b[0m, in \u001b[0;36mpredict\u001b[0;34m(year, model, mileage, color, transmission, carmodel, W)\u001b[0m\n\u001b[1;32m      3\u001b[0m \u001b[38;5;28;01mdef\u001b[39;00m \u001b[38;5;21mpredict\u001b[39m(year, model, mileage, color, transmission, carmodel, W):\n\u001b[1;32m      4\u001b[0m     input_data \u001b[38;5;241m=\u001b[39m pd\u001b[38;5;241m.\u001b[39mDataFrame([[year, model, mileage, color, transmission, W]], \n\u001b[1;32m      5\u001b[0m                               columns\u001b[38;5;241m=\u001b[39m[\u001b[38;5;124m\"\u001b[39m\u001b[38;5;124myear\u001b[39m\u001b[38;5;124m\"\u001b[39m, \u001b[38;5;124m\"\u001b[39m\u001b[38;5;124mmodel\u001b[39m\u001b[38;5;124m\"\u001b[39m, \u001b[38;5;124m\"\u001b[39m\u001b[38;5;124mmileage\u001b[39m\u001b[38;5;124m\"\u001b[39m, \u001b[38;5;124m\"\u001b[39m\u001b[38;5;124mnormalized_color\u001b[39m\u001b[38;5;124m\"\u001b[39m, \u001b[38;5;124m\"\u001b[39m\u001b[38;5;124mtransmission\u001b[39m\u001b[38;5;124m\"\u001b[39m, \u001b[38;5;124m\"\u001b[39m\u001b[38;5;124mW\u001b[39m\u001b[38;5;124m\"\u001b[39m])\n\u001b[0;32m----> 6\u001b[0m     input_data\u001b[38;5;241m.\u001b[39mmodel\u001b[38;5;241m=\u001b[39m\u001b[43mLbl_model\u001b[49m\u001b[38;5;241;43m.\u001b[39;49m\u001b[43mtransform\u001b[49m\u001b[43m(\u001b[49m\u001b[43minput_data\u001b[49m\u001b[38;5;241;43m.\u001b[39;49m\u001b[43mmodel\u001b[49m\u001b[43m)\u001b[49m\n\u001b[1;32m      7\u001b[0m     input_data\u001b[38;5;241m.\u001b[39mnormalized_color\u001b[38;5;241m=\u001b[39mLbl_color\u001b[38;5;241m.\u001b[39mtransform(input_data\u001b[38;5;241m.\u001b[39mnormalized_color)\n\u001b[1;32m      8\u001b[0m     input_data\u001b[38;5;241m.\u001b[39mtransmission\u001b[38;5;241m=\u001b[39mLbl_trans\u001b[38;5;241m.\u001b[39mtransform(input_data\u001b[38;5;241m.\u001b[39mtransmission)\n",
      "File \u001b[0;32m~/.pyenv/versions/3.10.15/lib/python3.10/site-packages/sklearn/preprocessing/_label.py:134\u001b[0m, in \u001b[0;36mLabelEncoder.transform\u001b[0;34m(self, y)\u001b[0m\n\u001b[1;32m    131\u001b[0m \u001b[38;5;28;01mif\u001b[39;00m _num_samples(y) \u001b[38;5;241m==\u001b[39m \u001b[38;5;241m0\u001b[39m:\n\u001b[1;32m    132\u001b[0m     \u001b[38;5;28;01mreturn\u001b[39;00m xp\u001b[38;5;241m.\u001b[39masarray([])\n\u001b[0;32m--> 134\u001b[0m \u001b[38;5;28;01mreturn\u001b[39;00m \u001b[43m_encode\u001b[49m\u001b[43m(\u001b[49m\u001b[43my\u001b[49m\u001b[43m,\u001b[49m\u001b[43m \u001b[49m\u001b[43muniques\u001b[49m\u001b[38;5;241;43m=\u001b[39;49m\u001b[38;5;28;43mself\u001b[39;49m\u001b[38;5;241;43m.\u001b[39;49m\u001b[43mclasses_\u001b[49m\u001b[43m)\u001b[49m\n",
      "File \u001b[0;32m~/.pyenv/versions/3.10.15/lib/python3.10/site-packages/sklearn/utils/_encode.py:237\u001b[0m, in \u001b[0;36m_encode\u001b[0;34m(values, uniques, check_unknown)\u001b[0m\n\u001b[1;32m    235\u001b[0m         \u001b[38;5;28;01mreturn\u001b[39;00m _map_to_integer(values, uniques)\n\u001b[1;32m    236\u001b[0m     \u001b[38;5;28;01mexcept\u001b[39;00m \u001b[38;5;167;01mKeyError\u001b[39;00m \u001b[38;5;28;01mas\u001b[39;00m e:\n\u001b[0;32m--> 237\u001b[0m         \u001b[38;5;28;01mraise\u001b[39;00m \u001b[38;5;167;01mValueError\u001b[39;00m(\u001b[38;5;124mf\u001b[39m\u001b[38;5;124m\"\u001b[39m\u001b[38;5;124my contains previously unseen labels: \u001b[39m\u001b[38;5;132;01m{\u001b[39;00m\u001b[38;5;28mstr\u001b[39m(e)\u001b[38;5;132;01m}\u001b[39;00m\u001b[38;5;124m\"\u001b[39m)\n\u001b[1;32m    238\u001b[0m \u001b[38;5;28;01melse\u001b[39;00m:\n\u001b[1;32m    239\u001b[0m     \u001b[38;5;28;01mif\u001b[39;00m check_unknown:\n",
      "\u001b[0;31mValueError\u001b[0m: y contains previously unseen labels: '512 TR'"
     ]
    }
   ],
   "source": [
    "# Run a prediction for a car over a range of mileage\n",
    "mileage_range = np.linspace(0, 50000, 100)\n",
    "\n",
    "predictions = []\n",
    "for mileage in mileage_range:\n",
    "    prediction = predict(\n",
    "        year = 1992,\n",
    "        model = \"512 TR\",\n",
    "        mileage = mileage,\n",
    "        color = \"Black\",\n",
    "        transmission = \"manual\",\n",
    "        carmodel = car_model_rf,\n",
    "        W = 1\n",
    "    )\n",
    "    predictions.append(prediction)\n",
    "\n",
    "predictions = pd.DataFrame(predictions, columns=[\"predicted\"])\n",
    "mileage_range = pd.DataFrame(mileage_range, columns=[\"mileage\"])\n",
    "predictions = pd.merge(predictions, mileage_range, how='inner', left_index=True, right_index=True)\n",
    "plt.scatter(predictions[\"mileage\"], predictions[\"predicted\"])"
   ]
  }
 ],
 "metadata": {
  "kaggle": {
   "accelerator": "none",
   "dataSources": [
    {
     "datasetId": 6959618,
     "sourceId": 11154697,
     "sourceType": "datasetVersion"
    }
   ],
   "dockerImageVersionId": 30698,
   "isGpuEnabled": false,
   "isInternetEnabled": false,
   "language": "python",
   "sourceType": "notebook"
  },
  "kernelspec": {
   "display_name": "Python 3",
   "language": "python",
   "name": "python3"
  },
  "language_info": {
   "codemirror_mode": {
    "name": "ipython",
    "version": 3
   },
   "file_extension": ".py",
   "mimetype": "text/x-python",
   "name": "python",
   "nbconvert_exporter": "python",
   "pygments_lexer": "ipython3",
   "version": "3.10.15"
  }
 },
 "nbformat": 4,
 "nbformat_minor": 4
}
