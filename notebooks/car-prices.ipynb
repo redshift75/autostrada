{
 "cells": [
  {
   "cell_type": "code",
   "execution_count": 327,
   "metadata": {
    "execution": {
     "iopub.execute_input": "2025-03-25T15:31:54.705036Z",
     "iopub.status.busy": "2025-03-25T15:31:54.704706Z",
     "iopub.status.idle": "2025-03-25T15:31:56.179121Z",
     "shell.execute_reply": "2025-03-25T15:31:56.177839Z",
     "shell.execute_reply.started": "2025-03-25T15:31:54.705010Z"
    },
    "trusted": true
   },
   "outputs": [],
   "source": [
    "# Libraries\n",
    "from datetime import date\n",
    "import numpy as np\n",
    "import pandas as pd\n",
    "import matplotlib.pyplot as plt\n",
    "import seaborn as sns\n",
    "import plotly.graph_objects as go\n",
    "import plotly.express as px\n",
    "import pickle\n",
    "from scipy import stats\n",
    "from sklearn.model_selection import train_test_split\n",
    "from sklearn.preprocessing import LabelEncoder\n",
    "from sklearn.ensemble import RandomForestRegressor\n",
    "from xgboost import XGBRegressor\n",
    "from dotenv import load_dotenv\n",
    "from supabase import create_client, Client\n",
    "import os"
   ]
  },
  {
   "cell_type": "code",
   "execution_count": 328,
   "metadata": {
    "execution": {
     "iopub.execute_input": "2025-03-25T15:57:13.556722Z",
     "iopub.status.busy": "2025-03-25T15:57:13.556370Z",
     "iopub.status.idle": "2025-03-25T15:57:13.607440Z",
     "shell.execute_reply": "2025-03-25T15:57:13.606336Z",
     "shell.execute_reply.started": "2025-03-25T15:57:13.556693Z"
    },
    "trusted": true
   },
   "outputs": [],
   "source": [
    "# Read data\n",
    "load_dotenv()\n",
    "\n",
    "SUPABASE_URL = os.getenv(\"NEXT_PUBLIC_SUPABASE_URL\")\n",
    "SUPABASE_SERVICE_KEY = os.getenv(\"NEXT_PUBLIC_SUPABASE_SERVICE_KEY\")\n",
    "\n",
    "supabase = create_client(SUPABASE_URL, SUPABASE_SERVICE_KEY)\n",
    "\n",
    "MAKE = \"Acura\"\n",
    "min_observations = 10\n",
    "\n",
    "response = (\n",
    "    supabase.table(\"bat_completed_auctions\")\n",
    "    .select(\"year, model, mileage, normalized_color, transmission, sold_price, bid_amount, end_date, status\")\n",
    "    .eq(\"make\", MAKE)\n",
    "    .not_.is_(\"mileage\", None)\n",
    "    .not_.is_(\"transmission\", None)\n",
    "    .execute()\n",
    ")\n",
    "df = pd.DataFrame(response.data)"
   ]
  },
  {
   "cell_type": "code",
   "execution_count": 329,
   "metadata": {},
   "outputs": [
    {
     "name": "stdout",
     "output_type": "stream",
     "text": [
      "                            sold_price\n",
      "model                                 \n",
      "NSX Zanardi Edition #51  277017.000000\n",
      "NSX Type S               241238.142857\n",
      "NSX Coupe 6-Speed        185000.000000\n",
      "NSX-T 6-speed            167500.000000\n",
      "NSX Zanardi Edition #06  154006.000000\n",
      "...                                ...\n",
      "Integra Type S                     NaN\n",
      "NSX Targa                          NaN\n",
      "RDX PMC Edition                    NaN\n",
      "TL SH-AWD                          NaN\n",
      "TSX Race Car                       NaN\n",
      "\n",
      "[101 rows x 1 columns]\n"
     ]
    }
   ],
   "source": [
    "# Top Prices by model\n",
    "prices = df[['model','sold_price']].groupby('model').mean().sort_values(by='sold_price',ascending=False)\n",
    "print(prices)"
   ]
  },
  {
   "cell_type": "code",
   "execution_count": 330,
   "metadata": {},
   "outputs": [
    {
     "data": {
      "application/vnd.plotly.v1+json": {
       "config": {
        "plotlyServerURL": "https://plot.ly"
       },
       "data": [
        {
         "alignmentgroup": "True",
         "hovertemplate": "model=%{x}<br>sold_price=%{y}<extra></extra>",
         "legendgroup": "",
         "marker": {
          "color": "#636efa"
         },
         "name": "",
         "notched": false,
         "offsetgroup": "",
         "orientation": "v",
         "showlegend": false,
         "type": "box",
         "x": [
          "3.0CL",
          "3.2TL",
          "3.2TL",
          "3.2TL",
          "CL",
          "CL",
          "CL 2.3 5-Speed",
          "CL Type S",
          "CL Type-S",
          "CL Type-S",
          "CL Type-S",
          "CL Type-S",
          "CL Type-S",
          "CL Type-S",
          "CL Type-S",
          "CL Type-S 6-Speed",
          "CL Type-S 6-Speed",
          "CL Type-S 6-Speed",
          "CL Type-S 6-Speed",
          "CL Type-S 6-Speed",
          "CL Type-S 6-Speed",
          "CL Type-S 6-Speed",
          "CL Type-S 6-Speed",
          "Integra 5-Speed",
          "Integra GS",
          "Integra GS 5-Speed",
          "Integra GS 5-Speed",
          "Integra GS 5-Speed",
          "Integra GS 5-Speed",
          "Integra GS 5-Speed",
          "Integra GS 5-Speed",
          "Integra GS 5-Speed",
          "Integra GS 5-Speed",
          "Integra GS 5-Speed",
          "Integra GS 5-Speed",
          "Integra GS Coupe 5-Speed",
          "Integra GS Coupe 5-Speed",
          "Integra GS Hatchback 5-Speed",
          "Integra GS-R",
          "Integra GS-R",
          "Integra GS-R",
          "Integra GS-R",
          "Integra GS-R",
          "Integra GS-R",
          "Integra GS-R",
          "Integra GS-R",
          "Integra GS-R",
          "Integra GS-R",
          "Integra GS-R",
          "Integra GS-R",
          "Integra GS-R",
          "Integra GS-R",
          "Integra GS-R",
          "Integra GS-R",
          "Integra GS-R",
          "Integra GS-R",
          "Integra GS-R",
          "Integra GS-R",
          "Integra GS-R",
          "Integra GS-R",
          "Integra GS-R",
          "Integra GS-R",
          "Integra GSR",
          "Integra GSR",
          "Integra GS-R 5-Speed",
          "Integra GS-R 5-Speed",
          "Integra GS-R 5-Speed",
          "Integra GS-R 5-Speed",
          "Integra GS-R 5-Speed",
          "Integra GS-R 5-Speed",
          "Integra GS-R 5-Speed",
          "Integra GS-R 5-Speed",
          "Integra GS-R 5-Speed",
          "Integra GS-R 5-Speed",
          "Integra GS-R 5-Speed",
          "Integra GS-R 5-Speed",
          "Integra GS-R 5-Speed",
          "Integra GS-R 5-Speed",
          "Integra GS-R 5-Speed",
          "Integra GS-R 5-Speed",
          "Integra GS-R 5-Speed",
          "Integra GS-R 5-Speed",
          "Integra GS-R 5-Speed",
          "Integra GS-R 5-Speed",
          "Integra GS-R 5-Speed",
          "Integra GS-R 5-Speed",
          "Integra GS-R 5-Speed",
          "Integra GS-R 5-Speed",
          "Integra GS-R 5-Speed",
          "Integra GS-R 5-Speed",
          "Integra GS-R 5-Speed",
          "Integra GS-R 5-Speed",
          "Integra GS-R Coupe 5-Speed",
          "Integra GS-R Coupe 5-Speed",
          "Integra GS-R Coupe 5-Speed",
          "Integra GS-R Coupe 5-Speed",
          "Integra GS-R Coupe 5-Speed",
          "Integra GS-R Hatchback 5-Speed",
          "Integra GS-R Hatchback 5-Speed",
          "Integra GS-R Hatchback 5-Speed",
          "Integra GS-R Sedan",
          "Integra GS-R Sedan 5-Speed",
          "Integra GS-R Sedan 5-Speed",
          "Integra GS-R Sedan 5-Speed",
          "Integra GS-R Sedan 5-Speed",
          "Integra GS-R Sedan 5-Speed",
          "Integra GS-R Sedan 5-Speed",
          "Integra GS Sedan",
          "Integra GS Sedan",
          "Integra LS",
          "Integra LS 4-Door 5-Speed",
          "Integra LS 5-Speed",
          "Integra LS 5-Speed",
          "Integra LS 5-Speed",
          "Integra LS 5-Speed",
          "Integra LS 5-Speed",
          "Integra LS 5-Speed",
          "Integra LS 5-Speed",
          "Integra LS 5-Speed",
          "Integra LS 5-Speed",
          "Integra LS 5-Speed",
          "Integra LS 5-Speed",
          "Integra LS 5-Speed",
          "Integra LS 5-Speed",
          "Integra LS Coupe",
          "Integra LS Coupe 5-Speed",
          "Integra LS Hatchback 5-Speed",
          "Integra LS Hatchback 5-Speed",
          "Integra LS Hatchback 5-Speed",
          "Integra LS Hatchback 5-Speed",
          "Integra LS Hatchback 5-Speed",
          "Integra LS Hatchback 5-Speed",
          "Integra LS Hatchback 5-Speed",
          "Integra LS Sedan",
          "Integra RS 5-Speed",
          "Integra RS 5-Speed",
          "Integra RS 5-Speed",
          "Integra RS 5-Speed",
          "Integra RS 5-Speed",
          "Integra RS 5-Speed Project",
          "Integra RS Hatchback 5-Speed",
          "Integra RS Sedan",
          "Integra RS Sedan 5-Speed",
          "Integra Special Edition 5-Speed",
          "Integra Special Edition 5-Speed",
          "Integra Special Edition Coupe",
          "Integra Special Edition Sedan",
          "Integra Type R",
          "Integra Type R",
          "Integra Type R",
          "Integra Type R",
          "Integra Type R",
          "Integra Type R",
          "Integra Type R",
          "Integra Type R",
          "Integra Type R",
          "Integra Type R",
          "Integra Type R",
          "Integra Type R",
          "Integra Type R",
          "Integra Type R",
          "Integra Type R",
          "Integra Type R",
          "Integra Type R",
          "Integra Type R",
          "Integra Type R",
          "Integra Type R",
          "Integra Type R",
          "Integra Type R",
          "Integra Type R",
          "Integra Type R",
          "Integra Type R",
          "Integra Type R",
          "Integra Type R",
          "Integra Type R",
          "Integra Type R",
          "Integra Type R",
          "Integra Type R",
          "Integra Type R",
          "Integra Type R",
          "Integra Type R",
          "Integra Type R",
          "Integra Type R",
          "Integra Type R",
          "Integra Type R",
          "Integra Type R",
          "Integra Type R",
          "Integra Type R",
          "Integra Type R",
          "Integra Type R",
          "Integra Type R",
          "Integra Type R",
          "Integra Type R",
          "Integra Type R",
          "Integra Type R",
          "Integra Type R",
          "Integra Type R",
          "Integra Type R",
          "Integra Type R",
          "Integra Type R",
          "Integra Type R",
          "Integra Type R",
          "Integra Type R",
          "Integra Type R",
          "Integra Type R",
          "Integra Type R",
          "Integra Type R",
          "Integra Type R",
          "Integra Type R",
          "Integra Type R",
          "Integra Type R",
          "Integra Type R",
          "Integra Type R",
          "Integra Type R",
          "Integra Type R",
          "Integra Type R",
          "Integra Type R",
          "Integra Type R",
          "Integra Type R",
          "Integra Type R",
          "Integra Type R",
          "Integra Type R",
          "Integra Type R",
          "Integra Type R",
          "Integra Type R",
          "Integra Type R",
          "Integra Type R",
          "Integra Type R",
          "Integra Type R",
          "Integra Type R",
          "Integra Type R",
          "Integra Type R",
          "Integra Type R",
          "Integra Type R",
          "Integra Type R",
          "Integra Type R",
          "Integra Type R",
          "Integra Type R",
          "Integra Type R",
          "Integra Type R",
          "Integra Type R",
          "Integra Type R",
          "Integra Type R",
          "Integra Type R",
          "Integra Type R",
          "Integra Type R",
          "Integra Type R",
          "Integra Type R",
          "Integra Type R",
          "Integra Type R",
          "Integra Type R",
          "Integra Type R",
          "Integra Type R",
          "Integra Type R",
          "Integra Type R",
          "Integra Type R",
          "Integra Type R",
          "Integra Type R",
          "Integra Type R",
          "Integra Type R",
          "Integra Type R",
          "Integra Type R",
          "Integra Type R",
          "Integra Type R",
          "Integra Type R",
          "Integra Type R",
          "Integra Type R",
          "Integra Type R",
          "Integra Type R",
          "Integra Type R",
          "Integra Type R",
          "Integra Type R",
          "Integra Type R",
          "Integra Type R",
          "Integra Type R",
          "Integra Type R",
          "Integra Type R",
          "Integra Type R",
          "Integra Type R",
          "Integra Type R",
          "Integra Type R",
          "Integra Type R",
          "Integra Type R",
          "Integra Type R",
          "Integra Type R",
          "Integra Type R Project",
          "Integra Type R Racer",
          "Integra Type S",
          "Integra Type S",
          "Legend",
          "Legend",
          "Legend 5-Speed",
          "Legend 5-Speed",
          "Legend Coupe",
          "Legend Coupe 5-Speed",
          "Legend Coupe 5-Speed",
          "Legend Coupe 6-Speed",
          "Legend Coupe 6-Speed",
          "Legend Coupe 6-Speed",
          "Legend Coupe 6-Speed",
          "Legend Coupe LS 6-Speed",
          "Legend Coupe LS 6-Speed",
          "Legend GS Sedan",
          "Legend GS Sedan",
          "Legend GS Sedan 6-Speed",
          "Legend GS Sedan 6-Speed",
          "Legend GS Sedan 6-Speed",
          "Legend L",
          "Legend L",
          "Legend L",
          "Legend L",
          "Legend L",
          "Legend L",
          "Legend L 5-Speed",
          "Legend L 6-Speed",
          "Legend L Coupe",
          "Legend L Coupe",
          "Legend L Coupe",
          "Legend L Coupe",
          "Legend L Coupe",
          "Legend L Coupe",
          "Legend L Coupe",
          "Legend L Coupe",
          "Legend L Coupe",
          "Legend L Coupe",
          "Legend L Coupe",
          "Legend L Coupe 5-Speed",
          "Legend L Coupe 5-Speed",
          "Legend L Coupe 5-Speed",
          "Legend L Coupe 5-Speed",
          "Legend LS",
          "Legend LS 5-Speed",
          "Legend LS Coupe",
          "Legend LS Coupe",
          "Legend LS Coupe",
          "Legend LS Coupe",
          "Legend LS Coupe",
          "Legend LS Coupe",
          "Legend LS Coupe",
          "Legend LS Coupe 5-Speed",
          "Legend LS Coupe 5-Speed",
          "Legend LS Coupe 5-Speed",
          "Legend LS Coupe 5-Speed",
          "Legend LS Coupe 5-Speed",
          "Legend LS Coupe 6-Speed",
          "Legend LS Coupe 6-Speed",
          "Legend LS Coupe 6-Speed",
          "Legend LS Coupe 6-Speed",
          "Legend L Sedan",
          "Legend L Sedan",
          "Legend LS Sedan",
          "Legend LS Sedan",
          "Legend LS Sedan",
          "Legend LS Sedan 5-Speed",
          "Legend SE",
          "Legend Sedan 5-Speed",
          "Legend Sedan 5-Speed",
          "NSX",
          "NSX",
          "NSX",
          "NSX",
          "NSX",
          "NSX",
          "NSX",
          "NSX",
          "NSX",
          "NSX",
          "NSX",
          "NSX",
          "NSX",
          "NSX",
          "NSX",
          "NSX",
          "NSX",
          "NSX",
          "NSX",
          "NSX",
          "NSX",
          "NSX",
          "NSX",
          "NSX",
          "NSX",
          "NSX",
          "NSX",
          "NSX",
          "NSX",
          "NSX",
          "NSX",
          "NSX",
          "NSX",
          "NSX",
          "NSX",
          "NSX",
          "NSX",
          "NSX",
          "NSX",
          "NSX",
          "NSX",
          "NSX",
          "NSX",
          "NSX",
          "NSX",
          "NSX",
          "NSX",
          "NSX",
          "NSX",
          "NSX",
          "NSX",
          "NSX",
          "NSX",
          "NSX",
          "NSX",
          "NSX",
          "NSX",
          "NSX",
          "NSX",
          "NSX",
          "NSX",
          "NSX",
          "NSX",
          "NSX",
          "NSX",
          "NSX",
          "NSX",
          "NSX",
          "NSX",
          "NSX",
          "NSX",
          "NSX",
          "NSX",
          "NSX",
          "NSX",
          "NSX",
          "NSX",
          "NSX",
          "NSX",
          "NSX",
          "NSX",
          "NSX",
          "NSX",
          "NSX",
          "NSX",
          "NSX",
          "NSX",
          "NSX",
          "NSX",
          "NSX",
          "NSX",
          "NSX",
          "NSX",
          "NSX",
          "NSX",
          "NSX",
          "NSX",
          "NSX",
          "NSX",
          "NSX",
          "NSX",
          "NSX",
          "NSX",
          "NSX",
          "NSX",
          "NSX",
          "NSX",
          "NSX 5-Speed",
          "NSX 5-Speed",
          "NSX 5-Speed",
          "NSX 5-Speed",
          "NSX 5-Speed",
          "NSX 5-Speed",
          "NSX 5-Speed",
          "NSX 5-Speed",
          "NSX 5-Speed",
          "NSX 5-Speed",
          "NSX 5-Speed",
          "NSX 5-Speed",
          "NSX 5-Speed",
          "NSX 5-Speed",
          "NSX 5-Speed",
          "NSX 5-Speed",
          "NSX 5-Speed",
          "NSX 5-Speed",
          "NSX 5-Speed",
          "NSX 5-Speed",
          "NSX 5-Speed",
          "NSX 5-Speed",
          "NSX 5-Speed",
          "NSX 5-Speed",
          "NSX 5-Speed",
          "NSX 5-Speed",
          "NSX 5-Speed",
          "NSX 5-Speed",
          "NSX 5-Speed",
          "NSX 5-Speed",
          "NSX 5-Speed",
          "NSX 5-Speed",
          "NSX 5-Speed",
          "NSX 5-Speed",
          "NSX 5-Speed",
          "NSX 5-Speed",
          "NSX 5-Speed",
          "NSX 5-Speed",
          "NSX 5-Speed",
          "NSX 5-Speed",
          "NSX 5-Speed",
          "NSX 5-Speed",
          "NSX 5-Speed",
          "NSX 5-Speed",
          "NSX 5-Speed",
          "NSX 5-Speed",
          "NSX 5-Speed",
          "NSX 5-Speed",
          "NSX 5-Speed",
          "NSX 5-Speed",
          "NSX 5-Speed",
          "NSX 5-Speed",
          "NSX 5-Speed",
          "NSX 5-Speed",
          "NSX 5-Speed",
          "NSX 5-Speed",
          "NSX 5-Speed",
          "NSX 5-Speed",
          "NSX 5-Speed",
          "NSX 5-Speed",
          "NSX 5-Speed",
          "NSX 5-Speed",
          "NSX 5-Speed",
          "NSX 5-Speed",
          "NSX 5-Speed",
          "NSX 5-Speed",
          "NSX 5-Speed",
          "NSX 5-Speed",
          "NSX 5-Speed",
          "NSX 5-Speed",
          "NSX 5-Speed",
          "NSX 5-Speed",
          "NSX 5-Speed",
          "NSX 5-Speed",
          "NSX 5-Speed",
          "NSX 5-Speed",
          "NSX 5-Speed",
          "NSX 5-Speed",
          "NSX 5-Speed",
          "NSX 5-Speed",
          "NSX 5-Speed",
          "NSX 5-Speed",
          "NSX 5-Speed",
          "NSX 5-Speed",
          "NSX 5-Speed",
          "NSX 5-Speed",
          "NSX 5-Speed",
          "NSX 5-Speed",
          "NSX 5-Speed",
          "NSX 5-Speed",
          "NSX 5-Speed",
          "NSX 5-Speed",
          "NSX 5-Speed",
          "NSX 5-Speed",
          "NSX 5-Speed",
          "NSX 5-Speed",
          "NSX 5-Speed",
          "NSX 5-Speed",
          "NSX 5-Speed",
          "NSX 5-Speed",
          "NSX 5-Speed",
          "NSX 5-Speed",
          "NSX 5-Speed",
          "NSX 5-Speed",
          "NSX 5-Speed",
          "NSX 5-Speed",
          "NSX 5-Speed",
          "NSX 5-Speed",
          "NSX 5-Speed",
          "NSX 5-Speed",
          "NSX 5-Speed",
          "NSX 5-Speed",
          "NSX 5-Speed",
          "NSX 5-Speed",
          "NSX 5-Speed",
          "NSX 5-Speed",
          "NSX 5-Speed",
          "NSX 5-Speed",
          "NSX 5-Speed",
          "NSX 5-Speed",
          "NSX 5-Speed",
          "NSX 5-Speed",
          "NSX 5-Speed",
          "NSX 5-Speed",
          "NSX 5-Speed",
          "NSX 5-Speed",
          "NSX 5-Speed",
          "NSX 5-Speed",
          "NSX 5-Speed",
          "NSX 5-Speed",
          "NSX 5-Speed",
          "NSX 5-Speed",
          "NSX 5-Speed",
          "NSX 5-Speed",
          "NSX 5-Speed",
          "NSX 5-Speed",
          "NSX 5-Speed",
          "NSX 5-Speed",
          "NSX 5-Speed",
          "NSX 5-Speed",
          "NSX 5-Speed",
          "NSX 5-Speed",
          "NSX 5-Speed",
          "NSX 5-Speed",
          "NSX 5-Speed",
          "NSX 5-Speed",
          "NSX 5-Speed",
          "NSX 5-Speed",
          "NSX 5-Speed",
          "NSX 5-Speed",
          "NSX 5-Speed",
          "NSX 5-Speed",
          "NSX 5-Speed",
          "NSX 5-Speed",
          "NSX 5-Speed",
          "NSX 5-Speed",
          "NSX 5-Speed",
          "NSX 5-Speed",
          "NSX 5-Speed",
          "NSX 5-Speed",
          "NSX 5-Speed",
          "NSX 5-Speed",
          "NSX 5-Speed",
          "NSX 5-Speed",
          "NSX 5-Speed",
          "NSX 5-Speed",
          "NSX 5-Speed",
          "NSX 5-Speed",
          "NSX 5-Speed",
          "NSX 5-Speed",
          "NSX 5-Speed",
          "NSX 5-Speed",
          "NSX 5-Speed",
          "NSX 5-Speed",
          "NSX 5-Speed",
          "NSX 5-Speed",
          "NSX 5-Speed",
          "NSX 5-Speed",
          "NSX 5-Speed",
          "NSX 5-Speed",
          "NSX 5-Speed",
          "NSX 5-Speed",
          "NSX 5-Speed",
          "NSX 5-Speed",
          "NSX 5-Speed",
          "NSX 5-Speed",
          "NSX 5-Speed",
          "NSX 5-Speed",
          "NSX 5-Speed",
          "NSX 5-Speed",
          "NSX 5-Speed",
          "NSX 5-Speed",
          "NSX 5-Speed",
          "NSX 5-Speed",
          "NSX 5-Speed",
          "NSX 5-Speed",
          "NSX 5-Speed",
          "NSX 5-Speed",
          "NSX 5-Speed",
          "NSX 5-Speed",
          "NSX 5-Speed",
          "NSX 5-Speed",
          "NSX 5-Speed",
          "NSX 5-Speed",
          "NSX 5-Speed",
          "NSX 5-Speed",
          "NSX 5-Speed",
          "NSX 5-Speed",
          "NSX 5-Speed",
          "NSX 5-Speed",
          "NSX 5-Speed",
          "NSX 5-Speed",
          "NSX 5-Speed",
          "NSX 5-Speed",
          "NSX 5-Speed",
          "NSX 5-Speed",
          "NSX 5-Speed",
          "NSX 5-Speed",
          "NSX 5-Speed",
          "NSX 5-Speed",
          "NSX 5-Speed",
          "NSX 5-Speed",
          "NSX 5-Speed",
          "NSX 5-Speed",
          "NSX 5-Speed",
          "NSX 6-Speed",
          "NSX 6-Speed",
          "NSX 6-Speed",
          "NSX 6-Speed",
          "NSX 6-Speed",
          "NSX 6-Speed",
          "NSX Automatic",
          "NSX Automatic",
          "NSX Coupe",
          "NSX Coupe 6-Speed",
          "NSX Coupe 6-Speed",
          "NSX-T",
          "NSX-T",
          "NSX-T",
          "NSX-T",
          "NSX-T",
          "NSX-T",
          "NSX-T",
          "NSX-T",
          "NSX-T",
          "NSX-T",
          "NSX-T",
          "NSX-T",
          "NSX-T",
          "NSX-T",
          "NSX-T",
          "NSX-T",
          "NSX-T",
          "NSX-T",
          "NSX-T",
          "NSX-T",
          "NSX-T",
          "NSX-T",
          "NSX-T",
          "NSX-T",
          "NSX-T",
          "NSX-T",
          "NSX-T",
          "NSX-T",
          "NSX-T",
          "NSX-T",
          "NSX-T",
          "NSX-T",
          "NSX-T",
          "NSX-T",
          "NSX-T",
          "NSX-T",
          "NSX-T",
          "NSX-T 5-Speed",
          "NSX-T 5-Speed",
          "NSX-T 5-Speed",
          "NSX-T 5-Speed",
          "NSX-T 5-Speed",
          "NSX-T 5-Speed",
          "NSX-T 5-Speed",
          "NSX-T 5-Speed",
          "NSX-T 5-Speed",
          "NSX-T 5-Speed",
          "NSX-T 5-Speed",
          "NSX-T 5-Speed",
          "NSX-T 5-Speed",
          "NSX-T 5-Speed",
          "NSX-T 5-Speed",
          "NSX-T 5-Speed",
          "NSX-T 5-Speed",
          "NSX-T 5-Speed",
          "NSX-T 5-Speed",
          "NSX-T 5-Speed",
          "NSX-T 5-Speed",
          "NSX-T 5-Speed",
          "NSX-T 5-Speed",
          "NSX-T 5-Speed",
          "NSX-T 5-Speed",
          "NSX-T 5-Speed",
          "NSX-T 5-Speed",
          "NSX-T 5-Speed",
          "NSX-T 5-Speed",
          "NSX-T 5-Speed",
          "NSX-T 5-Speed",
          "NSX-T 5-Speed",
          "NSX-T 5-Speed",
          "NSX-T 5-Speed",
          "NSX-T 5-Speed",
          "NSX-T 5-Speed",
          "NSX-T 5-Speed",
          "NSX-T 5-Speed",
          "NSX-T 5-Speed",
          "NSX-T 5-Speed",
          "NSX-T 5-Speed",
          "NSX-T 5-Speed",
          "NSX-T 5-Speed",
          "NSX-T 5-Speed",
          "NSX-T 5-Speed",
          "NSX-T 5-Speed",
          "NSX-T 5-Speed",
          "NSX-T 5-Speed",
          "NSX-T 5-Speed",
          "NSX-T 5-Speed",
          "NSX-T 5-Speed",
          "NSX-T 5-Speed",
          "NSX-T 5-Speed",
          "NSX-T 5-Speed",
          "NSX-T 5-Speed",
          "NSX-T 5-Speed",
          "NSX-T 5-Speed",
          "NSX-T 5-Speed",
          "NSX-T 5-Speed",
          "NSX-T 5-Speed",
          "NSX-T 5-Speed",
          "NSX-T 5-Speed",
          "NSX-T 5-Speed",
          "NSX-T 5-Speed",
          "NSX-T 5-Speed",
          "NSX-T 5-Speed",
          "NSX-T 5-Speed",
          "NSX-T 5-Speed",
          "NSX-T 6-speed",
          "NSX-T 6-Speed",
          "NSX-T 6-Speed",
          "NSX-T 6-Speed",
          "NSX-T 6-Speed",
          "NSX-T 6-Speed",
          "NSX-T 6-Speed",
          "NSX-T 6-Speed",
          "NSX-T 6-Speed",
          "NSX-T 6-Speed",
          "NSX-T 6-Speed",
          "NSX-T 6-Speed",
          "NSX-T 6-Speed",
          "NSX-T 6-Speed",
          "NSX-T 6-Speed",
          "NSX-T 6-Speed",
          "NSX-T 6-Speed",
          "NSX-T 6-Speed",
          "NSX-T 6-Speed",
          "NSX-T 6-Speed",
          "NSX-T 6-Speed",
          "NSX-T 6-Speed",
          "NSX-T 6-Speed",
          "NSX-T 6-Speed",
          "NSX-T 6-Speed",
          "NSX-T 6-Speed",
          "NSX-T 6-Speed",
          "NSX-T 6-Speed",
          "NSX-T 6-Speed",
          "NSX-T 6-Speed",
          "NSX-T 6-Speed",
          "NSX-T 6-Speed",
          "NSX-T 6-Speed",
          "NSX-T 6-Speed",
          "NSX-T 6-Speed",
          "NSX-T 6-Speed",
          "NSX-T 6-Speed",
          "NSX-T 6-Speed",
          "NSX-T 6-Speed",
          "NSX-T 6-Speed",
          "NSX-T 6-Speed",
          "NSX-T 6-Speed",
          "NSX-T 6-Speed",
          "NSX-T 6-Speed",
          "NSX-T 6-Speed",
          "NSX-T 6-Speed",
          "NSX-T 6-Speed",
          "NSX-T 6-Speed",
          "NSX-T 6-Speed",
          "NSX-T 6-Speed",
          "NSX-T 6-Speed",
          "NSX-T 6-Speed",
          "NSX-T 6-Speed",
          "NSX-T 6-Speed",
          "NSX-T 6-Speed",
          "NSX-T 6-Speed",
          "NSX-T 6-Speed",
          "NSX-T 6-Speed",
          "NSX-T 6-Speed",
          "NSX-T 6-Speed",
          "NSX-T 6-Speed",
          "NSX-T 6-Speed",
          "NSX-T 6-Speed",
          "NSX-T 6-Speed",
          "NSX-T 6-Speed",
          "NSX-T 6-Speed",
          "NSX-T 6-Speed",
          "NSX-T 6-Speed",
          "NSX-T 6-Speed",
          "NSX-T 6-Speed",
          "NSX-T 6-Speed",
          "NSX-T 6-Speed",
          "NSX-T 6-Speed",
          "NSX-T 6-Speed",
          "NSX-T 6-Speed",
          "NSX-T 6-Speed",
          "NSX-T 6-Speed",
          "NSX-T 6-Speed",
          "NSX-T 6-Speed",
          "NSX-T 6-Speed",
          "NSX-T 6-Speed",
          "NSX-T 6-Speed",
          "NSX-T 6-Speed",
          "NSX-T 6-Speed",
          "NSX-T 6-Speed",
          "NSX-T 6-Speed",
          "NSX-T 6-Speed",
          "NSX-T 6-Speed",
          "NSX-T 6-Speed",
          "NSX-T 6-Speed",
          "NSX-T 6-Speed",
          "NSX-T 6-Speed",
          "NSX-T 6-Speed",
          "NSX-T 6-Speed",
          "NSX-T 6-Speed",
          "NSX-T 6-Speed",
          "NSX-T 6-Speed",
          "NSX-T 6-Speed",
          "NSX-T 6-Speed",
          "NSX-T 6-Speed",
          "NSX-T 6-Speed",
          "NSX-T 6-Speed",
          "NSX-T 6-Speed",
          "NSX-T 6-Speed",
          "NSX-T 6-Speed",
          "NSX-T 6-Speed",
          "NSX-T 6-Speed",
          "NSX-T 6-Speed",
          "NSX-T 6-Speed",
          "NSX-T 6-Speed",
          "NSX-T 6-Speed",
          "NSX-T 6-Speed",
          "NSX-T 6-Speed",
          "NSX-T 6-Speed",
          "NSX-T 6-Speed",
          "NSX-T 6-Speed",
          "NSX-T 6-Speed",
          "NSX-T 6-Speed",
          "NSX-T 6-Speed",
          "NSX-T 6-Speed",
          "NSX-T 6-Speed",
          "NSX-T 6-Speed",
          "NSX-T 6-Speed",
          "NSX-T 6-Speed",
          "NSX-T 6-Speed",
          "NSX-T 6-Speed",
          "NSX-T 6-Speed",
          "NSX-T 6-Speed",
          "NSX-T 6-Speed",
          "NSX-T 6-Speed",
          "NSX-T 6-Speed",
          "NSX-T 6-Speed",
          "NSX-T 6-Speed",
          "NSX-T 6-Speed",
          "NSX-T 6-Speed",
          "NSX-T 6-Speed",
          "NSX-T 6-Speed",
          "NSX-T 6-Speed",
          "NSX-T 6-Speed",
          "NSX-T 6-Speed",
          "NSX-T 6-Speed",
          "NSX-T 6-Speed",
          "NSX-T 6-Speed",
          "NSX-T 6-Speed",
          "NSX-T 6-Speed",
          "NSX-T 6-Speed",
          "NSX-T 6-Speed",
          "NSX-T 6-Speed",
          "NSX-T 6-Speed",
          "NSX-T 6-Speed",
          "NSX-T 6-Speed",
          "NSX-T 6-Speed",
          "NSX-T 6-Speed",
          "NSX-T 6-Speed",
          "NSX-T 6-Speed",
          "NSX-T 6-Speed",
          "NSX-T 6-Speed",
          "NSX-T 6-Speed",
          "NSX-T 6-Speed",
          "NSX-T 6-Speed",
          "NSX-T 6-Speed",
          "NSX-T 6-Speed",
          "NSX-T 6-Speed",
          "NSX-T 6-Speed",
          "NSX-T 6-Speed",
          "NSX Targa",
          "NSX Targa 6-Speed",
          "NSX Type S",
          "NSX Type S",
          "NSX Type S",
          "NSX Type S",
          "NSX Type S",
          "NSX Type S",
          "NSX Type S",
          "NSX Type S",
          "NSX Type S",
          "NSX Type S",
          "NSX Widebody",
          "NSX Zanardi Edition",
          "NSX Zanardi Edition",
          "NSX Zanardi Edition",
          "NSX Zanardi Edition",
          "NSX Zanardi Edition #06",
          "NSX Zanardi Edition #30",
          "NSX Zanardi Edition #51",
          "RDX PMC Edition",
          "RL",
          "RL",
          "RL",
          "RSX",
          "RSX",
          "RSX",
          "RSX",
          "RSX 5-Speed",
          "RSX 5-Speed",
          "RSX 5-Speed",
          "RSX 6-Speed",
          "RSX Type-S",
          "RSX Type-S",
          "RSX Type-S",
          "RSX Type-S",
          "RSX Type-S",
          "RSX Type-S",
          "RSX Type-S",
          "RSX Type-S",
          "RSX Type-S",
          "RSX Type-S",
          "RSX Type-S",
          "RSX Type-S",
          "RSX Type-S",
          "RSX Type-S",
          "RSX Type-S",
          "RSX Type-S",
          "RSX Type-S",
          "RSX Type-S 6-Speed",
          "RSX Type-S 6-Speed",
          "RSX Type-S 6-Speed",
          "RSX Type-S 6-Speed",
          "RSX Type-S 6-Speed",
          "RSX Type-S 6-Speed",
          "RSX Type-S 6-Speed",
          "RSX Type-S 6-Speed",
          "RSX Type-S 6-Speed",
          "RSX Type-S 6-Speed",
          "RSX Type-S 6-Speed",
          "RSX Type-S 6-Speed",
          "RSX Type-S 6-Speed",
          "RSX Type-S 6-Speed",
          "RSX Type-S 6-Speed",
          "RSX Type-S 6-Speed",
          "RSX Type-S 6-Speed",
          "RSX Type-S 6-Speed",
          "RSX Type-S 6-Speed",
          "RSX Type-S 6-Speed",
          "RSX Type-S 6-Speed",
          "RSX Type-S 6-Speed",
          "RSX Type-S 6-Speed",
          "RSX Type-S 6-Speed",
          "RSX Type-S 6-Speed",
          "RSX Type-S 6-Speed",
          "RSX Type-S 6-Speed",
          "RSX Type-S 6-Speed",
          "RSX Type-S 6-Speed",
          "RSX Type-S A-Spec 6-Speed",
          "SLX 4×4",
          "TL",
          "TL",
          "TL 6-Speed",
          "TL 6-Speed",
          "TL SH-AWD",
          "TL Type S",
          "TL Type-S",
          "TL Type-S",
          "TL Type-S",
          "TL Type-S",
          "TL Type-S",
          "TL Type-S 6-Speed",
          "TL Type-S 6-Speed",
          "TL Type-S 6-Speed",
          "TL Type-S 6-Speed",
          "TL Type-S 6-Speed",
          "TL Type-S 6-Speed",
          "TL Type-S 6-Speed",
          "TL Type-S 6-Speed",
          "TSX Race Car",
          "TSX Sport Wagon",
          "TSX Sport Wagon",
          "TSX Sport Wagon",
          "TSX Sport Wagon",
          "TSX Sport Wagon",
          "TSX Sport Wagon",
          "Vigor",
          "Vigor GS",
          "Vigor GS 5-Speed",
          "Vigor GS 5-Speed",
          "ZDX Advance Package"
         ],
         "x0": " ",
         "xaxis": "x",
         "y": {
          "bdata": "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",
          "dtype": "f8"
         },
         "y0": " ",
         "yaxis": "y"
        }
       ],
       "layout": {
        "boxmode": "group",
        "legend": {
         "tracegroupgap": 0
        },
        "margin": {
         "t": 60
        },
        "template": {
         "data": {
          "bar": [
           {
            "error_x": {
             "color": "#2a3f5f"
            },
            "error_y": {
             "color": "#2a3f5f"
            },
            "marker": {
             "line": {
              "color": "#E5ECF6",
              "width": 0.5
             },
             "pattern": {
              "fillmode": "overlay",
              "size": 10,
              "solidity": 0.2
             }
            },
            "type": "bar"
           }
          ],
          "barpolar": [
           {
            "marker": {
             "line": {
              "color": "#E5ECF6",
              "width": 0.5
             },
             "pattern": {
              "fillmode": "overlay",
              "size": 10,
              "solidity": 0.2
             }
            },
            "type": "barpolar"
           }
          ],
          "carpet": [
           {
            "aaxis": {
             "endlinecolor": "#2a3f5f",
             "gridcolor": "white",
             "linecolor": "white",
             "minorgridcolor": "white",
             "startlinecolor": "#2a3f5f"
            },
            "baxis": {
             "endlinecolor": "#2a3f5f",
             "gridcolor": "white",
             "linecolor": "white",
             "minorgridcolor": "white",
             "startlinecolor": "#2a3f5f"
            },
            "type": "carpet"
           }
          ],
          "choropleth": [
           {
            "colorbar": {
             "outlinewidth": 0,
             "ticks": ""
            },
            "type": "choropleth"
           }
          ],
          "contour": [
           {
            "colorbar": {
             "outlinewidth": 0,
             "ticks": ""
            },
            "colorscale": [
             [
              0,
              "#0d0887"
             ],
             [
              0.1111111111111111,
              "#46039f"
             ],
             [
              0.2222222222222222,
              "#7201a8"
             ],
             [
              0.3333333333333333,
              "#9c179e"
             ],
             [
              0.4444444444444444,
              "#bd3786"
             ],
             [
              0.5555555555555556,
              "#d8576b"
             ],
             [
              0.6666666666666666,
              "#ed7953"
             ],
             [
              0.7777777777777778,
              "#fb9f3a"
             ],
             [
              0.8888888888888888,
              "#fdca26"
             ],
             [
              1,
              "#f0f921"
             ]
            ],
            "type": "contour"
           }
          ],
          "contourcarpet": [
           {
            "colorbar": {
             "outlinewidth": 0,
             "ticks": ""
            },
            "type": "contourcarpet"
           }
          ],
          "heatmap": [
           {
            "colorbar": {
             "outlinewidth": 0,
             "ticks": ""
            },
            "colorscale": [
             [
              0,
              "#0d0887"
             ],
             [
              0.1111111111111111,
              "#46039f"
             ],
             [
              0.2222222222222222,
              "#7201a8"
             ],
             [
              0.3333333333333333,
              "#9c179e"
             ],
             [
              0.4444444444444444,
              "#bd3786"
             ],
             [
              0.5555555555555556,
              "#d8576b"
             ],
             [
              0.6666666666666666,
              "#ed7953"
             ],
             [
              0.7777777777777778,
              "#fb9f3a"
             ],
             [
              0.8888888888888888,
              "#fdca26"
             ],
             [
              1,
              "#f0f921"
             ]
            ],
            "type": "heatmap"
           }
          ],
          "histogram": [
           {
            "marker": {
             "pattern": {
              "fillmode": "overlay",
              "size": 10,
              "solidity": 0.2
             }
            },
            "type": "histogram"
           }
          ],
          "histogram2d": [
           {
            "colorbar": {
             "outlinewidth": 0,
             "ticks": ""
            },
            "colorscale": [
             [
              0,
              "#0d0887"
             ],
             [
              0.1111111111111111,
              "#46039f"
             ],
             [
              0.2222222222222222,
              "#7201a8"
             ],
             [
              0.3333333333333333,
              "#9c179e"
             ],
             [
              0.4444444444444444,
              "#bd3786"
             ],
             [
              0.5555555555555556,
              "#d8576b"
             ],
             [
              0.6666666666666666,
              "#ed7953"
             ],
             [
              0.7777777777777778,
              "#fb9f3a"
             ],
             [
              0.8888888888888888,
              "#fdca26"
             ],
             [
              1,
              "#f0f921"
             ]
            ],
            "type": "histogram2d"
           }
          ],
          "histogram2dcontour": [
           {
            "colorbar": {
             "outlinewidth": 0,
             "ticks": ""
            },
            "colorscale": [
             [
              0,
              "#0d0887"
             ],
             [
              0.1111111111111111,
              "#46039f"
             ],
             [
              0.2222222222222222,
              "#7201a8"
             ],
             [
              0.3333333333333333,
              "#9c179e"
             ],
             [
              0.4444444444444444,
              "#bd3786"
             ],
             [
              0.5555555555555556,
              "#d8576b"
             ],
             [
              0.6666666666666666,
              "#ed7953"
             ],
             [
              0.7777777777777778,
              "#fb9f3a"
             ],
             [
              0.8888888888888888,
              "#fdca26"
             ],
             [
              1,
              "#f0f921"
             ]
            ],
            "type": "histogram2dcontour"
           }
          ],
          "mesh3d": [
           {
            "colorbar": {
             "outlinewidth": 0,
             "ticks": ""
            },
            "type": "mesh3d"
           }
          ],
          "parcoords": [
           {
            "line": {
             "colorbar": {
              "outlinewidth": 0,
              "ticks": ""
             }
            },
            "type": "parcoords"
           }
          ],
          "pie": [
           {
            "automargin": true,
            "type": "pie"
           }
          ],
          "scatter": [
           {
            "fillpattern": {
             "fillmode": "overlay",
             "size": 10,
             "solidity": 0.2
            },
            "type": "scatter"
           }
          ],
          "scatter3d": [
           {
            "line": {
             "colorbar": {
              "outlinewidth": 0,
              "ticks": ""
             }
            },
            "marker": {
             "colorbar": {
              "outlinewidth": 0,
              "ticks": ""
             }
            },
            "type": "scatter3d"
           }
          ],
          "scattercarpet": [
           {
            "marker": {
             "colorbar": {
              "outlinewidth": 0,
              "ticks": ""
             }
            },
            "type": "scattercarpet"
           }
          ],
          "scattergeo": [
           {
            "marker": {
             "colorbar": {
              "outlinewidth": 0,
              "ticks": ""
             }
            },
            "type": "scattergeo"
           }
          ],
          "scattergl": [
           {
            "marker": {
             "colorbar": {
              "outlinewidth": 0,
              "ticks": ""
             }
            },
            "type": "scattergl"
           }
          ],
          "scattermap": [
           {
            "marker": {
             "colorbar": {
              "outlinewidth": 0,
              "ticks": ""
             }
            },
            "type": "scattermap"
           }
          ],
          "scattermapbox": [
           {
            "marker": {
             "colorbar": {
              "outlinewidth": 0,
              "ticks": ""
             }
            },
            "type": "scattermapbox"
           }
          ],
          "scatterpolar": [
           {
            "marker": {
             "colorbar": {
              "outlinewidth": 0,
              "ticks": ""
             }
            },
            "type": "scatterpolar"
           }
          ],
          "scatterpolargl": [
           {
            "marker": {
             "colorbar": {
              "outlinewidth": 0,
              "ticks": ""
             }
            },
            "type": "scatterpolargl"
           }
          ],
          "scatterternary": [
           {
            "marker": {
             "colorbar": {
              "outlinewidth": 0,
              "ticks": ""
             }
            },
            "type": "scatterternary"
           }
          ],
          "surface": [
           {
            "colorbar": {
             "outlinewidth": 0,
             "ticks": ""
            },
            "colorscale": [
             [
              0,
              "#0d0887"
             ],
             [
              0.1111111111111111,
              "#46039f"
             ],
             [
              0.2222222222222222,
              "#7201a8"
             ],
             [
              0.3333333333333333,
              "#9c179e"
             ],
             [
              0.4444444444444444,
              "#bd3786"
             ],
             [
              0.5555555555555556,
              "#d8576b"
             ],
             [
              0.6666666666666666,
              "#ed7953"
             ],
             [
              0.7777777777777778,
              "#fb9f3a"
             ],
             [
              0.8888888888888888,
              "#fdca26"
             ],
             [
              1,
              "#f0f921"
             ]
            ],
            "type": "surface"
           }
          ],
          "table": [
           {
            "cells": {
             "fill": {
              "color": "#EBF0F8"
             },
             "line": {
              "color": "white"
             }
            },
            "header": {
             "fill": {
              "color": "#C8D4E3"
             },
             "line": {
              "color": "white"
             }
            },
            "type": "table"
           }
          ]
         },
         "layout": {
          "annotationdefaults": {
           "arrowcolor": "#2a3f5f",
           "arrowhead": 0,
           "arrowwidth": 1
          },
          "autotypenumbers": "strict",
          "coloraxis": {
           "colorbar": {
            "outlinewidth": 0,
            "ticks": ""
           }
          },
          "colorscale": {
           "diverging": [
            [
             0,
             "#8e0152"
            ],
            [
             0.1,
             "#c51b7d"
            ],
            [
             0.2,
             "#de77ae"
            ],
            [
             0.3,
             "#f1b6da"
            ],
            [
             0.4,
             "#fde0ef"
            ],
            [
             0.5,
             "#f7f7f7"
            ],
            [
             0.6,
             "#e6f5d0"
            ],
            [
             0.7,
             "#b8e186"
            ],
            [
             0.8,
             "#7fbc41"
            ],
            [
             0.9,
             "#4d9221"
            ],
            [
             1,
             "#276419"
            ]
           ],
           "sequential": [
            [
             0,
             "#0d0887"
            ],
            [
             0.1111111111111111,
             "#46039f"
            ],
            [
             0.2222222222222222,
             "#7201a8"
            ],
            [
             0.3333333333333333,
             "#9c179e"
            ],
            [
             0.4444444444444444,
             "#bd3786"
            ],
            [
             0.5555555555555556,
             "#d8576b"
            ],
            [
             0.6666666666666666,
             "#ed7953"
            ],
            [
             0.7777777777777778,
             "#fb9f3a"
            ],
            [
             0.8888888888888888,
             "#fdca26"
            ],
            [
             1,
             "#f0f921"
            ]
           ],
           "sequentialminus": [
            [
             0,
             "#0d0887"
            ],
            [
             0.1111111111111111,
             "#46039f"
            ],
            [
             0.2222222222222222,
             "#7201a8"
            ],
            [
             0.3333333333333333,
             "#9c179e"
            ],
            [
             0.4444444444444444,
             "#bd3786"
            ],
            [
             0.5555555555555556,
             "#d8576b"
            ],
            [
             0.6666666666666666,
             "#ed7953"
            ],
            [
             0.7777777777777778,
             "#fb9f3a"
            ],
            [
             0.8888888888888888,
             "#fdca26"
            ],
            [
             1,
             "#f0f921"
            ]
           ]
          },
          "colorway": [
           "#636efa",
           "#EF553B",
           "#00cc96",
           "#ab63fa",
           "#FFA15A",
           "#19d3f3",
           "#FF6692",
           "#B6E880",
           "#FF97FF",
           "#FECB52"
          ],
          "font": {
           "color": "#2a3f5f"
          },
          "geo": {
           "bgcolor": "white",
           "lakecolor": "white",
           "landcolor": "#E5ECF6",
           "showlakes": true,
           "showland": true,
           "subunitcolor": "white"
          },
          "hoverlabel": {
           "align": "left"
          },
          "hovermode": "closest",
          "mapbox": {
           "style": "light"
          },
          "paper_bgcolor": "white",
          "plot_bgcolor": "#E5ECF6",
          "polar": {
           "angularaxis": {
            "gridcolor": "white",
            "linecolor": "white",
            "ticks": ""
           },
           "bgcolor": "#E5ECF6",
           "radialaxis": {
            "gridcolor": "white",
            "linecolor": "white",
            "ticks": ""
           }
          },
          "scene": {
           "xaxis": {
            "backgroundcolor": "#E5ECF6",
            "gridcolor": "white",
            "gridwidth": 2,
            "linecolor": "white",
            "showbackground": true,
            "ticks": "",
            "zerolinecolor": "white"
           },
           "yaxis": {
            "backgroundcolor": "#E5ECF6",
            "gridcolor": "white",
            "gridwidth": 2,
            "linecolor": "white",
            "showbackground": true,
            "ticks": "",
            "zerolinecolor": "white"
           },
           "zaxis": {
            "backgroundcolor": "#E5ECF6",
            "gridcolor": "white",
            "gridwidth": 2,
            "linecolor": "white",
            "showbackground": true,
            "ticks": "",
            "zerolinecolor": "white"
           }
          },
          "shapedefaults": {
           "line": {
            "color": "#2a3f5f"
           }
          },
          "ternary": {
           "aaxis": {
            "gridcolor": "white",
            "linecolor": "white",
            "ticks": ""
           },
           "baxis": {
            "gridcolor": "white",
            "linecolor": "white",
            "ticks": ""
           },
           "bgcolor": "#E5ECF6",
           "caxis": {
            "gridcolor": "white",
            "linecolor": "white",
            "ticks": ""
           }
          },
          "title": {
           "x": 0.05
          },
          "xaxis": {
           "automargin": true,
           "gridcolor": "white",
           "linecolor": "white",
           "ticks": "",
           "title": {
            "standoff": 15
           },
           "zerolinecolor": "white",
           "zerolinewidth": 2
          },
          "yaxis": {
           "automargin": true,
           "gridcolor": "white",
           "linecolor": "white",
           "ticks": "",
           "title": {
            "standoff": 15
           },
           "zerolinecolor": "white",
           "zerolinewidth": 2
          }
         }
        },
        "title": {
         "text": "Price vs Model"
        },
        "xaxis": {
         "anchor": "y",
         "domain": [
          0,
          1
         ],
         "title": {
          "text": "Model"
         }
        },
        "yaxis": {
         "anchor": "x",
         "domain": [
          0,
          1
         ],
         "title": {
          "text": "Average Price"
         }
        }
       }
      }
     },
     "metadata": {},
     "output_type": "display_data"
    }
   ],
   "source": [
    "# Price by model\n",
    "display_p=df[['model','year','sold_price']]\n",
    "\n",
    "fig=px.box(display_p,x=\"model\",y=\"sold_price\")\n",
    "fig.update_layout(title_text='Price vs Model',xaxis_title=\"Model\",yaxis_title=\"Average Price\")"
   ]
  },
  {
   "cell_type": "code",
   "execution_count": 331,
   "metadata": {},
   "outputs": [
    {
     "data": {
      "application/vnd.plotly.v1+json": {
       "config": {
        "plotlyServerURL": "https://plot.ly"
       },
       "data": [
        {
         "marker": {
          "color": [
           "crimson",
           "lightslategray",
           "lightslategray",
           "lightslategray",
           "lightslategray",
           "lightslategray",
           "lightslategray",
           "lightslategray",
           "lightslategray",
           "lightslategray",
           "lightslategray",
           "lightslategray",
           "lightslategray",
           "lightslategray"
          ]
         },
         "orientation": "h",
         "type": "bar",
         "x": {
          "bdata": "4QCkAIoAawBEACUAHQAcABgAEQANAAsACgAKAAgACAAHAAcABwAGAAYABgAGAAUABQA=",
          "dtype": "i2"
         },
         "y": [
          "NSX 5-Speed",
          "NSX-T 6-Speed",
          "Integra Type R",
          "NSX",
          "NSX-T 5-Speed",
          "NSX-T",
          "RSX Type-S 6-Speed",
          "Integra GS-R 5-Speed",
          "Integra GS-R",
          "RSX Type-S",
          "Integra LS 5-Speed",
          "Legend L Coupe",
          "Integra GS 5-Speed",
          "NSX Type S"
         ]
        }
       ],
       "layout": {
        "template": {
         "data": {
          "bar": [
           {
            "error_x": {
             "color": "#2a3f5f"
            },
            "error_y": {
             "color": "#2a3f5f"
            },
            "marker": {
             "line": {
              "color": "#E5ECF6",
              "width": 0.5
             },
             "pattern": {
              "fillmode": "overlay",
              "size": 10,
              "solidity": 0.2
             }
            },
            "type": "bar"
           }
          ],
          "barpolar": [
           {
            "marker": {
             "line": {
              "color": "#E5ECF6",
              "width": 0.5
             },
             "pattern": {
              "fillmode": "overlay",
              "size": 10,
              "solidity": 0.2
             }
            },
            "type": "barpolar"
           }
          ],
          "carpet": [
           {
            "aaxis": {
             "endlinecolor": "#2a3f5f",
             "gridcolor": "white",
             "linecolor": "white",
             "minorgridcolor": "white",
             "startlinecolor": "#2a3f5f"
            },
            "baxis": {
             "endlinecolor": "#2a3f5f",
             "gridcolor": "white",
             "linecolor": "white",
             "minorgridcolor": "white",
             "startlinecolor": "#2a3f5f"
            },
            "type": "carpet"
           }
          ],
          "choropleth": [
           {
            "colorbar": {
             "outlinewidth": 0,
             "ticks": ""
            },
            "type": "choropleth"
           }
          ],
          "contour": [
           {
            "colorbar": {
             "outlinewidth": 0,
             "ticks": ""
            },
            "colorscale": [
             [
              0,
              "#0d0887"
             ],
             [
              0.1111111111111111,
              "#46039f"
             ],
             [
              0.2222222222222222,
              "#7201a8"
             ],
             [
              0.3333333333333333,
              "#9c179e"
             ],
             [
              0.4444444444444444,
              "#bd3786"
             ],
             [
              0.5555555555555556,
              "#d8576b"
             ],
             [
              0.6666666666666666,
              "#ed7953"
             ],
             [
              0.7777777777777778,
              "#fb9f3a"
             ],
             [
              0.8888888888888888,
              "#fdca26"
             ],
             [
              1,
              "#f0f921"
             ]
            ],
            "type": "contour"
           }
          ],
          "contourcarpet": [
           {
            "colorbar": {
             "outlinewidth": 0,
             "ticks": ""
            },
            "type": "contourcarpet"
           }
          ],
          "heatmap": [
           {
            "colorbar": {
             "outlinewidth": 0,
             "ticks": ""
            },
            "colorscale": [
             [
              0,
              "#0d0887"
             ],
             [
              0.1111111111111111,
              "#46039f"
             ],
             [
              0.2222222222222222,
              "#7201a8"
             ],
             [
              0.3333333333333333,
              "#9c179e"
             ],
             [
              0.4444444444444444,
              "#bd3786"
             ],
             [
              0.5555555555555556,
              "#d8576b"
             ],
             [
              0.6666666666666666,
              "#ed7953"
             ],
             [
              0.7777777777777778,
              "#fb9f3a"
             ],
             [
              0.8888888888888888,
              "#fdca26"
             ],
             [
              1,
              "#f0f921"
             ]
            ],
            "type": "heatmap"
           }
          ],
          "histogram": [
           {
            "marker": {
             "pattern": {
              "fillmode": "overlay",
              "size": 10,
              "solidity": 0.2
             }
            },
            "type": "histogram"
           }
          ],
          "histogram2d": [
           {
            "colorbar": {
             "outlinewidth": 0,
             "ticks": ""
            },
            "colorscale": [
             [
              0,
              "#0d0887"
             ],
             [
              0.1111111111111111,
              "#46039f"
             ],
             [
              0.2222222222222222,
              "#7201a8"
             ],
             [
              0.3333333333333333,
              "#9c179e"
             ],
             [
              0.4444444444444444,
              "#bd3786"
             ],
             [
              0.5555555555555556,
              "#d8576b"
             ],
             [
              0.6666666666666666,
              "#ed7953"
             ],
             [
              0.7777777777777778,
              "#fb9f3a"
             ],
             [
              0.8888888888888888,
              "#fdca26"
             ],
             [
              1,
              "#f0f921"
             ]
            ],
            "type": "histogram2d"
           }
          ],
          "histogram2dcontour": [
           {
            "colorbar": {
             "outlinewidth": 0,
             "ticks": ""
            },
            "colorscale": [
             [
              0,
              "#0d0887"
             ],
             [
              0.1111111111111111,
              "#46039f"
             ],
             [
              0.2222222222222222,
              "#7201a8"
             ],
             [
              0.3333333333333333,
              "#9c179e"
             ],
             [
              0.4444444444444444,
              "#bd3786"
             ],
             [
              0.5555555555555556,
              "#d8576b"
             ],
             [
              0.6666666666666666,
              "#ed7953"
             ],
             [
              0.7777777777777778,
              "#fb9f3a"
             ],
             [
              0.8888888888888888,
              "#fdca26"
             ],
             [
              1,
              "#f0f921"
             ]
            ],
            "type": "histogram2dcontour"
           }
          ],
          "mesh3d": [
           {
            "colorbar": {
             "outlinewidth": 0,
             "ticks": ""
            },
            "type": "mesh3d"
           }
          ],
          "parcoords": [
           {
            "line": {
             "colorbar": {
              "outlinewidth": 0,
              "ticks": ""
             }
            },
            "type": "parcoords"
           }
          ],
          "pie": [
           {
            "automargin": true,
            "type": "pie"
           }
          ],
          "scatter": [
           {
            "fillpattern": {
             "fillmode": "overlay",
             "size": 10,
             "solidity": 0.2
            },
            "type": "scatter"
           }
          ],
          "scatter3d": [
           {
            "line": {
             "colorbar": {
              "outlinewidth": 0,
              "ticks": ""
             }
            },
            "marker": {
             "colorbar": {
              "outlinewidth": 0,
              "ticks": ""
             }
            },
            "type": "scatter3d"
           }
          ],
          "scattercarpet": [
           {
            "marker": {
             "colorbar": {
              "outlinewidth": 0,
              "ticks": ""
             }
            },
            "type": "scattercarpet"
           }
          ],
          "scattergeo": [
           {
            "marker": {
             "colorbar": {
              "outlinewidth": 0,
              "ticks": ""
             }
            },
            "type": "scattergeo"
           }
          ],
          "scattergl": [
           {
            "marker": {
             "colorbar": {
              "outlinewidth": 0,
              "ticks": ""
             }
            },
            "type": "scattergl"
           }
          ],
          "scattermap": [
           {
            "marker": {
             "colorbar": {
              "outlinewidth": 0,
              "ticks": ""
             }
            },
            "type": "scattermap"
           }
          ],
          "scattermapbox": [
           {
            "marker": {
             "colorbar": {
              "outlinewidth": 0,
              "ticks": ""
             }
            },
            "type": "scattermapbox"
           }
          ],
          "scatterpolar": [
           {
            "marker": {
             "colorbar": {
              "outlinewidth": 0,
              "ticks": ""
             }
            },
            "type": "scatterpolar"
           }
          ],
          "scatterpolargl": [
           {
            "marker": {
             "colorbar": {
              "outlinewidth": 0,
              "ticks": ""
             }
            },
            "type": "scatterpolargl"
           }
          ],
          "scatterternary": [
           {
            "marker": {
             "colorbar": {
              "outlinewidth": 0,
              "ticks": ""
             }
            },
            "type": "scatterternary"
           }
          ],
          "surface": [
           {
            "colorbar": {
             "outlinewidth": 0,
             "ticks": ""
            },
            "colorscale": [
             [
              0,
              "#0d0887"
             ],
             [
              0.1111111111111111,
              "#46039f"
             ],
             [
              0.2222222222222222,
              "#7201a8"
             ],
             [
              0.3333333333333333,
              "#9c179e"
             ],
             [
              0.4444444444444444,
              "#bd3786"
             ],
             [
              0.5555555555555556,
              "#d8576b"
             ],
             [
              0.6666666666666666,
              "#ed7953"
             ],
             [
              0.7777777777777778,
              "#fb9f3a"
             ],
             [
              0.8888888888888888,
              "#fdca26"
             ],
             [
              1,
              "#f0f921"
             ]
            ],
            "type": "surface"
           }
          ],
          "table": [
           {
            "cells": {
             "fill": {
              "color": "#EBF0F8"
             },
             "line": {
              "color": "white"
             }
            },
            "header": {
             "fill": {
              "color": "#C8D4E3"
             },
             "line": {
              "color": "white"
             }
            },
            "type": "table"
           }
          ]
         },
         "layout": {
          "annotationdefaults": {
           "arrowcolor": "#2a3f5f",
           "arrowhead": 0,
           "arrowwidth": 1
          },
          "autotypenumbers": "strict",
          "coloraxis": {
           "colorbar": {
            "outlinewidth": 0,
            "ticks": ""
           }
          },
          "colorscale": {
           "diverging": [
            [
             0,
             "#8e0152"
            ],
            [
             0.1,
             "#c51b7d"
            ],
            [
             0.2,
             "#de77ae"
            ],
            [
             0.3,
             "#f1b6da"
            ],
            [
             0.4,
             "#fde0ef"
            ],
            [
             0.5,
             "#f7f7f7"
            ],
            [
             0.6,
             "#e6f5d0"
            ],
            [
             0.7,
             "#b8e186"
            ],
            [
             0.8,
             "#7fbc41"
            ],
            [
             0.9,
             "#4d9221"
            ],
            [
             1,
             "#276419"
            ]
           ],
           "sequential": [
            [
             0,
             "#0d0887"
            ],
            [
             0.1111111111111111,
             "#46039f"
            ],
            [
             0.2222222222222222,
             "#7201a8"
            ],
            [
             0.3333333333333333,
             "#9c179e"
            ],
            [
             0.4444444444444444,
             "#bd3786"
            ],
            [
             0.5555555555555556,
             "#d8576b"
            ],
            [
             0.6666666666666666,
             "#ed7953"
            ],
            [
             0.7777777777777778,
             "#fb9f3a"
            ],
            [
             0.8888888888888888,
             "#fdca26"
            ],
            [
             1,
             "#f0f921"
            ]
           ],
           "sequentialminus": [
            [
             0,
             "#0d0887"
            ],
            [
             0.1111111111111111,
             "#46039f"
            ],
            [
             0.2222222222222222,
             "#7201a8"
            ],
            [
             0.3333333333333333,
             "#9c179e"
            ],
            [
             0.4444444444444444,
             "#bd3786"
            ],
            [
             0.5555555555555556,
             "#d8576b"
            ],
            [
             0.6666666666666666,
             "#ed7953"
            ],
            [
             0.7777777777777778,
             "#fb9f3a"
            ],
            [
             0.8888888888888888,
             "#fdca26"
            ],
            [
             1,
             "#f0f921"
            ]
           ]
          },
          "colorway": [
           "#636efa",
           "#EF553B",
           "#00cc96",
           "#ab63fa",
           "#FFA15A",
           "#19d3f3",
           "#FF6692",
           "#B6E880",
           "#FF97FF",
           "#FECB52"
          ],
          "font": {
           "color": "#2a3f5f"
          },
          "geo": {
           "bgcolor": "white",
           "lakecolor": "white",
           "landcolor": "#E5ECF6",
           "showlakes": true,
           "showland": true,
           "subunitcolor": "white"
          },
          "hoverlabel": {
           "align": "left"
          },
          "hovermode": "closest",
          "mapbox": {
           "style": "light"
          },
          "paper_bgcolor": "white",
          "plot_bgcolor": "#E5ECF6",
          "polar": {
           "angularaxis": {
            "gridcolor": "white",
            "linecolor": "white",
            "ticks": ""
           },
           "bgcolor": "#E5ECF6",
           "radialaxis": {
            "gridcolor": "white",
            "linecolor": "white",
            "ticks": ""
           }
          },
          "scene": {
           "xaxis": {
            "backgroundcolor": "#E5ECF6",
            "gridcolor": "white",
            "gridwidth": 2,
            "linecolor": "white",
            "showbackground": true,
            "ticks": "",
            "zerolinecolor": "white"
           },
           "yaxis": {
            "backgroundcolor": "#E5ECF6",
            "gridcolor": "white",
            "gridwidth": 2,
            "linecolor": "white",
            "showbackground": true,
            "ticks": "",
            "zerolinecolor": "white"
           },
           "zaxis": {
            "backgroundcolor": "#E5ECF6",
            "gridcolor": "white",
            "gridwidth": 2,
            "linecolor": "white",
            "showbackground": true,
            "ticks": "",
            "zerolinecolor": "white"
           }
          },
          "shapedefaults": {
           "line": {
            "color": "#2a3f5f"
           }
          },
          "ternary": {
           "aaxis": {
            "gridcolor": "white",
            "linecolor": "white",
            "ticks": ""
           },
           "baxis": {
            "gridcolor": "white",
            "linecolor": "white",
            "ticks": ""
           },
           "bgcolor": "#E5ECF6",
           "caxis": {
            "gridcolor": "white",
            "linecolor": "white",
            "ticks": ""
           }
          },
          "title": {
           "x": 0.05
          },
          "xaxis": {
           "automargin": true,
           "gridcolor": "white",
           "linecolor": "white",
           "ticks": "",
           "title": {
            "standoff": 15
           },
           "zerolinecolor": "white",
           "zerolinewidth": 2
          },
          "yaxis": {
           "automargin": true,
           "gridcolor": "white",
           "linecolor": "white",
           "ticks": "",
           "title": {
            "standoff": 15
           },
           "zerolinecolor": "white",
           "zerolinewidth": 2
          }
         }
        },
        "title": {
         "text": "Most represented Models in the Dataset"
        },
        "xaxis": {
         "title": {
          "text": "Count"
         }
        },
        "yaxis": {
         "title": {
          "text": "Model"
         }
        }
       }
      }
     },
     "metadata": {},
     "output_type": "display_data"
    }
   ],
   "source": [
    "# Filter to models with more than min_observations\n",
    "counts=df['model'].value_counts()\n",
    "frequent_models = counts[counts >= min_observations].index\n",
    "\n",
    "# Filter the data to frequent models\n",
    "df = df[df['model'].isin(frequent_models)]\n",
    "popular_labels=frequent_models\n",
    "\n",
    "colors=['lightslategray',]*len(popular_labels)\n",
    "colors[0]='crimson'\n",
    "\n",
    "fig=go.Figure(data=[go.Bar(x=counts[:25],y=popular_labels,marker_color=colors,orientation='h')])\n",
    "fig.update_layout(title_text='Most represented Models in the Dataset',xaxis_title=\"Count\",yaxis_title=\"Model\")"
   ]
  },
  {
   "cell_type": "code",
   "execution_count": 332,
   "metadata": {},
   "outputs": [
    {
     "data": {
      "application/vnd.plotly.v1+json": {
       "config": {
        "plotlyServerURL": "https://plot.ly"
       },
       "data": [
        {
         "type": "bar",
         "x": [
          1970,
          1971,
          1972,
          1973,
          1974,
          1975,
          1976,
          1977,
          1978,
          1979,
          1980,
          1981,
          1982,
          1983,
          1984,
          1985,
          1986,
          1987,
          1988,
          1989,
          1990,
          1991,
          1992,
          1993,
          1994,
          1995,
          1996,
          1997,
          1998,
          1999,
          2000,
          2001,
          2002,
          2003,
          2004,
          2005,
          2006,
          2007,
          2008,
          2009,
          2010,
          2011,
          2012,
          2013,
          2014,
          2015,
          2016,
          2017,
          2018,
          2019,
          2020,
          2021,
          2022,
          2023,
          2024
         ],
         "y": [
          0,
          0,
          0,
          0,
          0,
          0,
          0,
          0,
          0,
          0,
          0,
          0,
          0,
          0,
          0,
          0,
          0,
          3,
          2,
          3,
          2,
          166,
          75,
          35,
          33,
          66,
          40,
          48,
          49,
          19,
          81,
          67,
          33,
          24,
          35,
          28,
          17,
          0,
          0,
          0,
          0,
          0,
          0,
          0,
          0,
          0,
          0,
          27,
          6,
          4,
          4,
          4,
          10,
          0,
          0
         ]
        }
       ],
       "layout": {
        "template": {
         "data": {
          "bar": [
           {
            "error_x": {
             "color": "#2a3f5f"
            },
            "error_y": {
             "color": "#2a3f5f"
            },
            "marker": {
             "line": {
              "color": "#E5ECF6",
              "width": 0.5
             },
             "pattern": {
              "fillmode": "overlay",
              "size": 10,
              "solidity": 0.2
             }
            },
            "type": "bar"
           }
          ],
          "barpolar": [
           {
            "marker": {
             "line": {
              "color": "#E5ECF6",
              "width": 0.5
             },
             "pattern": {
              "fillmode": "overlay",
              "size": 10,
              "solidity": 0.2
             }
            },
            "type": "barpolar"
           }
          ],
          "carpet": [
           {
            "aaxis": {
             "endlinecolor": "#2a3f5f",
             "gridcolor": "white",
             "linecolor": "white",
             "minorgridcolor": "white",
             "startlinecolor": "#2a3f5f"
            },
            "baxis": {
             "endlinecolor": "#2a3f5f",
             "gridcolor": "white",
             "linecolor": "white",
             "minorgridcolor": "white",
             "startlinecolor": "#2a3f5f"
            },
            "type": "carpet"
           }
          ],
          "choropleth": [
           {
            "colorbar": {
             "outlinewidth": 0,
             "ticks": ""
            },
            "type": "choropleth"
           }
          ],
          "contour": [
           {
            "colorbar": {
             "outlinewidth": 0,
             "ticks": ""
            },
            "colorscale": [
             [
              0,
              "#0d0887"
             ],
             [
              0.1111111111111111,
              "#46039f"
             ],
             [
              0.2222222222222222,
              "#7201a8"
             ],
             [
              0.3333333333333333,
              "#9c179e"
             ],
             [
              0.4444444444444444,
              "#bd3786"
             ],
             [
              0.5555555555555556,
              "#d8576b"
             ],
             [
              0.6666666666666666,
              "#ed7953"
             ],
             [
              0.7777777777777778,
              "#fb9f3a"
             ],
             [
              0.8888888888888888,
              "#fdca26"
             ],
             [
              1,
              "#f0f921"
             ]
            ],
            "type": "contour"
           }
          ],
          "contourcarpet": [
           {
            "colorbar": {
             "outlinewidth": 0,
             "ticks": ""
            },
            "type": "contourcarpet"
           }
          ],
          "heatmap": [
           {
            "colorbar": {
             "outlinewidth": 0,
             "ticks": ""
            },
            "colorscale": [
             [
              0,
              "#0d0887"
             ],
             [
              0.1111111111111111,
              "#46039f"
             ],
             [
              0.2222222222222222,
              "#7201a8"
             ],
             [
              0.3333333333333333,
              "#9c179e"
             ],
             [
              0.4444444444444444,
              "#bd3786"
             ],
             [
              0.5555555555555556,
              "#d8576b"
             ],
             [
              0.6666666666666666,
              "#ed7953"
             ],
             [
              0.7777777777777778,
              "#fb9f3a"
             ],
             [
              0.8888888888888888,
              "#fdca26"
             ],
             [
              1,
              "#f0f921"
             ]
            ],
            "type": "heatmap"
           }
          ],
          "histogram": [
           {
            "marker": {
             "pattern": {
              "fillmode": "overlay",
              "size": 10,
              "solidity": 0.2
             }
            },
            "type": "histogram"
           }
          ],
          "histogram2d": [
           {
            "colorbar": {
             "outlinewidth": 0,
             "ticks": ""
            },
            "colorscale": [
             [
              0,
              "#0d0887"
             ],
             [
              0.1111111111111111,
              "#46039f"
             ],
             [
              0.2222222222222222,
              "#7201a8"
             ],
             [
              0.3333333333333333,
              "#9c179e"
             ],
             [
              0.4444444444444444,
              "#bd3786"
             ],
             [
              0.5555555555555556,
              "#d8576b"
             ],
             [
              0.6666666666666666,
              "#ed7953"
             ],
             [
              0.7777777777777778,
              "#fb9f3a"
             ],
             [
              0.8888888888888888,
              "#fdca26"
             ],
             [
              1,
              "#f0f921"
             ]
            ],
            "type": "histogram2d"
           }
          ],
          "histogram2dcontour": [
           {
            "colorbar": {
             "outlinewidth": 0,
             "ticks": ""
            },
            "colorscale": [
             [
              0,
              "#0d0887"
             ],
             [
              0.1111111111111111,
              "#46039f"
             ],
             [
              0.2222222222222222,
              "#7201a8"
             ],
             [
              0.3333333333333333,
              "#9c179e"
             ],
             [
              0.4444444444444444,
              "#bd3786"
             ],
             [
              0.5555555555555556,
              "#d8576b"
             ],
             [
              0.6666666666666666,
              "#ed7953"
             ],
             [
              0.7777777777777778,
              "#fb9f3a"
             ],
             [
              0.8888888888888888,
              "#fdca26"
             ],
             [
              1,
              "#f0f921"
             ]
            ],
            "type": "histogram2dcontour"
           }
          ],
          "mesh3d": [
           {
            "colorbar": {
             "outlinewidth": 0,
             "ticks": ""
            },
            "type": "mesh3d"
           }
          ],
          "parcoords": [
           {
            "line": {
             "colorbar": {
              "outlinewidth": 0,
              "ticks": ""
             }
            },
            "type": "parcoords"
           }
          ],
          "pie": [
           {
            "automargin": true,
            "type": "pie"
           }
          ],
          "scatter": [
           {
            "fillpattern": {
             "fillmode": "overlay",
             "size": 10,
             "solidity": 0.2
            },
            "type": "scatter"
           }
          ],
          "scatter3d": [
           {
            "line": {
             "colorbar": {
              "outlinewidth": 0,
              "ticks": ""
             }
            },
            "marker": {
             "colorbar": {
              "outlinewidth": 0,
              "ticks": ""
             }
            },
            "type": "scatter3d"
           }
          ],
          "scattercarpet": [
           {
            "marker": {
             "colorbar": {
              "outlinewidth": 0,
              "ticks": ""
             }
            },
            "type": "scattercarpet"
           }
          ],
          "scattergeo": [
           {
            "marker": {
             "colorbar": {
              "outlinewidth": 0,
              "ticks": ""
             }
            },
            "type": "scattergeo"
           }
          ],
          "scattergl": [
           {
            "marker": {
             "colorbar": {
              "outlinewidth": 0,
              "ticks": ""
             }
            },
            "type": "scattergl"
           }
          ],
          "scattermap": [
           {
            "marker": {
             "colorbar": {
              "outlinewidth": 0,
              "ticks": ""
             }
            },
            "type": "scattermap"
           }
          ],
          "scattermapbox": [
           {
            "marker": {
             "colorbar": {
              "outlinewidth": 0,
              "ticks": ""
             }
            },
            "type": "scattermapbox"
           }
          ],
          "scatterpolar": [
           {
            "marker": {
             "colorbar": {
              "outlinewidth": 0,
              "ticks": ""
             }
            },
            "type": "scatterpolar"
           }
          ],
          "scatterpolargl": [
           {
            "marker": {
             "colorbar": {
              "outlinewidth": 0,
              "ticks": ""
             }
            },
            "type": "scatterpolargl"
           }
          ],
          "scatterternary": [
           {
            "marker": {
             "colorbar": {
              "outlinewidth": 0,
              "ticks": ""
             }
            },
            "type": "scatterternary"
           }
          ],
          "surface": [
           {
            "colorbar": {
             "outlinewidth": 0,
             "ticks": ""
            },
            "colorscale": [
             [
              0,
              "#0d0887"
             ],
             [
              0.1111111111111111,
              "#46039f"
             ],
             [
              0.2222222222222222,
              "#7201a8"
             ],
             [
              0.3333333333333333,
              "#9c179e"
             ],
             [
              0.4444444444444444,
              "#bd3786"
             ],
             [
              0.5555555555555556,
              "#d8576b"
             ],
             [
              0.6666666666666666,
              "#ed7953"
             ],
             [
              0.7777777777777778,
              "#fb9f3a"
             ],
             [
              0.8888888888888888,
              "#fdca26"
             ],
             [
              1,
              "#f0f921"
             ]
            ],
            "type": "surface"
           }
          ],
          "table": [
           {
            "cells": {
             "fill": {
              "color": "#EBF0F8"
             },
             "line": {
              "color": "white"
             }
            },
            "header": {
             "fill": {
              "color": "#C8D4E3"
             },
             "line": {
              "color": "white"
             }
            },
            "type": "table"
           }
          ]
         },
         "layout": {
          "annotationdefaults": {
           "arrowcolor": "#2a3f5f",
           "arrowhead": 0,
           "arrowwidth": 1
          },
          "autotypenumbers": "strict",
          "coloraxis": {
           "colorbar": {
            "outlinewidth": 0,
            "ticks": ""
           }
          },
          "colorscale": {
           "diverging": [
            [
             0,
             "#8e0152"
            ],
            [
             0.1,
             "#c51b7d"
            ],
            [
             0.2,
             "#de77ae"
            ],
            [
             0.3,
             "#f1b6da"
            ],
            [
             0.4,
             "#fde0ef"
            ],
            [
             0.5,
             "#f7f7f7"
            ],
            [
             0.6,
             "#e6f5d0"
            ],
            [
             0.7,
             "#b8e186"
            ],
            [
             0.8,
             "#7fbc41"
            ],
            [
             0.9,
             "#4d9221"
            ],
            [
             1,
             "#276419"
            ]
           ],
           "sequential": [
            [
             0,
             "#0d0887"
            ],
            [
             0.1111111111111111,
             "#46039f"
            ],
            [
             0.2222222222222222,
             "#7201a8"
            ],
            [
             0.3333333333333333,
             "#9c179e"
            ],
            [
             0.4444444444444444,
             "#bd3786"
            ],
            [
             0.5555555555555556,
             "#d8576b"
            ],
            [
             0.6666666666666666,
             "#ed7953"
            ],
            [
             0.7777777777777778,
             "#fb9f3a"
            ],
            [
             0.8888888888888888,
             "#fdca26"
            ],
            [
             1,
             "#f0f921"
            ]
           ],
           "sequentialminus": [
            [
             0,
             "#0d0887"
            ],
            [
             0.1111111111111111,
             "#46039f"
            ],
            [
             0.2222222222222222,
             "#7201a8"
            ],
            [
             0.3333333333333333,
             "#9c179e"
            ],
            [
             0.4444444444444444,
             "#bd3786"
            ],
            [
             0.5555555555555556,
             "#d8576b"
            ],
            [
             0.6666666666666666,
             "#ed7953"
            ],
            [
             0.7777777777777778,
             "#fb9f3a"
            ],
            [
             0.8888888888888888,
             "#fdca26"
            ],
            [
             1,
             "#f0f921"
            ]
           ]
          },
          "colorway": [
           "#636efa",
           "#EF553B",
           "#00cc96",
           "#ab63fa",
           "#FFA15A",
           "#19d3f3",
           "#FF6692",
           "#B6E880",
           "#FF97FF",
           "#FECB52"
          ],
          "font": {
           "color": "#2a3f5f"
          },
          "geo": {
           "bgcolor": "white",
           "lakecolor": "white",
           "landcolor": "#E5ECF6",
           "showlakes": true,
           "showland": true,
           "subunitcolor": "white"
          },
          "hoverlabel": {
           "align": "left"
          },
          "hovermode": "closest",
          "mapbox": {
           "style": "light"
          },
          "paper_bgcolor": "white",
          "plot_bgcolor": "#E5ECF6",
          "polar": {
           "angularaxis": {
            "gridcolor": "white",
            "linecolor": "white",
            "ticks": ""
           },
           "bgcolor": "#E5ECF6",
           "radialaxis": {
            "gridcolor": "white",
            "linecolor": "white",
            "ticks": ""
           }
          },
          "scene": {
           "xaxis": {
            "backgroundcolor": "#E5ECF6",
            "gridcolor": "white",
            "gridwidth": 2,
            "linecolor": "white",
            "showbackground": true,
            "ticks": "",
            "zerolinecolor": "white"
           },
           "yaxis": {
            "backgroundcolor": "#E5ECF6",
            "gridcolor": "white",
            "gridwidth": 2,
            "linecolor": "white",
            "showbackground": true,
            "ticks": "",
            "zerolinecolor": "white"
           },
           "zaxis": {
            "backgroundcolor": "#E5ECF6",
            "gridcolor": "white",
            "gridwidth": 2,
            "linecolor": "white",
            "showbackground": true,
            "ticks": "",
            "zerolinecolor": "white"
           }
          },
          "shapedefaults": {
           "line": {
            "color": "#2a3f5f"
           }
          },
          "ternary": {
           "aaxis": {
            "gridcolor": "white",
            "linecolor": "white",
            "ticks": ""
           },
           "baxis": {
            "gridcolor": "white",
            "linecolor": "white",
            "ticks": ""
           },
           "bgcolor": "#E5ECF6",
           "caxis": {
            "gridcolor": "white",
            "linecolor": "white",
            "ticks": ""
           }
          },
          "title": {
           "x": 0.05
          },
          "xaxis": {
           "automargin": true,
           "gridcolor": "white",
           "linecolor": "white",
           "ticks": "",
           "title": {
            "standoff": 15
           },
           "zerolinecolor": "white",
           "zerolinewidth": 2
          },
          "yaxis": {
           "automargin": true,
           "gridcolor": "white",
           "linecolor": "white",
           "ticks": "",
           "title": {
            "standoff": 15
           },
           "zerolinecolor": "white",
           "zerolinewidth": 2
          }
         }
        },
        "title": {
         "text": "Car year distribution"
        },
        "xaxis": {
         "title": {
          "text": "Year"
         }
        },
        "yaxis": {
         "title": {
          "text": "Count Cars sold"
         }
        }
       }
      }
     },
     "metadata": {},
     "output_type": "display_data"
    }
   ],
   "source": [
    "#distribution of number of cars over the years\n",
    "dic = {1970+i : sum(df['year']==1970+i) for i in range(55)}\n",
    "x_dic = [1970 + i for i in range(55)]\n",
    "y_dic = [dic[1970 + i] for i in range(55)]\n",
    "\n",
    "# Plot\n",
    "fig = go.Figure([go.Bar(x=x_dic, y=y_dic)])\n",
    "\n",
    "fig.update_layout(title=\"Car year distribution\",\n",
    "                  xaxis_title=\"Year\",\n",
    "                  yaxis_title=\"Count Cars sold\")\n",
    "\n",
    "\n",
    "fig.show()"
   ]
  },
  {
   "cell_type": "code",
   "execution_count": 333,
   "metadata": {},
   "outputs": [
    {
     "data": {
      "application/vnd.plotly.v1+json": {
       "config": {
        "plotlyServerURL": "https://plot.ly"
       },
       "data": [
        {
         "hole": 0.3,
         "hoverinfo": "label+percent+name",
         "insidetextorientation": "radial",
         "labels": [
          "manual",
          "automatic"
         ],
         "textinfo": "label+percent",
         "type": "pie",
         "values": [
          642,
          239
         ]
        }
       ],
       "layout": {
        "template": {
         "data": {
          "bar": [
           {
            "error_x": {
             "color": "#2a3f5f"
            },
            "error_y": {
             "color": "#2a3f5f"
            },
            "marker": {
             "line": {
              "color": "#E5ECF6",
              "width": 0.5
             },
             "pattern": {
              "fillmode": "overlay",
              "size": 10,
              "solidity": 0.2
             }
            },
            "type": "bar"
           }
          ],
          "barpolar": [
           {
            "marker": {
             "line": {
              "color": "#E5ECF6",
              "width": 0.5
             },
             "pattern": {
              "fillmode": "overlay",
              "size": 10,
              "solidity": 0.2
             }
            },
            "type": "barpolar"
           }
          ],
          "carpet": [
           {
            "aaxis": {
             "endlinecolor": "#2a3f5f",
             "gridcolor": "white",
             "linecolor": "white",
             "minorgridcolor": "white",
             "startlinecolor": "#2a3f5f"
            },
            "baxis": {
             "endlinecolor": "#2a3f5f",
             "gridcolor": "white",
             "linecolor": "white",
             "minorgridcolor": "white",
             "startlinecolor": "#2a3f5f"
            },
            "type": "carpet"
           }
          ],
          "choropleth": [
           {
            "colorbar": {
             "outlinewidth": 0,
             "ticks": ""
            },
            "type": "choropleth"
           }
          ],
          "contour": [
           {
            "colorbar": {
             "outlinewidth": 0,
             "ticks": ""
            },
            "colorscale": [
             [
              0,
              "#0d0887"
             ],
             [
              0.1111111111111111,
              "#46039f"
             ],
             [
              0.2222222222222222,
              "#7201a8"
             ],
             [
              0.3333333333333333,
              "#9c179e"
             ],
             [
              0.4444444444444444,
              "#bd3786"
             ],
             [
              0.5555555555555556,
              "#d8576b"
             ],
             [
              0.6666666666666666,
              "#ed7953"
             ],
             [
              0.7777777777777778,
              "#fb9f3a"
             ],
             [
              0.8888888888888888,
              "#fdca26"
             ],
             [
              1,
              "#f0f921"
             ]
            ],
            "type": "contour"
           }
          ],
          "contourcarpet": [
           {
            "colorbar": {
             "outlinewidth": 0,
             "ticks": ""
            },
            "type": "contourcarpet"
           }
          ],
          "heatmap": [
           {
            "colorbar": {
             "outlinewidth": 0,
             "ticks": ""
            },
            "colorscale": [
             [
              0,
              "#0d0887"
             ],
             [
              0.1111111111111111,
              "#46039f"
             ],
             [
              0.2222222222222222,
              "#7201a8"
             ],
             [
              0.3333333333333333,
              "#9c179e"
             ],
             [
              0.4444444444444444,
              "#bd3786"
             ],
             [
              0.5555555555555556,
              "#d8576b"
             ],
             [
              0.6666666666666666,
              "#ed7953"
             ],
             [
              0.7777777777777778,
              "#fb9f3a"
             ],
             [
              0.8888888888888888,
              "#fdca26"
             ],
             [
              1,
              "#f0f921"
             ]
            ],
            "type": "heatmap"
           }
          ],
          "histogram": [
           {
            "marker": {
             "pattern": {
              "fillmode": "overlay",
              "size": 10,
              "solidity": 0.2
             }
            },
            "type": "histogram"
           }
          ],
          "histogram2d": [
           {
            "colorbar": {
             "outlinewidth": 0,
             "ticks": ""
            },
            "colorscale": [
             [
              0,
              "#0d0887"
             ],
             [
              0.1111111111111111,
              "#46039f"
             ],
             [
              0.2222222222222222,
              "#7201a8"
             ],
             [
              0.3333333333333333,
              "#9c179e"
             ],
             [
              0.4444444444444444,
              "#bd3786"
             ],
             [
              0.5555555555555556,
              "#d8576b"
             ],
             [
              0.6666666666666666,
              "#ed7953"
             ],
             [
              0.7777777777777778,
              "#fb9f3a"
             ],
             [
              0.8888888888888888,
              "#fdca26"
             ],
             [
              1,
              "#f0f921"
             ]
            ],
            "type": "histogram2d"
           }
          ],
          "histogram2dcontour": [
           {
            "colorbar": {
             "outlinewidth": 0,
             "ticks": ""
            },
            "colorscale": [
             [
              0,
              "#0d0887"
             ],
             [
              0.1111111111111111,
              "#46039f"
             ],
             [
              0.2222222222222222,
              "#7201a8"
             ],
             [
              0.3333333333333333,
              "#9c179e"
             ],
             [
              0.4444444444444444,
              "#bd3786"
             ],
             [
              0.5555555555555556,
              "#d8576b"
             ],
             [
              0.6666666666666666,
              "#ed7953"
             ],
             [
              0.7777777777777778,
              "#fb9f3a"
             ],
             [
              0.8888888888888888,
              "#fdca26"
             ],
             [
              1,
              "#f0f921"
             ]
            ],
            "type": "histogram2dcontour"
           }
          ],
          "mesh3d": [
           {
            "colorbar": {
             "outlinewidth": 0,
             "ticks": ""
            },
            "type": "mesh3d"
           }
          ],
          "parcoords": [
           {
            "line": {
             "colorbar": {
              "outlinewidth": 0,
              "ticks": ""
             }
            },
            "type": "parcoords"
           }
          ],
          "pie": [
           {
            "automargin": true,
            "type": "pie"
           }
          ],
          "scatter": [
           {
            "fillpattern": {
             "fillmode": "overlay",
             "size": 10,
             "solidity": 0.2
            },
            "type": "scatter"
           }
          ],
          "scatter3d": [
           {
            "line": {
             "colorbar": {
              "outlinewidth": 0,
              "ticks": ""
             }
            },
            "marker": {
             "colorbar": {
              "outlinewidth": 0,
              "ticks": ""
             }
            },
            "type": "scatter3d"
           }
          ],
          "scattercarpet": [
           {
            "marker": {
             "colorbar": {
              "outlinewidth": 0,
              "ticks": ""
             }
            },
            "type": "scattercarpet"
           }
          ],
          "scattergeo": [
           {
            "marker": {
             "colorbar": {
              "outlinewidth": 0,
              "ticks": ""
             }
            },
            "type": "scattergeo"
           }
          ],
          "scattergl": [
           {
            "marker": {
             "colorbar": {
              "outlinewidth": 0,
              "ticks": ""
             }
            },
            "type": "scattergl"
           }
          ],
          "scattermap": [
           {
            "marker": {
             "colorbar": {
              "outlinewidth": 0,
              "ticks": ""
             }
            },
            "type": "scattermap"
           }
          ],
          "scattermapbox": [
           {
            "marker": {
             "colorbar": {
              "outlinewidth": 0,
              "ticks": ""
             }
            },
            "type": "scattermapbox"
           }
          ],
          "scatterpolar": [
           {
            "marker": {
             "colorbar": {
              "outlinewidth": 0,
              "ticks": ""
             }
            },
            "type": "scatterpolar"
           }
          ],
          "scatterpolargl": [
           {
            "marker": {
             "colorbar": {
              "outlinewidth": 0,
              "ticks": ""
             }
            },
            "type": "scatterpolargl"
           }
          ],
          "scatterternary": [
           {
            "marker": {
             "colorbar": {
              "outlinewidth": 0,
              "ticks": ""
             }
            },
            "type": "scatterternary"
           }
          ],
          "surface": [
           {
            "colorbar": {
             "outlinewidth": 0,
             "ticks": ""
            },
            "colorscale": [
             [
              0,
              "#0d0887"
             ],
             [
              0.1111111111111111,
              "#46039f"
             ],
             [
              0.2222222222222222,
              "#7201a8"
             ],
             [
              0.3333333333333333,
              "#9c179e"
             ],
             [
              0.4444444444444444,
              "#bd3786"
             ],
             [
              0.5555555555555556,
              "#d8576b"
             ],
             [
              0.6666666666666666,
              "#ed7953"
             ],
             [
              0.7777777777777778,
              "#fb9f3a"
             ],
             [
              0.8888888888888888,
              "#fdca26"
             ],
             [
              1,
              "#f0f921"
             ]
            ],
            "type": "surface"
           }
          ],
          "table": [
           {
            "cells": {
             "fill": {
              "color": "#EBF0F8"
             },
             "line": {
              "color": "white"
             }
            },
            "header": {
             "fill": {
              "color": "#C8D4E3"
             },
             "line": {
              "color": "white"
             }
            },
            "type": "table"
           }
          ]
         },
         "layout": {
          "annotationdefaults": {
           "arrowcolor": "#2a3f5f",
           "arrowhead": 0,
           "arrowwidth": 1
          },
          "autotypenumbers": "strict",
          "coloraxis": {
           "colorbar": {
            "outlinewidth": 0,
            "ticks": ""
           }
          },
          "colorscale": {
           "diverging": [
            [
             0,
             "#8e0152"
            ],
            [
             0.1,
             "#c51b7d"
            ],
            [
             0.2,
             "#de77ae"
            ],
            [
             0.3,
             "#f1b6da"
            ],
            [
             0.4,
             "#fde0ef"
            ],
            [
             0.5,
             "#f7f7f7"
            ],
            [
             0.6,
             "#e6f5d0"
            ],
            [
             0.7,
             "#b8e186"
            ],
            [
             0.8,
             "#7fbc41"
            ],
            [
             0.9,
             "#4d9221"
            ],
            [
             1,
             "#276419"
            ]
           ],
           "sequential": [
            [
             0,
             "#0d0887"
            ],
            [
             0.1111111111111111,
             "#46039f"
            ],
            [
             0.2222222222222222,
             "#7201a8"
            ],
            [
             0.3333333333333333,
             "#9c179e"
            ],
            [
             0.4444444444444444,
             "#bd3786"
            ],
            [
             0.5555555555555556,
             "#d8576b"
            ],
            [
             0.6666666666666666,
             "#ed7953"
            ],
            [
             0.7777777777777778,
             "#fb9f3a"
            ],
            [
             0.8888888888888888,
             "#fdca26"
            ],
            [
             1,
             "#f0f921"
            ]
           ],
           "sequentialminus": [
            [
             0,
             "#0d0887"
            ],
            [
             0.1111111111111111,
             "#46039f"
            ],
            [
             0.2222222222222222,
             "#7201a8"
            ],
            [
             0.3333333333333333,
             "#9c179e"
            ],
            [
             0.4444444444444444,
             "#bd3786"
            ],
            [
             0.5555555555555556,
             "#d8576b"
            ],
            [
             0.6666666666666666,
             "#ed7953"
            ],
            [
             0.7777777777777778,
             "#fb9f3a"
            ],
            [
             0.8888888888888888,
             "#fdca26"
            ],
            [
             1,
             "#f0f921"
            ]
           ]
          },
          "colorway": [
           "#636efa",
           "#EF553B",
           "#00cc96",
           "#ab63fa",
           "#FFA15A",
           "#19d3f3",
           "#FF6692",
           "#B6E880",
           "#FF97FF",
           "#FECB52"
          ],
          "font": {
           "color": "#2a3f5f"
          },
          "geo": {
           "bgcolor": "white",
           "lakecolor": "white",
           "landcolor": "#E5ECF6",
           "showlakes": true,
           "showland": true,
           "subunitcolor": "white"
          },
          "hoverlabel": {
           "align": "left"
          },
          "hovermode": "closest",
          "mapbox": {
           "style": "light"
          },
          "paper_bgcolor": "white",
          "plot_bgcolor": "#E5ECF6",
          "polar": {
           "angularaxis": {
            "gridcolor": "white",
            "linecolor": "white",
            "ticks": ""
           },
           "bgcolor": "#E5ECF6",
           "radialaxis": {
            "gridcolor": "white",
            "linecolor": "white",
            "ticks": ""
           }
          },
          "scene": {
           "xaxis": {
            "backgroundcolor": "#E5ECF6",
            "gridcolor": "white",
            "gridwidth": 2,
            "linecolor": "white",
            "showbackground": true,
            "ticks": "",
            "zerolinecolor": "white"
           },
           "yaxis": {
            "backgroundcolor": "#E5ECF6",
            "gridcolor": "white",
            "gridwidth": 2,
            "linecolor": "white",
            "showbackground": true,
            "ticks": "",
            "zerolinecolor": "white"
           },
           "zaxis": {
            "backgroundcolor": "#E5ECF6",
            "gridcolor": "white",
            "gridwidth": 2,
            "linecolor": "white",
            "showbackground": true,
            "ticks": "",
            "zerolinecolor": "white"
           }
          },
          "shapedefaults": {
           "line": {
            "color": "#2a3f5f"
           }
          },
          "ternary": {
           "aaxis": {
            "gridcolor": "white",
            "linecolor": "white",
            "ticks": ""
           },
           "baxis": {
            "gridcolor": "white",
            "linecolor": "white",
            "ticks": ""
           },
           "bgcolor": "#E5ECF6",
           "caxis": {
            "gridcolor": "white",
            "linecolor": "white",
            "ticks": ""
           }
          },
          "title": {
           "x": 0.05
          },
          "xaxis": {
           "automargin": true,
           "gridcolor": "white",
           "linecolor": "white",
           "ticks": "",
           "title": {
            "standoff": 15
           },
           "zerolinecolor": "white",
           "zerolinewidth": 2
          },
          "yaxis": {
           "automargin": true,
           "gridcolor": "white",
           "linecolor": "white",
           "ticks": "",
           "title": {
            "standoff": 15
           },
           "zerolinecolor": "white",
           "zerolinewidth": 2
          }
         }
        }
       }
      }
     },
     "metadata": {},
     "output_type": "display_data"
    }
   ],
   "source": [
    "# Distribution of transmission\n",
    "data_pie = df['transmission'].value_counts()\n",
    "\n",
    "fig = go.Figure(data=[go.Pie(labels=data_pie.index, values=data_pie.tolist(), textinfo='label+percent',insidetextorientation='radial')])\n",
    "\n",
    "fig.update_traces(hole=.3, hoverinfo=\"label+percent+name\")"
   ]
  },
  {
   "cell_type": "code",
   "execution_count": 334,
   "metadata": {},
   "outputs": [
    {
     "data": {
      "image/png": "[encoded data removed]",
      "text/plain": [
       "<Figure size 500x500 with 1 Axes>"
      ]
     },
     "metadata": {},
     "output_type": "display_data"
    },
    {
     "data": {
      "image/png": "[encoded data removed]",
      "text/plain": [
       "<Figure size 640x480 with 1 Axes>"
      ]
     },
     "metadata": {},
     "output_type": "display_data"
    }
   ],
   "source": [
    "# Replace sold_price with bid_amount and remove outliers\n",
    "df['sold_price'] = df['sold_price'].fillna(df['bid_amount'])\n",
    "df = df.dropna()\n",
    "\n",
    "# Remove outliers\n",
    "price_threshold = 1000000\n",
    "df.drop(df[df['sold_price'] >= price_threshold].index,inplace=True)\n",
    "\n",
    "# Plot distribution of sold_price\n",
    "sns.displot(df['sold_price'])\n",
    "fig = plt.figure()\n",
    "res = stats.probplot(df['sold_price'], plot=plt)\n"
   ]
  },
  {
   "cell_type": "code",
   "execution_count": 335,
   "metadata": {
    "collapsed": true,
    "execution": {
     "iopub.execute_input": "2025-03-25T15:40:36.204029Z",
     "iopub.status.busy": "2025-03-25T15:40:36.203659Z",
     "iopub.status.idle": "2025-03-25T15:40:38.622810Z",
     "shell.execute_reply": "2025-03-25T15:40:38.621756Z",
     "shell.execute_reply.started": "2025-03-25T15:40:36.203993Z"
    },
    "jupyter": {
     "outputs_hidden": true
    },
    "trusted": true
   },
   "outputs": [
    {
     "data": {
      "text/plain": [
       "array([[<Axes: title={'center': 'year'}>,\n",
       "        <Axes: title={'center': 'mileage'}>],\n",
       "       [<Axes: title={'center': 'sold_price'}>,\n",
       "        <Axes: title={'center': 'bid_amount'}>]], dtype=object)"
      ]
     },
     "execution_count": 335,
     "metadata": {},
     "output_type": "execute_result"
    },
    {
     "data": {
      "image/png": "[encoded data removed]",
      "text/plain": [
       "<Figure size 2000x1000 with 4 Axes>"
      ]
     },
     "metadata": {},
     "output_type": "display_data"
    }
   ],
   "source": [
    "# Data distribution\n",
    "df.hist(figsize=(20,10),bins = 50)"
   ]
  },
  {
   "cell_type": "code",
   "execution_count": 336,
   "metadata": {},
   "outputs": [],
   "source": [
    "# Weight by recency\n",
    "df['days_since_end'] = (pd.to_datetime(date.today()) - pd.to_datetime(df[\"end_date\"])).dt.days\n",
    "K = 1\n",
    "T = 360\n",
    "df['W'] = K*np.exp(-df['days_since_end']/T)\n"
   ]
  },
  {
   "cell_type": "code",
   "execution_count": 337,
   "metadata": {},
   "outputs": [
    {
     "data": {
      "image/png": "[encoded data removed]",
      "text/plain": [
       "<Figure size 500x500 with 1 Axes>"
      ]
     },
     "metadata": {},
     "output_type": "display_data"
    },
    {
     "data": {
      "image/png": "[encoded data removed]",
      "text/plain": [
       "<Figure size 640x480 with 1 Axes>"
      ]
     },
     "metadata": {},
     "output_type": "display_data"
    }
   ],
   "source": [
    "#Log transform sold_price & mileage\n",
    "df['sold_price'] = np.log(df['sold_price'])\n",
    "df['mileage'] = np.log1p(df['mileage'])\n",
    "\n",
    "sns.displot(df['sold_price'])\n",
    "fig = plt.figure()\n",
    "res = stats.probplot(df['sold_price'], plot=plt)"
   ]
  },
  {
   "cell_type": "code",
   "execution_count": 338,
   "metadata": {
    "execution": {
     "iopub.execute_input": "2025-03-25T15:44:52.717089Z",
     "iopub.status.busy": "2025-03-25T15:44:52.716713Z",
     "iopub.status.idle": "2025-03-25T15:44:52.754814Z",
     "shell.execute_reply": "2025-03-25T15:44:52.753706Z",
     "shell.execute_reply.started": "2025-03-25T15:44:52.717061Z"
    },
    "trusted": true
   },
   "outputs": [
    {
     "data": {
      "text/html": [
       "<div>\n",
       "<style scoped>\n",
       "    .dataframe tbody tr th:only-of-type {\n",
       "        vertical-align: middle;\n",
       "    }\n",
       "\n",
       "    .dataframe tbody tr th {\n",
       "        vertical-align: top;\n",
       "    }\n",
       "\n",
       "    .dataframe thead th {\n",
       "        text-align: right;\n",
       "    }\n",
       "</style>\n",
       "<table border=\"1\" class=\"dataframe\">\n",
       "  <thead>\n",
       "    <tr style=\"text-align: right;\">\n",
       "      <th></th>\n",
       "      <th>year</th>\n",
       "      <th>mileage</th>\n",
       "      <th>sold_price</th>\n",
       "      <th>bid_amount</th>\n",
       "      <th>days_since_end</th>\n",
       "      <th>W</th>\n",
       "    </tr>\n",
       "  </thead>\n",
       "  <tbody>\n",
       "    <tr>\n",
       "      <th>count</th>\n",
       "      <td>839.000000</td>\n",
       "      <td>839.000000</td>\n",
       "      <td>839.000000</td>\n",
       "      <td>839.000000</td>\n",
       "      <td>839.000000</td>\n",
       "      <td>839.000000</td>\n",
       "    </tr>\n",
       "    <tr>\n",
       "      <th>mean</th>\n",
       "      <td>1998.038141</td>\n",
       "      <td>10.459667</td>\n",
       "      <td>10.907631</td>\n",
       "      <td>71477.646007</td>\n",
       "      <td>1197.802145</td>\n",
       "      <td>0.149781</td>\n",
       "    </tr>\n",
       "    <tr>\n",
       "      <th>std</th>\n",
       "      <td>7.148007</td>\n",
       "      <td>1.348643</td>\n",
       "      <td>0.823775</td>\n",
       "      <td>47431.865380</td>\n",
       "      <td>753.129860</td>\n",
       "      <td>0.218530</td>\n",
       "    </tr>\n",
       "    <tr>\n",
       "      <th>min</th>\n",
       "      <td>1987.000000</td>\n",
       "      <td>0.000000</td>\n",
       "      <td>8.202482</td>\n",
       "      <td>3650.000000</td>\n",
       "      <td>8.000000</td>\n",
       "      <td>0.000096</td>\n",
       "    </tr>\n",
       "    <tr>\n",
       "      <th>25%</th>\n",
       "      <td>1992.000000</td>\n",
       "      <td>9.998843</td>\n",
       "      <td>10.556690</td>\n",
       "      <td>38435.000000</td>\n",
       "      <td>598.500000</td>\n",
       "      <td>0.009007</td>\n",
       "    </tr>\n",
       "    <tr>\n",
       "      <th>50%</th>\n",
       "      <td>1997.000000</td>\n",
       "      <td>10.778977</td>\n",
       "      <td>11.097410</td>\n",
       "      <td>66000.000000</td>\n",
       "      <td>1077.000000</td>\n",
       "      <td>0.050204</td>\n",
       "    </tr>\n",
       "    <tr>\n",
       "      <th>75%</th>\n",
       "      <td>2001.000000</td>\n",
       "      <td>11.298226</td>\n",
       "      <td>11.461632</td>\n",
       "      <td>95000.000000</td>\n",
       "      <td>1695.500000</td>\n",
       "      <td>0.189664</td>\n",
       "    </tr>\n",
       "    <tr>\n",
       "      <th>max</th>\n",
       "      <td>2022.000000</td>\n",
       "      <td>12.721889</td>\n",
       "      <td>12.660328</td>\n",
       "      <td>315000.000000</td>\n",
       "      <td>3330.000000</td>\n",
       "      <td>0.978023</td>\n",
       "    </tr>\n",
       "  </tbody>\n",
       "</table>\n",
       "</div>"
      ],
      "text/plain": [
       "              year     mileage  sold_price     bid_amount  days_since_end  \\\n",
       "count   839.000000  839.000000  839.000000     839.000000      839.000000   \n",
       "mean   1998.038141   10.459667   10.907631   71477.646007     1197.802145   \n",
       "std       7.148007    1.348643    0.823775   47431.865380      753.129860   \n",
       "min    1987.000000    0.000000    8.202482    3650.000000        8.000000   \n",
       "25%    1992.000000    9.998843   10.556690   38435.000000      598.500000   \n",
       "50%    1997.000000   10.778977   11.097410   66000.000000     1077.000000   \n",
       "75%    2001.000000   11.298226   11.461632   95000.000000     1695.500000   \n",
       "max    2022.000000   12.721889   12.660328  315000.000000     3330.000000   \n",
       "\n",
       "                W  \n",
       "count  839.000000  \n",
       "mean     0.149781  \n",
       "std      0.218530  \n",
       "min      0.000096  \n",
       "25%      0.009007  \n",
       "50%      0.050204  \n",
       "75%      0.189664  \n",
       "max      0.978023  "
      ]
     },
     "execution_count": 338,
     "metadata": {},
     "output_type": "execute_result"
    }
   ],
   "source": [
    "# Summarize transformed data\n",
    "df.describe()"
   ]
  },
  {
   "cell_type": "code",
   "execution_count": 339,
   "metadata": {
    "collapsed": true,
    "execution": {
     "iopub.execute_input": "2025-03-25T15:41:56.775341Z",
     "iopub.status.busy": "2025-03-25T15:41:56.774416Z",
     "iopub.status.idle": "2025-03-25T15:41:56.789549Z",
     "shell.execute_reply": "2025-03-25T15:41:56.788537Z",
     "shell.execute_reply.started": "2025-03-25T15:41:56.775289Z"
    },
    "jupyter": {
     "outputs_hidden": true
    },
    "trusted": true
   },
   "outputs": [
    {
     "data": {
      "text/html": [
       "<div>\n",
       "<style scoped>\n",
       "    .dataframe tbody tr th:only-of-type {\n",
       "        vertical-align: middle;\n",
       "    }\n",
       "\n",
       "    .dataframe tbody tr th {\n",
       "        vertical-align: top;\n",
       "    }\n",
       "\n",
       "    .dataframe thead th {\n",
       "        text-align: right;\n",
       "    }\n",
       "</style>\n",
       "<table border=\"1\" class=\"dataframe\">\n",
       "  <thead>\n",
       "    <tr style=\"text-align: right;\">\n",
       "      <th></th>\n",
       "      <th>year</th>\n",
       "      <th>model</th>\n",
       "      <th>mileage</th>\n",
       "      <th>normalized_color</th>\n",
       "      <th>transmission</th>\n",
       "      <th>W</th>\n",
       "    </tr>\n",
       "  </thead>\n",
       "  <tbody>\n",
       "    <tr>\n",
       "      <th>25</th>\n",
       "      <td>1992</td>\n",
       "      <td>Integra GS 5-Speed</td>\n",
       "      <td>11.759793</td>\n",
       "      <td>Black</td>\n",
       "      <td>manual</td>\n",
       "      <td>0.132361</td>\n",
       "    </tr>\n",
       "    <tr>\n",
       "      <th>26</th>\n",
       "      <td>2000</td>\n",
       "      <td>Integra GS 5-Speed</td>\n",
       "      <td>10.933125</td>\n",
       "      <td>Black</td>\n",
       "      <td>manual</td>\n",
       "      <td>0.037399</td>\n",
       "    </tr>\n",
       "    <tr>\n",
       "      <th>27</th>\n",
       "      <td>1992</td>\n",
       "      <td>Integra GS 5-Speed</td>\n",
       "      <td>11.964007</td>\n",
       "      <td>Brown</td>\n",
       "      <td>manual</td>\n",
       "      <td>0.038774</td>\n",
       "    </tr>\n",
       "    <tr>\n",
       "      <th>28</th>\n",
       "      <td>1992</td>\n",
       "      <td>Integra GS 5-Speed</td>\n",
       "      <td>11.751950</td>\n",
       "      <td>Black</td>\n",
       "      <td>manual</td>\n",
       "      <td>0.056573</td>\n",
       "    </tr>\n",
       "    <tr>\n",
       "      <th>29</th>\n",
       "      <td>1992</td>\n",
       "      <td>Integra GS 5-Speed</td>\n",
       "      <td>11.767575</td>\n",
       "      <td>Black</td>\n",
       "      <td>manual</td>\n",
       "      <td>0.277883</td>\n",
       "    </tr>\n",
       "    <tr>\n",
       "      <th>...</th>\n",
       "      <td>...</td>\n",
       "      <td>...</td>\n",
       "      <td>...</td>\n",
       "      <td>...</td>\n",
       "      <td>...</td>\n",
       "      <td>...</td>\n",
       "    </tr>\n",
       "    <tr>\n",
       "      <th>1043</th>\n",
       "      <td>2005</td>\n",
       "      <td>RSX Type-S 6-Speed</td>\n",
       "      <td>10.341775</td>\n",
       "      <td>Black</td>\n",
       "      <td>automatic</td>\n",
       "      <td>0.003802</td>\n",
       "    </tr>\n",
       "    <tr>\n",
       "      <th>1044</th>\n",
       "      <td>2002</td>\n",
       "      <td>RSX Type-S 6-Speed</td>\n",
       "      <td>9.741027</td>\n",
       "      <td>Blue</td>\n",
       "      <td>manual</td>\n",
       "      <td>0.002358</td>\n",
       "    </tr>\n",
       "    <tr>\n",
       "      <th>1045</th>\n",
       "      <td>2004</td>\n",
       "      <td>RSX Type-S 6-Speed</td>\n",
       "      <td>8.366603</td>\n",
       "      <td>Silver</td>\n",
       "      <td>automatic</td>\n",
       "      <td>0.002237</td>\n",
       "    </tr>\n",
       "    <tr>\n",
       "      <th>1046</th>\n",
       "      <td>2006</td>\n",
       "      <td>RSX Type-S 6-Speed</td>\n",
       "      <td>10.668979</td>\n",
       "      <td>Gray</td>\n",
       "      <td>manual</td>\n",
       "      <td>0.025279</td>\n",
       "    </tr>\n",
       "    <tr>\n",
       "      <th>1047</th>\n",
       "      <td>2006</td>\n",
       "      <td>RSX Type-S 6-Speed</td>\n",
       "      <td>11.141876</td>\n",
       "      <td>Red</td>\n",
       "      <td>manual</td>\n",
       "      <td>0.000945</td>\n",
       "    </tr>\n",
       "  </tbody>\n",
       "</table>\n",
       "<p>839 rows × 6 columns</p>\n",
       "</div>"
      ],
      "text/plain": [
       "      year               model    mileage normalized_color transmission  \\\n",
       "25    1992  Integra GS 5-Speed  11.759793            Black       manual   \n",
       "26    2000  Integra GS 5-Speed  10.933125            Black       manual   \n",
       "27    1992  Integra GS 5-Speed  11.964007            Brown       manual   \n",
       "28    1992  Integra GS 5-Speed  11.751950            Black       manual   \n",
       "29    1992  Integra GS 5-Speed  11.767575            Black       manual   \n",
       "...    ...                 ...        ...              ...          ...   \n",
       "1043  2005  RSX Type-S 6-Speed  10.341775            Black    automatic   \n",
       "1044  2002  RSX Type-S 6-Speed   9.741027             Blue       manual   \n",
       "1045  2004  RSX Type-S 6-Speed   8.366603           Silver    automatic   \n",
       "1046  2006  RSX Type-S 6-Speed  10.668979             Gray       manual   \n",
       "1047  2006  RSX Type-S 6-Speed  11.141876              Red       manual   \n",
       "\n",
       "             W  \n",
       "25    0.132361  \n",
       "26    0.037399  \n",
       "27    0.038774  \n",
       "28    0.056573  \n",
       "29    0.277883  \n",
       "...        ...  \n",
       "1043  0.003802  \n",
       "1044  0.002358  \n",
       "1045  0.002237  \n",
       "1046  0.025279  \n",
       "1047  0.000945  \n",
       "\n",
       "[839 rows x 6 columns]"
      ]
     },
     "execution_count": 339,
     "metadata": {},
     "output_type": "execute_result"
    }
   ],
   "source": [
    "# Prepare target and features\n",
    "y = df[\"sold_price\"]\n",
    "X = df.drop([\"sold_price\",\"bid_amount\",\"end_date\", \"status\", \"days_since_end\"],axis=1)\n",
    "X"
   ]
  },
  {
   "cell_type": "code",
   "execution_count": 340,
   "metadata": {},
   "outputs": [
    {
     "name": "stdout",
     "output_type": "stream",
     "text": [
      "Model Mapping: {'Integra GS 5-Speed': 0, 'Integra GS-R': 1, 'Integra GS-R 5-Speed': 2, 'Integra LS 5-Speed': 3, 'Integra Type R': 4, 'Legend L Coupe': 5, 'NSX': 6, 'NSX 5-Speed': 7, 'NSX Type S': 8, 'NSX-T': 9, 'NSX-T 5-Speed': 10, 'NSX-T 6-Speed': 11, 'RSX Type-S': 12, 'RSX Type-S 6-Speed': 13}\n",
      "Color Mapping: {'Black': 0, 'Blue': 1, 'Brown': 2, 'Gold': 3, 'Gray': 4, 'Green': 5, 'Orange': 6, 'Purple': 7, 'Red': 8, 'Silver': 9, 'Tan': 10, 'White': 11, 'Yellow': 12}\n",
      "Trans Mapping: {'automatic': 0, 'manual': 1}\n"
     ]
    },
    {
     "data": {
      "text/html": [
       "<div>\n",
       "<style scoped>\n",
       "    .dataframe tbody tr th:only-of-type {\n",
       "        vertical-align: middle;\n",
       "    }\n",
       "\n",
       "    .dataframe tbody tr th {\n",
       "        vertical-align: top;\n",
       "    }\n",
       "\n",
       "    .dataframe thead th {\n",
       "        text-align: right;\n",
       "    }\n",
       "</style>\n",
       "<table border=\"1\" class=\"dataframe\">\n",
       "  <thead>\n",
       "    <tr style=\"text-align: right;\">\n",
       "      <th></th>\n",
       "      <th>year</th>\n",
       "      <th>model</th>\n",
       "      <th>mileage</th>\n",
       "      <th>normalized_color</th>\n",
       "      <th>transmission</th>\n",
       "      <th>W</th>\n",
       "    </tr>\n",
       "  </thead>\n",
       "  <tbody>\n",
       "    <tr>\n",
       "      <th>25</th>\n",
       "      <td>1992</td>\n",
       "      <td>0</td>\n",
       "      <td>11.759793</td>\n",
       "      <td>0</td>\n",
       "      <td>1</td>\n",
       "      <td>0.132361</td>\n",
       "    </tr>\n",
       "    <tr>\n",
       "      <th>26</th>\n",
       "      <td>2000</td>\n",
       "      <td>0</td>\n",
       "      <td>10.933125</td>\n",
       "      <td>0</td>\n",
       "      <td>1</td>\n",
       "      <td>0.037399</td>\n",
       "    </tr>\n",
       "    <tr>\n",
       "      <th>27</th>\n",
       "      <td>1992</td>\n",
       "      <td>0</td>\n",
       "      <td>11.964007</td>\n",
       "      <td>2</td>\n",
       "      <td>1</td>\n",
       "      <td>0.038774</td>\n",
       "    </tr>\n",
       "    <tr>\n",
       "      <th>28</th>\n",
       "      <td>1992</td>\n",
       "      <td>0</td>\n",
       "      <td>11.751950</td>\n",
       "      <td>0</td>\n",
       "      <td>1</td>\n",
       "      <td>0.056573</td>\n",
       "    </tr>\n",
       "    <tr>\n",
       "      <th>29</th>\n",
       "      <td>1992</td>\n",
       "      <td>0</td>\n",
       "      <td>11.767575</td>\n",
       "      <td>0</td>\n",
       "      <td>1</td>\n",
       "      <td>0.277883</td>\n",
       "    </tr>\n",
       "    <tr>\n",
       "      <th>...</th>\n",
       "      <td>...</td>\n",
       "      <td>...</td>\n",
       "      <td>...</td>\n",
       "      <td>...</td>\n",
       "      <td>...</td>\n",
       "      <td>...</td>\n",
       "    </tr>\n",
       "    <tr>\n",
       "      <th>1043</th>\n",
       "      <td>2005</td>\n",
       "      <td>13</td>\n",
       "      <td>10.341775</td>\n",
       "      <td>0</td>\n",
       "      <td>0</td>\n",
       "      <td>0.003802</td>\n",
       "    </tr>\n",
       "    <tr>\n",
       "      <th>1044</th>\n",
       "      <td>2002</td>\n",
       "      <td>13</td>\n",
       "      <td>9.741027</td>\n",
       "      <td>1</td>\n",
       "      <td>1</td>\n",
       "      <td>0.002358</td>\n",
       "    </tr>\n",
       "    <tr>\n",
       "      <th>1045</th>\n",
       "      <td>2004</td>\n",
       "      <td>13</td>\n",
       "      <td>8.366603</td>\n",
       "      <td>9</td>\n",
       "      <td>0</td>\n",
       "      <td>0.002237</td>\n",
       "    </tr>\n",
       "    <tr>\n",
       "      <th>1046</th>\n",
       "      <td>2006</td>\n",
       "      <td>13</td>\n",
       "      <td>10.668979</td>\n",
       "      <td>4</td>\n",
       "      <td>1</td>\n",
       "      <td>0.025279</td>\n",
       "    </tr>\n",
       "    <tr>\n",
       "      <th>1047</th>\n",
       "      <td>2006</td>\n",
       "      <td>13</td>\n",
       "      <td>11.141876</td>\n",
       "      <td>8</td>\n",
       "      <td>1</td>\n",
       "      <td>0.000945</td>\n",
       "    </tr>\n",
       "  </tbody>\n",
       "</table>\n",
       "<p>839 rows × 6 columns</p>\n",
       "</div>"
      ],
      "text/plain": [
       "      year  model    mileage  normalized_color  transmission         W\n",
       "25    1992      0  11.759793                 0             1  0.132361\n",
       "26    2000      0  10.933125                 0             1  0.037399\n",
       "27    1992      0  11.964007                 2             1  0.038774\n",
       "28    1992      0  11.751950                 0             1  0.056573\n",
       "29    1992      0  11.767575                 0             1  0.277883\n",
       "...    ...    ...        ...               ...           ...       ...\n",
       "1043  2005     13  10.341775                 0             0  0.003802\n",
       "1044  2002     13   9.741027                 1             1  0.002358\n",
       "1045  2004     13   8.366603                 9             0  0.002237\n",
       "1046  2006     13  10.668979                 4             1  0.025279\n",
       "1047  2006     13  11.141876                 8             1  0.000945\n",
       "\n",
       "[839 rows x 6 columns]"
      ]
     },
     "execution_count": 340,
     "metadata": {},
     "output_type": "execute_result"
    }
   ],
   "source": [
    "# Encode categorical features\n",
    "Lbl_model = LabelEncoder()\n",
    "Lbl_color = LabelEncoder()\n",
    "Lbl_trans = LabelEncoder()\n",
    "\n",
    "#df.make=Lbl.fit_transform(df.make)\n",
    "X.model=Lbl_model.fit_transform(df.model)\n",
    "print(\"Model Mapping:\", dict(zip(Lbl_model.classes_, Lbl_model.transform(Lbl_model.classes_))))\n",
    "X.normalized_color=Lbl_color.fit_transform(df.normalized_color)\n",
    "print(\"Color Mapping:\", dict(zip(Lbl_color.classes_, Lbl_color.transform(Lbl_color.classes_))))\n",
    "X.transmission =Lbl_trans.fit_transform(df.transmission)\n",
    "print(\"Trans Mapping:\", dict(zip(Lbl_trans.classes_, Lbl_trans.transform(Lbl_trans.classes_))))\n",
    "X"
   ]
  },
  {
   "cell_type": "code",
   "execution_count": 341,
   "metadata": {
    "execution": {
     "iopub.execute_input": "2025-03-25T15:42:08.395704Z",
     "iopub.status.busy": "2025-03-25T15:42:08.394591Z",
     "iopub.status.idle": "2025-03-25T15:42:10.228410Z",
     "shell.execute_reply": "2025-03-25T15:42:10.227347Z",
     "shell.execute_reply.started": "2025-03-25T15:42:08.395668Z"
    },
    "trusted": true
   },
   "outputs": [
    {
     "name": "stdout",
     "output_type": "stream",
     "text": [
      "Random Forest Regressor Train Score is :  0.8767340990885085\n",
      "Random Forest Regressor Test Score is :  0.8107616521639389\n"
     ]
    },
    {
     "data": {
      "text/plain": [
       "array([0.14140109, 0.50441056, 0.31703518, 0.00837358, 0.00414509,\n",
       "       0.0246345 ])"
      ]
     },
     "execution_count": 341,
     "metadata": {},
     "output_type": "execute_result"
    }
   ],
   "source": [
    "# Fit Model\n",
    "# Features\n",
    "# year\tmodel\tmileage\tnormalized_color\ttransmission\n",
    "\n",
    "X_train, X_test, y_train, y_test = train_test_split(X, y, test_size=0.20, random_state=42, shuffle = True)\n",
    "\n",
    "car_model_rf = RandomForestRegressor(n_estimators=300, random_state=33, monotonic_cst = [0,0,-1,0,0,0])\n",
    "car_model_rf.fit(X_train,y_train, sample_weight=X_train['W'])\n",
    "print('Random Forest Regressor Train Score is : ' ,  car_model_rf.score(X_train, y_train))\n",
    "print('Random Forest Regressor Test Score is : ' , car_model_rf.score(X_test, y_test)) \n",
    "\n",
    "predicted_rf = pd.DataFrame(car_model_rf.predict(X_test), index=X_test.index, columns=['predicted_rf'])\n",
    "car_model_rf.feature_importances_\n",
    "\n",
    "#car_model_xgb = XGBRegressor(n_estimators=150, random_state=33)\n",
    "#car_model_xgb.fit(X_train,y_train, sample_weight=X_train['W'])\n",
    "#print('XGB Regressor Train Score is : ' ,  car_model_xgb.score(X_train, y_train))\n",
    "#print('XGB Regressor Test Score is : ' , car_model_xgb.score(X_test, y_test)) \n",
    "#predicted_xgb = pd.DataFrame(car_model_xgb.predict(X_test), index=X_test.index, columns=['predicted_xgb'])\n"
   ]
  },
  {
   "cell_type": "code",
   "execution_count": 342,
   "metadata": {},
   "outputs": [
    {
     "data": {
      "text/html": [
       "<div>\n",
       "<style scoped>\n",
       "    .dataframe tbody tr th:only-of-type {\n",
       "        vertical-align: middle;\n",
       "    }\n",
       "\n",
       "    .dataframe tbody tr th {\n",
       "        vertical-align: top;\n",
       "    }\n",
       "\n",
       "    .dataframe thead th {\n",
       "        text-align: right;\n",
       "    }\n",
       "</style>\n",
       "<table border=\"1\" class=\"dataframe\">\n",
       "  <thead>\n",
       "    <tr style=\"text-align: right;\">\n",
       "      <th></th>\n",
       "      <th>year</th>\n",
       "      <th>model</th>\n",
       "      <th>mileage</th>\n",
       "      <th>normalized_color</th>\n",
       "      <th>transmission</th>\n",
       "      <th>W</th>\n",
       "    </tr>\n",
       "  </thead>\n",
       "  <tbody>\n",
       "    <tr>\n",
       "      <th>371</th>\n",
       "      <td>2018</td>\n",
       "      <td>NSX</td>\n",
       "      <td>8.987322</td>\n",
       "      <td>Black</td>\n",
       "      <td>automatic</td>\n",
       "      <td>0.212838</td>\n",
       "    </tr>\n",
       "    <tr>\n",
       "      <th>1034</th>\n",
       "      <td>2004</td>\n",
       "      <td>RSX Type-S 6-Speed</td>\n",
       "      <td>10.085851</td>\n",
       "      <td>Black</td>\n",
       "      <td>manual</td>\n",
       "      <td>0.514845</td>\n",
       "    </tr>\n",
       "    <tr>\n",
       "      <th>161</th>\n",
       "      <td>2001</td>\n",
       "      <td>Integra Type R</td>\n",
       "      <td>10.373522</td>\n",
       "      <td>Yellow</td>\n",
       "      <td>manual</td>\n",
       "      <td>0.128378</td>\n",
       "    </tr>\n",
       "    <tr>\n",
       "      <th>149</th>\n",
       "      <td>2000</td>\n",
       "      <td>Integra Type R</td>\n",
       "      <td>10.736418</td>\n",
       "      <td>Yellow</td>\n",
       "      <td>manual</td>\n",
       "      <td>0.002978</td>\n",
       "    </tr>\n",
       "    <tr>\n",
       "      <th>981</th>\n",
       "      <td>2022</td>\n",
       "      <td>NSX Type S</td>\n",
       "      <td>3.713572</td>\n",
       "      <td>Black</td>\n",
       "      <td>automatic</td>\n",
       "      <td>0.109275</td>\n",
       "    </tr>\n",
       "    <tr>\n",
       "      <th>...</th>\n",
       "      <td>...</td>\n",
       "      <td>...</td>\n",
       "      <td>...</td>\n",
       "      <td>...</td>\n",
       "      <td>...</td>\n",
       "      <td>...</td>\n",
       "    </tr>\n",
       "    <tr>\n",
       "      <th>756</th>\n",
       "      <td>1995</td>\n",
       "      <td>NSX-T 5-Speed</td>\n",
       "      <td>6.398595</td>\n",
       "      <td>Green</td>\n",
       "      <td>automatic</td>\n",
       "      <td>0.003909</td>\n",
       "    </tr>\n",
       "    <tr>\n",
       "      <th>960</th>\n",
       "      <td>2002</td>\n",
       "      <td>NSX-T 6-Speed</td>\n",
       "      <td>9.105091</td>\n",
       "      <td>Red</td>\n",
       "      <td>automatic</td>\n",
       "      <td>0.000539</td>\n",
       "    </tr>\n",
       "    <tr>\n",
       "      <th>881</th>\n",
       "      <td>2002</td>\n",
       "      <td>NSX-T 6-Speed</td>\n",
       "      <td>7.937732</td>\n",
       "      <td>Silver</td>\n",
       "      <td>manual</td>\n",
       "      <td>0.086534</td>\n",
       "    </tr>\n",
       "    <tr>\n",
       "      <th>968</th>\n",
       "      <td>2002</td>\n",
       "      <td>NSX-T 6-Speed</td>\n",
       "      <td>10.799596</td>\n",
       "      <td>Yellow</td>\n",
       "      <td>manual</td>\n",
       "      <td>0.953875</td>\n",
       "    </tr>\n",
       "    <tr>\n",
       "      <th>715</th>\n",
       "      <td>1996</td>\n",
       "      <td>NSX-T</td>\n",
       "      <td>10.491302</td>\n",
       "      <td>Red</td>\n",
       "      <td>manual</td>\n",
       "      <td>0.001065</td>\n",
       "    </tr>\n",
       "  </tbody>\n",
       "</table>\n",
       "<p>168 rows × 6 columns</p>\n",
       "</div>"
      ],
      "text/plain": [
       "      year               model    mileage normalized_color transmission  \\\n",
       "371   2018                 NSX   8.987322            Black    automatic   \n",
       "1034  2004  RSX Type-S 6-Speed  10.085851            Black       manual   \n",
       "161   2001      Integra Type R  10.373522           Yellow       manual   \n",
       "149   2000      Integra Type R  10.736418           Yellow       manual   \n",
       "981   2022          NSX Type S   3.713572            Black    automatic   \n",
       "...    ...                 ...        ...              ...          ...   \n",
       "756   1995       NSX-T 5-Speed   6.398595            Green    automatic   \n",
       "960   2002       NSX-T 6-Speed   9.105091              Red    automatic   \n",
       "881   2002       NSX-T 6-Speed   7.937732           Silver       manual   \n",
       "968   2002       NSX-T 6-Speed  10.799596           Yellow       manual   \n",
       "715   1996               NSX-T  10.491302              Red       manual   \n",
       "\n",
       "             W  \n",
       "371   0.212838  \n",
       "1034  0.514845  \n",
       "161   0.128378  \n",
       "149   0.002978  \n",
       "981   0.109275  \n",
       "...        ...  \n",
       "756   0.003909  \n",
       "960   0.000539  \n",
       "881   0.086534  \n",
       "968   0.953875  \n",
       "715   0.001065  \n",
       "\n",
       "[168 rows x 6 columns]"
      ]
     },
     "execution_count": 342,
     "metadata": {},
     "output_type": "execute_result"
    }
   ],
   "source": [
    "# Inverse transform features\n",
    "X_analysis = X_test.copy()\n",
    "X_analysis.model = Lbl_model.inverse_transform(X_test.model)\n",
    "X_analysis.normalized_color = Lbl_color.inverse_transform(X_test.normalized_color)\n",
    "X_analysis.transmission = Lbl_trans.inverse_transform(X_test.transmission)\n",
    "X_analysis"
   ]
  },
  {
   "cell_type": "code",
   "execution_count": 343,
   "metadata": {
    "execution": {
     "iopub.execute_input": "2025-03-25T16:21:27.420545Z",
     "iopub.status.busy": "2025-03-25T16:21:27.420165Z",
     "iopub.status.idle": "2025-03-25T16:21:27.431906Z",
     "shell.execute_reply": "2025-03-25T16:21:27.430768Z",
     "shell.execute_reply.started": "2025-03-25T16:21:27.420515Z"
    },
    "trusted": true
   },
   "outputs": [
    {
     "data": {
      "text/html": [
       "<div>\n",
       "<style scoped>\n",
       "    .dataframe tbody tr th:only-of-type {\n",
       "        vertical-align: middle;\n",
       "    }\n",
       "\n",
       "    .dataframe tbody tr th {\n",
       "        vertical-align: top;\n",
       "    }\n",
       "\n",
       "    .dataframe thead th {\n",
       "        text-align: right;\n",
       "    }\n",
       "</style>\n",
       "<table border=\"1\" class=\"dataframe\">\n",
       "  <thead>\n",
       "    <tr style=\"text-align: right;\">\n",
       "      <th></th>\n",
       "      <th>sold_price</th>\n",
       "      <th>year</th>\n",
       "      <th>model</th>\n",
       "      <th>mileage</th>\n",
       "      <th>normalized_color</th>\n",
       "      <th>transmission</th>\n",
       "      <th>W</th>\n",
       "      <th>predicted_rf</th>\n",
       "    </tr>\n",
       "  </thead>\n",
       "  <tbody>\n",
       "    <tr>\n",
       "      <th>371</th>\n",
       "      <td>121000.0</td>\n",
       "      <td>2018</td>\n",
       "      <td>NSX</td>\n",
       "      <td>8000.0</td>\n",
       "      <td>Black</td>\n",
       "      <td>automatic</td>\n",
       "      <td>0.212838</td>\n",
       "      <td>135529.395824</td>\n",
       "    </tr>\n",
       "    <tr>\n",
       "      <th>1034</th>\n",
       "      <td>18050.0</td>\n",
       "      <td>2004</td>\n",
       "      <td>RSX Type-S 6-Speed</td>\n",
       "      <td>24000.0</td>\n",
       "      <td>Black</td>\n",
       "      <td>manual</td>\n",
       "      <td>0.514845</td>\n",
       "      <td>41616.667321</td>\n",
       "    </tr>\n",
       "    <tr>\n",
       "      <th>161</th>\n",
       "      <td>44100.0</td>\n",
       "      <td>2001</td>\n",
       "      <td>Integra Type R</td>\n",
       "      <td>32000.0</td>\n",
       "      <td>Yellow</td>\n",
       "      <td>manual</td>\n",
       "      <td>0.128378</td>\n",
       "      <td>63310.840910</td>\n",
       "    </tr>\n",
       "    <tr>\n",
       "      <th>149</th>\n",
       "      <td>30750.0</td>\n",
       "      <td>2000</td>\n",
       "      <td>Integra Type R</td>\n",
       "      <td>46000.0</td>\n",
       "      <td>Yellow</td>\n",
       "      <td>manual</td>\n",
       "      <td>0.002978</td>\n",
       "      <td>45312.593006</td>\n",
       "    </tr>\n",
       "    <tr>\n",
       "      <th>981</th>\n",
       "      <td>270002.0</td>\n",
       "      <td>2022</td>\n",
       "      <td>NSX Type S</td>\n",
       "      <td>40.0</td>\n",
       "      <td>Black</td>\n",
       "      <td>automatic</td>\n",
       "      <td>0.109275</td>\n",
       "      <td>212700.216163</td>\n",
       "    </tr>\n",
       "    <tr>\n",
       "      <th>...</th>\n",
       "      <td>...</td>\n",
       "      <td>...</td>\n",
       "      <td>...</td>\n",
       "      <td>...</td>\n",
       "      <td>...</td>\n",
       "      <td>...</td>\n",
       "      <td>...</td>\n",
       "      <td>...</td>\n",
       "    </tr>\n",
       "    <tr>\n",
       "      <th>756</th>\n",
       "      <td>60000.0</td>\n",
       "      <td>1995</td>\n",
       "      <td>NSX-T 5-Speed</td>\n",
       "      <td>600.0</td>\n",
       "      <td>Green</td>\n",
       "      <td>automatic</td>\n",
       "      <td>0.003909</td>\n",
       "      <td>143944.049503</td>\n",
       "    </tr>\n",
       "    <tr>\n",
       "      <th>960</th>\n",
       "      <td>85000.0</td>\n",
       "      <td>2002</td>\n",
       "      <td>NSX-T 6-Speed</td>\n",
       "      <td>9000.0</td>\n",
       "      <td>Red</td>\n",
       "      <td>automatic</td>\n",
       "      <td>0.000539</td>\n",
       "      <td>150358.343879</td>\n",
       "    </tr>\n",
       "    <tr>\n",
       "      <th>881</th>\n",
       "      <td>103103.0</td>\n",
       "      <td>2002</td>\n",
       "      <td>NSX-T 6-Speed</td>\n",
       "      <td>2800.0</td>\n",
       "      <td>Silver</td>\n",
       "      <td>manual</td>\n",
       "      <td>0.086534</td>\n",
       "      <td>199848.096836</td>\n",
       "    </tr>\n",
       "    <tr>\n",
       "      <th>968</th>\n",
       "      <td>110900.0</td>\n",
       "      <td>2002</td>\n",
       "      <td>NSX-T 6-Speed</td>\n",
       "      <td>49000.0</td>\n",
       "      <td>Yellow</td>\n",
       "      <td>manual</td>\n",
       "      <td>0.953875</td>\n",
       "      <td>93697.353580</td>\n",
       "    </tr>\n",
       "    <tr>\n",
       "      <th>715</th>\n",
       "      <td>53000.0</td>\n",
       "      <td>1996</td>\n",
       "      <td>NSX-T</td>\n",
       "      <td>36000.0</td>\n",
       "      <td>Red</td>\n",
       "      <td>manual</td>\n",
       "      <td>0.001065</td>\n",
       "      <td>77489.498780</td>\n",
       "    </tr>\n",
       "  </tbody>\n",
       "</table>\n",
       "<p>168 rows × 8 columns</p>\n",
       "</div>"
      ],
      "text/plain": [
       "      sold_price  year               model  mileage normalized_color  \\\n",
       "371     121000.0  2018                 NSX   8000.0            Black   \n",
       "1034     18050.0  2004  RSX Type-S 6-Speed  24000.0            Black   \n",
       "161      44100.0  2001      Integra Type R  32000.0           Yellow   \n",
       "149      30750.0  2000      Integra Type R  46000.0           Yellow   \n",
       "981     270002.0  2022          NSX Type S     40.0            Black   \n",
       "...          ...   ...                 ...      ...              ...   \n",
       "756      60000.0  1995       NSX-T 5-Speed    600.0            Green   \n",
       "960      85000.0  2002       NSX-T 6-Speed   9000.0              Red   \n",
       "881     103103.0  2002       NSX-T 6-Speed   2800.0           Silver   \n",
       "968     110900.0  2002       NSX-T 6-Speed  49000.0           Yellow   \n",
       "715      53000.0  1996               NSX-T  36000.0              Red   \n",
       "\n",
       "     transmission         W   predicted_rf  \n",
       "371     automatic  0.212838  135529.395824  \n",
       "1034       manual  0.514845   41616.667321  \n",
       "161        manual  0.128378   63310.840910  \n",
       "149        manual  0.002978   45312.593006  \n",
       "981     automatic  0.109275  212700.216163  \n",
       "...           ...       ...            ...  \n",
       "756     automatic  0.003909  143944.049503  \n",
       "960     automatic  0.000539  150358.343879  \n",
       "881        manual  0.086534  199848.096836  \n",
       "968        manual  0.953875   93697.353580  \n",
       "715        manual  0.001065   77489.498780  \n",
       "\n",
       "[168 rows x 8 columns]"
      ]
     },
     "execution_count": 343,
     "metadata": {},
     "output_type": "execute_result"
    }
   ],
   "source": [
    "# Analyze Resulst: Add target and predicted values\n",
    "X_analysis = pd.merge(y_test, X_analysis, how='inner', left_index=True, right_index=True)\n",
    "#X_analysis = pd.merge(X_analysis, predicted_xgb, how='inner', left_index=True, right_index=True)\n",
    "#X_analysis.predicted_xgb = np.exp(X_analysis.predicted_xgb)\n",
    "\n",
    "X_analysis = pd.merge(X_analysis, predicted_rf, how='inner', left_index=True, right_index=True)\n",
    "X_analysis.sold_price = np.exp(X_analysis.sold_price)\n",
    "X_analysis.predicted_rf = np.exp(X_analysis.predicted_rf)\n",
    "X_analysis.mileage = np.exp(X_analysis.mileage) - 1\n",
    "X_analysis"
   ]
  },
  {
   "cell_type": "code",
   "execution_count": 344,
   "metadata": {},
   "outputs": [
    {
     "data": {
      "text/plain": [
       "Price Range\n",
       "50000 - 100000     70\n",
       "0 - 50000          52\n",
       "100000 - 150000    36\n",
       "150000 - 200000     8\n",
       "250000 - 300000     1\n",
       "200000 - 250000     1\n",
       "Name: count, dtype: int64"
      ]
     },
     "execution_count": 344,
     "metadata": {},
     "output_type": "execute_result"
    }
   ],
   "source": [
    "# Define price ranges\n",
    "def getrange(Price):\n",
    "    if (Price >= 0 and Price < 50000):\n",
    "        return '0 - 50000'\n",
    "    if (Price >= 50000 and Price < 100000):\n",
    "        return '50000 - 100000'\n",
    "    if (Price >= 100000 and Price < 150000):\n",
    "        return '100000 - 150000'\n",
    "    if (Price >= 150000 and Price < 200000):\n",
    "        return '150000 - 200000'\n",
    "    if (Price >= 200000 and Price < 250000):\n",
    "        return '200000 - 250000'\n",
    "    if (Price >= 250000 and Price < 300000):\n",
    "        return '250000 - 300000'\n",
    "    if (Price >= 300000 and Price < 350000):\n",
    "        return '300000 - 350000'\n",
    "    if (Price >= 350000):\n",
    "        return 'Over 350000'\n",
    "X_analysis['Price Range'] = X_analysis['sold_price'].apply(lambda x:getrange(x))\n",
    "\n",
    "X_analysis['Price Range'].value_counts()"
   ]
  },
  {
   "cell_type": "code",
   "execution_count": 345,
   "metadata": {
    "execution": {
     "iopub.execute_input": "2025-03-25T15:43:08.046017Z",
     "iopub.status.busy": "2025-03-25T15:43:08.045653Z",
     "iopub.status.idle": "2025-03-25T15:43:08.579109Z",
     "shell.execute_reply": "2025-03-25T15:43:08.578036Z",
     "shell.execute_reply.started": "2025-03-25T15:43:08.045989Z"
    },
    "trusted": true
   },
   "outputs": [
    {
     "data": {
      "text/plain": [
       "<Axes: xlabel='sold_price', ylabel='predicted_rf'>"
      ]
     },
     "execution_count": 345,
     "metadata": {},
     "output_type": "execute_result"
    },
    {
     "data": {
      "image/png": "[encoded data removed]",
      "text/plain": [
       "<Figure size 1000x1000 with 1 Axes>"
      ]
     },
     "metadata": {},
     "output_type": "display_data"
    }
   ],
   "source": [
    "# Plot true vs predicted values scatter\n",
    "\n",
    "plt.figure(figsize = (10, 10))\n",
    "sns.regplot(x=X_analysis.sold_price, y=X_analysis.predicted_rf)\n",
    "#sns.regplot(x=X_analysis.sold_price, y=X_analysis.predicted_xgb)"
   ]
  },
  {
   "cell_type": "code",
   "execution_count": 346,
   "metadata": {},
   "outputs": [],
   "source": [
    "# Save model\n",
    "today_date = date.today().strftime('%Y-%m-%d')\n",
    "model_filename = f'model_{MAKE}_{today_date}.pkl'\n",
    "pickle.dump(car_model_rf, open(model_filename, 'wb'))"
   ]
  },
  {
   "cell_type": "code",
   "execution_count": 347,
   "metadata": {
    "execution": {
     "iopub.execute_input": "2025-03-25T16:22:56.451082Z",
     "iopub.status.busy": "2025-03-25T16:22:56.450128Z",
     "iopub.status.idle": "2025-03-25T16:23:04.220363Z",
     "shell.execute_reply": "2025-03-25T16:23:04.219275Z",
     "shell.execute_reply.started": "2025-03-25T16:22:56.451039Z"
    },
    "trusted": true
   },
   "outputs": [
    {
     "data": {
      "text/plain": [
       "<seaborn.axisgrid.FacetGrid at 0x39bbeb910>"
      ]
     },
     "execution_count": 347,
     "metadata": {},
     "output_type": "execute_result"
    },
    {
     "data": {
      "image/png": "[encoded data removed]",
      "text/plain": [
       "<Figure size 900x1500 with 14 Axes>"
      ]
     },
     "metadata": {},
     "output_type": "display_data"
    }
   ],
   "source": [
    "# Predicted vs Sold Price Scatter by model\n",
    "g = sns.FacetGrid(X_analysis, col=\"model\", col_wrap=3)\n",
    "\n",
    "# Map scatter plots to the grid\n",
    "#g.map(sns.regplot, \"predicted_xgb\", \"sold_price\")\n",
    "g.map(sns.regplot, \"predicted_rf\", \"sold_price\")"
   ]
  },
  {
   "cell_type": "code",
   "execution_count": 348,
   "metadata": {},
   "outputs": [
    {
     "data": {
      "text/plain": [
       "<seaborn.axisgrid.FacetGrid at 0x39d167d90>"
      ]
     },
     "execution_count": 348,
     "metadata": {},
     "output_type": "execute_result"
    },
    {
     "data": {
      "image/png": "[encoded data removed]",
      "text/plain": [
       "<Figure size 900x1500 with 14 Axes>"
      ]
     },
     "metadata": {},
     "output_type": "display_data"
    }
   ],
   "source": [
    "# Analyze Residuals by model\n",
    "X_analysis['diff'] = X_analysis.sold_price - X_analysis.predicted_rf\n",
    "g = sns.FacetGrid(X_analysis, col=\"model\", col_wrap=3)\n",
    "\n",
    "# Map scatter plots to the grid\n",
    "g.map(plt.hist, \"diff\", bins = 50)\n"
   ]
  },
  {
   "cell_type": "code",
   "execution_count": 349,
   "metadata": {},
   "outputs": [],
   "source": [
    "# Prediction function\n",
    "\n",
    "def predict(year, model, mileage, color, transmission, carmodel, W):\n",
    "    input_data = pd.DataFrame([[year, model, mileage, color, transmission, W]], \n",
    "                              columns=[\"year\", \"model\", \"mileage\", \"normalized_color\", \"transmission\", \"W\"])\n",
    "    input_data.model=Lbl_model.transform(input_data.model)\n",
    "    input_data.normalized_color=Lbl_color.transform(input_data.normalized_color)\n",
    "    input_data.transmission=Lbl_trans.transform(input_data.transmission)\n",
    "    input_data.mileage = np.log1p(input_data.mileage)\n",
    "    price_scaled = carmodel.predict(input_data)\n",
    "\n",
    "    price = np.exp(price_scaled)\n",
    "    \n",
    "    return price[0].round(0)"
   ]
  },
  {
   "cell_type": "code",
   "execution_count": 350,
   "metadata": {},
   "outputs": [
    {
     "data": {
      "text/plain": [
       "<matplotlib.collections.PathCollection at 0x39e6c3790>"
      ]
     },
     "execution_count": 350,
     "metadata": {},
     "output_type": "execute_result"
    },
    {
     "data": {
      "image/png": "[encoded data removed]",
      "text/plain": [
       "<Figure size 640x480 with 1 Axes>"
      ]
     },
     "metadata": {},
     "output_type": "display_data"
    }
   ],
   "source": [
    "# Run a prediction for a car over a range of mileage\n",
    "mileage_range = np.linspace(0, 50000, 100)\n",
    "\n",
    "predictions = []\n",
    "for mileage in mileage_range:\n",
    "    prediction = predict(\n",
    "        year = 2006,\n",
    "        model = \"NSX\",\n",
    "        mileage = mileage,\n",
    "        color = \"Silver\",\n",
    "        transmission = \"manual\",\n",
    "        carmodel = car_model_rf,\n",
    "        W = 1\n",
    "    )\n",
    "    predictions.append(prediction)\n",
    "\n",
    "predictions = pd.DataFrame(predictions, columns=[\"predicted\"])\n",
    "mileage_range = pd.DataFrame(mileage_range, columns=[\"mileage\"])\n",
    "predictions = pd.merge(predictions, mileage_range, how='inner', left_index=True, right_index=True)\n",
    "plt.scatter(predictions[\"mileage\"], predictions[\"predicted\"])"
   ]
  }
 ],
 "metadata": {
  "kaggle": {
   "accelerator": "none",
   "dataSources": [
    {
     "datasetId": 6959618,
     "sourceId": 11154697,
     "sourceType": "datasetVersion"
    }
   ],
   "dockerImageVersionId": 30698,
   "isGpuEnabled": false,
   "isInternetEnabled": false,
   "language": "python",
   "sourceType": "notebook"
  },
  "kernelspec": {
   "display_name": "Python 3",
   "language": "python",
   "name": "python3"
  },
  "language_info": {
   "codemirror_mode": {
    "name": "ipython",
    "version": 3
   },
   "file_extension": ".py",
   "mimetype": "text/x-python",
   "name": "python",
   "nbconvert_exporter": "python",
   "pygments_lexer": "ipython3",
   "version": "3.10.15"
  }
 },
 "nbformat": 4,
 "nbformat_minor": 4
}
